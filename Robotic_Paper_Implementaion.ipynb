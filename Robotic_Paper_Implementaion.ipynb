{
  "nbformat": 4,
  "nbformat_minor": 0,
  "metadata": {
    "colab": {
      "provenance": [],
      "collapsed_sections": [],
      "authorship_tag": "ABX9TyNqCaPvhGnvrf8PwhF3D0IT",
      "include_colab_link": true
    },
    "kernelspec": {
      "name": "python3",
      "display_name": "Python 3"
    },
    "language_info": {
      "name": "python"
    }
  },
  "cells": [
    {
      "cell_type": "markdown",
      "metadata": {
        "id": "view-in-github",
        "colab_type": "text"
      },
      "source": [
        "<a href=\"https://colab.research.google.com/github/mralamdari/Python-Projects/blob/main/Robotic_Paper_Implementaion.ipynb\" target=\"_parent\"><img src=\"https://colab.research.google.com/assets/colab-badge.svg\" alt=\"Open In Colab\"/></a>"
      ]
    },
    {
      "cell_type": "code",
      "execution_count": null,
      "metadata": {
        "id": "kFM3otc2LpHl"
      },
      "outputs": [],
      "source": [
        "import sympy"
      ]
    },
    {
      "cell_type": "code",
      "source": [
        "m1, m2, L1, L2, Lc1, Lc2, I1, I2, theta1, theta2, dtheta1, dtheta2, ddtheta1, ddtheta2, g, k_d, k_i, k_p, Ta1, Ta2, t, landa = sympy.symbols('m1 m2 L1 L2 Lc1 Lc2 I1 I2 theta1 theta2 dtheta1, dtheta2, ddtheta1, ddtheta2 g kd ki kp Ta1 Ta2 t landa', real=True)\n",
        "\n",
        "KD = k_d * sympy.eye(2)\n",
        "KI = k_i * sympy.eye(2)\n",
        "KP = k_p * sympy.eye(2)"
      ],
      "metadata": {
        "id": "eDenBJFJN6H7"
      },
      "execution_count": null,
      "outputs": []
    },
    {
      "cell_type": "code",
      "source": [
        "x1 = L1 * sympy.cos(theta1)\n",
        "y1 = L1 * sympy.sin(theta1)\n",
        "\n",
        "x2 = L1 * sympy.cos(theta1) + L2 * sympy.cos(theta1 + theta2)\n",
        "y2 = L1 * sympy.sin(theta1) + L2 * sympy.sin(theta1 + theta2)"
      ],
      "metadata": {
        "id": "SLFKukYs6ipS"
      },
      "execution_count": null,
      "outputs": []
    },
    {
      "cell_type": "code",
      "source": [
        "D = sympy.Matrix([[m1 * Lc1**2 + m2*(L1**2 + Lc2**2 + 2*L1 * Lc2**2 + 2*L1*Lc2*sympy.cos(theta2)) + I1 + I2, m2*(Lc2**2 + 2*L1*Lc2*sympy.cos(theta2)) + I2],\n",
        "                [m2*(Lc2**2 + 2*L1*Lc2*sympy.cos(theta2)) + I2, m2*Lc2**2 + I2]])\n",
        "\n",
        "d11 = m1 * Lc1**2 + m2*(L1**2 + Lc2**2 + 2*L1 * Lc2**2 + 2*L1*Lc2*sympy.cos(theta2)) + I1 + I2\n",
        "d12 = d21 = m2*(Lc2**2 + 2*L1*Lc2*sympy.cos(theta2)) + I2\n",
        "d22 = m2*Lc2**2 + I2"
      ],
      "metadata": {
        "id": "5FpJUyjrjFse"
      },
      "execution_count": null,
      "outputs": []
    },
    {
      "cell_type": "code",
      "source": [
        "C = sympy.Matrix([[-m2*L1*Lc2*sympy.sin(theta2), -m2*L1*Lc2*sympy.sin(theta2)*theta2 - m2*L1*Lc2*sympy.sin(theta2)], [m2*L1*Lc2*sympy.sin(theta2), 0]])\n",
        "\n",
        "c111 = c122 = c222 = 0\n",
        "c211 = c121 = c221 = -m2*L1*Lc2*sympy.sin(theta2)\n",
        "c112= m2*L1*Lc2*sympy.sin(theta2)"
      ],
      "metadata": {
        "id": "SVZXwHvs2zMH"
      },
      "execution_count": null,
      "outputs": []
    },
    {
      "cell_type": "code",
      "source": [
        "P1 = m1 * g * Lc1 * sympy.sin(theta1)\n",
        "P2 = m2 * g * (L1 * sympy.sin(theta1) + Lc2 * sympy.sin(theta1 + theta2))\n",
        "P = P1 + P2\n",
        "P"
      ],
      "metadata": {
        "colab": {
          "base_uri": "https://localhost:8080/",
          "height": 39
        },
        "id": "2qdvHGPv2zCH",
        "outputId": "3277b1bf-64f8-42f9-8e24-ff100393444f"
      },
      "execution_count": null,
      "outputs": [
        {
          "output_type": "execute_result",
          "data": {
            "text/latex": "$\\displaystyle Lc_{1} g m_{1} \\sin{\\left(\\theta_{1} \\right)} + g m_{2} \\left(L_{1} \\sin{\\left(\\theta_{1} \\right)} + Lc_{2} \\sin{\\left(\\theta_{1} + \\theta_{2} \\right)}\\right)$",
            "text/plain": [
              "Lc1*g*m1*sin(theta1) + g*m2*(L1*sin(theta1) + Lc2*sin(theta1 + theta2))"
            ]
          },
          "metadata": {},
          "execution_count": 18
        }
      ]
    },
    {
      "cell_type": "code",
      "source": [
        "FI_1 = g*sympy.cos(theta1)*(m1*Lc1 + m2*L1) + m2*g*Lc2*sympy.cos(theta1+theta2)\n",
        "FI_2 = m2*Lc2*sympy.cos(theta1+theta2)"
      ],
      "metadata": {
        "colab": {
          "base_uri": "https://localhost:8080/",
          "height": 39
        },
        "id": "DDrxRmbe55UF",
        "outputId": "2c4bd35b-07ff-4581-a8e6-98c681c1c009"
      },
      "execution_count": null,
      "outputs": [
        {
          "output_type": "execute_result",
          "data": {
            "text/latex": "$\\displaystyle Lc_{2} m_{2} \\cos{\\left(\\theta_{1} + \\theta_{2} \\right)}$",
            "text/plain": [
              "Lc2*m2*cos(theta1 + theta2)"
            ]
          },
          "metadata": {},
          "execution_count": 23
        }
      ]
    },
    {
      "cell_type": "code",
      "source": [
        "T1 = d11 * ddtheta1 + d12*ddtheta2 + c221*dtheta1*dtheta2 + FI_1 + c221*dtheta2\n",
        "T2 = d21 * ddtheta1 + d22*ddtheta2 + c112*dtheta1*dtheta2 + FI_1"
      ],
      "metadata": {
        "id": "KIrZ4lEq6CTr"
      },
      "execution_count": null,
      "outputs": []
    },
    {
      "cell_type": "code",
      "source": [
        "C1, C2, C3, C4, C5, C6 = sympy.symbols('C1 C2 C3 C4 C5 C6')\n",
        "Delta_x1, Delta_x2, Delta_x3, Delta_x4, dDelta_x1, dDelta_x2, dDelta_x3, dDelta_x4, Delta_T1, Delta_T2 = sympy.symbols('Delta_x1 Delta_x2 Delta_x3 Delta_x4 dDelta_x1 dDelta_x2 dDelta_x3 dDelta_x4 Delta_T1 Delta_T2')\n",
        "\n",
        "\n",
        "Delta_X = sympy.Matrix([Delta_x1, Delta_x2, Delta_x3, Delta_x4])\n",
        "dDelta_X = sympy.Matrix([dDelta_x1, dDelta_x2, dDelta_x3, dDelta_x4])\n",
        "Delta_T = sympy.Matrix([Delta_T1, Delta_T2])\n",
        "\n",
        "\n",
        "A = sympy.Matrix([[0, 0, 1, 0],\n",
        "                  [0, 0, 0, 1],\n",
        "                  [C4*C5/(C1*C5 - T2), C2*C6/(C1*C5 - T2), 0, 0],\n",
        "                  [0, --C6/C5, 0, 0]])\n",
        "\n",
        "B = sympy.Matrix([[0, 0],\n",
        "      [0, 0],\n",
        "      [C5/(C1*C5 - T2), -C2/(C1*C5 - T2)],\n",
        "      [0, (1-C2)/C5]])\n",
        "\n",
        "dDelta_X = A * Delta_X + B * Delta_T\n",
        "\n",
        "\n",
        "A = sympy.Matrix([[0, 0, 1, 0],\n",
        "                  [0, 0, 0, 1],\n",
        "                  [-0.4568, -0.6196, 0, 0],\n",
        "                  [0.2485, -6.6174, 0, 0]])\n",
        "\n",
        "B = sympy.Matrix([[0, 0],\n",
        "                  [0, 0],\n",
        "                  [0.7870, -0.0426],\n",
        "                  [0.04285, 0.1349]])\n",
        "\n",
        "eig_A = sympy.Matix([[0+2.12j, 0, 0, 0],\n",
        "                     [0, 0-2.12j, 0, 0],\n",
        "                     [0, 0, 0+2.5581j, 0],\n",
        "                     [0, 0, 0, 0-2.5581j]])\n",
        "\n",
        "\n",
        "dDelta_X\n",
        "dDelta_X.subs([(i, j) for i, j in zip([C1, C2, C3, C4, C5, C6], [1.27, -0.1189, 1.01, -0.58, -2.19, -14.54])])"
      ],
      "metadata": {
        "colab": {
          "base_uri": "https://localhost:8080/",
          "height": 126
        },
        "id": "JMuIPdlKFrfH",
        "outputId": "87cc8471-feba-4c01-97cb-a0f9ae751cc1"
      },
      "execution_count": null,
      "outputs": [
        {
          "output_type": "execute_result",
          "data": {
            "text/latex": "$\\displaystyle \\left[\\begin{matrix}\\Delta_{x3}\\\\\\Delta_{x4}\\\\- \\frac{2.19 \\Delta_{T1}}{- L_{1} Lc_{2} dtheta_{1} dtheta_{2} m_{2} \\sin{\\left(\\theta_{2} \\right)} - Lc_{2} g m_{2} \\cos{\\left(\\theta_{1} + \\theta_{2} \\right)} - ddtheta_{1} \\left(I_{2} + m_{2} \\left(2 L_{1} Lc_{2} \\cos{\\left(\\theta_{2} \\right)} + Lc_{2}^{2}\\right)\\right) - ddtheta_{2} \\left(I_{2} + Lc_{2}^{2} m_{2}\\right) - g \\left(L_{1} m_{2} + Lc_{1} m_{1}\\right) \\cos{\\left(\\theta_{1} \\right)} - 2.7813} + \\frac{0.1189 \\Delta_{T2}}{- L_{1} Lc_{2} dtheta_{1} dtheta_{2} m_{2} \\sin{\\left(\\theta_{2} \\right)} - Lc_{2} g m_{2} \\cos{\\left(\\theta_{1} + \\theta_{2} \\right)} - ddtheta_{1} \\left(I_{2} + m_{2} \\left(2 L_{1} Lc_{2} \\cos{\\left(\\theta_{2} \\right)} + Lc_{2}^{2}\\right)\\right) - ddtheta_{2} \\left(I_{2} + Lc_{2}^{2} m_{2}\\right) - g \\left(L_{1} m_{2} + Lc_{1} m_{1}\\right) \\cos{\\left(\\theta_{1} \\right)} - 2.7813} + \\frac{1.2702 \\Delta_{x1}}{- L_{1} Lc_{2} dtheta_{1} dtheta_{2} m_{2} \\sin{\\left(\\theta_{2} \\right)} - Lc_{2} g m_{2} \\cos{\\left(\\theta_{1} + \\theta_{2} \\right)} - ddtheta_{1} \\left(I_{2} + m_{2} \\left(2 L_{1} Lc_{2} \\cos{\\left(\\theta_{2} \\right)} + Lc_{2}^{2}\\right)\\right) - ddtheta_{2} \\left(I_{2} + Lc_{2}^{2} m_{2}\\right) - g \\left(L_{1} m_{2} + Lc_{1} m_{1}\\right) \\cos{\\left(\\theta_{1} \\right)} - 2.7813} + \\frac{1.728806 \\Delta_{x2}}{- L_{1} Lc_{2} dtheta_{1} dtheta_{2} m_{2} \\sin{\\left(\\theta_{2} \\right)} - Lc_{2} g m_{2} \\cos{\\left(\\theta_{1} + \\theta_{2} \\right)} - ddtheta_{1} \\left(I_{2} + m_{2} \\left(2 L_{1} Lc_{2} \\cos{\\left(\\theta_{2} \\right)} + Lc_{2}^{2}\\right)\\right) - ddtheta_{2} \\left(I_{2} + Lc_{2}^{2} m_{2}\\right) - g \\left(L_{1} m_{2} + Lc_{1} m_{1}\\right) \\cos{\\left(\\theta_{1} \\right)} - 2.7813}\\\\- 0.510913242009132 \\Delta_{T2} + 6.63926940639269 \\Delta_{x2}\\end{matrix}\\right]$",
            "text/plain": [
              "Matrix([\n",
              "[                                                                                                                                                                                                                                                                                                                                                                                                                                                                                                                                                                                                                                                                                                                                                                                                                                                                              Delta_x3],\n",
              "[                                                                                                                                                                                                                                                                                                                                                                                                                                                                                                                                                                                                                                                                                                                                                                                                                                                                              Delta_x4],\n",
              "[-2.19*Delta_T1/(-L1*Lc2*dtheta1*dtheta2*m2*sin(theta2) - Lc2*g*m2*cos(theta1 + theta2) - ddtheta1*(I2 + m2*(2*L1*Lc2*cos(theta2) + Lc2**2)) - ddtheta2*(I2 + Lc2**2*m2) - g*(L1*m2 + Lc1*m1)*cos(theta1) - 2.7813) + 0.1189*Delta_T2/(-L1*Lc2*dtheta1*dtheta2*m2*sin(theta2) - Lc2*g*m2*cos(theta1 + theta2) - ddtheta1*(I2 + m2*(2*L1*Lc2*cos(theta2) + Lc2**2)) - ddtheta2*(I2 + Lc2**2*m2) - g*(L1*m2 + Lc1*m1)*cos(theta1) - 2.7813) + 1.2702*Delta_x1/(-L1*Lc2*dtheta1*dtheta2*m2*sin(theta2) - Lc2*g*m2*cos(theta1 + theta2) - ddtheta1*(I2 + m2*(2*L1*Lc2*cos(theta2) + Lc2**2)) - ddtheta2*(I2 + Lc2**2*m2) - g*(L1*m2 + Lc1*m1)*cos(theta1) - 2.7813) + 1.728806*Delta_x2/(-L1*Lc2*dtheta1*dtheta2*m2*sin(theta2) - Lc2*g*m2*cos(theta1 + theta2) - ddtheta1*(I2 + m2*(2*L1*Lc2*cos(theta2) + Lc2**2)) - ddtheta2*(I2 + Lc2**2*m2) - g*(L1*m2 + Lc1*m1)*cos(theta1) - 2.7813)],\n",
              "[                                                                                                                                                                                                                                                                                                                                                                                                                                                                                                                                                                                                                                                                                                                                                                                                                               -0.510913242009132*Delta_T2 + 6.63926940639269*Delta_x2]])"
            ]
          },
          "metadata": {},
          "execution_count": 37
        }
      ]
    },
    {
      "cell_type": "markdown",
      "source": [
        "#A5"
      ],
      "metadata": {
        "id": "gTEfDbXROL4q"
      }
    },
    {
      "cell_type": "code",
      "source": [
        "m1, m2, L1, L2, Lc1, Lc2, I1, I2, theta1, theta2, dtheta1, dtheta2, ddtheta1, ddtheta2, g, k_d, k_i, k_p, Ta1, Ta2, t, landa = sympy.symbols('m1 m2 L1 L2 Lc1 Lc2 I1 I2 theta1 theta2 dtheta1, dtheta2, ddtheta1, ddtheta2 g kd ki kp Ta1 Ta2 t landa', real=True)"
      ],
      "metadata": {
        "id": "ETd0Hn_evZhP"
      },
      "execution_count": null,
      "outputs": []
    },
    {
      "cell_type": "code",
      "source": [
        "x1 = L1 * sympy.cos(theta1)\n",
        "y1 = L1 * sympy.sin(theta1)\n",
        "\n",
        "x2 = L1 * sympy.cos(theta1) + L2 * sympy.cos(theta1 + theta2)\n",
        "y2 = L1 * sympy.sin(theta1) + L2 * sympy.sin(theta1 + theta2)"
      ],
      "metadata": {
        "id": "mUwOybgeHWt2"
      },
      "execution_count": null,
      "outputs": []
    },
    {
      "cell_type": "code",
      "source": [
        "dx1 = -L1 * sympy.sin(theta1) * dtheta1\n",
        "dy1 = L1 * sympy.cos(theta1) * dtheta1\n",
        "\n",
        "dx2 = (-L1 * sympy.sin(theta1) - L2 * sympy.sin(theta1 + theta2)) * dtheta1 - L2 * sympy.sin(theta1 + theta2) * dtheta2 \n",
        "dy2 = (L1 * sympy.cos(theta1) + L2 * sympy.cos(theta1 + theta2)) * dtheta2 + L2 * sympy.cos(theta1 + theta2) * dtheta2\n",
        "\n",
        "dy2"
      ],
      "metadata": {
        "colab": {
          "base_uri": "https://localhost:8080/",
          "height": 39
        },
        "id": "Kq0mHcg2OzKu",
        "outputId": "38b0fec1-7893-4d1c-f1c0-67a4d3b86e61"
      },
      "execution_count": null,
      "outputs": [
        {
          "output_type": "execute_result",
          "data": {
            "text/latex": "$\\displaystyle L_{2} dtheta_{2} \\cos{\\left(\\theta_{1} + \\theta_{2} \\right)} + dtheta_{2} \\left(L_{1} \\cos{\\left(\\theta_{1} \\right)} + L_{2} \\cos{\\left(\\theta_{1} + \\theta_{2} \\right)}\\right)$",
            "text/plain": [
              "L2*dtheta2*cos(theta1 + theta2) + dtheta2*(L1*cos(theta1) + L2*cos(theta1 + theta2))"
            ]
          },
          "metadata": {},
          "execution_count": 58
        }
      ]
    },
    {
      "cell_type": "code",
      "source": [
        "M11 = m1 * L1**2 + m2*(L1**2 + 2*L1*Lc2*sympy.cos(theta2))\n",
        "M12 = M21 = m2*(L2**2 + L1*L2*sympy.cos(theta2))\n",
        "M22 = m2*L2**2 \n",
        "\n",
        "M = sympy.Matrix([[M11, M12], \n",
        "                  [M21, M22]])\n",
        "M"
      ],
      "metadata": {
        "colab": {
          "base_uri": "https://localhost:8080/",
          "height": 58
        },
        "id": "5RM-coiqO4Ey",
        "outputId": "c9db156d-01e2-481e-c586-d6e21bd1c76b"
      },
      "execution_count": null,
      "outputs": [
        {
          "output_type": "execute_result",
          "data": {
            "text/latex": "$\\displaystyle \\left[\\begin{matrix}L_{1}^{2} m_{1} + m_{2} \\left(L_{1}^{2} + 2 L_{1} Lc_{2} \\cos{\\left(\\theta_{2} \\right)}\\right) & m_{2} \\left(L_{1} L_{2} \\cos{\\left(\\theta_{2} \\right)} + L_{2}^{2}\\right)\\\\m_{2} \\left(L_{1} L_{2} \\cos{\\left(\\theta_{2} \\right)} + L_{2}^{2}\\right) & L_{2}^{2} m_{2}\\end{matrix}\\right]$",
            "text/plain": [
              "Matrix([\n",
              "[L1**2*m1 + m2*(L1**2 + 2*L1*Lc2*cos(theta2)), m2*(L1*L2*cos(theta2) + L2**2)],\n",
              "[              m2*(L1*L2*cos(theta2) + L2**2),                       L2**2*m2]])"
            ]
          },
          "metadata": {},
          "execution_count": 48
        }
      ]
    },
    {
      "cell_type": "code",
      "source": [
        "C11 = m2*L1*L2*sympy.sin(theta2) * (2*dtheta1 + dtheta2)*dtheta2\n",
        "C21 = m2*L1*L2*dtheta1**2*sympy.sin(theta2)\n",
        "C = sympy.Matrix([C11, C21])\n",
        "C.shape"
      ],
      "metadata": {
        "colab": {
          "base_uri": "https://localhost:8080/"
        },
        "id": "obIxSRrCTg9w",
        "outputId": "e0724b43-3122-485e-8093-9d3139c7b8d2"
      },
      "execution_count": null,
      "outputs": [
        {
          "output_type": "execute_result",
          "data": {
            "text/plain": [
              "(2, 1)"
            ]
          },
          "metadata": {},
          "execution_count": 72
        }
      ]
    },
    {
      "cell_type": "code",
      "source": [
        "G11 = -(m1+m2)*g*L1*sympy.sin(theta1) - m2*g*L2*sympy.sin(theta1 + theta2)\n",
        "G21 = -m2*g*L2*sympy.sin(theta1+theta2)\n",
        "G = sympy.Matrix([G11, G21])\n",
        "G"
      ],
      "metadata": {
        "colab": {
          "base_uri": "https://localhost:8080/",
          "height": 58
        },
        "id": "gd8y-qF2V3eG",
        "outputId": "415858be-3606-4018-babd-fe48f8fbfa48"
      },
      "execution_count": null,
      "outputs": [
        {
          "output_type": "execute_result",
          "data": {
            "text/latex": "$\\displaystyle \\left[\\begin{matrix}L_{1} g \\left(- m_{1} - m_{2}\\right) \\sin{\\left(\\theta_{1} \\right)} - L_{2} g m_{2} \\sin{\\left(\\theta_{1} + \\theta_{2} \\right)}\\\\- L_{2} g m_{2} \\sin{\\left(\\theta_{1} + \\theta_{2} \\right)}\\end{matrix}\\right]$",
            "text/plain": [
              "Matrix([\n",
              "[L1*g*(-m1 - m2)*sin(theta1) - L2*g*m2*sin(theta1 + theta2)],\n",
              "[                             -L2*g*m2*sin(theta1 + theta2)]])"
            ]
          },
          "metadata": {},
          "execution_count": 85
        }
      ]
    },
    {
      "cell_type": "code",
      "source": [
        "# dx1 = theta_1_f - theta1\n",
        "# dx2 = theta_2_f - theta2\n",
        "\n",
        "f1 = KP[0] * dx1 - KD[0]*dtheta1 + KI[0]*sympy.integrate(theta1, t)\n",
        "f2 = KP[1] * dx2 - KD[1]*dtheta2 + KI[1]*sympy.integrate(theta2, t)\n",
        "\n",
        "F = sympy.Matrix([f1, f2])\n",
        "\n",
        "DDTheta = M.inv() * (-C - G) + F\n",
        "DDTheta"
      ],
      "metadata": {
        "colab": {
          "base_uri": "https://localhost:8080/",
          "height": 102
        },
        "id": "0xlEPF33WOqE",
        "outputId": "7bfb4b92-1a9d-4851-f475-9a09a7ce06f0"
      },
      "execution_count": null,
      "outputs": [
        {
          "output_type": "execute_result",
          "data": {
            "text/latex": "$\\displaystyle \\left[\\begin{matrix}- L_{1} dtheta_{1} kp \\sin{\\left(\\theta_{1} \\right)} - dtheta_{1} kd + ki t \\theta_{1} + \\frac{\\left(- L_{1} \\cos{\\left(\\theta_{2} \\right)} - L_{2}\\right) \\left(- L_{1} L_{2} dtheta_{1}^{2} m_{2} \\sin{\\left(\\theta_{2} \\right)} + L_{2} g m_{2} \\sin{\\left(\\theta_{1} + \\theta_{2} \\right)}\\right)}{L_{1}^{2} L_{2} m_{1} - L_{1}^{2} L_{2} m_{2} \\cos^{2}{\\left(\\theta_{2} \\right)} + L_{1}^{2} L_{2} m_{2} - 2 L_{1} L_{2}^{2} m_{2} \\cos{\\left(\\theta_{2} \\right)} + 2 L_{1} L_{2} Lc_{2} m_{2} \\cos{\\left(\\theta_{2} \\right)} - L_{2}^{3} m_{2}} + \\frac{- L_{1} L_{2} dtheta_{2} m_{2} \\left(2 dtheta_{1} + dtheta_{2}\\right) \\sin{\\left(\\theta_{2} \\right)} - L_{1} g \\left(- m_{1} - m_{2}\\right) \\sin{\\left(\\theta_{1} \\right)} + L_{2} g m_{2} \\sin{\\left(\\theta_{1} + \\theta_{2} \\right)}}{L_{1}^{2} m_{1} - L_{1}^{2} m_{2} \\cos^{2}{\\left(\\theta_{2} \\right)} + L_{1}^{2} m_{2} - 2 L_{1} L_{2} m_{2} \\cos{\\left(\\theta_{2} \\right)} + 2 L_{1} Lc_{2} m_{2} \\cos{\\left(\\theta_{2} \\right)} - L_{2}^{2} m_{2}}\\\\\\frac{\\left(- L_{1} \\cos{\\left(\\theta_{2} \\right)} - L_{2}\\right) \\left(- L_{1} L_{2} dtheta_{2} m_{2} \\left(2 dtheta_{1} + dtheta_{2}\\right) \\sin{\\left(\\theta_{2} \\right)} - L_{1} g \\left(- m_{1} - m_{2}\\right) \\sin{\\left(\\theta_{1} \\right)} + L_{2} g m_{2} \\sin{\\left(\\theta_{1} + \\theta_{2} \\right)}\\right)}{L_{1}^{2} L_{2} m_{1} - L_{1}^{2} L_{2} m_{2} \\cos^{2}{\\left(\\theta_{2} \\right)} + L_{1}^{2} L_{2} m_{2} - 2 L_{1} L_{2}^{2} m_{2} \\cos{\\left(\\theta_{2} \\right)} + 2 L_{1} L_{2} Lc_{2} m_{2} \\cos{\\left(\\theta_{2} \\right)} - L_{2}^{3} m_{2}} + \\frac{\\left(- L_{1} L_{2} dtheta_{1}^{2} m_{2} \\sin{\\left(\\theta_{2} \\right)} + L_{2} g m_{2} \\sin{\\left(\\theta_{1} + \\theta_{2} \\right)}\\right) \\left(L_{1}^{2} m_{1} + L_{1}^{2} m_{2} + 2 L_{1} Lc_{2} m_{2} \\cos{\\left(\\theta_{2} \\right)}\\right)}{L_{1}^{2} L_{2}^{2} m_{1} m_{2} - L_{1}^{2} L_{2}^{2} m_{2}^{2} \\cos^{2}{\\left(\\theta_{2} \\right)} + L_{1}^{2} L_{2}^{2} m_{2}^{2} - 2 L_{1} L_{2}^{3} m_{2}^{2} \\cos{\\left(\\theta_{2} \\right)} + 2 L_{1} L_{2}^{2} Lc_{2} m_{2}^{2} \\cos{\\left(\\theta_{2} \\right)} - L_{2}^{4} m_{2}^{2}}\\end{matrix}\\right]$",
            "text/plain": [
              "Matrix([\n",
              "[                                     -L1*dtheta1*kp*sin(theta1) - dtheta1*kd + ki*t*theta1 + (-L1*cos(theta2) - L2)*(-L1*L2*dtheta1**2*m2*sin(theta2) + L2*g*m2*sin(theta1 + theta2))/(L1**2*L2*m1 - L1**2*L2*m2*cos(theta2)**2 + L1**2*L2*m2 - 2*L1*L2**2*m2*cos(theta2) + 2*L1*L2*Lc2*m2*cos(theta2) - L2**3*m2) + (-L1*L2*dtheta2*m2*(2*dtheta1 + dtheta2)*sin(theta2) - L1*g*(-m1 - m2)*sin(theta1) + L2*g*m2*sin(theta1 + theta2))/(L1**2*m1 - L1**2*m2*cos(theta2)**2 + L1**2*m2 - 2*L1*L2*m2*cos(theta2) + 2*L1*Lc2*m2*cos(theta2) - L2**2*m2)],\n",
              "[(-L1*cos(theta2) - L2)*(-L1*L2*dtheta2*m2*(2*dtheta1 + dtheta2)*sin(theta2) - L1*g*(-m1 - m2)*sin(theta1) + L2*g*m2*sin(theta1 + theta2))/(L1**2*L2*m1 - L1**2*L2*m2*cos(theta2)**2 + L1**2*L2*m2 - 2*L1*L2**2*m2*cos(theta2) + 2*L1*L2*Lc2*m2*cos(theta2) - L2**3*m2) + (-L1*L2*dtheta1**2*m2*sin(theta2) + L2*g*m2*sin(theta1 + theta2))*(L1**2*m1 + L1**2*m2 + 2*L1*Lc2*m2*cos(theta2))/(L1**2*L2**2*m1*m2 - L1**2*L2**2*m2**2*cos(theta2)**2 + L1**2*L2**2*m2**2 - 2*L1*L2**3*m2**2*cos(theta2) + 2*L1*L2**2*Lc2*m2**2*cos(theta2) - L2**4*m2**2)]])"
            ]
          },
          "metadata": {},
          "execution_count": 88
        }
      ]
    },
    {
      "cell_type": "code",
      "source": [
        "def sat(u, thickness=2):\n",
        "  if u/thickness < 0:\n",
        "    return -1\n",
        "  elif u/thickness < -1:\n",
        "    return 1\n",
        "  else:\n",
        "    return 0\n",
        "\n",
        "u = -F + ddx_d + landa*(x-x_d) - K * sat(s)\n",
        "\n"
      ],
      "metadata": {
        "id": "C8E5c2TCuHZk"
      },
      "execution_count": null,
      "outputs": []
    },
    {
      "cell_type": "code",
      "source": [
        "DDTheta.subs([(i, j) for i, j in zip([m1, m2, L1, L2, g], [0.5, 0.5, 1, 0.8, 9.8])])"
      ],
      "metadata": {
        "colab": {
          "base_uri": "https://localhost:8080/",
          "height": 99
        },
        "id": "YRWMD3jTXU7w",
        "outputId": "075baa94-79c9-4ac9-96de-754715a7a9fe"
      },
      "execution_count": null,
      "outputs": [
        {
          "output_type": "execute_result",
          "data": {
            "text/latex": "$\\displaystyle \\left[\\begin{matrix}- dtheta_{1} kd - dtheta_{1} kp \\sin{\\left(\\theta_{1} \\right)} + ki t \\theta_{1} + \\frac{\\left(- 0.4 dtheta_{1}^{2} \\sin{\\left(\\theta_{2} \\right)} + 3.92 \\sin{\\left(\\theta_{1} + \\theta_{2} \\right)}\\right) \\left(- \\cos{\\left(\\theta_{2} \\right)} - 0.8\\right)}{0.8 Lc_{2} \\cos{\\left(\\theta_{2} \\right)} - 0.4 \\cos^{2}{\\left(\\theta_{2} \\right)} - 0.64 \\cos{\\left(\\theta_{2} \\right)} + 0.544} + \\frac{- 0.4 dtheta_{2} \\left(2 dtheta_{1} + dtheta_{2}\\right) \\sin{\\left(\\theta_{2} \\right)} + 9.8 \\sin{\\left(\\theta_{1} \\right)} + 3.92 \\sin{\\left(\\theta_{1} + \\theta_{2} \\right)}}{1.0 Lc_{2} \\cos{\\left(\\theta_{2} \\right)} - 0.5 \\cos^{2}{\\left(\\theta_{2} \\right)} - 0.8 \\cos{\\left(\\theta_{2} \\right)} + 0.68}\\\\\\frac{\\left(1.0 Lc_{2} \\cos{\\left(\\theta_{2} \\right)} + 1.0\\right) \\left(- 0.4 dtheta_{1}^{2} \\sin{\\left(\\theta_{2} \\right)} + 3.92 \\sin{\\left(\\theta_{1} + \\theta_{2} \\right)}\\right)}{0.32 Lc_{2} \\cos{\\left(\\theta_{2} \\right)} - 0.16 \\cos^{2}{\\left(\\theta_{2} \\right)} - 0.256 \\cos{\\left(\\theta_{2} \\right)} + 0.2176} + \\frac{\\left(- \\cos{\\left(\\theta_{2} \\right)} - 0.8\\right) \\left(- 0.4 dtheta_{2} \\left(2 dtheta_{1} + dtheta_{2}\\right) \\sin{\\left(\\theta_{2} \\right)} + 9.8 \\sin{\\left(\\theta_{1} \\right)} + 3.92 \\sin{\\left(\\theta_{1} + \\theta_{2} \\right)}\\right)}{0.8 Lc_{2} \\cos{\\left(\\theta_{2} \\right)} - 0.4 \\cos^{2}{\\left(\\theta_{2} \\right)} - 0.64 \\cos{\\left(\\theta_{2} \\right)} + 0.544}\\end{matrix}\\right]$",
            "text/plain": [
              "Matrix([\n",
              "[-dtheta1*kd - dtheta1*kp*sin(theta1) + ki*t*theta1 + (-0.4*dtheta1**2*sin(theta2) + 3.92*sin(theta1 + theta2))*(-cos(theta2) - 0.8)/(0.8*Lc2*cos(theta2) - 0.4*cos(theta2)**2 - 0.64*cos(theta2) + 0.544) + (-0.4*dtheta2*(2*dtheta1 + dtheta2)*sin(theta2) + 9.8*sin(theta1) + 3.92*sin(theta1 + theta2))/(1.0*Lc2*cos(theta2) - 0.5*cos(theta2)**2 - 0.8*cos(theta2) + 0.68)],\n",
              "[                   (1.0*Lc2*cos(theta2) + 1.0)*(-0.4*dtheta1**2*sin(theta2) + 3.92*sin(theta1 + theta2))/(0.32*Lc2*cos(theta2) - 0.16*cos(theta2)**2 - 0.256*cos(theta2) + 0.2176) + (-cos(theta2) - 0.8)*(-0.4*dtheta2*(2*dtheta1 + dtheta2)*sin(theta2) + 9.8*sin(theta1) + 3.92*sin(theta1 + theta2))/(0.8*Lc2*cos(theta2) - 0.4*cos(theta2)**2 - 0.64*cos(theta2) + 0.544)]])"
            ]
          },
          "metadata": {},
          "execution_count": 89
        }
      ]
    },
    {
      "cell_type": "code",
      "source": [],
      "metadata": {
        "id": "T3XUOHmFXrf7"
      },
      "execution_count": null,
      "outputs": []
    }
  ]
}