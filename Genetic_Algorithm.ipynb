{
  "nbformat": 4,
  "nbformat_minor": 0,
  "metadata": {
    "colab": {
      "provenance": [],
      "authorship_tag": "ABX9TyP0izsS6bJwzA8X3WJO2WdK",
      "include_colab_link": true
    },
    "kernelspec": {
      "name": "python3",
      "display_name": "Python 3"
    },
    "language_info": {
      "name": "python"
    }
  },
  "cells": [
    {
      "cell_type": "markdown",
      "metadata": {
        "id": "view-in-github",
        "colab_type": "text"
      },
      "source": [
        "<a href=\"https://colab.research.google.com/github/mralamdari/Python-Projects/blob/main/Genetic_Algorithm.ipynb\" target=\"_parent\"><img src=\"https://colab.research.google.com/assets/colab-badge.svg\" alt=\"Open In Colab\"/></a>"
      ]
    },
    {
      "cell_type": "code",
      "source": [
        "import numpy as np"
      ],
      "metadata": {
        "id": "H2TJUTxRC-LY"
      },
      "execution_count": 17,
      "outputs": []
    },
    {
      "cell_type": "markdown",
      "source": [
        "##Integer to Binary"
      ],
      "metadata": {
        "id": "pzEJf5e2AXW9"
      }
    },
    {
      "cell_type": "code",
      "source": [
        "def int2bin(number, bit_size):\n",
        "  binary_list = []\n",
        "  while bit_size>0:\n",
        "    bit_size -= 1\n",
        "    binary_list.append(number % 2)\n",
        "    number //= 2\n",
        "  binary_list.reverse()\n",
        "  return binary_list"
      ],
      "metadata": {
        "id": "khVvYSHVAHsP"
      },
      "execution_count": 23,
      "outputs": []
    },
    {
      "cell_type": "code",
      "source": [
        "def bin2int(bits):\n",
        "  bits.reverse()\n",
        "  decimal, counter = 0, 0\n",
        "  for i in bits:\n",
        "    decimal += 2**counter * int(i)\n",
        "    counter += 1\n",
        "  return decimal"
      ],
      "metadata": {
        "id": "BB9CBGsoTLbR"
      },
      "execution_count": 31,
      "outputs": []
    },
    {
      "cell_type": "code",
      "source": [
        "def seq2str(binary_list):\n",
        "  binary_str = ''\n",
        "  for i in binary_list:\n",
        "    binary_str += f'{i}'\n",
        "  return binary_str"
      ],
      "metadata": {
        "id": "ARaSyJfqS4Kn"
      },
      "execution_count": 32,
      "outputs": []
    },
    {
      "cell_type": "code",
      "source": [
        "# number = int(input('Enter a number:'))\n",
        "number = 250\n",
        "bit_size = 15\n",
        "\n",
        "binary_list = int2bin(number, bit_size)\n",
        "binary_str = seq2str(binary_list)\n",
        "decimal_list = bin2int(binary_list)\n",
        "print(f'Binary List is: {binary_list}')\n",
        "print(f'Binary Number is: {binary_str}')\n",
        "print(f'Decimal Number is: {decimal_list}')"
      ],
      "metadata": {
        "colab": {
          "base_uri": "https://localhost:8080/"
        },
        "id": "uFM8AhVeEF_B",
        "outputId": "e0978a70-fbef-4bd6-e11c-f972d67187bd"
      },
      "execution_count": 36,
      "outputs": [
        {
          "output_type": "stream",
          "name": "stdout",
          "text": [
            "Binary List is: [0, 1, 0, 1, 1, 1, 1, 1, 0, 0, 0, 0, 0, 0, 0]\n",
            "Binary Number is: 000000011111010\n",
            "Decimal Number is: 250\n"
          ]
        }
      ]
    },
    {
      "cell_type": "markdown",
      "source": [
        "##Mutation"
      ],
      "metadata": {
        "id": "VbqpelepDrPl"
      }
    },
    {
      "cell_type": "code",
      "source": [
        "def mutation(seq, m_rate=0.3):\n",
        "  new_seq = []\n",
        "  for item in seq:\n",
        "    if np.random.randn() < m_rate:\n",
        "      item = 0 if item==1 else 0\n",
        "    new_seq.append(item)\n",
        "  return new_seq"
      ],
      "metadata": {
        "id": "oM2UrOeOR2hj"
      },
      "execution_count": 21,
      "outputs": []
    },
    {
      "cell_type": "code",
      "source": [
        "mutation(binary_list)"
      ],
      "metadata": {
        "colab": {
          "base_uri": "https://localhost:8080/"
        },
        "id": "veZ7HnTCSnAB",
        "outputId": "4b04c819-ab84-4d62-a107-452fc15ec65a"
      },
      "execution_count": 66,
      "outputs": [
        {
          "output_type": "execute_result",
          "data": {
            "text/plain": [
              "[0, 1, 0, 1, 0, 1, 0, 1, 0, 0, 0, 0, 0, 0, 0]"
            ]
          },
          "metadata": {},
          "execution_count": 66
        }
      ]
    },
    {
      "cell_type": "markdown",
      "source": [
        "##Crossover"
      ],
      "metadata": {
        "id": "1wetAwg5Vn8h"
      }
    },
    {
      "cell_type": "code",
      "source": [
        "seq1 = mutation(binary_list)\n",
        "seq2 = mutation(binary_list)\n",
        "\n",
        "print(seq2str(seq1))\n",
        "print(seq2str(seq2))\n",
        "print('\\n')\n",
        "print(seq2str(seq1[:5] + seq2[5+1:]))\n",
        "print(seq2str(seq2[:5] + seq1[5+1:]))\n",
        "\n",
        "np.random.randint(0, 10, 3)"
      ],
      "metadata": {
        "colab": {
          "base_uri": "https://localhost:8080/"
        },
        "id": "J4OSghuoWrnI",
        "outputId": "4d7763c9-3e85-480b-81c6-00849ee78726"
      },
      "execution_count": 49,
      "outputs": [
        {
          "output_type": "stream",
          "name": "stdout",
          "text": [
            "010001000000000\n",
            "000111100000000\n",
            "\n",
            "\n",
            "01000100000000\n",
            "00011000000000\n"
          ]
        },
        {
          "output_type": "execute_result",
          "data": {
            "text/plain": [
              "array([7, 0, 0])"
            ]
          },
          "metadata": {},
          "execution_count": 49
        }
      ]
    },
    {
      "cell_type": "code",
      "source": [
        "def crossover(seq1, seq2, num):\n",
        "  new_seq1, new_seq2 = [], []\n",
        "  rand_ind = sorted(np.random.choice(np.arange(1, len(seq1)), num, replace=False))\n",
        "  split_points = [0] + rand_ind + [len(seq1)]\n",
        "\n",
        "  for id, i1, i2 in zip(range(len(split_points[:-1])) ,split_points[:-1], split_points[1:]):\n",
        "    if id % 2 == 0: #even\n",
        "      new_seq1.extend(seq1[i1: i2])\n",
        "      new_seq2.extend(seq2[i1: i2])\n",
        "    else:           #odd\n",
        "      new_seq1.extend(seq2[i1: i2])\n",
        "      new_seq2.extend(seq1[i1: i2])\n",
        "\n",
        "  return new_seq1, new_seq2\n",
        "\n",
        "crossover(seq1, seq2, 3)"
      ],
      "metadata": {
        "colab": {
          "base_uri": "https://localhost:8080/"
        },
        "id": "G1RphSxkSrK6",
        "outputId": "5b7aba85-8757-49c0-9a19-abfa5eb559af"
      },
      "execution_count": 93,
      "outputs": [
        {
          "output_type": "execute_result",
          "data": {
            "text/plain": [
              "([0, 0, 0, 1, 0, 0, 1, 0, 0, 0, 0, 0, 0, 0, 0],\n",
              " [0, 1, 0, 0, 0, 1, 0, 0, 1, 0, 1, 0, 0, 0, 0])"
            ]
          },
          "metadata": {},
          "execution_count": 93
        }
      ]
    },
    {
      "cell_type": "code",
      "source": [
        "seq1 = [0, 0, 0, 0, 0, 1, 0, 0, 0, 0, 0, 0, 0, 0, 0]\n",
        "seq2 = [0, 1, 0, 1, 0, 0, 1, 0, 1, 0, 1, 0, 0, 0, 0]\n",
        "\n",
        "crossover(seq1, seq2, 3)"
      ],
      "metadata": {
        "colab": {
          "base_uri": "https://localhost:8080/"
        },
        "id": "RQI_GdkVbjkA",
        "outputId": "a8ef62eb-cdf7-4262-b42b-61bfdc91e935"
      },
      "execution_count": 73,
      "outputs": [
        {
          "output_type": "stream",
          "name": "stdout",
          "text": [
            "[21 22 23]\n",
            "21 22 []\n",
            "22 23 []\n"
          ]
        },
        {
          "output_type": "execute_result",
          "data": {
            "text/plain": [
              "([[], []], [[], []])"
            ]
          },
          "metadata": {},
          "execution_count": 73
        }
      ]
    },
    {
      "cell_type": "code",
      "source": [
        "sorted(np.random.choice(np.arange(1, len(seq1)), 5, replace=False))"
      ],
      "metadata": {
        "colab": {
          "base_uri": "https://localhost:8080/"
        },
        "id": "gLMcud61bjww",
        "outputId": "8f3a3e4d-c379-4512-8db1-3fb861924f86"
      },
      "execution_count": 87,
      "outputs": [
        {
          "output_type": "execute_result",
          "data": {
            "text/plain": [
              "[4, 8, 10, 12, 13]"
            ]
          },
          "metadata": {},
          "execution_count": 87
        }
      ]
    },
    {
      "cell_type": "code",
      "source": [],
      "metadata": {
        "id": "rM9h5oYAbuoF"
      },
      "execution_count": 64,
      "outputs": []
    },
    {
      "cell_type": "code",
      "source": [
        "#input\n",
        "list1 = ['x','y','z','a','b','c','d','e','f','g']\n",
        "split_points = [2,5,8]\n",
        "# split_points.append(len(list1))\n",
        "\n",
        "#split array on indices:\n",
        "# s = split_points+[len(list1)]  #must contain index beyond last element, alternatively use directly split_points.append(len(list1))\n",
        "# print(s)\n",
        "print(split_points)\n",
        "[list1[i1: i2] for i1, i2 in zip([0]+split_points,split_points+[len(list1)])]\n",
        "\n",
        "# print([0]+split_points[:-1])"
      ],
      "metadata": {
        "colab": {
          "base_uri": "https://localhost:8080/"
        },
        "id": "G6VM4lMIcCRB",
        "outputId": "3900b18c-7399-41e4-d512-9eb24acaac33"
      },
      "execution_count": 63,
      "outputs": [
        {
          "output_type": "stream",
          "name": "stdout",
          "text": [
            "[2, 5, 8]\n"
          ]
        },
        {
          "output_type": "execute_result",
          "data": {
            "text/plain": [
              "[['x', 'y'], ['z', 'a', 'b'], ['c', 'd', 'e'], ['f', 'g']]"
            ]
          },
          "metadata": {},
          "execution_count": 63
        }
      ]
    },
    {
      "cell_type": "code",
      "source": [],
      "metadata": {
        "id": "hZ97nFN_cHbf"
      },
      "execution_count": null,
      "outputs": []
    }
  ]
}