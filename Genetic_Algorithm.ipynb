{
  "nbformat": 4,
  "nbformat_minor": 0,
  "metadata": {
    "colab": {
      "provenance": [],
      "authorship_tag": "ABX9TyOmUFkHLYjl66AZuiabnIbD",
      "include_colab_link": true
    },
    "kernelspec": {
      "name": "python3",
      "display_name": "Python 3"
    },
    "language_info": {
      "name": "python"
    }
  },
  "cells": [
    {
      "cell_type": "markdown",
      "metadata": {
        "id": "view-in-github",
        "colab_type": "text"
      },
      "source": [
        "<a href=\"https://colab.research.google.com/github/mralamdari/Python-Projects/blob/main/Genetic_Algorithm.ipynb\" target=\"_parent\"><img src=\"https://colab.research.google.com/assets/colab-badge.svg\" alt=\"Open In Colab\"/></a>"
      ]
    },
    {
      "cell_type": "code",
      "source": [
        "import numpy as np"
      ],
      "metadata": {
        "id": "H2TJUTxRC-LY"
      },
      "execution_count": 7,
      "outputs": []
    },
    {
      "cell_type": "markdown",
      "source": [
        "#Binary numbers"
      ],
      "metadata": {
        "id": "5zEflZLStifj"
      }
    },
    {
      "cell_type": "markdown",
      "source": [
        "##Integer to Binary"
      ],
      "metadata": {
        "id": "pzEJf5e2AXW9"
      }
    },
    {
      "cell_type": "code",
      "source": [
        "def int2bin(number, bit_size):\n",
        "  binary_list = []\n",
        "  while bit_size>0:\n",
        "    bit_size -= 1\n",
        "    binary_list.append(number % 2)\n",
        "    number //= 2\n",
        "  binary_list.reverse()\n",
        "  return binary_list"
      ],
      "metadata": {
        "id": "khVvYSHVAHsP"
      },
      "execution_count": 8,
      "outputs": []
    },
    {
      "cell_type": "code",
      "source": [
        "def bin2int(bits):\n",
        "  bits.reverse()\n",
        "  decimal, counter = 0, 0\n",
        "  for i in bits:\n",
        "    decimal += 2**counter * int(i)\n",
        "    counter += 1\n",
        "  return decimal"
      ],
      "metadata": {
        "id": "BB9CBGsoTLbR"
      },
      "execution_count": 9,
      "outputs": []
    },
    {
      "cell_type": "code",
      "source": [
        "def seq2str(binary_list):\n",
        "  binary_str = ''\n",
        "  for i in binary_list:\n",
        "    binary_str += f'{i}'\n",
        "  return binary_str"
      ],
      "metadata": {
        "id": "ARaSyJfqS4Kn"
      },
      "execution_count": 10,
      "outputs": []
    },
    {
      "cell_type": "code",
      "source": [
        "# number = int(input('Enter a number:'))\n",
        "number = 250\n",
        "bit_size = 15\n",
        "\n",
        "binary_list = int2bin(number, bit_size)\n",
        "binary_str = seq2str(binary_list)\n",
        "decimal_list = bin2int(binary_list)\n",
        "print(f'Binary List is: {binary_list}')\n",
        "print(f'Binary Number is: {binary_str}')\n",
        "print(f'Decimal Number is: {decimal_list}')"
      ],
      "metadata": {
        "colab": {
          "base_uri": "https://localhost:8080/"
        },
        "id": "uFM8AhVeEF_B",
        "outputId": "08860fb7-74b7-49db-a32d-ce5eaaeb3ffe"
      },
      "execution_count": 11,
      "outputs": [
        {
          "output_type": "stream",
          "name": "stdout",
          "text": [
            "Binary List is: [0, 1, 0, 1, 1, 1, 1, 1, 0, 0, 0, 0, 0, 0, 0]\n",
            "Binary Number is: 000000011111010\n",
            "Decimal Number is: 250\n"
          ]
        }
      ]
    },
    {
      "cell_type": "markdown",
      "source": [
        "##Mutation"
      ],
      "metadata": {
        "id": "VbqpelepDrPl"
      }
    },
    {
      "cell_type": "code",
      "source": [
        "def mutation(seq, m_rate=0.3):\n",
        "  new_seq = []\n",
        "  for item in seq:\n",
        "    if np.random.randn() < m_rate:\n",
        "      item = 0 if item==1 else 0\n",
        "    new_seq.append(item)\n",
        "  return new_seq"
      ],
      "metadata": {
        "id": "oM2UrOeOR2hj"
      },
      "execution_count": 12,
      "outputs": []
    },
    {
      "cell_type": "code",
      "source": [
        "mutation(binary_list)"
      ],
      "metadata": {
        "colab": {
          "base_uri": "https://localhost:8080/"
        },
        "id": "veZ7HnTCSnAB",
        "outputId": "5a0cd1a1-a661-42ca-e7c7-9dbcf19fcb16"
      },
      "execution_count": 13,
      "outputs": [
        {
          "output_type": "execute_result",
          "data": {
            "text/plain": [
              "[0, 0, 0, 1, 0, 0, 1, 0, 0, 0, 0, 0, 0, 0, 0]"
            ]
          },
          "metadata": {},
          "execution_count": 13
        }
      ]
    },
    {
      "cell_type": "markdown",
      "source": [
        "##Crossover"
      ],
      "metadata": {
        "id": "1wetAwg5Vn8h"
      }
    },
    {
      "cell_type": "code",
      "source": [
        "seq1 = mutation(binary_list)\n",
        "seq2 = mutation(binary_list)\n",
        "\n",
        "print(seq2str(seq1))\n",
        "print(seq2str(seq2))\n",
        "print('\\n')\n",
        "print(seq2str(seq1[:5] + seq2[5+1:]))\n",
        "print(seq2str(seq2[:5] + seq1[5+1:]))\n",
        "\n",
        "np.random.randint(0, 10, 3)"
      ],
      "metadata": {
        "colab": {
          "base_uri": "https://localhost:8080/"
        },
        "id": "J4OSghuoWrnI",
        "outputId": "2a7bfdfc-9de5-43e3-fe73-6437b9ba4c1c"
      },
      "execution_count": 14,
      "outputs": [
        {
          "output_type": "stream",
          "name": "stdout",
          "text": [
            "010000000000000\n",
            "010100010000000\n",
            "\n",
            "\n",
            "01000010000000\n",
            "01010000000000\n"
          ]
        },
        {
          "output_type": "execute_result",
          "data": {
            "text/plain": [
              "array([0, 6, 4])"
            ]
          },
          "metadata": {},
          "execution_count": 14
        }
      ]
    },
    {
      "cell_type": "code",
      "source": [
        "num = 2\n",
        "p = np.random.rand(len(seq1))\n",
        "# print(p)\n",
        "p\n",
        "# rand_ind = np.random.choice(seq1, replace=False, p=p)"
      ],
      "metadata": {
        "colab": {
          "base_uri": "https://localhost:8080/"
        },
        "id": "ntaYOGWIlOVr",
        "outputId": "532a311f-823c-4bbb-8927-9b988a4a0ab6"
      },
      "execution_count": 15,
      "outputs": [
        {
          "output_type": "execute_result",
          "data": {
            "text/plain": [
              "array([0.61934495, 0.01052207, 0.16909182, 0.68171724, 0.36887568,\n",
              "       0.73410875, 0.14435753, 0.70959518, 0.23851441, 0.69327801,\n",
              "       0.63497716, 0.73461761, 0.0238339 , 0.01419508, 0.35797814])"
            ]
          },
          "metadata": {},
          "execution_count": 15
        }
      ]
    },
    {
      "cell_type": "code",
      "source": [
        "def uniform_crossover(seq1, seq2, rate=0.2):\n",
        "  new_seq1, new_seq2 = [], []\n",
        "  for id, rand in enumerate(np.random.rand(len(seq1))):\n",
        "    if rand < rate:\n",
        "      new_seq1.append(seq1[id])\n",
        "      new_seq2.append(seq2[id])\n",
        "    else:\n",
        "      new_seq1.append(seq2[id])\n",
        "      new_seq2.append(seq1[id])\n",
        "\n",
        "  return new_seq1, new_seq2"
      ],
      "metadata": {
        "id": "G1RphSxkSrK6"
      },
      "execution_count": 16,
      "outputs": []
    },
    {
      "cell_type": "code",
      "source": [
        "seq1 = [0, 0, 0, 0, 0, 1, 0, 0, 0, 0, 0, 0, 0, 0, 0]\n",
        "seq2 = [0, 1, 0, 1, 0, 0, 1, 0, 1, 0, 1, 0, 0, 0, 0]\n",
        "\n",
        "new_seq1, new_seq2 = uniform_crossover(seq1, seq2, 0.5)\n",
        "\n",
        "print(seq2str(seq1))\n",
        "print(seq2str(seq2))\n",
        "print('\\n')\n",
        "print(seq2str(new_seq1))\n",
        "print(seq2str(new_seq2))"
      ],
      "metadata": {
        "colab": {
          "base_uri": "https://localhost:8080/"
        },
        "id": "RQI_GdkVbjkA",
        "outputId": "e724be3d-42d4-4470-958d-d00b9ade406c"
      },
      "execution_count": 17,
      "outputs": [
        {
          "output_type": "stream",
          "name": "stdout",
          "text": [
            "000001000000000\n",
            "010100101010000\n",
            "\n",
            "\n",
            "010101000010000\n",
            "000000101000000\n"
          ]
        }
      ]
    },
    {
      "cell_type": "markdown",
      "source": [
        "#Real Numbers"
      ],
      "metadata": {
        "id": "f_tGg5dytkUc"
      }
    },
    {
      "cell_type": "markdown",
      "source": [
        "uniform_mutation"
      ],
      "metadata": {
        "id": "fn4llQeyt25z"
      }
    },
    {
      "cell_type": "code",
      "source": [
        "# def uniform_mutation(seq):\n",
        "#   return np.random.randn()\n",
        "min, max, num = 1, 100, 200\n",
        "np.random.randint(min, max, num) / 100"
      ],
      "metadata": {
        "colab": {
          "base_uri": "https://localhost:8080/"
        },
        "id": "hZ97nFN_cHbf",
        "outputId": "5f741ab4-6f9c-4cd4-98ba-c25a92437ddd"
      },
      "execution_count": 23,
      "outputs": [
        {
          "output_type": "execute_result",
          "data": {
            "text/plain": [
              "array([0.18, 0.34, 0.69, 0.79, 0.44, 0.54, 0.02, 0.7 , 0.12, 0.55, 0.4 ,\n",
              "       0.1 , 0.66, 0.27, 0.45, 0.64, 0.83, 0.23, 0.67, 0.23, 0.72, 0.57,\n",
              "       0.23, 0.45, 0.4 , 0.58, 0.61, 0.61, 0.76, 0.09, 0.35, 0.12, 0.85,\n",
              "       0.9 , 0.57, 0.71, 0.04, 0.28, 0.11, 0.31, 0.21, 0.78, 0.57, 0.86,\n",
              "       0.27, 0.7 , 0.77, 0.16, 0.07, 0.08, 0.62, 0.2 , 0.32, 0.14, 0.14,\n",
              "       0.95, 0.91, 0.44, 0.98, 0.82, 0.22, 0.54, 0.11, 0.68, 0.27, 0.05,\n",
              "       0.41, 0.41, 0.27, 0.42, 0.13, 0.91, 0.71, 0.76, 0.98, 0.32, 0.02,\n",
              "       0.39, 0.94, 0.15, 0.91, 0.51, 0.16, 0.7 , 0.94, 0.37, 0.09, 0.43,\n",
              "       0.59, 0.31, 0.43, 0.72, 0.58, 0.3 , 0.89, 0.13, 0.5 , 0.82, 0.92,\n",
              "       0.08, 0.37, 0.29, 0.13, 0.94, 0.03, 0.22, 0.17, 0.35, 0.56, 0.78,\n",
              "       0.94, 0.77, 0.87, 0.6 , 0.77, 0.68, 0.26, 0.17, 0.89, 0.75, 0.41,\n",
              "       0.72, 0.07, 0.21, 0.18, 0.42, 0.48, 0.74, 0.65, 0.07, 0.39, 0.45,\n",
              "       0.67, 0.8 , 0.83, 0.07, 0.63, 0.53, 0.37, 0.63, 0.84, 0.38, 0.1 ,\n",
              "       0.91, 0.97, 0.2 , 0.87, 0.92, 0.06, 0.87, 0.87, 0.75, 0.86, 0.68,\n",
              "       0.92, 0.92, 0.66, 0.4 , 0.09, 0.27, 0.99, 0.74, 0.18, 0.36, 0.58,\n",
              "       0.62, 0.81, 0.11, 0.63, 0.57, 0.32, 0.05, 0.51, 0.71, 0.63, 0.96,\n",
              "       0.99, 0.23, 0.61, 0.83, 0.91, 0.54, 0.24, 0.7 , 0.22, 0.09, 0.42,\n",
              "       0.05, 0.74, 0.4 , 0.41, 0.51, 0.47, 0.29, 0.22, 0.92, 0.03, 0.82,\n",
              "       0.82, 0.4 ])"
            ]
          },
          "metadata": {},
          "execution_count": 23
        }
      ]
    },
    {
      "cell_type": "code",
      "source": [
        "numpy.random.uniform"
      ],
      "metadata": {
        "id": "TFC0WmaLMKRp"
      },
      "execution_count": null,
      "outputs": []
    }
  ]
}