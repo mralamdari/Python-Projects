{
  "nbformat": 4,
  "nbformat_minor": 0,
  "metadata": {
    "colab": {
      "provenance": [],
      "collapsed_sections": [
        "5zEflZLStifj"
      ],
      "authorship_tag": "ABX9TyPweIi7+sPCWFVSK1EEgL62",
      "include_colab_link": true
    },
    "kernelspec": {
      "name": "python3",
      "display_name": "Python 3"
    },
    "language_info": {
      "name": "python"
    }
  },
  "cells": [
    {
      "cell_type": "markdown",
      "metadata": {
        "id": "view-in-github",
        "colab_type": "text"
      },
      "source": [
        "<a href=\"https://colab.research.google.com/github/mralamdari/Python-Projects/blob/main/Genetic_Algorithm.ipynb\" target=\"_parent\"><img src=\"https://colab.research.google.com/assets/colab-badge.svg\" alt=\"Open In Colab\"/></a>"
      ]
    },
    {
      "cell_type": "code",
      "source": [
        "import numpy as np"
      ],
      "metadata": {
        "id": "H2TJUTxRC-LY"
      },
      "execution_count": 2,
      "outputs": []
    },
    {
      "cell_type": "markdown",
      "source": [
        "#Binary numbers"
      ],
      "metadata": {
        "id": "5zEflZLStifj"
      }
    },
    {
      "cell_type": "markdown",
      "source": [
        "##Integer to Binary"
      ],
      "metadata": {
        "id": "pzEJf5e2AXW9"
      }
    },
    {
      "cell_type": "code",
      "source": [
        "def int2bin(number, bit_size):\n",
        "  binary_list = []\n",
        "  while bit_size>0:\n",
        "    bit_size -= 1\n",
        "    binary_list.append(number % 2)\n",
        "    number //= 2\n",
        "  binary_list.reverse()\n",
        "  return binary_list"
      ],
      "metadata": {
        "id": "khVvYSHVAHsP"
      },
      "execution_count": null,
      "outputs": []
    },
    {
      "cell_type": "code",
      "source": [
        "def bin2int(bits):\n",
        "  bits.reverse()\n",
        "  decimal, counter = 0, 0\n",
        "  for i in bits:\n",
        "    decimal += 2**counter * int(i)\n",
        "    counter += 1\n",
        "  return decimal"
      ],
      "metadata": {
        "id": "BB9CBGsoTLbR"
      },
      "execution_count": null,
      "outputs": []
    },
    {
      "cell_type": "code",
      "source": [
        "def seq2str(binary_list):\n",
        "  binary_str = ''\n",
        "  for i in binary_list:\n",
        "    binary_str += f'{i}'\n",
        "  return binary_str"
      ],
      "metadata": {
        "id": "ARaSyJfqS4Kn"
      },
      "execution_count": null,
      "outputs": []
    },
    {
      "cell_type": "code",
      "source": [
        "# number = int(input('Enter a number:'))\n",
        "number = 250\n",
        "bit_size = 15\n",
        "\n",
        "binary_list = int2bin(number, bit_size)\n",
        "binary_str = seq2str(binary_list)\n",
        "decimal_list = bin2int(binary_list)\n",
        "print(f'Binary List is: {binary_list}')\n",
        "print(f'Binary Number is: {binary_str}')\n",
        "print(f'Decimal Number is: {decimal_list}')"
      ],
      "metadata": {
        "colab": {
          "base_uri": "https://localhost:8080/"
        },
        "id": "uFM8AhVeEF_B",
        "outputId": "08860fb7-74b7-49db-a32d-ce5eaaeb3ffe"
      },
      "execution_count": null,
      "outputs": [
        {
          "output_type": "stream",
          "name": "stdout",
          "text": [
            "Binary List is: [0, 1, 0, 1, 1, 1, 1, 1, 0, 0, 0, 0, 0, 0, 0]\n",
            "Binary Number is: 000000011111010\n",
            "Decimal Number is: 250\n"
          ]
        }
      ]
    },
    {
      "cell_type": "markdown",
      "source": [
        "##Mutation"
      ],
      "metadata": {
        "id": "VbqpelepDrPl"
      }
    },
    {
      "cell_type": "code",
      "source": [
        "def mutation(seq, m_rate=0.3):\n",
        "  new_seq = []\n",
        "  for item in seq:\n",
        "    if np.random.randn() < m_rate:\n",
        "      item = 0 if item==1 else 0\n",
        "    new_seq.append(item)\n",
        "  return new_seq"
      ],
      "metadata": {
        "id": "oM2UrOeOR2hj"
      },
      "execution_count": null,
      "outputs": []
    },
    {
      "cell_type": "code",
      "source": [
        "mutation(binary_list)"
      ],
      "metadata": {
        "colab": {
          "base_uri": "https://localhost:8080/"
        },
        "id": "veZ7HnTCSnAB",
        "outputId": "5a0cd1a1-a661-42ca-e7c7-9dbcf19fcb16"
      },
      "execution_count": null,
      "outputs": [
        {
          "output_type": "execute_result",
          "data": {
            "text/plain": [
              "[0, 0, 0, 1, 0, 0, 1, 0, 0, 0, 0, 0, 0, 0, 0]"
            ]
          },
          "metadata": {},
          "execution_count": 13
        }
      ]
    },
    {
      "cell_type": "markdown",
      "source": [
        "##Crossover"
      ],
      "metadata": {
        "id": "1wetAwg5Vn8h"
      }
    },
    {
      "cell_type": "code",
      "source": [
        "seq1 = mutation(binary_list)\n",
        "seq2 = mutation(binary_list)\n",
        "\n",
        "print(seq2str(seq1))\n",
        "print(seq2str(seq2))\n",
        "print('\\n')\n",
        "print(seq2str(seq1[:5] + seq2[5+1:]))\n",
        "print(seq2str(seq2[:5] + seq1[5+1:]))\n",
        "\n",
        "np.random.randint(0, 10, 3)"
      ],
      "metadata": {
        "colab": {
          "base_uri": "https://localhost:8080/"
        },
        "id": "J4OSghuoWrnI",
        "outputId": "2a7bfdfc-9de5-43e3-fe73-6437b9ba4c1c"
      },
      "execution_count": null,
      "outputs": [
        {
          "output_type": "stream",
          "name": "stdout",
          "text": [
            "010000000000000\n",
            "010100010000000\n",
            "\n",
            "\n",
            "01000010000000\n",
            "01010000000000\n"
          ]
        },
        {
          "output_type": "execute_result",
          "data": {
            "text/plain": [
              "array([0, 6, 4])"
            ]
          },
          "metadata": {},
          "execution_count": 14
        }
      ]
    },
    {
      "cell_type": "code",
      "source": [
        "num = 2\n",
        "p = np.random.rand(len(seq1))\n",
        "# print(p)\n",
        "p\n",
        "# rand_ind = np.random.choice(seq1, replace=False, p=p)"
      ],
      "metadata": {
        "colab": {
          "base_uri": "https://localhost:8080/"
        },
        "id": "ntaYOGWIlOVr",
        "outputId": "532a311f-823c-4bbb-8927-9b988a4a0ab6"
      },
      "execution_count": null,
      "outputs": [
        {
          "output_type": "execute_result",
          "data": {
            "text/plain": [
              "array([0.61934495, 0.01052207, 0.16909182, 0.68171724, 0.36887568,\n",
              "       0.73410875, 0.14435753, 0.70959518, 0.23851441, 0.69327801,\n",
              "       0.63497716, 0.73461761, 0.0238339 , 0.01419508, 0.35797814])"
            ]
          },
          "metadata": {},
          "execution_count": 15
        }
      ]
    },
    {
      "cell_type": "code",
      "source": [
        "def uniform_crossover(seq1, seq2, rate=0.2):\n",
        "  new_seq1, new_seq2 = [], []\n",
        "  for id, rand in enumerate(np.random.rand(len(seq1))):\n",
        "    if rand < rate:\n",
        "      new_seq1.append(seq1[id])\n",
        "      new_seq2.append(seq2[id])\n",
        "    else:\n",
        "      new_seq1.append(seq2[id])\n",
        "      new_seq2.append(seq1[id])\n",
        "\n",
        "  return new_seq1, new_seq2"
      ],
      "metadata": {
        "id": "G1RphSxkSrK6"
      },
      "execution_count": null,
      "outputs": []
    },
    {
      "cell_type": "code",
      "source": [
        "seq1 = [0, 0, 0, 0, 0, 1, 0, 0, 0, 0, 0, 0, 0, 0, 0]\n",
        "seq2 = [0, 1, 0, 1, 0, 0, 1, 0, 1, 0, 1, 0, 0, 0, 0]\n",
        "\n",
        "new_seq1, new_seq2 = uniform_crossover(seq1, seq2, 0.5)\n",
        "\n",
        "print(seq2str(seq1))\n",
        "print(seq2str(seq2))\n",
        "print('\\n')\n",
        "print(seq2str(new_seq1))\n",
        "print(seq2str(new_seq2))"
      ],
      "metadata": {
        "colab": {
          "base_uri": "https://localhost:8080/"
        },
        "id": "RQI_GdkVbjkA",
        "outputId": "e724be3d-42d4-4470-958d-d00b9ade406c"
      },
      "execution_count": null,
      "outputs": [
        {
          "output_type": "stream",
          "name": "stdout",
          "text": [
            "000001000000000\n",
            "010100101010000\n",
            "\n",
            "\n",
            "010101000010000\n",
            "000000101000000\n"
          ]
        }
      ]
    },
    {
      "cell_type": "markdown",
      "source": [
        "#Real Numbers"
      ],
      "metadata": {
        "id": "f_tGg5dytkUc"
      }
    },
    {
      "cell_type": "markdown",
      "source": [
        "uniform_mutation"
      ],
      "metadata": {
        "id": "fn4llQeyt25z"
      }
    },
    {
      "cell_type": "code",
      "source": [
        "min, max, num = -1, 1, 20\n",
        "# uniform_mutation = lambda min, max, num : np.random.randint(min*10, max*10, num)/10\n",
        "uniform_mutation = lambda min, max, num : np.random.uniform(min, max, num)\n",
        "\n",
        "uniform_mutation(min, max, num)"
      ],
      "metadata": {
        "colab": {
          "base_uri": "https://localhost:8080/"
        },
        "id": "hZ97nFN_cHbf",
        "outputId": "93a87217-66a6-4b2e-f0eb-536888ba0c5c"
      },
      "execution_count": 42,
      "outputs": [
        {
          "output_type": "execute_result",
          "data": {
            "text/plain": [
              "array([-0.1340026 ,  0.66618048, -0.36707075, -0.16163296, -0.06621411,\n",
              "       -0.70521906, -0.1976178 , -0.62300651, -0.24897223,  0.50180962,\n",
              "        0.61550294, -0.33791723, -0.91262257,  0.20687134, -0.40490904,\n",
              "        0.12914691, -0.48673126,  0.21296737, -0.41786103,  0.4287391 ])"
            ]
          },
          "metadata": {},
          "execution_count": 42
        }
      ]
    },
    {
      "cell_type": "markdown",
      "source": [
        "non-uniform_mutation"
      ],
      "metadata": {
        "id": "voeR-sR18Kow"
      }
    },
    {
      "cell_type": "code",
      "source": [
        "mu, sigma = 0, 0.1 # mean and standard deviation\n",
        "non_uniform_mutation = lambda mu, sigma, num : np.random.normal(mu, sigma, num)/10\n",
        "\n",
        "non_uniform_mutation(mu, sigma, num)"
      ],
      "metadata": {
        "colab": {
          "base_uri": "https://localhost:8080/"
        },
        "id": "TFC0WmaLMKRp",
        "outputId": "b31f1fbf-c5d8-4db2-f718-738b27ce901e"
      },
      "execution_count": 38,
      "outputs": [
        {
          "output_type": "execute_result",
          "data": {
            "text/plain": [
              "array([-0.01311365, -0.01350387,  0.00524   , -0.00518761, -0.00698356,\n",
              "        0.00055294,  0.00316299,  0.00699153,  0.00505169,  0.00204172,\n",
              "       -0.02440528, -0.00869232,  0.01027754,  0.00369238,  0.00164408,\n",
              "       -0.00102078, -0.00087356,  0.00218218,  0.00553013,  0.00808472])"
            ]
          },
          "metadata": {},
          "execution_count": 38
        }
      ]
    },
    {
      "cell_type": "code",
      "source": [
        "np.random.randint(1, 1000, num)/100"
      ],
      "metadata": {
        "id": "qvIMbvv6Q0AD",
        "colab": {
          "base_uri": "https://localhost:8080/"
        },
        "outputId": "cea0a4de-4594-49e5-b7a7-f3b65f80ec32"
      },
      "execution_count": 19,
      "outputs": [
        {
          "output_type": "execute_result",
          "data": {
            "text/plain": [
              "array([5.06, 0.28, 0.98, 1.38, 9.19, 0.94, 1.17, 0.46, 2.94, 2.51, 0.59,\n",
              "       7.08, 3.88, 4.55, 0.2 , 3.22, 8.67, 0.8 , 4.2 , 4.62])"
            ]
          },
          "metadata": {},
          "execution_count": 19
        }
      ]
    },
    {
      "cell_type": "code",
      "source": [],
      "metadata": {
        "id": "_5coVGuj5NeY"
      },
      "execution_count": null,
      "outputs": []
    }
  ]
}