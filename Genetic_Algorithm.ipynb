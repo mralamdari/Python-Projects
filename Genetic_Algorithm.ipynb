{
  "nbformat": 4,
  "nbformat_minor": 0,
  "metadata": {
    "colab": {
      "provenance": [],
      "collapsed_sections": [
        "5zEflZLStifj"
      ],
      "authorship_tag": "ABX9TyP0/Q9y4xgGzMBsj5cvGDP/",
      "include_colab_link": true
    },
    "kernelspec": {
      "name": "python3",
      "display_name": "Python 3"
    },
    "language_info": {
      "name": "python"
    }
  },
  "cells": [
    {
      "cell_type": "markdown",
      "metadata": {
        "id": "view-in-github",
        "colab_type": "text"
      },
      "source": [
        "<a href=\"https://colab.research.google.com/github/mralamdari/Python-Projects/blob/main/Genetic_Algorithm.ipynb\" target=\"_parent\"><img src=\"https://colab.research.google.com/assets/colab-badge.svg\" alt=\"Open In Colab\"/></a>"
      ]
    },
    {
      "cell_type": "code",
      "source": [
        "import numpy as np"
      ],
      "metadata": {
        "id": "H2TJUTxRC-LY"
      },
      "execution_count": 1,
      "outputs": []
    },
    {
      "cell_type": "markdown",
      "source": [
        "#Binary numbers"
      ],
      "metadata": {
        "id": "5zEflZLStifj"
      }
    },
    {
      "cell_type": "markdown",
      "source": [
        "##Integer to Binary"
      ],
      "metadata": {
        "id": "pzEJf5e2AXW9"
      }
    },
    {
      "cell_type": "code",
      "source": [
        "def int2bin(number, bit_size):\n",
        "  binary_list = []\n",
        "  while bit_size>0:\n",
        "    bit_size -= 1\n",
        "    binary_list.append(number % 2)\n",
        "    number //= 2\n",
        "  binary_list.reverse()\n",
        "  return binary_list"
      ],
      "metadata": {
        "id": "khVvYSHVAHsP"
      },
      "execution_count": null,
      "outputs": []
    },
    {
      "cell_type": "code",
      "source": [
        "def bin2int(bits):\n",
        "  bits.reverse()\n",
        "  decimal, counter = 0, 0\n",
        "  for i in bits:\n",
        "    decimal += 2**counter * int(i)\n",
        "    counter += 1\n",
        "  return decimal"
      ],
      "metadata": {
        "id": "BB9CBGsoTLbR"
      },
      "execution_count": null,
      "outputs": []
    },
    {
      "cell_type": "code",
      "source": [
        "def seq2str(binary_list):\n",
        "  binary_str = ''\n",
        "  for i in binary_list:\n",
        "    binary_str += f'{i}'\n",
        "  return binary_str"
      ],
      "metadata": {
        "id": "ARaSyJfqS4Kn"
      },
      "execution_count": null,
      "outputs": []
    },
    {
      "cell_type": "code",
      "source": [
        "# number = int(input('Enter a number:'))\n",
        "number = 250\n",
        "bit_size = 15\n",
        "\n",
        "binary_list = int2bin(number, bit_size)\n",
        "binary_str = seq2str(binary_list)\n",
        "decimal_list = bin2int(binary_list)\n",
        "print(f'Binary List is: {binary_list}')\n",
        "print(f'Binary Number is: {binary_str}')\n",
        "print(f'Decimal Number is: {decimal_list}')"
      ],
      "metadata": {
        "colab": {
          "base_uri": "https://localhost:8080/"
        },
        "id": "uFM8AhVeEF_B",
        "outputId": "d45c2982-d66a-4738-a964-fbc42dd56ee3"
      },
      "execution_count": null,
      "outputs": [
        {
          "output_type": "stream",
          "name": "stdout",
          "text": [
            "Binary List is: [0, 1, 0, 1, 1, 1, 1, 1, 0, 0, 0, 0, 0, 0, 0]\n",
            "Binary Number is: 000000011111010\n",
            "Decimal Number is: 250\n"
          ]
        }
      ]
    },
    {
      "cell_type": "markdown",
      "source": [
        "##Mutation"
      ],
      "metadata": {
        "id": "VbqpelepDrPl"
      }
    },
    {
      "cell_type": "code",
      "source": [
        "def mutation(seq, m_rate=0.3):\n",
        "  new_seq = []\n",
        "  for item in seq:\n",
        "    if np.random.randn() < m_rate:\n",
        "      item = 0 if item==1 else 0\n",
        "    new_seq.append(item)\n",
        "  return new_seq"
      ],
      "metadata": {
        "id": "oM2UrOeOR2hj"
      },
      "execution_count": null,
      "outputs": []
    },
    {
      "cell_type": "code",
      "source": [
        "mutation(binary_list)"
      ],
      "metadata": {
        "colab": {
          "base_uri": "https://localhost:8080/"
        },
        "id": "veZ7HnTCSnAB",
        "outputId": "bd3bbd02-0d55-4147-dba8-15f4710f45d7"
      },
      "execution_count": null,
      "outputs": [
        {
          "output_type": "execute_result",
          "data": {
            "text/plain": [
              "[0, 1, 0, 0, 0, 1, 0, 0, 0, 0, 0, 0, 0, 0, 0]"
            ]
          },
          "metadata": {},
          "execution_count": 62
        }
      ]
    },
    {
      "cell_type": "markdown",
      "source": [
        "##Crossover"
      ],
      "metadata": {
        "id": "1wetAwg5Vn8h"
      }
    },
    {
      "cell_type": "code",
      "source": [
        "seq1 = mutation(binary_list)\n",
        "seq2 = mutation(binary_list)\n",
        "\n",
        "print(seq2str(seq1))\n",
        "print(seq2str(seq2))\n",
        "print('\\n')\n",
        "print(seq2str(seq1[:5] + seq2[5+1:]))\n",
        "print(seq2str(seq2[:5] + seq1[5+1:]))\n",
        "\n",
        "np.random.randint(0, 10, 3)"
      ],
      "metadata": {
        "colab": {
          "base_uri": "https://localhost:8080/"
        },
        "id": "J4OSghuoWrnI",
        "outputId": "3ef6dd73-af84-4b1f-f52b-cfd7bc1700d2"
      },
      "execution_count": null,
      "outputs": [
        {
          "output_type": "stream",
          "name": "stdout",
          "text": [
            "010111110000000\n",
            "000000100000000\n",
            "\n",
            "\n",
            "01011100000000\n",
            "00000110000000\n"
          ]
        },
        {
          "output_type": "execute_result",
          "data": {
            "text/plain": [
              "array([0, 6, 9])"
            ]
          },
          "metadata": {},
          "execution_count": 63
        }
      ]
    },
    {
      "cell_type": "code",
      "source": [
        "def uniform_crossover(seq1, seq2, rate=0.2):\n",
        "  new_seq1, new_seq2 = [], []\n",
        "  for id, rand in enumerate(np.random.rand(len(seq1))):\n",
        "    if rand < rate:\n",
        "      new_seq1.append(seq1[id])\n",
        "      new_seq2.append(seq2[id])\n",
        "    else:\n",
        "      new_seq1.append(seq2[id])\n",
        "      new_seq2.append(seq1[id])\n",
        "\n",
        "  return new_seq1, new_seq2"
      ],
      "metadata": {
        "id": "G1RphSxkSrK6"
      },
      "execution_count": null,
      "outputs": []
    },
    {
      "cell_type": "code",
      "source": [
        "seq1 = [0, 0, 0, 0, 0, 1, 0, 0, 0, 0, 0, 0, 0, 0, 0]\n",
        "seq2 = [0, 1, 0, 1, 0, 0, 1, 0, 1, 0, 1, 0, 0, 0, 0]\n",
        "\n",
        "new_seq1, new_seq2 = uniform_crossover(seq1, seq2, 0.5)\n",
        "\n",
        "print(seq2str(seq1))\n",
        "print(seq2str(seq2))\n",
        "print('\\n')\n",
        "print(seq2str(new_seq1))\n",
        "print(seq2str(new_seq2))"
      ],
      "metadata": {
        "colab": {
          "base_uri": "https://localhost:8080/"
        },
        "id": "RQI_GdkVbjkA",
        "outputId": "4781706b-f2e7-4c0c-d809-9ab4d82628f1"
      },
      "execution_count": null,
      "outputs": [
        {
          "output_type": "stream",
          "name": "stdout",
          "text": [
            "000001000000000\n",
            "010100101010000\n",
            "\n",
            "\n",
            "000100101010000\n",
            "010001000000000\n"
          ]
        }
      ]
    },
    {
      "cell_type": "markdown",
      "source": [
        "#Real Numbers"
      ],
      "metadata": {
        "id": "f_tGg5dytkUc"
      }
    },
    {
      "cell_type": "markdown",
      "source": [
        "uniform_mutation"
      ],
      "metadata": {
        "id": "fn4llQeyt25z"
      }
    },
    {
      "cell_type": "code",
      "source": [
        "min, max, num = -1, 1, 50\n",
        "# uniform_mutation = lambda min, max, num : np.random.randint(min*10, max*10, num)/10\n",
        "uniform_mutation = lambda min, max, num : np.round(np.random.uniform(min, max, num), 3)\n",
        "\n",
        "uniform_mutation(min, max, num)"
      ],
      "metadata": {
        "colab": {
          "base_uri": "https://localhost:8080/"
        },
        "id": "hZ97nFN_cHbf",
        "outputId": "b1d4e286-9d53-4c4f-e053-188ffd194deb"
      },
      "execution_count": 2,
      "outputs": [
        {
          "output_type": "execute_result",
          "data": {
            "text/plain": [
              "array([ 0.025,  0.896, -0.56 , -0.581, -0.084,  0.414,  0.698,  0.873,\n",
              "        0.871, -0.146,  0.657,  0.528,  0.919,  0.29 , -0.037,  0.363,\n",
              "       -0.431,  0.938, -0.807,  0.894, -0.418, -0.328,  0.656, -0.36 ,\n",
              "       -0.577, -0.247, -0.004, -0.378, -0.208, -0.523,  0.793, -0.537,\n",
              "        0.211,  0.245, -0.2  ,  0.098, -0.476,  0.62 , -0.938,  0.49 ,\n",
              "       -0.854,  0.588,  0.241, -0.48 ,  0.471,  0.751, -0.712, -0.46 ,\n",
              "       -0.1  ,  0.39 ])"
            ]
          },
          "metadata": {},
          "execution_count": 2
        }
      ]
    },
    {
      "cell_type": "markdown",
      "source": [
        "non-uniform_mutation"
      ],
      "metadata": {
        "id": "voeR-sR18Kow"
      }
    },
    {
      "cell_type": "code",
      "source": [
        "mu, sigma = 0, 0.1 # mean and standard deviation\n",
        "non_uniform_mutation = lambda mu, sigma, num : np.round(np.random.normal(mu, sigma, num), 3)\n",
        "\n",
        "non_uniform_mutation(mu, sigma, num)"
      ],
      "metadata": {
        "colab": {
          "base_uri": "https://localhost:8080/"
        },
        "id": "TFC0WmaLMKRp",
        "outputId": "c7e3e922-543c-4c58-b1a8-37ed26120c40"
      },
      "execution_count": 3,
      "outputs": [
        {
          "output_type": "execute_result",
          "data": {
            "text/plain": [
              "array([ 0.033, -0.12 ,  0.119,  0.171,  0.032,  0.007,  0.065,  0.046,\n",
              "        0.094,  0.135,  0.083, -0.027,  0.054, -0.009,  0.095, -0.038,\n",
              "        0.039, -0.123,  0.024, -0.051,  0.022,  0.084, -0.044, -0.087,\n",
              "       -0.178, -0.186, -0.113,  0.203,  0.041,  0.006, -0.149,  0.238,\n",
              "        0.079, -0.117, -0.088,  0.   ,  0.034, -0.101, -0.199,  0.052,\n",
              "       -0.011,  0.159, -0.061, -0.087,  0.105,  0.072,  0.127,  0.082,\n",
              "        0.051, -0.077])"
            ]
          },
          "metadata": {},
          "execution_count": 3
        }
      ]
    },
    {
      "cell_type": "markdown",
      "source": [
        "Arithmetic Recombination"
      ],
      "metadata": {
        "id": "oulMVuEc99Ke"
      }
    },
    {
      "cell_type": "code",
      "source": [
        "def arithmetic_recombination(seq1, seq2, k=0, alpha=0.5):\n",
        "  new_seq1, new_seq2 = seq1.copy(), seq2.copy()\n",
        "  for id, s1, s2 in zip(range(len(seq1[k:])), seq1[k:], seq2[k:]):\n",
        "    new_seq1[id+k] = alpha * s1 + (1 - alpha) * s2\n",
        "    new_seq2[id+k] = alpha * s2 + (1 - alpha) * s1\n",
        "\n",
        "  return np.round(new_seq1, 3), np.round(new_seq2, 3)"
      ],
      "metadata": {
        "id": "qvIMbvv6Q0AD"
      },
      "execution_count": 4,
      "outputs": []
    },
    {
      "cell_type": "code",
      "source": [
        "num = 20\n",
        "seq1 = uniform_mutation(min, max, num)\n",
        "seq2 = uniform_mutation(min, max, num)\n",
        "\n",
        "new_seq1, new_seq2 = arithmetic_recombination(seq1, seq2, k=5, alpha=0.3)\n",
        "\n",
        "print(seq1)\n",
        "print(seq2)\n",
        "print('\\n')\n",
        "print(new_seq1)\n",
        "print(new_seq2)"
      ],
      "metadata": {
        "colab": {
          "base_uri": "https://localhost:8080/"
        },
        "id": "_5coVGuj5NeY",
        "outputId": "95512d09-3a39-4b77-dbc9-75d4302845c9"
      },
      "execution_count": 5,
      "outputs": [
        {
          "output_type": "stream",
          "name": "stdout",
          "text": [
            "[ 0.956  0.629 -0.44   0.401  0.3   -0.806 -0.79  -0.142 -0.726  0.208\n",
            "  0.705 -0.013 -0.013  0.213  0.331  0.204  0.839 -0.751  0.677 -0.605]\n",
            "[-0.616 -0.011 -0.967  0.154 -0.774  0.636  0.495  0.999 -0.811 -0.711\n",
            "  0.498 -0.18   0.388  0.835 -0.692  0.8   -0.611 -0.493 -0.315  0.817]\n",
            "\n",
            "\n",
            "[ 0.956  0.629 -0.44   0.401  0.3    0.203  0.109  0.657 -0.786 -0.435\n",
            "  0.56  -0.13   0.268  0.648 -0.385  0.621 -0.176 -0.57  -0.017  0.39 ]\n",
            "[-0.616 -0.011 -0.967  0.154 -0.774 -0.373 -0.404  0.2   -0.752 -0.068\n",
            "  0.643 -0.063  0.107  0.4    0.024  0.383  0.404 -0.674  0.379 -0.178]\n"
          ]
        }
      ]
    },
    {
      "cell_type": "code",
      "source": [],
      "metadata": {
        "id": "fICT3RA7DLww"
      },
      "execution_count": null,
      "outputs": []
    }
  ]
}