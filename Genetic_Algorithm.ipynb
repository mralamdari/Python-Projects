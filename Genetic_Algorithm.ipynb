{
  "nbformat": 4,
  "nbformat_minor": 0,
  "metadata": {
    "colab": {
      "provenance": [],
      "authorship_tag": "ABX9TyNlsBSx007LZnBxhLUujxFZ",
      "include_colab_link": true
    },
    "kernelspec": {
      "name": "python3",
      "display_name": "Python 3"
    },
    "language_info": {
      "name": "python"
    }
  },
  "cells": [
    {
      "cell_type": "markdown",
      "metadata": {
        "id": "view-in-github",
        "colab_type": "text"
      },
      "source": [
        "<a href=\"https://colab.research.google.com/github/mralamdari/Python-Projects/blob/main/Genetic_Algorithm.ipynb\" target=\"_parent\"><img src=\"https://colab.research.google.com/assets/colab-badge.svg\" alt=\"Open In Colab\"/></a>"
      ]
    },
    {
      "cell_type": "code",
      "source": [
        "import numpy as np"
      ],
      "metadata": {
        "id": "H2TJUTxRC-LY"
      },
      "execution_count": 17,
      "outputs": []
    },
    {
      "cell_type": "markdown",
      "source": [
        "#Binary numbers"
      ],
      "metadata": {
        "id": "5zEflZLStifj"
      }
    },
    {
      "cell_type": "markdown",
      "source": [
        "##Integer to Binary"
      ],
      "metadata": {
        "id": "pzEJf5e2AXW9"
      }
    },
    {
      "cell_type": "code",
      "source": [
        "def int2bin(number, bit_size):\n",
        "  binary_list = []\n",
        "  while bit_size>0:\n",
        "    bit_size -= 1\n",
        "    binary_list.append(number % 2)\n",
        "    number //= 2\n",
        "  binary_list.reverse()\n",
        "  return binary_list"
      ],
      "metadata": {
        "id": "khVvYSHVAHsP"
      },
      "execution_count": 23,
      "outputs": []
    },
    {
      "cell_type": "code",
      "source": [
        "def bin2int(bits):\n",
        "  bits.reverse()\n",
        "  decimal, counter = 0, 0\n",
        "  for i in bits:\n",
        "    decimal += 2**counter * int(i)\n",
        "    counter += 1\n",
        "  return decimal"
      ],
      "metadata": {
        "id": "BB9CBGsoTLbR"
      },
      "execution_count": 31,
      "outputs": []
    },
    {
      "cell_type": "code",
      "source": [
        "def seq2str(binary_list):\n",
        "  binary_str = ''\n",
        "  for i in binary_list:\n",
        "    binary_str += f'{i}'\n",
        "  return binary_str"
      ],
      "metadata": {
        "id": "ARaSyJfqS4Kn"
      },
      "execution_count": 32,
      "outputs": []
    },
    {
      "cell_type": "code",
      "source": [
        "# number = int(input('Enter a number:'))\n",
        "number = 250\n",
        "bit_size = 15\n",
        "\n",
        "binary_list = int2bin(number, bit_size)\n",
        "binary_str = seq2str(binary_list)\n",
        "decimal_list = bin2int(binary_list)\n",
        "print(f'Binary List is: {binary_list}')\n",
        "print(f'Binary Number is: {binary_str}')\n",
        "print(f'Decimal Number is: {decimal_list}')"
      ],
      "metadata": {
        "colab": {
          "base_uri": "https://localhost:8080/"
        },
        "id": "uFM8AhVeEF_B",
        "outputId": "e0978a70-fbef-4bd6-e11c-f972d67187bd"
      },
      "execution_count": 36,
      "outputs": [
        {
          "output_type": "stream",
          "name": "stdout",
          "text": [
            "Binary List is: [0, 1, 0, 1, 1, 1, 1, 1, 0, 0, 0, 0, 0, 0, 0]\n",
            "Binary Number is: 000000011111010\n",
            "Decimal Number is: 250\n"
          ]
        }
      ]
    },
    {
      "cell_type": "markdown",
      "source": [
        "##Mutation"
      ],
      "metadata": {
        "id": "VbqpelepDrPl"
      }
    },
    {
      "cell_type": "code",
      "source": [
        "def mutation(seq, m_rate=0.3):\n",
        "  new_seq = []\n",
        "  for item in seq:\n",
        "    if np.random.randn() < m_rate:\n",
        "      item = 0 if item==1 else 0\n",
        "    new_seq.append(item)\n",
        "  return new_seq"
      ],
      "metadata": {
        "id": "oM2UrOeOR2hj"
      },
      "execution_count": 21,
      "outputs": []
    },
    {
      "cell_type": "code",
      "source": [
        "mutation(binary_list)"
      ],
      "metadata": {
        "colab": {
          "base_uri": "https://localhost:8080/"
        },
        "id": "veZ7HnTCSnAB",
        "outputId": "4b04c819-ab84-4d62-a107-452fc15ec65a"
      },
      "execution_count": 66,
      "outputs": [
        {
          "output_type": "execute_result",
          "data": {
            "text/plain": [
              "[0, 1, 0, 1, 0, 1, 0, 1, 0, 0, 0, 0, 0, 0, 0]"
            ]
          },
          "metadata": {},
          "execution_count": 66
        }
      ]
    },
    {
      "cell_type": "markdown",
      "source": [
        "##Crossover"
      ],
      "metadata": {
        "id": "1wetAwg5Vn8h"
      }
    },
    {
      "cell_type": "code",
      "source": [
        "seq1 = mutation(binary_list)\n",
        "seq2 = mutation(binary_list)\n",
        "\n",
        "print(seq2str(seq1))\n",
        "print(seq2str(seq2))\n",
        "print('\\n')\n",
        "print(seq2str(seq1[:5] + seq2[5+1:]))\n",
        "print(seq2str(seq2[:5] + seq1[5+1:]))\n",
        "\n",
        "np.random.randint(0, 10, 3)"
      ],
      "metadata": {
        "colab": {
          "base_uri": "https://localhost:8080/"
        },
        "id": "J4OSghuoWrnI",
        "outputId": "4d7763c9-3e85-480b-81c6-00849ee78726"
      },
      "execution_count": 49,
      "outputs": [
        {
          "output_type": "stream",
          "name": "stdout",
          "text": [
            "010001000000000\n",
            "000111100000000\n",
            "\n",
            "\n",
            "01000100000000\n",
            "00011000000000\n"
          ]
        },
        {
          "output_type": "execute_result",
          "data": {
            "text/plain": [
              "array([7, 0, 0])"
            ]
          },
          "metadata": {},
          "execution_count": 49
        }
      ]
    },
    {
      "cell_type": "code",
      "source": [
        "num = 2\n",
        "p = np.random.rand(len(seq1))\n",
        "# print(p)\n",
        "p\n",
        "# rand_ind = np.random.choice(seq1, replace=False, p=p)"
      ],
      "metadata": {
        "colab": {
          "base_uri": "https://localhost:8080/"
        },
        "id": "ntaYOGWIlOVr",
        "outputId": "6e1b68ad-4240-4f98-a053-e859b3e91e88"
      },
      "execution_count": 108,
      "outputs": [
        {
          "output_type": "execute_result",
          "data": {
            "text/plain": [
              "array([0.05737352, 0.58139386, 0.55918877, 0.16270399, 0.00640151,\n",
              "       0.92258685, 0.25367614, 0.41057418, 0.54831335, 0.06128373,\n",
              "       0.29733657, 0.38072504, 0.49563232, 0.23372005, 0.71307172])"
            ]
          },
          "metadata": {},
          "execution_count": 108
        }
      ]
    },
    {
      "cell_type": "code",
      "source": [
        "def uniform_crossover(seq1, seq2, rate=0.2):\n",
        "  new_seq1, new_seq2 = [], []\n",
        "  for id, rand in enumerate(np.random.rand(len(seq1))):\n",
        "    if rand < rate:\n",
        "      new_seq1.append(seq1[id])\n",
        "      new_seq2.append(seq2[id])\n",
        "    else:\n",
        "      new_seq1.append(seq2[id])\n",
        "      new_seq2.append(seq1[id])\n",
        "\n",
        "  return new_seq1, new_seq2"
      ],
      "metadata": {
        "id": "G1RphSxkSrK6"
      },
      "execution_count": 114,
      "outputs": []
    },
    {
      "cell_type": "code",
      "source": [
        "seq1 = [0, 0, 0, 0, 0, 1, 0, 0, 0, 0, 0, 0, 0, 0, 0]\n",
        "seq2 = [0, 1, 0, 1, 0, 0, 1, 0, 1, 0, 1, 0, 0, 0, 0]\n",
        "\n",
        "new_seq1, new_seq2 = uniform_crossover(seq1, seq2, 0.5)\n",
        "\n",
        "print(seq2str(seq1))\n",
        "print(seq2str(seq2))\n",
        "print('\\n')\n",
        "print(seq2str(new_seq1))\n",
        "print(seq2str(new_seq2))"
      ],
      "metadata": {
        "colab": {
          "base_uri": "https://localhost:8080/"
        },
        "id": "RQI_GdkVbjkA",
        "outputId": "4981b90f-ee87-47eb-fbd8-b9655218ee91"
      },
      "execution_count": 116,
      "outputs": [
        {
          "output_type": "stream",
          "name": "stdout",
          "text": [
            "000001000000000\n",
            "010100101010000\n",
            "\n",
            "\n",
            "000100100010000\n",
            "010001001000000\n"
          ]
        }
      ]
    },
    {
      "cell_type": "markdown",
      "source": [
        "#Real Numbers"
      ],
      "metadata": {
        "id": "f_tGg5dytkUc"
      }
    },
    {
      "cell_type": "markdown",
      "source": [
        "uniform_mutation"
      ],
      "metadata": {
        "id": "fn4llQeyt25z"
      }
    },
    {
      "cell_type": "code",
      "source": [
        "# def uniform_mutation(seq):\n",
        "#   return np.random.randn()\n",
        "\n",
        "np.random.rand(4)"
      ],
      "metadata": {
        "colab": {
          "base_uri": "https://localhost:8080/"
        },
        "id": "hZ97nFN_cHbf",
        "outputId": "e8dd398f-9866-4828-eae3-f1ad93d4022b"
      },
      "execution_count": 119,
      "outputs": [
        {
          "output_type": "execute_result",
          "data": {
            "text/plain": [
              "array([0.23002775, 0.60077482, 0.79621741, 0.81557445])"
            ]
          },
          "metadata": {},
          "execution_count": 119
        }
      ]
    }
  ]
}