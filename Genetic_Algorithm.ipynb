{
  "nbformat": 4,
  "nbformat_minor": 0,
  "metadata": {
    "colab": {
      "provenance": [],
      "authorship_tag": "ABX9TyPJyDiMHlEjDtuhwJmVGp9O",
      "include_colab_link": true
    },
    "kernelspec": {
      "name": "python3",
      "display_name": "Python 3"
    },
    "language_info": {
      "name": "python"
    }
  },
  "cells": [
    {
      "cell_type": "markdown",
      "metadata": {
        "id": "view-in-github",
        "colab_type": "text"
      },
      "source": [
        "<a href=\"https://colab.research.google.com/github/mralamdari/Python-Projects/blob/main/Genetic_Algorithm.ipynb\" target=\"_parent\"><img src=\"https://colab.research.google.com/assets/colab-badge.svg\" alt=\"Open In Colab\"/></a>"
      ]
    },
    {
      "cell_type": "markdown",
      "source": [
        "Integer to Binary"
      ],
      "metadata": {
        "id": "pzEJf5e2AXW9"
      }
    },
    {
      "cell_type": "code",
      "source": [
        "def int2bin(number, bit_size):\n",
        "  binary_list = []\n",
        "  while bit_size>0:\n",
        "    bit_size -= 1\n",
        "    binary_list.append(number % 2)\n",
        "    number //= 2\n",
        "  binary_list.reverse()\n",
        "\n",
        "  binary_str = ''\n",
        "  for i in binary_list:\n",
        "    binary_str += f'{i}'\n",
        "\n",
        "  return binary_list, binary_str"
      ],
      "metadata": {
        "id": "khVvYSHVAHsP"
      },
      "execution_count": 15,
      "outputs": []
    },
    {
      "cell_type": "code",
      "source": [
        "# number = int(input('Enter a number:'))\n",
        "number = 250\n",
        "bit_size = 15\n",
        "\n",
        "binary_list, binary_str = int2bin(number, bit_size)\n",
        "print(\"Binary Equivalent is: \")\n",
        "print(binary_list)\n",
        "print(binary_str)"
      ],
      "metadata": {
        "colab": {
          "base_uri": "https://localhost:8080/"
        },
        "id": "uFM8AhVeEF_B",
        "outputId": "2531d963-9a87-400a-ea78-2467080a1cd1"
      },
      "execution_count": 16,
      "outputs": [
        {
          "output_type": "stream",
          "name": "stdout",
          "text": [
            "Binary Equivalent is: \n",
            "[0, 0, 0, 0, 0, 0, 0, 1, 1, 1, 1, 1, 0, 1, 0]\n",
            "000000011111010\n"
          ]
        }
      ]
    },
    {
      "cell_type": "markdown",
      "source": [],
      "metadata": {
        "id": "VbqpelepDrPl"
      }
    },
    {
      "cell_type": "code",
      "source": [],
      "metadata": {
        "id": "H2TJUTxRC-LY"
      },
      "execution_count": null,
      "outputs": []
    }
  ]
}