{
  "nbformat": 4,
  "nbformat_minor": 0,
  "metadata": {
    "colab": {
      "provenance": [],
      "collapsed_sections": [
        "EDeSiGsVxbgU",
        "j0dpcUuUxiB1",
        "2ym1b99Gx-G2",
        "oiQh5I6PyJyA",
        "ADC5SkEewsVd",
        "MSyjpSrrww_8",
        "bg3WHwSzytUY",
        "2fR1XQikvw0C",
        "p07v2hLDsQM8"
      ],
      "authorship_tag": "ABX9TyP6LDvJK2QNqkWaGYWAE0Jo",
      "include_colab_link": true
    },
    "kernelspec": {
      "name": "python3",
      "display_name": "Python 3"
    },
    "language_info": {
      "name": "python"
    }
  },
  "cells": [
    {
      "cell_type": "markdown",
      "metadata": {
        "id": "view-in-github",
        "colab_type": "text"
      },
      "source": [
        "<a href=\"https://colab.research.google.com/github/mralamdari/Python-Projects/blob/main/Robotics.ipynb\" target=\"_parent\"><img src=\"https://colab.research.google.com/assets/colab-badge.svg\" alt=\"Open In Colab\"/></a>"
      ]
    },
    {
      "cell_type": "markdown",
      "metadata": {
        "id": "EDeSiGsVxbgU"
      },
      "source": [
        "#Denavite Hartnzberg"
      ]
    },
    {
      "cell_type": "code",
      "metadata": {
        "id": "6Kpe01Yx-vNW"
      },
      "source": [
        "import numpy as np"
      ],
      "execution_count": null,
      "outputs": []
    },
    {
      "cell_type": "code",
      "metadata": {
        "id": "iNS8Rhm4CJiw"
      },
      "source": [
        "def DH(a, alpha_degree, d, theta_degree):\n",
        "  theta = np.deg2rad(theta_degree)\n",
        "  alpha = np.deg2rad(alpha_degree)\n",
        "  dh_table = np.array([[np.cos(theta), -np.cos(alpha)*np.sin(theta), np.sin(alpha)*np.sin(theta), a*np.cos(theta)],\n",
        "                      [np.sin(theta), np.cos(alpha)*np.cos(theta), -np.sin(alpha)*np.cos(theta), a*np.sin(theta)],\n",
        "                      [0 ,np.sin(alpha), np.cos(alpha), d],\n",
        "                      [0, 0, 0, 1]])\n",
        "  return np.float16(dh_table)"
      ],
      "execution_count": null,
      "outputs": []
    },
    {
      "cell_type": "code",
      "metadata": {
        "colab": {
          "base_uri": "https://localhost:8080/"
        },
        "id": "Ww8SSD2lxZ4_",
        "outputId": "f03f3147-4773-4cf2-bdf0-511e2e31b35c"
      },
      "source": [
        "a1 =DH(0, -90, -999, 0)\n",
        "a2 =DH(0, -90, -888, 90)\n",
        "a3 =DH(0, 0, -777, 0)\n",
        "\n",
        "s=np.dot(a1, a2)\n",
        "np.dot(s, a3)"
      ],
      "execution_count": null,
      "outputs": [
        {
          "output_type": "execute_result",
          "data": {
            "text/plain": [
              "array([[   0.,    0.,   -1.,  777.],\n",
              "       [   0.,   -1.,    0., -888.],\n",
              "       [  -1.,    0.,    0., -999.],\n",
              "       [   0.,    0.,    0.,    1.]], dtype=float16)"
            ]
          },
          "metadata": {},
          "execution_count": 10
        }
      ]
    },
    {
      "cell_type": "markdown",
      "metadata": {
        "id": "j0dpcUuUxiB1"
      },
      "source": [
        "#Forwarsd Synematic\n",
        "\n",
        "0, Scara\n",
        "\n",
        "1, manipulator\n",
        "\n",
        "2, cyliendrical\n",
        "\n",
        "3, stanford"
      ]
    },
    {
      "cell_type": "code",
      "metadata": {
        "id": "wpY16_tBFzqb"
      },
      "source": [
        "def forward_scara(a1, a2, d3, d4, theta_1, theta_2, theta_4):\n",
        "  A01 = DH(a1, 0, 0, theta_1)\n",
        "  A12 = DH(a2, 180, 0, theta_2)\n",
        "  A23 = DH(0, 0, d3, 0)\n",
        "  A34 = DH(0, 0, d4, theta_4)\n",
        "\n",
        "  T40 = np.matmul(np.matmul(A01, A12), np.matmul(A23,A34))\n",
        "  return np.float16(T40)"
      ],
      "execution_count": null,
      "outputs": []
    },
    {
      "cell_type": "code",
      "metadata": {
        "id": "i6U44NLBK-Re"
      },
      "source": [
        "def forward_manipulator(a1, a2, theta_1, theta_2):\n",
        "  A01 = DH(a1, 0, 0, theta_1)\n",
        "  A12 = DH(a2, 0, 0, theta_2)\n",
        "\n",
        "  T20 = np.matmul(A01, A12)\n",
        "  return np.float16(T20)"
      ],
      "execution_count": null,
      "outputs": []
    },
    {
      "cell_type": "code",
      "metadata": {
        "id": "5aYy_AvwTnil"
      },
      "source": [
        "def forward_cylindrical(alpha_2, d1, d2, d3, theta_1):\n",
        "  A01 = DH(0, 0, d1, theta_1)\n",
        "  A12 = DH(0, alpha_2, d2, 0)\n",
        "  A23 = DH(0, 0, d3, 0)\n",
        "\n",
        "  T30 = np.matmul(np.matmul(A01, A12), A23)\n",
        "  return np.float16(T30)"
      ],
      "execution_count": null,
      "outputs": []
    },
    {
      "cell_type": "code",
      "metadata": {
        "id": "NI1eiNt5q9em"
      },
      "source": [
        "def forward_stanford(d2, d3, theta_1, theta_2):\n",
        "  A01 = DH(0, -90, 0, theta_1)\n",
        "  A12 = DH(0, 90, d2, theta_2)\n",
        "  A23 = DH(0, 0, d3, 0)\n",
        "\n",
        "  T30 = np.matmul(np.matmul(A01, A12), A23)\n",
        "  return np.float16(T30)"
      ],
      "execution_count": null,
      "outputs": []
    },
    {
      "cell_type": "code",
      "metadata": {
        "id": "iKPyjn76d7_q"
      },
      "source": [
        "def wrist(alpha_4, alpha_5, d6, theta_4, theta_5, theta_6):\n",
        "  A34 = DH(0, -90, 0, theta_4)\n",
        "  A45 = DH(0, 90, 0, theta_5)\n",
        "  A56 = DH(0, 0, d6, theta_6)\n",
        "\n",
        "  T63 = np.matmul(np.matmul(A34, A45), A56)\n",
        "  return np.float16(T63)"
      ],
      "execution_count": null,
      "outputs": []
    },
    {
      "cell_type": "code",
      "metadata": {
        "id": "l-K7fr783uN5"
      },
      "source": [
        "def forward_robotic(point, num=0, wist=False, a1=0, a2=0, a3=0, a4=0, a5=0, a6=0, alpha_1=0, alpha_2=0, alpha_3=0, alpha_4=0, alpha_5=0, alpha_6=0,  d1=0, d2=0, d3=0, d4=0, d5=0, d6=0, theta_1=0, theta_2=0, theta_3=0, theta_4=0, theta_5=0, theta_6=0):\n",
        "  \n",
        "  \n",
        "  point=np.array(point).reshape(-1, 1)\n",
        "  if num == 0:\n",
        "    T0_3 = forward_scara(a1, a2, d3, d4, theta_1, theta_2, theta_4)\n",
        "  elif num == 1:  \n",
        "    T0_3 = forward_manipulator(a1, a2, theta_1, theta_2)\n",
        "  elif num == 2:  \n",
        "    T0_3 =  forward_cylindrical(alpha_2, d1, d2, d3, theta_1)\n",
        "  else:  \n",
        "    T0_3 = forward_stanford(d2, d3, theta_1, theta_2)\n",
        "\n",
        "  if wist:\n",
        "    T3_6 = wrist(alpha_4, alpha_5, d6, theta_4, theta_5, theta_6)\n",
        "    T = np.matmul(T0_3, T3_6)\n",
        "  else:\n",
        "    T = T0_3\n",
        "\n",
        "  R = T[:-1, :-1]\n",
        "  d = T[:-1, -1].reshape(-1, 1)  \n",
        "  res = np.matmul(R, point) + d\n",
        "\n",
        "  return res.T[0]"
      ],
      "execution_count": null,
      "outputs": []
    },
    {
      "cell_type": "code",
      "metadata": {
        "colab": {
          "base_uri": "https://localhost:8080/"
        },
        "id": "RIqyd4_tt3O4",
        "outputId": "0ed9b9bf-caf2-4472-a5fe-16d570697472"
      },
      "source": [
        "forward_robotic([12,23,53], num=3, wist=True, a1=2, a2=2,d1=20,d2=40, d3=30,d4=10 , theta_1=60, theta_2=-180, theta_4=25)"
      ],
      "execution_count": null,
      "outputs": [
        {
          "output_type": "execute_result",
          "data": {
            "text/plain": [
              "array([-57.68408203,  31.95996094, -83.        ])"
            ]
          },
          "metadata": {},
          "execution_count": 10
        }
      ]
    },
    {
      "cell_type": "markdown",
      "metadata": {
        "id": "2ym1b99Gx-G2"
      },
      "source": [
        "#Tabdils and Rotations\n",
        "R_x, R_y, R_z\n",
        "\n",
        "T_x, T_y, T_z"
      ]
    },
    {
      "cell_type": "code",
      "metadata": {
        "id": "vRO76MoxwvuB"
      },
      "source": [
        "def T_x(a):\n",
        "  TX = np.array([[1, 0, 0, a],\n",
        "                 [0, 1, 0, 0],\n",
        "                 [0, 0, 1, 0],\n",
        "                 [0, 0, 0, 1]])\n",
        "  return TX"
      ],
      "execution_count": null,
      "outputs": []
    },
    {
      "cell_type": "code",
      "metadata": {
        "id": "UskcXHWHk6G-"
      },
      "source": [
        "def T_y(b):\n",
        "  TY = np.array([[1, 0, 0, 0],\n",
        "                 [0, 1, 0, b],\n",
        "                 [0, 0, 1, 0],\n",
        "                 [0, 0, 0, 1]])\n",
        "  return TY"
      ],
      "execution_count": null,
      "outputs": []
    },
    {
      "cell_type": "code",
      "metadata": {
        "id": "K-VPFudNls2T"
      },
      "source": [
        "def T_z(c):\n",
        "  TZ = np.array([[1, 0, 0, 0],\n",
        "                 [0, 1, 0, 0],\n",
        "                 [0, 0, 1, c],\n",
        "                 [0, 0, 0, 1]])\n",
        "  return TZ"
      ],
      "execution_count": null,
      "outputs": []
    },
    {
      "cell_type": "code",
      "metadata": {
        "id": "H7Zmjrz4l3E4"
      },
      "source": [
        "def R_x(alpha):\n",
        "  alpha = np.deg2rad(alpha)\n",
        "  RX = np.array([[1, 0, 0, 0],\n",
        "                 [0, np.cos(alpha), -np.sin(alpha), 0],\n",
        "                 [0, np.sin(alpha), np.cos(alpha), 0],\n",
        "                 [0, 0, 0, 1]])\n",
        "  return np.float16(RX)  "
      ],
      "execution_count": null,
      "outputs": []
    },
    {
      "cell_type": "code",
      "metadata": {
        "id": "t3RmXrrMmVs0"
      },
      "source": [
        "def R_y(betha):\n",
        "  betha = np.deg2rad(betha)\n",
        "  RY = np.array([[np.cos(betha), 0, np.sin(betha), 0],\n",
        "                 [0, 1, 0, 0],\n",
        "                 [-np.sin(betha), 0, np.cos(betha), 0],\n",
        "                 [0, 0, 0, 1]])\n",
        "  return np.float16(RY)"
      ],
      "execution_count": null,
      "outputs": []
    },
    {
      "cell_type": "code",
      "metadata": {
        "id": "hs8JMNP1m4Xp"
      },
      "source": [
        "def R_z(gamma):\n",
        "  gamma = np.deg2rad(gamma)\n",
        "  RZ = np.array([[np.cos(gamma), -np.sin(gamma), 0, 0],\n",
        "                 [np.sin(gamma), np.cos(gamma), 0, 0],\n",
        "                 [0, 0, 1, 0],\n",
        "                 [0, 0, 0, 1]])\n",
        "  return np.float16(RZ)  "
      ],
      "execution_count": null,
      "outputs": []
    },
    {
      "cell_type": "code",
      "metadata": {
        "colab": {
          "base_uri": "https://localhost:8080/"
        },
        "id": "IBkfMnEhyi4b",
        "outputId": "e6fbbe28-14b2-47a5-dc39-65c7426e935c"
      },
      "source": [
        "np.dot(np.dot(R_z(90),R_y(0)), R_z(45))"
      ],
      "execution_count": null,
      "outputs": [
        {
          "output_type": "execute_result",
          "data": {
            "text/plain": [
              "array([[-0.707, -0.707,  0.   ,  0.   ],\n",
              "       [ 0.707, -0.707,  0.   ,  0.   ],\n",
              "       [ 0.   ,  0.   ,  1.   ,  0.   ],\n",
              "       [ 0.   ,  0.   ,  0.   ,  1.   ]], dtype=float16)"
            ]
          },
          "metadata": {},
          "execution_count": 17
        }
      ]
    },
    {
      "cell_type": "markdown",
      "metadata": {
        "id": "oiQh5I6PyJyA"
      },
      "source": [
        "#Inverse Synematic\n",
        "\n",
        "0, Scara\n",
        "\n",
        "1, RRR\n",
        "\n",
        "2, stanford"
      ]
    },
    {
      "cell_type": "code",
      "metadata": {
        "id": "O6IULOJrfVPM"
      },
      "source": [
        "def inverse_stanford(x, y, z, a2, a3, d1=0, left=True):\n",
        "  if left:\n",
        "    alpha = np.arctan2(x, y)\n",
        "    beta = np.arctan2(-np.sqrt(np.abs(x**2 + y**2 - d1**2)), -d1)\n",
        "    theta1 = alpha + beta\n",
        "  else: \n",
        "    alpha = np.arctan2(x, y)\n",
        "    beta = np.arctan2(np.sqrt(np.abs(x**2 + y**2 - d1**2)), d1)\n",
        "    theta1 = alpha - beta\n",
        "\n",
        "  theta2 = np.arctan2(x**2 + y**2, z-d1)\n",
        "  D3 = np.sqrt(np.abs(x**2 + y**2 + (z-d1)**2))\n",
        "  return theta1, theta2, D3"
      ],
      "execution_count": null,
      "outputs": []
    },
    {
      "cell_type": "code",
      "metadata": {
        "colab": {
          "base_uri": "https://localhost:8080/"
        },
        "id": "ACzkntBZb0Fv",
        "outputId": "3d6eea31-f745-45a6-e354-26b9997f3431"
      },
      "source": [
        "forward_stanford(d2=1, d3=2, theta_1=30, theta_2=45)\n",
        "np.arctan2(3, 1)"
      ],
      "execution_count": null,
      "outputs": [
        {
          "output_type": "execute_result",
          "data": {
            "text/plain": [
              "1.2490457723982544"
            ]
          },
          "metadata": {},
          "execution_count": 19
        }
      ]
    },
    {
      "cell_type": "code",
      "metadata": {
        "id": "Q9_rvGQidGPJ"
      },
      "source": [
        "def inverse_rrr(x, y, z, a2, a3, d1=0, left=True):\n",
        "  if left:\n",
        "    alpha = np.arctan2(x, y)\n",
        "    beta = np.arctan2(-np.sqrt(np.abs(x**2 + y**2 - d1**2)), -d1)\n",
        "    theta1 = alpha + beta\n",
        "  else: \n",
        "    alpha = np.arctan2(x, y)\n",
        "    beta = np.arctan2(np.sqrt(x**2 + y**2 - d1**2), d1)\n",
        "    theta1 = alpha - beta\n",
        "\n",
        "  D = (x**2 + y**2 - d1**2 + (z-d1)**2 - a2**2 - a3**2) / 2*a2*a3\n",
        "  theta3 = np.arctan2(D, -np.sqrt(np.abs(1 - D**2)))\n",
        "  theta2 = np.arctan2(np.sqrt(np.abs(x**2 + y**2 - d1**2)), z-d1) - np.arctan2(a2+a3*np.cos(theta3), a3*np.sin(theta3))\n",
        "  return theta1, theta2, theta3"
      ],
      "execution_count": null,
      "outputs": []
    },
    {
      "cell_type": "code",
      "metadata": {
        "id": "-ir_0cBzKtue"
      },
      "source": [
        "def inverse_scara(x, y, z, d4, a1, a2, RR):\n",
        "  theta2 = np.arccos((x**2 + y**2 - a1**2-a2**2)/(2*a1*a2))\n",
        "  theta1 = np.arctan2(y, x) - np.arctan2(a2*np.sin(theta2), a1 + a2*np.cos(theta2))\n",
        "  D3 = -z - d4\n",
        "  theta4 = theta1 + theta2 - np.arctan2(RR[0][0], RR[0][1])\n",
        "  return theta1, theta2, theta4"
      ],
      "execution_count": null,
      "outputs": []
    },
    {
      "cell_type": "code",
      "metadata": {
        "id": "0cLRCgPsWNko"
      },
      "source": [
        "def inverse_wrist(RR):\n",
        "  theta5_1 =  np.arctan2(RR[2][2], np.sqrt(np.abs(1 - RR[2][2]**2)))\n",
        "  theta5_2 =  np.arctan2(RR[2][2], -np.sqrt(np.abs(1 - RR[2][2]**2)))\n",
        "  if theta5_1 != 0 : # none_MONFARED\n",
        "    if np.sin(theta5_1)>0:\n",
        "      theta4_1 = np.arctan2(RR[0][2], RR[1][2])\n",
        "      theta6_1 = np.arctan2(RR[2][0], RR[2][1])\n",
        "      print(f\"\"\"\n",
        "      Theta4_1: {theta4_1},\n",
        "      Theta5_1: {theta5_1},\n",
        "      Theta6_1: {theta6_1}\"\"\")\n",
        "    if np.sin(theta5_2)<0:\n",
        "      theta4_2 = np.arctan2(-RR[0][2], -RR[1][2])\n",
        "      theta6_2 = np.arctan2(RR[2][0], -RR[2][1])\n",
        "      print(f\"\"\"\n",
        "      Theta4_2: {theta4_2},\n",
        "      Theta5_2: {theta5_2},\n",
        "      Theta6_2: {theta6_2}\"\"\")\n",
        "  else: \n",
        "    theta5 = 0\n",
        "    theta4 = (np.arctan2(RR[0][0], RR[1][0])+np.arctan2(RR[0][0], -RR[1][0]))/2\n",
        "    theta6 = theta4 - np.arctan2(RR[0][0], RR[1][0])\n",
        "    print(f\"\"\"\n",
        "      Theta4: {theta4},\n",
        "      Theta5: {theta5},\n",
        "      Theta6: {theta6}\"\"\")"
      ],
      "execution_count": null,
      "outputs": []
    },
    {
      "cell_type": "code",
      "metadata": {
        "id": "FBEx0Oa4f8QB"
      },
      "source": [
        "def inverse_robotic(x, y, z,RR=[], num=0, wist=False,left=True, a1=0, a2=0, a3=0, a4=0, a5=0, a6=0, d1=0, d2=0, d3=0, d4=0, d5=0, d6=0):\n",
        "\n",
        "  if num == 0:\n",
        "    T1, T2, T3 = inverse_scara(x, y, z, d4, a1, a2, RR)\n",
        "  elif num == 1:  \n",
        "    T1, T2, T3 = inverse_rrr(x, y, z, a2, a3, d1=0, left=True)\n",
        "  else:\n",
        "    T1, T2, T3 = inverse_stanford(x, y, z, a2, a3, d1=0, left=True)\n",
        "\n",
        "  if wist:\n",
        "    inverse_wrist(RR)\n",
        "\n",
        "  return [T1, T2, T3]"
      ],
      "execution_count": null,
      "outputs": []
    },
    {
      "cell_type": "code",
      "metadata": {
        "colab": {
          "base_uri": "https://localhost:8080/"
        },
        "id": "ThRszMARkWsG",
        "outputId": "a93bda29-95a9-48f6-fb41-062149657284"
      },
      "source": [
        "YT = np.array([[1, 1,3], [2,8,5],[4,7,9]])\n",
        "inverse_robotic(x=2, y=3, z=4, a2=5, a3=5,a1=2, num=0, d1=1, RR=YT, wist=False)"
      ],
      "execution_count": null,
      "outputs": [
        {
          "output_type": "execute_result",
          "data": {
            "text/plain": [
              "[-1.1760052070951348, 2.498091544796509, 0.5366881743039258]"
            ]
          },
          "metadata": {},
          "execution_count": 24
        }
      ]
    },
    {
      "cell_type": "code",
      "metadata": {
        "id": "-MgvUQD_klFl",
        "colab": {
          "base_uri": "https://localhost:8080/"
        },
        "outputId": "0f64435a-19ef-40f1-824a-742ff2585291"
      },
      "source": [
        "inverse_robotic(x=2, y=3, z=4, a2=5, a3=5, num=1, d1=4, left=True, wist=False)"
      ],
      "execution_count": null,
      "outputs": [
        {
          "output_type": "execute_result",
          "data": {
            "text/plain": [
              "[-0.982793723247329, -2.0153104341788657, -2.3561908620481042]"
            ]
          },
          "metadata": {},
          "execution_count": 25
        }
      ]
    },
    {
      "cell_type": "code",
      "metadata": {
        "colab": {
          "base_uri": "https://localhost:8080/"
        },
        "id": "GDYhQHzkzWBl",
        "outputId": "73dd756a-fb7d-4fad-bf54-002234409ccd"
      },
      "source": [
        "YT = np.array([[1, 1,3], [2,8,5],[4,7,9]])\n",
        "inverse_robotic(x=2, y=3, z=4, a2=5, a3=5, num=2, d1=0, left=False, wist=True, RR=YT)"
      ],
      "execution_count": null,
      "outputs": [
        {
          "output_type": "stream",
          "name": "stdout",
          "text": [
            "\n",
            "      Theta4_1: 0.5404195002705842,\n",
            "      Theta5_1: 0.7885037734282083,\n",
            "      Theta6_1: 0.5191461142465229\n"
          ]
        },
        {
          "output_type": "execute_result",
          "data": {
            "text/plain": [
              "[-0.982793723247329, 1.2722973952087173, 5.385164807134504]"
            ]
          },
          "metadata": {},
          "execution_count": 26
        }
      ]
    },
    {
      "cell_type": "markdown",
      "metadata": {
        "id": "ADC5SkEewsVd"
      },
      "source": [
        "#Determinan"
      ]
    },
    {
      "cell_type": "code",
      "metadata": {
        "colab": {
          "base_uri": "https://localhost:8080/"
        },
        "id": "lyLoRrrmakM8",
        "outputId": "57632c61-6fae-4823-8a70-feab5336bc00"
      },
      "source": [
        "np.linalg.det(np.int64(s))"
      ],
      "execution_count": null,
      "outputs": [
        {
          "output_type": "execute_result",
          "data": {
            "text/plain": [
              "1.0"
            ]
          },
          "metadata": {},
          "execution_count": 27
        }
      ]
    },
    {
      "cell_type": "markdown",
      "metadata": {
        "id": "MSyjpSrrww_8"
      },
      "source": [
        "#Inverse"
      ]
    },
    {
      "cell_type": "code",
      "metadata": {
        "colab": {
          "base_uri": "https://localhost:8080/"
        },
        "id": "EyAEj3Pjwlmd",
        "outputId": "9475d350-cff2-4286-94d1-2faafa19e0c4"
      },
      "source": [
        "np.linalg.inv(np.int64(s))"
      ],
      "execution_count": null,
      "outputs": [
        {
          "output_type": "execute_result",
          "data": {
            "text/plain": [
              "array([[  -0.,   -0.,   -1., -999.],\n",
              "       [  -0.,   -1.,   -0., -888.],\n",
              "       [  -1.,   -0.,   -0.,   -0.],\n",
              "       [   0.,    0.,    0.,    1.]])"
            ]
          },
          "metadata": {},
          "execution_count": 28
        }
      ]
    },
    {
      "cell_type": "markdown",
      "metadata": {
        "id": "bg3WHwSzytUY"
      },
      "source": [
        "#Test"
      ]
    },
    {
      "cell_type": "code",
      "metadata": {
        "colab": {
          "base_uri": "https://localhost:8080/"
        },
        "id": "mowLlFRlw5cT",
        "outputId": "ee37ca3d-0aef-46f3-816e-c0dc669d9589"
      },
      "source": [
        "z = np.dot(np.dot(R_z(30),R_x(60)), R_y(90))\n",
        "z\n",
        "# R_y(90)\n",
        "# np.arccos(-0.5)"
      ],
      "execution_count": null,
      "outputs": [
        {
          "output_type": "execute_result",
          "data": {
            "text/plain": [
              "array([[-0.433 , -0.25  ,  0.866 ,  0.    ],\n",
              "       [ 0.7505,  0.433 ,  0.5   ,  0.    ],\n",
              "       [-0.5   ,  0.866 ,  0.    ,  0.    ],\n",
              "       [ 0.    ,  0.    ,  0.    ,  1.    ]], dtype=float16)"
            ]
          },
          "metadata": {},
          "execution_count": 29
        }
      ]
    },
    {
      "cell_type": "code",
      "metadata": {
        "id": "xlx2uo5WzcCg",
        "colab": {
          "base_uri": "https://localhost:8080/"
        },
        "outputId": "06b4f16c-8a2e-4ff5-d1b7-e5833e17494b"
      },
      "source": [
        "# }a1 =DH(0, -90, -999, 0)\n",
        "# a2 =DH(0, -90, -888, 90)\n",
        "# a3 =DH(0, 0, -777, 0)\n",
        "\n",
        "# s=np.dot(a1, a2)\n",
        "# np.dot(s, a3)\n",
        "\n",
        "a1= DH(0,0,88, 99)\n",
        "a2=DH(0, -90, 44444, 0)\n",
        "np.dot(a1, a2)"
      ],
      "execution_count": null,
      "outputs": [
        {
          "output_type": "execute_result",
          "data": {
            "text/plain": [
              "array([[-1.565e-01,  0.000e+00, -9.878e-01,  0.000e+00],\n",
              "       [ 9.878e-01,  0.000e+00, -1.565e-01,  0.000e+00],\n",
              "       [ 0.000e+00, -1.000e+00,  0.000e+00,  4.454e+04],\n",
              "       [ 0.000e+00,  0.000e+00,  0.000e+00,  1.000e+00]], dtype=float16)"
            ]
          },
          "metadata": {},
          "execution_count": 21
        }
      ]
    },
    {
      "cell_type": "code",
      "source": [
        "a1"
      ],
      "metadata": {
        "id": "pNQqToizaWXE",
        "outputId": "381c08b1-059c-4877-dc1b-8a1643c7ff34",
        "colab": {
          "base_uri": "https://localhost:8080/"
        }
      },
      "execution_count": null,
      "outputs": [
        {
          "output_type": "execute_result",
          "data": {
            "text/plain": [
              "array([[-0.1565, -0.988 ,  0.    , -0.    ],\n",
              "       [ 0.988 , -0.1565,  0.    ,  0.    ],\n",
              "       [ 0.    ,  0.    ,  1.    , 88.    ],\n",
              "       [ 0.    ,  0.    ,  0.    ,  1.    ]], dtype=float16)"
            ]
          },
          "metadata": {},
          "execution_count": 22
        }
      ]
    },
    {
      "cell_type": "markdown",
      "metadata": {
        "id": "2Y2k2K0PB8d5"
      },
      "source": [
        "# Symbolic Matrix Product\n",
        "\n",
        "###SymPy is a Python library for symbolic mathematics. and is written in Python"
      ]
    },
    {
      "cell_type": "markdown",
      "metadata": {
        "id": "2fR1XQikvw0C"
      },
      "source": [
        "#Assignment 5"
      ]
    },
    {
      "cell_type": "code",
      "metadata": {
        "id": "UcFh_Z5jf8eK"
      },
      "source": [
        "import sympy\n",
        "import numpy as np\n",
        "\n",
        "def initialize_symbols(links_count=2):\n",
        "  symbol = ''\n",
        "  for v in 'm I l lc q dq u'.split():\n",
        "    for i in range(1, links_count + 1):\n",
        "      symbol += f'{v}_{i} '\n",
        "  symbol += 'g t'\n",
        "  return sympy.symbols(symbol, real=True)\n",
        "\n",
        "m_1, m_2, I_1, I_2, l_1, l_2, lc_1, lc_2, q_1, q_2, dq_1, dq_2, u_1, u_2, g, t = initialize_symbols(2)"
      ],
      "execution_count": null,
      "outputs": []
    },
    {
      "cell_type": "code",
      "metadata": {
        "colab": {
          "base_uri": "https://localhost:8080/",
          "height": 58
        },
        "id": "6cqC-9UfwNG2",
        "outputId": "cc20d261-22eb-468d-c9da-569eece66841"
      },
      "source": [
        "q = sympy.Matrix([q_1, q_2])\n",
        "dq = sympy.Matrix([dq_1, dq_2])\n",
        "\n",
        "R_1 = sympy.Matrix([[sympy.cos(q_1), -sympy.sin(q_1)],\n",
        "       [sympy.sin(q_1), sympy.cos(q_1)]])\n",
        "\n",
        "R_2 = sympy.Matrix([[sympy.cos(q_1 + q_2), -sympy.sin(q_1 + q_2)],\n",
        "       [sympy.sin(q_1 + q_2), sympy.cos(q_1 + q_2)]])       \n",
        "\n",
        "R_2"
      ],
      "execution_count": null,
      "outputs": [
        {
          "output_type": "execute_result",
          "data": {
            "text/latex": "$\\displaystyle \\left[\\begin{matrix}\\cos{\\left(q_{1} + q_{2} \\right)} & - \\sin{\\left(q_{1} + q_{2} \\right)}\\\\\\sin{\\left(q_{1} + q_{2} \\right)} & \\cos{\\left(q_{1} + q_{2} \\right)}\\end{matrix}\\right]$",
            "text/plain": [
              "Matrix([\n",
              "[cos(q_1 + q_2), -sin(q_1 + q_2)],\n",
              "[sin(q_1 + q_2),  cos(q_1 + q_2)]])"
            ]
          },
          "metadata": {},
          "execution_count": 32
        }
      ]
    },
    {
      "cell_type": "code",
      "metadata": {
        "colab": {
          "base_uri": "https://localhost:8080/",
          "height": 58
        },
        "id": "s6KlhLkX25nk",
        "outputId": "94ad85b1-3f0b-4e03-a31c-bdb9e99cc6b3"
      },
      "source": [
        "J_v_c1 = sympy.Matrix([[-lc_1 * sympy.sin(q_1), 0], \n",
        "          [lc_1 * sympy.cos(q_1), 0]])\n",
        "\n",
        "J_v_c2 = sympy.Matrix([[-l_1 * sympy.sin(q_1) - lc_2 * sympy.sin(q_1+q_2), -lc_2 * sympy.sin(q_1+q_2)],\n",
        "          [l_1 * sympy.cos(q_1) + lc_2 * sympy.cos(q_1+q_2), lc_2 * sympy.cos(q_1+q_2)]])\n",
        "       \n",
        "J_w_1 = sympy.Matrix([[1, 0], [0, 0]])\n",
        "J_w_2 = sympy.Matrix([[1, 1], [0, 0]])\n",
        "\n",
        "J_v_c2      "
      ],
      "execution_count": null,
      "outputs": [
        {
          "output_type": "execute_result",
          "data": {
            "text/latex": "$\\displaystyle \\left[\\begin{matrix}- l_{1} \\sin{\\left(q_{1} \\right)} - lc_{2} \\sin{\\left(q_{1} + q_{2} \\right)} & - lc_{2} \\sin{\\left(q_{1} + q_{2} \\right)}\\\\l_{1} \\cos{\\left(q_{1} \\right)} + lc_{2} \\cos{\\left(q_{1} + q_{2} \\right)} & lc_{2} \\cos{\\left(q_{1} + q_{2} \\right)}\\end{matrix}\\right]$",
            "text/plain": [
              "Matrix([\n",
              "[-l_1*sin(q_1) - lc_2*sin(q_1 + q_2), -lc_2*sin(q_1 + q_2)],\n",
              "[ l_1*cos(q_1) + lc_2*cos(q_1 + q_2),  lc_2*cos(q_1 + q_2)]])"
            ]
          },
          "metadata": {},
          "execution_count": 33
        }
      ]
    },
    {
      "cell_type": "code",
      "metadata": {
        "colab": {
          "base_uri": "https://localhost:8080/",
          "height": 80
        },
        "id": "GtAJ34OL64o9",
        "outputId": "78b42905-9cfd-4261-e905-e3d448b8935f"
      },
      "source": [
        "D = m_1 * J_v_c1.T * J_v_c1 + m_2 * J_v_c2.T * J_v_c2 + I_1 * J_w_1.T * J_w_1 + I_2 * J_w_2.T * J_w_2\n",
        "D"
      ],
      "execution_count": null,
      "outputs": [
        {
          "output_type": "execute_result",
          "data": {
            "text/latex": "$\\displaystyle \\left[\\begin{matrix}I_{1} + I_{2} + lc_{1}^{2} m_{1} \\sin^{2}{\\left(q_{1} \\right)} + lc_{1}^{2} m_{1} \\cos^{2}{\\left(q_{1} \\right)} + m_{2} \\left(- l_{1} \\sin{\\left(q_{1} \\right)} - lc_{2} \\sin{\\left(q_{1} + q_{2} \\right)}\\right)^{2} + m_{2} \\left(l_{1} \\cos{\\left(q_{1} \\right)} + lc_{2} \\cos{\\left(q_{1} + q_{2} \\right)}\\right)^{2} & I_{2} - lc_{2} m_{2} \\left(- l_{1} \\sin{\\left(q_{1} \\right)} - lc_{2} \\sin{\\left(q_{1} + q_{2} \\right)}\\right) \\sin{\\left(q_{1} + q_{2} \\right)} + lc_{2} m_{2} \\left(l_{1} \\cos{\\left(q_{1} \\right)} + lc_{2} \\cos{\\left(q_{1} + q_{2} \\right)}\\right) \\cos{\\left(q_{1} + q_{2} \\right)}\\\\I_{2} - lc_{2} m_{2} \\left(- l_{1} \\sin{\\left(q_{1} \\right)} - lc_{2} \\sin{\\left(q_{1} + q_{2} \\right)}\\right) \\sin{\\left(q_{1} + q_{2} \\right)} + lc_{2} m_{2} \\left(l_{1} \\cos{\\left(q_{1} \\right)} + lc_{2} \\cos{\\left(q_{1} + q_{2} \\right)}\\right) \\cos{\\left(q_{1} + q_{2} \\right)} & I_{2} + lc_{2}^{2} m_{2} \\sin^{2}{\\left(q_{1} + q_{2} \\right)} + lc_{2}^{2} m_{2} \\cos^{2}{\\left(q_{1} + q_{2} \\right)}\\end{matrix}\\right]$",
            "text/plain": [
              "Matrix([\n",
              "[I_1 + I_2 + lc_1**2*m_1*sin(q_1)**2 + lc_1**2*m_1*cos(q_1)**2 + m_2*(-l_1*sin(q_1) - lc_2*sin(q_1 + q_2))**2 + m_2*(l_1*cos(q_1) + lc_2*cos(q_1 + q_2))**2, I_2 - lc_2*m_2*(-l_1*sin(q_1) - lc_2*sin(q_1 + q_2))*sin(q_1 + q_2) + lc_2*m_2*(l_1*cos(q_1) + lc_2*cos(q_1 + q_2))*cos(q_1 + q_2)],\n",
              "[                        I_2 - lc_2*m_2*(-l_1*sin(q_1) - lc_2*sin(q_1 + q_2))*sin(q_1 + q_2) + lc_2*m_2*(l_1*cos(q_1) + lc_2*cos(q_1 + q_2))*cos(q_1 + q_2),                                                                I_2 + lc_2**2*m_2*sin(q_1 + q_2)**2 + lc_2**2*m_2*cos(q_1 + q_2)**2]])"
            ]
          },
          "metadata": {},
          "execution_count": 34
        }
      ]
    },
    {
      "cell_type": "code",
      "metadata": {
        "colab": {
          "base_uri": "https://localhost:8080/",
          "height": 78
        },
        "id": "uSCBxIz58X7R",
        "outputId": "b62198ee-dbc4-4bdc-9dd0-d90b02e400e6"
      },
      "source": [
        "n = max(q.shape)\n",
        "C = sympy.zeros(n)\n",
        "for k in range(n):\n",
        "  for j in range(n):\n",
        "    for i in range(n):\n",
        "      C[k, j] = C[k, j] + 0.5 * (sympy.diff(D[k, j], q[i]) + sympy.diff(D[k, i], q[j]) - sympy.diff(D[i, j], q[k])) * dq[i] \n",
        "\n",
        "C      "
      ],
      "execution_count": null,
      "outputs": [
        {
          "output_type": "execute_result",
          "data": {
            "text/latex": "$\\displaystyle \\left[\\begin{matrix}dq_{1} \\left(0.5 m_{2} \\left(- 2 l_{1} \\sin{\\left(q_{1} \\right)} - 2 lc_{2} \\sin{\\left(q_{1} + q_{2} \\right)}\\right) \\left(l_{1} \\cos{\\left(q_{1} \\right)} + lc_{2} \\cos{\\left(q_{1} + q_{2} \\right)}\\right) + 0.5 m_{2} \\left(- l_{1} \\sin{\\left(q_{1} \\right)} - lc_{2} \\sin{\\left(q_{1} + q_{2} \\right)}\\right) \\left(- 2 l_{1} \\cos{\\left(q_{1} \\right)} - 2 lc_{2} \\cos{\\left(q_{1} + q_{2} \\right)}\\right)\\right) + dq_{2} \\left(- 1.0 lc_{2} m_{2} \\left(- l_{1} \\sin{\\left(q_{1} \\right)} - lc_{2} \\sin{\\left(q_{1} + q_{2} \\right)}\\right) \\cos{\\left(q_{1} + q_{2} \\right)} - 1.0 lc_{2} m_{2} \\left(l_{1} \\cos{\\left(q_{1} \\right)} + lc_{2} \\cos{\\left(q_{1} + q_{2} \\right)}\\right) \\sin{\\left(q_{1} + q_{2} \\right)}\\right) & dq_{1} \\left(- 1.0 lc_{2} m_{2} \\left(- l_{1} \\sin{\\left(q_{1} \\right)} - lc_{2} \\sin{\\left(q_{1} + q_{2} \\right)}\\right) \\cos{\\left(q_{1} + q_{2} \\right)} - 1.0 lc_{2} m_{2} \\left(l_{1} \\cos{\\left(q_{1} \\right)} + lc_{2} \\cos{\\left(q_{1} + q_{2} \\right)}\\right) \\sin{\\left(q_{1} + q_{2} \\right)}\\right) + dq_{2} \\left(- 1.0 lc_{2} m_{2} \\left(- l_{1} \\sin{\\left(q_{1} \\right)} - lc_{2} \\sin{\\left(q_{1} + q_{2} \\right)}\\right) \\cos{\\left(q_{1} + q_{2} \\right)} - 1.0 lc_{2} m_{2} \\left(l_{1} \\cos{\\left(q_{1} \\right)} + lc_{2} \\cos{\\left(q_{1} + q_{2} \\right)}\\right) \\sin{\\left(q_{1} + q_{2} \\right)}\\right)\\\\dq_{1} \\left(1.0 lc_{2} m_{2} \\left(- l_{1} \\sin{\\left(q_{1} \\right)} - lc_{2} \\sin{\\left(q_{1} + q_{2} \\right)}\\right) \\cos{\\left(q_{1} + q_{2} \\right)} - 1.0 lc_{2} m_{2} \\left(- l_{1} \\cos{\\left(q_{1} \\right)} - lc_{2} \\cos{\\left(q_{1} + q_{2} \\right)}\\right) \\sin{\\left(q_{1} + q_{2} \\right)}\\right) & 0\\end{matrix}\\right]$",
            "text/plain": [
              "Matrix([\n",
              "[dq_1*(0.5*m_2*(-2*l_1*sin(q_1) - 2*lc_2*sin(q_1 + q_2))*(l_1*cos(q_1) + lc_2*cos(q_1 + q_2)) + 0.5*m_2*(-l_1*sin(q_1) - lc_2*sin(q_1 + q_2))*(-2*l_1*cos(q_1) - 2*lc_2*cos(q_1 + q_2))) + dq_2*(-1.0*lc_2*m_2*(-l_1*sin(q_1) - lc_2*sin(q_1 + q_2))*cos(q_1 + q_2) - 1.0*lc_2*m_2*(l_1*cos(q_1) + lc_2*cos(q_1 + q_2))*sin(q_1 + q_2)), dq_1*(-1.0*lc_2*m_2*(-l_1*sin(q_1) - lc_2*sin(q_1 + q_2))*cos(q_1 + q_2) - 1.0*lc_2*m_2*(l_1*cos(q_1) + lc_2*cos(q_1 + q_2))*sin(q_1 + q_2)) + dq_2*(-1.0*lc_2*m_2*(-l_1*sin(q_1) - lc_2*sin(q_1 + q_2))*cos(q_1 + q_2) - 1.0*lc_2*m_2*(l_1*cos(q_1) + lc_2*cos(q_1 + q_2))*sin(q_1 + q_2))],\n",
              "[                                                                                                                                                                                          dq_1*(1.0*lc_2*m_2*(-l_1*sin(q_1) - lc_2*sin(q_1 + q_2))*cos(q_1 + q_2) - 1.0*lc_2*m_2*(-l_1*cos(q_1) - lc_2*cos(q_1 + q_2))*sin(q_1 + q_2)),                                                                                                                                                                                                                                                                                           0]])"
            ]
          },
          "metadata": {},
          "execution_count": 35
        }
      ]
    },
    {
      "cell_type": "code",
      "metadata": {
        "colab": {
          "base_uri": "https://localhost:8080/",
          "height": 38
        },
        "id": "yF662CRcIRjN",
        "outputId": "bc095885-4c41-4bf9-815b-acec8d14d89e"
      },
      "source": [
        "p_1 = m_1 * g * lc_1 * sympy.sin(q_1)\n",
        "p_2 = m_2 * g * (l_1 * sympy.sin(q_1) + lc_2 * sympy.sin(q_1 + q_2))\n",
        "P = sympy.Matrix([p_1 + p_2])\n",
        "P"
      ],
      "execution_count": null,
      "outputs": [
        {
          "output_type": "execute_result",
          "data": {
            "text/latex": "$\\displaystyle \\left[\\begin{matrix}g lc_{1} m_{1} \\sin{\\left(q_{1} \\right)} + g m_{2} \\left(l_{1} \\sin{\\left(q_{1} \\right)} + lc_{2} \\sin{\\left(q_{1} + q_{2} \\right)}\\right)\\end{matrix}\\right]$",
            "text/plain": [
              "Matrix([[g*lc_1*m_1*sin(q_1) + g*m_2*(l_1*sin(q_1) + lc_2*sin(q_1 + q_2))]])"
            ]
          },
          "metadata": {},
          "execution_count": 36
        }
      ]
    },
    {
      "cell_type": "code",
      "metadata": {
        "colab": {
          "base_uri": "https://localhost:8080/",
          "height": 58
        },
        "id": "7mEW_fBm9OQW",
        "outputId": "47d8da9a-7925-4363-9337-3082403114aa"
      },
      "source": [
        "G = P.jacobian(q).T\n",
        "G"
      ],
      "execution_count": null,
      "outputs": [
        {
          "output_type": "execute_result",
          "data": {
            "text/latex": "$\\displaystyle \\left[\\begin{matrix}g lc_{1} m_{1} \\cos{\\left(q_{1} \\right)} + g m_{2} \\left(l_{1} \\cos{\\left(q_{1} \\right)} + lc_{2} \\cos{\\left(q_{1} + q_{2} \\right)}\\right)\\\\g lc_{2} m_{2} \\cos{\\left(q_{1} + q_{2} \\right)}\\end{matrix}\\right]$",
            "text/plain": [
              "Matrix([\n",
              "[g*lc_1*m_1*cos(q_1) + g*m_2*(l_1*cos(q_1) + lc_2*cos(q_1 + q_2))],\n",
              "[                                       g*lc_2*m_2*cos(q_1 + q_2)]])"
            ]
          },
          "metadata": {},
          "execution_count": 37
        }
      ]
    },
    {
      "cell_type": "code",
      "metadata": {
        "colab": {
          "base_uri": "https://localhost:8080/",
          "height": 121
        },
        "id": "2l2BHQYmX2dU",
        "outputId": "5564bdd9-9a3d-4432-c32d-dd529ae36c3c"
      },
      "source": [
        "x = sympy.Matrix([q, dq])\n",
        "f_x = sympy.Matrix([dq, -D.T * (C*dq + G)])\n",
        "g_x = sympy.Matrix([sympy.zeros(max(dq.shape)), D.T])\n",
        "g_x"
      ],
      "execution_count": null,
      "outputs": [
        {
          "output_type": "execute_result",
          "data": {
            "text/latex": "$\\displaystyle \\left[\\begin{matrix}0 & 0\\\\0 & 0\\\\I_{1} + I_{2} + lc_{1}^{2} m_{1} \\sin^{2}{\\left(q_{1} \\right)} + lc_{1}^{2} m_{1} \\cos^{2}{\\left(q_{1} \\right)} + m_{2} \\left(- l_{1} \\sin{\\left(q_{1} \\right)} - lc_{2} \\sin{\\left(q_{1} + q_{2} \\right)}\\right)^{2} + m_{2} \\left(l_{1} \\cos{\\left(q_{1} \\right)} + lc_{2} \\cos{\\left(q_{1} + q_{2} \\right)}\\right)^{2} & I_{2} - lc_{2} m_{2} \\left(- l_{1} \\sin{\\left(q_{1} \\right)} - lc_{2} \\sin{\\left(q_{1} + q_{2} \\right)}\\right) \\sin{\\left(q_{1} + q_{2} \\right)} + lc_{2} m_{2} \\left(l_{1} \\cos{\\left(q_{1} \\right)} + lc_{2} \\cos{\\left(q_{1} + q_{2} \\right)}\\right) \\cos{\\left(q_{1} + q_{2} \\right)}\\\\I_{2} - lc_{2} m_{2} \\left(- l_{1} \\sin{\\left(q_{1} \\right)} - lc_{2} \\sin{\\left(q_{1} + q_{2} \\right)}\\right) \\sin{\\left(q_{1} + q_{2} \\right)} + lc_{2} m_{2} \\left(l_{1} \\cos{\\left(q_{1} \\right)} + lc_{2} \\cos{\\left(q_{1} + q_{2} \\right)}\\right) \\cos{\\left(q_{1} + q_{2} \\right)} & I_{2} + lc_{2}^{2} m_{2} \\sin^{2}{\\left(q_{1} + q_{2} \\right)} + lc_{2}^{2} m_{2} \\cos^{2}{\\left(q_{1} + q_{2} \\right)}\\end{matrix}\\right]$",
            "text/plain": [
              "Matrix([\n",
              "[                                                                                                                                                         0,                                                                                                                                  0],\n",
              "[                                                                                                                                                         0,                                                                                                                                  0],\n",
              "[I_1 + I_2 + lc_1**2*m_1*sin(q_1)**2 + lc_1**2*m_1*cos(q_1)**2 + m_2*(-l_1*sin(q_1) - lc_2*sin(q_1 + q_2))**2 + m_2*(l_1*cos(q_1) + lc_2*cos(q_1 + q_2))**2, I_2 - lc_2*m_2*(-l_1*sin(q_1) - lc_2*sin(q_1 + q_2))*sin(q_1 + q_2) + lc_2*m_2*(l_1*cos(q_1) + lc_2*cos(q_1 + q_2))*cos(q_1 + q_2)],\n",
              "[                        I_2 - lc_2*m_2*(-l_1*sin(q_1) - lc_2*sin(q_1 + q_2))*sin(q_1 + q_2) + lc_2*m_2*(l_1*cos(q_1) + lc_2*cos(q_1 + q_2))*cos(q_1 + q_2),                                                                I_2 + lc_2**2*m_2*sin(q_1 + q_2)**2 + lc_2**2*m_2*cos(q_1 + q_2)**2]])"
            ]
          },
          "metadata": {},
          "execution_count": 38
        }
      ]
    },
    {
      "cell_type": "code",
      "metadata": {
        "id": "ZhHCVJIPLf1Y"
      },
      "source": [
        "def dynamics_terms(links_count=2, symbolic=True, *args):\n",
        "  m_1, m_2, I_1, I_2, l_1, l_2, lc_1, lc_2, q_1, q_2, dq_1, dq_2, u_1, u_2, g, t = initialize_symbols(links_count)\n",
        "  q = sympy.Matrix([q_1, q_2])\n",
        "  dq = sympy.Matrix([dq_1, dq_2])\n",
        "  u = sympy.Matrix([u_1, u_2])\n",
        "  R_1 = sympy.Matrix([[sympy.cos(q_1), -sympy.sin(q_1)],\n",
        "        [sympy.sin(q_1), sympy.cos(q_1)]])\n",
        "\n",
        "  R_2 = sympy.Matrix([[sympy.cos(q_1 + q_2), -sympy.sin(q_1 + q_2)],\n",
        "        [sympy.sin(q_1 + q_2), sympy.cos(q_1 + q_2)]])       \n",
        "\n",
        "  J_v_c1 = sympy.Matrix([[-lc_1 * sympy.sin(q_1), 0], \n",
        "            [lc_1 * sympy.cos(q_1), 0]])\n",
        "\n",
        "  J_v_c2 = sympy.Matrix([[-l_1 * sympy.sin(q_1) - lc_2 * sympy.sin(q_1+q_2), -lc_2 * sympy.sin(q_1+q_2)],\n",
        "            [l_1 * sympy.cos(q_1) + lc_2 * sympy.cos(q_1+q_2), lc_2 * sympy.cos(q_1+q_2)]])\n",
        "        \n",
        "  J_w_1 = sympy.Matrix([[1, 0], [0, 0]])\n",
        "  J_w_2 = sympy.Matrix([[1, 1], [0, 0]])\n",
        "\n",
        "  D = m_1 * J_v_c1.T * J_v_c1 + m_2 * J_v_c2.T * J_v_c2 + I_1 * J_w_1.T * J_w_1 + I_2 * J_w_2.T * J_w_2\n",
        "\n",
        "  n = max(q.shape)\n",
        "  C = sympy.zeros(n)\n",
        "  for k in range(n):\n",
        "    for j in range(n):\n",
        "      for i in range(n):\n",
        "        C[k, j] = C[k, j] + 0.5 * (sympy.diff(D[k, j], q[i]) + sympy.diff(D[k, i], q[j]) - sympy.diff(D[i, j], q[k])) * dq[i] \n",
        "  p_1 = m_1 * g * lc_1 * sympy.sin(q_1)\n",
        "  p_2 = m_2 * g * (l_1 * sympy.sin(q_1) + lc_2 * sympy.sin(q_1 + q_2))\n",
        "  P = sympy.Matrix([p_1 + p_2])\n",
        "\n",
        "  G = P.jacobian(q).T\n",
        "\n",
        "  # Open Loop Dynamics of the manipulator\n",
        "  x = sympy.Matrix([q, dq])\n",
        "  f_x = sympy.Matrix([dq, -D.T * (C*dq + G)])\n",
        "  g_x = sympy.Matrix([sympy.zeros(max(dq.shape)), D.T])\n",
        "  dx = f_x + g_x * u\n",
        "\n",
        "  if symbolic:\n",
        "    return D, C, G, x, dx\n",
        "  else: \n",
        "    return D.subs([(i, j) for i, j in zip([m_1, m_2, I_1, I_2, l_1, l_2, lc_1, lc_2, q_1, q_2, dq_1, dq_2, u_1, u_2, g], *args)]) , C.subs([(i, j) for i, j in zip([m_1, m_2, I_1, I_2, l_1, l_2, lc_1, lc_2, q_1, q_2, dq_1, dq_2, u_1, u_2, g], *args)])  , G.subs([(i, j) for i, j in zip([m_1, m_2, I_1, I_2, l_1, l_2, lc_1, lc_2, q_1, q_2, dq_1, dq_2, u_1, u_2, g], *args)]), x.subs([(i, j) for i, j in zip([m_1, m_2, I_1, I_2, l_1, l_2, lc_1, lc_2, q_1, q_2, dq_1, dq_2, u_1, u_2, g], *args)]), dx.subs([(i, j) for i, j in zip([m_1, m_2, I_1, I_2, l_1, l_2, lc_1, lc_2, q_1, q_2, dq_1, dq_2, u_1, u_2, g], *args)])  "
      ],
      "execution_count": null,
      "outputs": []
    },
    {
      "cell_type": "code",
      "metadata": {
        "colab": {
          "base_uri": "https://localhost:8080/"
        },
        "id": "LJVH7lfXTQUE",
        "outputId": "e29fc55e-3099-49d5-f464-190c39687f7b"
      },
      "source": [
        "res_d, res_c, res_g, res_x, res_dx = dynamics_terms(2, False, [1, 1, 0.25, 0.25, 0.25, 0.25, 0.5, 0.5, sympy.pi/3, sympy.pi/6, 1, 2, 3, 4, 10])\n",
        "print(res_d)\n",
        "print(res_c)\n",
        "print(res_g)\n",
        "print(res_x)\n",
        "print(res_dx)"
      ],
      "execution_count": null,
      "outputs": [
        {
          "output_type": "stream",
          "name": "stdout",
          "text": [
            "Matrix([[0.25*(-1 - 0.25*sqrt(3))**2 + 0.765625, 0.0625*sqrt(3) + 0.5], [0.0625*sqrt(3) + 0.5, 0.500000000000000]])\n",
            "Matrix([[-0.125000000000000, -0.187500000000000], [0.0625000000000000, 0]])\n",
            "Matrix([[3.75000000000000], [0]])\n",
            "Matrix([[pi/3], [pi/6], [1], [2]])\n",
            "Matrix([[1], [2], [-0.0625*(-1 - 0.25*sqrt(3))**2 + 0.24609375*sqrt(3) + 1.77734375], [1.84375 - 0.015625*sqrt(3)]])\n"
          ]
        }
      ]
    },
    {
      "cell_type": "markdown",
      "metadata": {
        "id": "p07v2hLDsQM8"
      },
      "source": [
        "#Regulation"
      ]
    },
    {
      "cell_type": "code",
      "metadata": {
        "id": "SxXmOAs0TT7i"
      },
      "source": [
        "def regulation(switch=0, links_count=2, symbolic=True, landa=2, disturbance= sympy.Matrix([0, 0]),q_d=[], k_p=0, k_d=0, k_i=0, args_list=[]):\n",
        "\n",
        "  q_1, q_2, dq_1, dq_2, u_1, u_2, t = sympy.symbols('q_1 q_2 dq_1 dq_2 u_1 u_2 t')\n",
        "  \n",
        "  D, C, G, _, _ = dynamics_terms(links_count, symbolic, args_list)\n",
        "\n",
        "  KP = k_p * sympy.eye(D.shape[0])\n",
        "  KD = k_d * sympy.eye(D.shape[0])\n",
        "  KI = k_i * sympy.eye(D.shape[0])\n",
        "\n",
        "  q = sympy.Matrix([q_1, q_2])\n",
        "  dq = sympy.Matrix([dq_1, dq_2])\n",
        "  u = sympy.Matrix([u_1, u_2])\n",
        "  \n",
        "  if switch == 0: # PD with Gravity Compensation\n",
        "\n",
        "    q_tilde = q - q_d\n",
        "    u = -KP * q_tilde - KD*dq + G\n",
        "\n",
        "  elif switch == 1: # Inverse Dynamics Controller\n",
        "\n",
        "    q_d = 0.5 * sympy.Matrix([sympy.sin(t), sympy.cos(t)])\n",
        "    d_q_d = sympy.diff(q_d, t)\n",
        "    dd_q_d = sympy.diff(d_q_d, t)\n",
        "    q_tilde = q - q_d\n",
        "\n",
        "    #v = dd_q_d + KD * (d_q_d - dq) + KP * (q_d - q) + KI / (q_d - q)\n",
        "    v = dd_q_d + KD * (d_q_d - dq) + KP * (q_d - q) + KI * sympy.integrate(q_d - q, t)\n",
        "    u = D * v + C * dq + G - disturbance\n",
        "\n",
        "  elif switch == 2: # the Lyapunov-based controler\n",
        "    \n",
        "    q_d = 0.5 * sympy.Matrix([sympy.sin(t), sympy.cos(t)])\n",
        "    d_q_d = sympy.diff(q_d, t)\n",
        "    A = landa * sympy.eye(max(q_d.shape))\n",
        "    q_hat = q - q_d\n",
        "    d_zeta = d_q_d - A * q_hat\n",
        "    dd_zeta = sympy.diff(d_zeta, t)\n",
        "    sigma = dq - d_zeta\n",
        "    d_hat = KI * sigma  \n",
        "    d_hat[0] = 0  \n",
        "    u = D * dd_zeta + C * d_zeta + G - KD * sigma - d_hat - disturbance\n",
        "\n",
        "  else: # discontinuous Lyapunov-based controller\n",
        "    \n",
        "    q_d = 0.5 * sympy.Matrix([sympy.sin(t), sympy.cos(t)])\n",
        "    d_q_d = sympy.diff(q_d, t)\n",
        "\n",
        "    A = landa * sympy.eye(max(q_d.shape))\n",
        "    q_hat = q - q_d\n",
        "    d_zeta = d_q_d - A * q_hat\n",
        "    dd_zeta = sympy.diff(d_zeta, t)\n",
        "    sigma = dq - d_zeta\n",
        "    d_hat = KI * sigma  \n",
        "    d_hat[0] = 0  \n",
        "\n",
        "    u = D * dd_zeta + C * d_zeta + G - KD * sigma/(sigma[0]**2 + sigma[1]**2) - disturbance\n",
        "\n",
        "\n",
        "  if symbolic:\n",
        "    return u\n",
        "  else: \n",
        "    return u.subs([(i, j) for i, j in zip([m_1, m_2, I_1, I_2, l_1, l_2, lc_1, lc_2, q_1, q_2, dq_1, dq_2, u_1, u_2, g], args_list)])"
      ],
      "execution_count": null,
      "outputs": []
    },
    {
      "cell_type": "code",
      "metadata": {
        "id": "TK4syzHoK1av",
        "colab": {
          "base_uri": "https://localhost:8080/",
          "height": 60
        },
        "outputId": "da92de43-7838-41d0-8d0a-f43da7e8ba4a"
      },
      "source": [
        "# 1\n",
        "values = [1, 1, 0.25, 0.25, 0.5, 0.5, 0.25, 0.25, sympy.pi/4, 0, 0, 0, 3, 4, 9.81, 0]\n",
        "\n",
        "# d = (0, 0)\n",
        "reg1_0 = regulation(switch=1, links_count=2, symbolic=False, q_d=sympy.Matrix([sympy.pi/3, sympy.pi/3]), k_p=21, k_d=12, k_i=10, landa=2, disturbance=sympy.Matrix([0, 0]), args_list=values)\n",
        "\n",
        "# d = (1, -1)\n",
        "reg1_1 = regulation(switch=1, links_count=2, symbolic=False, q_d=sympy.Matrix([sympy.pi/3, sympy.pi/3]), k_p=21, k_d=12, k_i=10, landa=2, disturbance=sympy.Matrix([1, -1]), args_list=values)\n",
        "\n",
        "reg1_0\n",
        "# reg1_1"
      ],
      "execution_count": null,
      "outputs": [
        {
          "output_type": "execute_result",
          "data": {
            "text/latex": "$\\displaystyle \\left[\\begin{matrix}- 2.8125 \\pi t + 10.8125 \\sin{\\left(t \\right)} + 5.5 \\cos{\\left(t \\right)} - 5.90625 \\pi + 4.905 \\sqrt{2}\\\\- 1.09375 \\pi t + 4.0625 \\sin{\\left(t \\right)} + 3.5625 \\cos{\\left(t \\right)} - 2.296875 \\pi + 1.22625 \\sqrt{2}\\end{matrix}\\right]$",
            "text/plain": [
              "Matrix([\n",
              "[      -2.8125*pi*t + 10.8125*sin(t) + 5.5*cos(t) - 5.90625*pi + 4.905*sqrt(2)],\n",
              "[-1.09375*pi*t + 4.0625*sin(t) + 3.5625*cos(t) - 2.296875*pi + 1.22625*sqrt(2)]])"
            ]
          },
          "metadata": {},
          "execution_count": 42
        }
      ]
    },
    {
      "cell_type": "code",
      "metadata": {
        "colab": {
          "base_uri": "https://localhost:8080/",
          "height": 60
        },
        "id": "jpIOWv6wVHgg",
        "outputId": "c9443696-677b-4b1b-bafc-c71985ef6294"
      },
      "source": [
        "# 2\n",
        "values = [1, 1, 0.25, 0.25, 0.5, 0.5, 0.25, 0.25, sympy.pi/4, 0, 0, 0, 3, 4, 9.81, 0]\n",
        "\n",
        "# d = (0, 0)\n",
        "reg2_0 = regulation(switch=2, links_count=2, symbolic=False, q_d=sympy.Matrix([sympy.pi/3, sympy.pi/3]), k_p=21, k_d=2, k_i=1, landa=2, disturbance=sympy.Matrix([0, 0]), args_list=values)\n",
        "\n",
        "# d = (1, -1)\n",
        "reg2_1 = regulation(switch=2, links_count=2, symbolic=False, q_d=sympy.Matrix([sympy.pi/3, sympy.pi/3]), k_p=21, k_d=2, k_i=1, landa=2, disturbance=sympy.Matrix([1, -1]), args_list=values)\n",
        "\n",
        "reg2_0\n",
        "# reg2_1"
      ],
      "execution_count": null,
      "outputs": [
        {
          "output_type": "execute_result",
          "data": {
            "text/latex": "$\\displaystyle \\left[\\begin{matrix}1.0 \\sin{\\left(t \\right)} + 1.90625 \\cos{\\left(t \\right)} - \\pi + 4.905 \\sqrt{2}\\\\- 2.03125 \\sin{\\left(t \\right)} + 3.28125 \\cos{\\left(t \\right)} + 1.22625 \\sqrt{2}\\end{matrix}\\right]$",
            "text/plain": [
              "Matrix([\n",
              "[  1.0*sin(t) + 1.90625*cos(t) - pi + 4.905*sqrt(2)],\n",
              "[-2.03125*sin(t) + 3.28125*cos(t) + 1.22625*sqrt(2)]])"
            ]
          },
          "metadata": {},
          "execution_count": 43
        }
      ]
    },
    {
      "cell_type": "code",
      "metadata": {
        "id": "S0PdDBFUunOI",
        "colab": {
          "base_uri": "https://localhost:8080/",
          "height": 71
        },
        "outputId": "62e5de3e-9bd4-40cc-c8d5-994946162e12"
      },
      "source": [
        "# 3 \n",
        "values = [1, 1, 0.25, 0.25, 0.5, 0.5, 0.25, 0.25, sympy.pi/4, 0, 0, 0, 3, 4, 9.81, 0]\n",
        "\n",
        "# d = (0, 0)\n",
        "reg3_0 = regulation(switch=3, links_count=2, symbolic=False, q_d=sympy.Matrix([sympy.pi/3, sympy.pi/3]), k_p=21, k_d=2, k_i=1, landa=2, disturbance=sympy.Matrix([0, 0]), args_list=values)\n",
        "\n",
        "# d = (1, -1)\n",
        "reg3_1 = regulation(switch=3, links_count=2, symbolic=False, q_d=sympy.Matrix([sympy.pi/3, sympy.pi/3]), k_p=21, k_d=2, k_i=1, landa=2, disturbance=sympy.Matrix([1, -1]), args_list=values)\n",
        "\n",
        "\n",
        "reg3_0\n",
        "# reg3_1"
      ],
      "execution_count": null,
      "outputs": [
        {
          "output_type": "execute_result",
          "data": {
            "text/latex": "$\\displaystyle \\left[\\begin{matrix}- 1.0 \\sin{\\left(t \\right)} + 0.90625 \\cos{\\left(t \\right)} + 4.905 \\sqrt{2} - \\frac{- 2.0 \\sin{\\left(t \\right)} - 1.0 \\cos{\\left(t \\right)} + \\pi}{1.0 \\left(0.5 \\sin{\\left(t \\right)} - \\cos{\\left(t \\right)}\\right)^{2} + 1.0 \\left(- \\sin{\\left(t \\right)} - 0.5 \\cos{\\left(t \\right)} + 0.5 \\pi\\right)^{2}}\\\\- 0.53125 \\sin{\\left(t \\right)} + 0.28125 \\cos{\\left(t \\right)} + 1.22625 \\sqrt{2} - \\frac{\\sin{\\left(t \\right)} - 2.0 \\cos{\\left(t \\right)}}{1.0 \\left(0.5 \\sin{\\left(t \\right)} - \\cos{\\left(t \\right)}\\right)^{2} + 1.0 \\left(- \\sin{\\left(t \\right)} - 0.5 \\cos{\\left(t \\right)} + 0.5 \\pi\\right)^{2}}\\end{matrix}\\right]$",
            "text/plain": [
              "Matrix([\n",
              "[-1.0*sin(t) + 0.90625*cos(t) + 4.905*sqrt(2) - (-2.0*sin(t) - 1.0*cos(t) + pi)/(1.0*(0.5*sin(t) - cos(t))**2 + 1.0*(-sin(t) - 0.5*cos(t) + 0.5*pi)**2)],\n",
              "[    -0.53125*sin(t) + 0.28125*cos(t) + 1.22625*sqrt(2) - (sin(t) - 2.0*cos(t))/(1.0*(0.5*sin(t) - cos(t))**2 + 1.0*(-sin(t) - 0.5*cos(t) + 0.5*pi)**2)]])"
            ]
          },
          "metadata": {},
          "execution_count": 44
        }
      ]
    },
    {
      "cell_type": "code",
      "metadata": {
        "id": "N8uglCSHKESa"
      },
      "source": [
        "# import matplotlib.pyplot as plt\n",
        "\n",
        "\n",
        "# arr=[]\n",
        "# for i in range(10):\n",
        "#   arr.append(reg3_0.subs('t', i)[0])\n",
        "\n",
        "\n",
        "# fig = plt.figure(figsize=(5, 5))\n",
        "# time_range = range(0, 10)\n",
        "# plt.plot(time_range, arr)"
      ],
      "execution_count": null,
      "outputs": []
    },
    {
      "cell_type": "markdown",
      "source": [
        "#Cubic & Quintic"
      ],
      "metadata": {
        "id": "QxvZS1O4_4LD"
      }
    },
    {
      "cell_type": "code",
      "source": [
        "import numpy as np\n",
        "import matplotlib.pyplot as plt\n",
        "import scipy"
      ],
      "metadata": {
        "id": "XEOnuzPoBgSb"
      },
      "execution_count": null,
      "outputs": []
    },
    {
      "cell_type": "code",
      "source": [
        "def cubic(start_p, end_p):\n",
        "  q0, v0, t0 = start_p\n",
        "  qf, vf, tf = end_p\n",
        "  M = np.array([[1, t0, t0**2, t0**3],\n",
        "                [0, 1, 2*t0, 3*t0**2],\n",
        "                [1, tf, tf**2, tf**3],\n",
        "                [0, 1, 2*tf, 3*tf**2]])\n",
        "  \n",
        "  initial_values = np.array([q0, v0, qf, vf]).reshape(-1, 1)\n",
        "  A = np.matmul(np.linalg.inv(M) , initial_values)\n",
        "\n",
        "  t = np.linspace(t0, tf, 100*(tf-t0))\n",
        "  o = np.ones(len(t))\n",
        "\n",
        "  q = A[0] * o + A[1] * t + A[2] * t**2 + A[3] * t**3\n",
        "  v = A[1] * o + 2 * A[2] * t + 3 * A[3] * t**2\n",
        "  a =  2 * A[2] * o + 6 * A[3] * t\n",
        "\n",
        "  return q, v, a, t"
      ],
      "metadata": {
        "id": "XBMAKxoy_7gS"
      },
      "execution_count": null,
      "outputs": []
    },
    {
      "cell_type": "code",
      "source": [
        "def quintic(start_p, end_p):\n",
        "  q0, v0, t0, alpha0 = start_p\n",
        "  qf, vf, tf, alphaf = end_p\n",
        "  M = np.array([[1, t0, t0**2, t0**3, t0**4, t0**5],\n",
        "                [0, 1, 2*t0, 3*t0**2, 4*t0**3, 5*t0**4],\n",
        "                [0, 0, 2, 6*t0, 12*t0**2, 20*t0**3],\n",
        "                [1, tf, tf**2, tf**3, tf**4, tf**5],\n",
        "                [0, 1, 2*tf, 3*tf**2, 4*tf**3, 5*tf**4],\n",
        "                [0, 0, 2, 6*tf, 12*tf**2, 20*tf**3]])\n",
        "  \n",
        "  initial_values = np.array([q0, v0, alpha0, qf, vf, alphaf]).reshape(-1, 1)\n",
        "  A = np.matmul(np.linalg.inv(M) , initial_values)\n",
        "\n",
        "  t = np.linspace(t0, tf, 100*(tf-t0))\n",
        "  o = np.ones(len(t))\n",
        "\n",
        "  q = A[0]*o + A[1]*t + A[2]*t**2 + A[3]*t**3 + A[4]*t**4 + A[5]*t**5 \n",
        "  v = A[1]*o + 2*A[2]*t + 3*A[3]*t**2 + 4*A[4]*t**3 + 5*A[5]*t**4 \n",
        "  a = 2*A[2]*o + 6*A[3]*t + 12*A[4]*t**2 + 20*A[5]*t**3 \n",
        "  \n",
        "  return q, v, a, t"
      ],
      "metadata": {
        "id": "xgogh7koGMeI"
      },
      "execution_count": null,
      "outputs": []
    },
    {
      "cell_type": "code",
      "source": [
        "def trajectory(q0=0, v0=0, alpha0=0, qf=1, vf=1, alphaf=1, t0=0, tf=1, swich=0, via=0):\n",
        "\n",
        "  # Initialization  \n",
        "  model = ['Cubic', 'Quintic']\n",
        "  via_list = [[]]*(via+2)\n",
        "  if not swich:  # Cubic\n",
        "    via_list[0] = [q0, v0, t0]\n",
        "    via_list[-1] = [qf, vf, tf]\n",
        "  else:          # Quintic\n",
        "    via_list[0] = [q0, v0, t0, alpha0]\n",
        "    via_list[-1] = [qf, vf, tf, alphaf]\n",
        "\n",
        "  # Via points \n",
        "  if via > 0:\n",
        "    print('Please Enter Inputs as A single point (q, v, t, alpha) ')\n",
        "  for j in range(via):\n",
        "    inputs = input(f'Please Enter Address {j+1}:\\n')\n",
        "    temp_via = list()\n",
        "    try:\n",
        "      for i in inputs.split():\n",
        "        temp_via.append(int(i))\n",
        "    except ValueError:\n",
        "      print('Please Enter only int numbers.')\n",
        "      return\n",
        "    if len(temp_via) != 4 and swich==1:\n",
        "      print('Please Enter The Right Number of elements.')\n",
        "      return\n",
        "    via_list[j+1] = temp_via\n",
        "  via_list = np.array(via_list)  \n",
        "\n",
        "  q, v, a, t = np.array([]), np.array([]), np.array([]), np.array([])\n",
        "  for r in range(via+1):\n",
        "    start_p = via_list[r]\n",
        "    end_p = via_list[r+1]\n",
        "    if not swich:  # Cubic\n",
        "      tq, tv, ta, tt = cubic(start_p, end_p)\n",
        "    else:          # Quintic\n",
        "      tq, tv, ta, tt = quintic(start_p, end_p)\n",
        "\n",
        "    # concatentate q, v, a, t with their ancestors\n",
        "    q = np.concatenate((q, tq))\n",
        "    v = np.concatenate((v, tv))\n",
        "    a = np.concatenate((a, ta))\n",
        "    t = np.concatenate((t, tt))  \n",
        "    \n",
        "  #Plot all three figures \n",
        "  fig = plt.figure(figsize=(15,5))\n",
        "  plt.subplot(1, 3, 1)\n",
        "  plt.title(f'{model[swich]} polynomial trajectory')\n",
        "  plt.plot(t, q)\n",
        "  plt.xlabel('time')\n",
        "  plt.legend('q')\n",
        "\n",
        "  plt.subplot(1, 3, 2)\n",
        "  plt.title(f'Velocity profile for {model[swich]} polynomial trajectory')\n",
        "  plt.plot(t, v)\n",
        "  plt.xlabel('time')\n",
        "  plt.legend('v')\n",
        "\n",
        "  plt.subplot(1, 3, 3)\n",
        "  plt.title(f'Acceleration profile for {model[swich]} polynomial trajectory')\n",
        "  plt.plot(t, a)\n",
        "  plt.xlabel('time')\n",
        "  plt.legend('a')\n",
        "\n",
        "  plt.show()\n",
        "\n",
        "  return q, v, a  "
      ],
      "metadata": {
        "id": "Ws5rYW3nZGgm"
      },
      "execution_count": null,
      "outputs": []
    },
    {
      "cell_type": "code",
      "source": [
        "Q,V,A = trajectory(q0=0, v0=10, alpha0=0, qf=100, vf=20, alphaf=10, t0=0, tf=10, swich=0, via=3)\n",
        "# 12 24 2\n",
        "# 54 100 4\n",
        "# 80 64 8"
      ],
      "metadata": {
        "colab": {
          "base_uri": "https://localhost:8080/",
          "height": 472
        },
        "id": "1pj9_QkRbHDf",
        "outputId": "da0343dc-78ca-40bf-f867-ea0daef3a932"
      },
      "execution_count": null,
      "outputs": [
        {
          "name": "stdout",
          "output_type": "stream",
          "text": [
            "Please Enter Inputs as A single point (q, v, t, alpha) \n",
            "Please Enter Address 1:\n",
            "12 24 2\n",
            "Please Enter Address 2:\n",
            "54 100 4\n",
            "Please Enter Address 3:\n",
            "80 64 8\n"
          ]
        },
        {
          "output_type": "display_data",
          "data": {
            "image/png": "[encoded data removed]",
            "text/plain": [
              "<Figure size 1080x360 with 3 Axes>"
            ]
          },
          "metadata": {
            "needs_background": "light"
          }
        }
      ]
    },
    {
      "cell_type": "code",
      "source": [
        "Q,V,A = trajectory(q0=0, v0=10, alpha0=0, qf=100, vf=20, alphaf=10, t0=0, tf=10, swich=1, via=3)\n",
        "# 12 24 2 1 \n",
        "# 54 100 4 3\n",
        "# 80 64 8 7"
      ],
      "metadata": {
        "id": "Z-BTGsP_BOxy",
        "colab": {
          "base_uri": "https://localhost:8080/",
          "height": 472
        },
        "outputId": "d66876ef-c33b-4b05-92b0-5d095e5d249a"
      },
      "execution_count": null,
      "outputs": [
        {
          "name": "stdout",
          "output_type": "stream",
          "text": [
            "Please Enter Inputs as A single point (q, v, t, alpha) \n",
            "Please Enter Address 1:\n",
            "12 24 2 1\n",
            "Please Enter Address 2:\n",
            "54 100 4 3\n",
            "Please Enter Address 3:\n",
            "80 64 8 7\n"
          ]
        },
        {
          "output_type": "display_data",
          "data": {
            "image/png": "[encoded data removed]",
            "text/plain": [
              "<Figure size 1080x360 with 3 Axes>"
            ]
          },
          "metadata": {
            "needs_background": "light"
          }
        }
      ]
    },
    {
      "cell_type": "markdown",
      "source": [
        "#PSO "
      ],
      "metadata": {
        "id": "Z9XLUUF5ooZe"
      }
    },
    {
      "cell_type": "code",
      "source": [
        "import scipy\n",
        "import numpy as np\n",
        "import matplotlib.pyplot as plt\n",
        "from scipy.interpolate import UnivariateSpline"
      ],
      "metadata": {
        "id": "0-chKEYffqZG"
      },
      "execution_count": null,
      "outputs": []
    },
    {
      "cell_type": "code",
      "source": [
        "def plot_result(via, xs, xt, ys, yt, position, obstacles):\n",
        "    x = np.concatenate([[xs], position[0], [xt]])\n",
        "    y = np.concatenate([[ys], position[1], [yt]])\n",
        "    ts = np.linspace(0, 1, via+2)\n",
        "    t = np.linspace(0, 1, 100)\n",
        "    spline_x = UnivariateSpline(ts, x)\n",
        "    spline_y = UnivariateSpline(ts, y)\n",
        "    \n",
        "    xx = spline_x(t)\n",
        "    yy = spline_y(t)\n",
        "\n",
        "    fig = plt.figure(figsize=(15,5))\n",
        "    plt.subplot(1, 3, 1)\n",
        "    plt.plot(xx, yy, 'b-', x, y, 'ro')\n",
        "    plt.xlabel('x')\n",
        "    plt.ylabel('y')\n",
        "    try:\n",
        "      circle1 = plt.Circle((obstacles[0][0], obstacles[0][1]), obstacles[0][2], color='r')\n",
        "      plt.gca().add_patch(circle1)\n",
        "      circle2 = plt.Circle((obstacles[1][0], obstacles[1][1]), obstacles[1][2], color='r')\n",
        "      plt.gca().add_patch(circle2)\n",
        "      circle3 = plt.Circle((obstacles[2][0], obstacles[2][1]), obstacles[2][2], color='r')\n",
        "      plt.gca().add_patch(circle3)\n",
        "      circle4 = plt.Circle((obstacles[3][0], obstacles[3][1]), obstacles[3][2], color='r')\n",
        "      plt.gca().add_patch(circle4)\n",
        "      circle5 = plt.Circle((obstacles[4][0], obstacles[4][1]), obstacles[4][2], color='r')\n",
        "      plt.gca().add_patch(circle5)\n",
        "    except IndexError:\n",
        "      pass\n",
        "\n",
        "\n",
        "    plt.subplot(1, 3, 2)\n",
        "    plt.plot(t, xx, 'b-', ts, x, 'ro')\n",
        "    plt.xlabel('time')\n",
        "    plt.legend('x')\n",
        "    try:\n",
        "      circle1 = plt.Circle((obstacles[0][0], obstacles[0][1]), obstacles[0][2], color='r')\n",
        "      plt.gca().add_patch(circle1)\n",
        "      circle2 = plt.Circle((obstacles[1][0], obstacles[1][1]), obstacles[1][2], color='r')\n",
        "      plt.gca().add_patch(circle2)\n",
        "      circle3 = plt.Circle((obstacles[2][0], obstacles[2][1]), obstacles[2][2], color='r')\n",
        "      plt.gca().add_patch(circle3)\n",
        "      circle4 = plt.Circle((obstacles[3][0], obstacles[3][1]), obstacles[3][2], color='r')\n",
        "      plt.gca().add_patch(circle4)\n",
        "      circle5 = plt.Circle((obstacles[4][0], obstacles[4][1]), obstacles[4][2], color='r')\n",
        "      plt.gca().add_patch(circle5)\n",
        "    except IndexError:\n",
        "      pass\n",
        "\n",
        "    plt.subplot(1, 3, 3)\n",
        "    plt.plot(t, yy, 'b-', ts, y, 'ro')\n",
        "    plt.xlabel('time')\n",
        "    plt.legend('y')\n",
        "    try:\n",
        "      circle1 = plt.Circle((obstacles[0][0], obstacles[0][1]), obstacles[0][2], color='r')\n",
        "      plt.gca().add_patch(circle1)\n",
        "      circle2 = plt.Circle((obstacles[1][0], obstacles[1][1]), obstacles[1][2], color='r')\n",
        "      plt.gca().add_patch(circle2)\n",
        "      circle3 = plt.Circle((obstacles[2][0], obstacles[2][1]), obstacles[2][2], color='r')\n",
        "      plt.gca().add_patch(circle3)\n",
        "      circle4 = plt.Circle((obstacles[3][0], obstacles[3][1]), obstacles[3][2], color='r')\n",
        "      plt.gca().add_patch(circle4)\n",
        "      circle5 = plt.Circle((obstacles[4][0], obstacles[4][1]), obstacles[4][2], color='r')\n",
        "      plt.gca().add_patch(circle5)\n",
        "    except IndexError:\n",
        "      pass\n",
        "    plt.show()"
      ],
      "metadata": {
        "id": "3Nw8II6-kE4O"
      },
      "execution_count": null,
      "outputs": []
    },
    {
      "cell_type": "code",
      "source": [
        "def fitness(position, obstacles):\n",
        "  \n",
        "  f1 = sum((np.diff(position[0]) **2 + np.diff(position[1])**2)**0.5)\n",
        "  obs = 0\n",
        "  for obstacle in obstacles:\n",
        "    x, y, r = obstacle\n",
        "    d = ((x - position[0][1:4])**2 + (y - position[1][1:4])**2)**0.5 \n",
        "    temp_v = np.maximum(1-d/r, 0)\n",
        "    v=np.mean(temp_v)\n",
        "    obs += v\n",
        "  return f1+ obs\n",
        "\n",
        "\n",
        "class Particle:\n",
        "  def __init__(self, via, xs, xt, ys, yt,xc, yc, r, xmin, xmax, ymin, ymax, particles_count, obstacles, seed):\n",
        "    \n",
        "    np.random.seed(seed)\n",
        "    via_x = sorted(np.random.uniform(xmin, xmax, via))\n",
        "    via_y = sorted(np.random.uniform(ymin, ymax, via))\n",
        "    x = np.concatenate([[xs], via_x, [xt]])\n",
        "    y = np.concatenate([[ys], via_y, [yt]])\n",
        "    ts = np.linspace(0, 1, via+2)\n",
        "    t = np.linspace(0, 1, particles_count)\n",
        "    spline_x = UnivariateSpline(ts, x)\n",
        "    spline_y = UnivariateSpline(ts, y)    \n",
        "    xx = spline_x(t)\n",
        "    yy = spline_y(t)\n",
        "\n",
        "    self.position = np.array([x, y])\n",
        "    self.velocity = np.zeros((2, via))\n",
        "    self.fitness = fitness(self.position, obstacles)\n",
        "    self.best_part_pos = self.position[:, 1:-1].copy()\n",
        "    self.best_part_fitnessVal = self.fitness # best fitness\n",
        "\n",
        "    if seed==0:\n",
        "      fig = plt.figure(figsize=(15,5))\n",
        "      plt.subplot(1, 3, 1)\n",
        "      plt.plot(xx, yy, 'b-', x, y, 'ro')\n",
        "      plt.xlabel('x')\n",
        "      plt.ylabel('y')\n",
        "\n",
        "      plt.subplot(1, 3, 2)\n",
        "      plt.plot(t, xx, 'b-', ts, x, 'ro')\n",
        "      plt.xlabel('time')\n",
        "      plt.legend('x')\n",
        "\n",
        "      plt.subplot(1, 3, 3)\n",
        "      plt.plot(t, yy, 'b-', ts, y, 'ro')\n",
        "      plt.xlabel('time')\n",
        "      plt.legend('y')\n",
        "\n",
        "      plt.show()\n",
        "\n",
        "    \n",
        "\n",
        "def pso(via, xs, xt, ys, yt,xc, yc, r, xmin, xmax, ymin, ymax, number_pop, max_iter, particles_count, obstacles):\n",
        "  # hyper parameters Inetialization\n",
        "  w = 0.729    # inertia\n",
        "  c1 = 1.49445 # cognitive (particle)\n",
        "  c2 = 1.49445 # social (swarm)\n",
        "  \n",
        "  xmin=xs\n",
        "  xmax=xt\n",
        "  ymin=ys\n",
        "  ymax=yt\n",
        "\n",
        "  velmax_x = 0.1 * (xmax - xmin)\n",
        "  velmin_x = 0.1 * (xmin - xmax)\n",
        " \n",
        "  velmax_y = 0.1 * (ymax - ymin)\n",
        "  velmin_y = 0.1 * (ymin - ymax)\n",
        " \n",
        "  # create n random particles\n",
        "  swarm = np.array([Particle(via, xs, xt, ys, yt,xc, yc, r ,xmin, xmax, ymin, ymax, particles_count, obstacles, i) for i in range(number_pop)])\n",
        "  best_swarm_pos = np.zeros(via, dtype=float)\n",
        "  best_swarm_fitnessVal=float('inf') #swarm best is the biggest number at first\n",
        "\n",
        "  # computer best particle of swarm and it's fitness\n",
        "  for i in range(number_pop): # check each particle\n",
        "    if swarm[i].fitness < best_swarm_fitnessVal:\n",
        "      best_swarm_fitnessVal = swarm[i].fitness\n",
        "      best_swarm_pos = swarm[i].position[:, 1:-1].copy()\n",
        " \n",
        "  # main loop of pso\n",
        "  Iter = 0\n",
        "  while Iter <= max_iter:\n",
        "\n",
        "    if Iter % 50 == 0:\n",
        "      print(f\"Iteration = {Iter}, best fitness : {round(best_swarm_fitnessVal, 4)}\")\n",
        "\n",
        "    Iter += 1\n",
        "    for i in range(number_pop): \n",
        "\n",
        "      ############################### X Part\n",
        "      r1, r2 = np.random.rand(via), np.random.rand(via)   \n",
        "      swarm[i].velocity[0] = ((w * swarm[i].velocity[0]) +\n",
        "                                (c1 * r1 * (swarm[i].best_part_pos[0] - swarm[i].position[0][1:-1])) + \n",
        "                                (c2 * r2 * (best_swarm_pos[0] - swarm[i].position[0][1:-1]))) \n",
        "      \n",
        "      #Update Velocity Bounds\n",
        "      swarm[i].velocity[0] = np.maximum(swarm[i].velocity[0], velmin_x)\n",
        "      swarm[i].velocity[0] = np.minimum(swarm[i].velocity[0], velmax_x)\n",
        "      \n",
        "      #Update Position\n",
        "      swarm[i].position[0][1:-1] = swarm[i].position[0][1:-1] + swarm[i].velocity[0]\n",
        "\n",
        "      #Velocity Mirroring\n",
        "      outOfRange = (swarm[i].position[0][1:-1] < np.tile(xmin, via)) | (swarm[i].position[0][1:-1] > np.tile(xmax, via))\n",
        "      swarm[i].velocity[0][outOfRange] = -swarm[i].velocity[0][outOfRange]\n",
        "\n",
        "      #Update Position Bounds\n",
        "      swarm[i].position[0][1:-1] = np.maximum(swarm[i].position[0][1:-1], xmin)\n",
        "      swarm[i].position[0][1:-1] = np.minimum(swarm[i].position[0][1:-1], xmax)\n",
        "\n",
        "\n",
        "      ############################### Y Part\n",
        "      r1, r2 = np.random.rand(via), np.random.rand(via)   \n",
        "      swarm[i].velocity[1] = ((w * swarm[i].velocity[1]) +\n",
        "                                (c1 * r1 * (swarm[i].best_part_pos[1] - swarm[i].position[1][1:-1])) + \n",
        "                                (c2 * r2 * (best_swarm_pos[0] - swarm[i].position[1][1:-1]))) \n",
        "      \n",
        "      #Update Velocity Bounds\n",
        "      swarm[i].velocity[1] = np.maximum(swarm[i].velocity[1], velmin_y)\n",
        "      swarm[i].velocity[1] = np.minimum(swarm[i].velocity[1], velmax_y)\n",
        "      \n",
        "      #Update Position\n",
        "      swarm[i].position[1][1:-1] =swarm[i].position[1][1:-1] + swarm[i].velocity[1]\n",
        "\n",
        "      #Velocity Mirroring\n",
        "      outOfRange = (swarm[i].position[1][1:-1] < np.tile(ymin, via)) | (swarm[i].position[1][1:-1] > np.tile(ymax, via))\n",
        "      swarm[i].velocity[1][outOfRange] = -swarm[i].velocity[1][outOfRange]\n",
        "      #Update Position Bounds\n",
        "      swarm[i].position[1][1:-1] = np.maximum(swarm[i].position[1][1:-1], ymin)\n",
        "      swarm[i].position[1][1:-1] = np.minimum(swarm[i].position[1][1:-1], ymax)\n",
        "\n",
        "      ##################################### Evaluation\n",
        "      # compute fitness of new position\n",
        "      swarm[i].fitness = fitness(swarm[i].position, obstacles)\n",
        " \n",
        "      # is new position a new best particle?\n",
        "      if swarm[i].fitness < swarm[i].best_part_fitnessVal:\n",
        "        swarm[i].best_part_fitnessVal = swarm[i].fitness\n",
        "        swarm[i].best_part_pos = swarm[i].position[:, 1:-1].copy()\n",
        "\n",
        "        if swarm[i].fitness < best_swarm_fitnessVal:\n",
        "          best_swarm_fitnessVal = swarm[i].fitness\n",
        "          best_swarm_pos = swarm[i].position[:, 1:-1].copy()\n",
        "\n",
        "  return best_swarm_pos"
      ],
      "metadata": {
        "id": "8u2NLQSiI7fH"
      },
      "execution_count": null,
      "outputs": []
    },
    {
      "cell_type": "code",
      "source": [
        "via=20\n",
        "#obstacles = np.array([[2, 1, 1]])\n",
        "# obstacles = np.array([[2, 1, 1], [1, 4, 1]])\n",
        "# obstacles = np.array([[2, 1, 0.5], [1, 4, 1]])\n",
        "# obstacles = np.array([[2, 1, 0.5], [1, 4, 0.5]])\n",
        "# obstacles = np.array([[2, 2, 0.5], [3, 3, 0.5]])\n",
        "#obstacles = np.array([[1, 3, 0.5], [3, 3, 0.5]])\n",
        "# obstacles = np.array([[3, 6, 0.5], [3, 3, 0.5]])\n",
        "#obstacles = np.array([[2, 1, 0.5], [1, 4, 0.5], [2, 5, 0.5]])\n",
        "# obstacles = np.array([[2, 1, 0.5], [1, 4, 0.5], [2, 5, 0.5], [4, 2, 1]])\n",
        "#obstacles = np.array([[2, 1, 0.5], [1, 4, 0.5], [2, 5, 0.5], [4, 2, 0.5]])\n",
        "# obstacles = np.array([[2, 1, 0.5], [1, 4, 0.5], [2, 5, 0.5], [4, 2, 1], [1, 2, 0.3]])\n",
        "obstacles = np.array([[2, 1, 0.5], [1, 4, 0.5], [3, 4, 0.5], [4, 2, 1], [1, 2, 0.3]])  #via=20\n",
        "\n",
        "best_position = pso(xs=0, xt=4, ys=0, yt=6,xc=2, yc=2, r=2, max_iter=100, number_pop=200,  particles_count=100, via=via, xmin=0, xmax=10.0, ymin=0, ymax=10.0, obstacles=obstacles)\n",
        "plot_result(via, xs=0, xt=4, ys=0, yt=6, position=best_position, obstacles=obstacles)"
      ],
      "metadata": {
        "colab": {
          "base_uri": "https://localhost:8080/",
          "height": 703
        },
        "id": "8y3rRaE5RPO-",
        "outputId": "40049ce2-94ad-4f1e-9e1d-bf090110d1f9"
      },
      "execution_count": null,
      "outputs": [
        {
          "output_type": "display_data",
          "data": {
            "image/png": "[encoded data removed]",
            "text/plain": [
              "<Figure size 1080x360 with 3 Axes>"
            ]
          },
          "metadata": {
            "needs_background": "light"
          }
        },
        {
          "output_type": "stream",
          "name": "stdout",
          "text": [
            "Iteration = 0, best fitness : 7.6016\n",
            "Iteration = 50, best fitness : 7.4858\n",
            "Iteration = 100, best fitness : 7.4608\n"
          ]
        },
        {
          "output_type": "display_data",
          "data": {
            "image/png": "[encoded data removed]",
            "text/plain": [
              "<Figure size 1080x360 with 3 Axes>"
            ]
          },
          "metadata": {
            "needs_background": "light"
          }
        }
      ]
    },
    {
      "cell_type": "markdown",
      "source": [
        "#Genetic Algorithm"
      ],
      "metadata": {
        "id": "rlheQqwcKmYq"
      }
    },
    {
      "cell_type": "code",
      "source": [
        "import random\n",
        "import matplotlib.pyplot as plt\n",
        "\n",
        "coordinates = list()\n",
        "with open('TSP51.txt') as db:\n",
        "    tem_cities = db.readlines()\n",
        "for item in tem_cities:\n",
        "    tem = item[:-1].split(' ')\n",
        "    coordinates.append((float(tem[1]), float(tem[2])))\n",
        "\n",
        "\n",
        "class Path:\n",
        "    def __init__(self, order):\n",
        "        self.order = order\n",
        "        self.distance = 0\n",
        "        self.fitness = 0\n",
        "\n",
        "    def __repr__(self):\n",
        "        return f\"PathOrder is: {self.order}, Fitness : {self.fitness}, Distance : {self.distance}\"\n",
        "\n",
        "\n",
        "def initialiazation(path, popCount):\n",
        "    population = [path]\n",
        "    for i in range(popCount):\n",
        "        newPath = path.order[:]\n",
        "        while any([pop.order == newPath for pop in population]):\n",
        "            random.shuffle(newPath)\n",
        "        population.append((Path(newPath)))\n",
        "    return population\n",
        "\n",
        "\n",
        "def calculateDistance(path):\n",
        "    summ = 0\n",
        "    for i in range(len(path.order) - 1):\n",
        "        first = path.order[i]\n",
        "        second = path.order[i + 1]\n",
        "        distance = ((coordinates[second][0] - coordinates[first][0]) ** 2 + (coordinates[second][1] - coordinates[first][1]) ** 2) ** 0.5\n",
        "        summ += distance\n",
        "    path.distance = summ\n",
        "    return summ\n",
        "\n",
        "\n",
        "def calculateFitness(pop):\n",
        "    total = 0\n",
        "    for path in pop:\n",
        "        distance = calculateDistance(path) + 1\n",
        "        total += 1 / distance\n",
        "        path.fitness = 1 / distance\n",
        "    for path in pop:\n",
        "        path.fitness /= total\n",
        "    pop.sort(key=lambda city: city.fitness, reverse=True)\n",
        "    return pop\n",
        "\n",
        "def select(pop):\n",
        "    randNum = random.random()\n",
        "    ranIndex = random.randint(0, int(len(pop)*0.3) + 1)\n",
        "    if randNum <= 0.7:\n",
        "        return pop[ranIndex]\n",
        "    return pop[len(pop) - ranIndex - 1]\n",
        "\n",
        "\n",
        "def crossOver(pop, half=True):\n",
        "    parentA, parentB = select(pop), select(pop)\n",
        "    start, end = 0, len(parentA.order)//2\n",
        "    while parentA == parentB:\n",
        "        parentA = select(pop)\n",
        "    if half:\n",
        "        start = random.randint(0, len(parentA.order) - 1)\n",
        "        end = random.randint(start, len(parentA.order))\n",
        "    child = parentA.order[start:end]\n",
        "    for i in parentB.order:\n",
        "        if i not in child:\n",
        "            child.append(i)\n",
        "    return Path(child)\n",
        "\n",
        "\n",
        "def mutation(path, mutationRate):\n",
        "    start = random.randint(0, len(path.order) - 1)\n",
        "    end = random.randint(0, len(path.order) - 1)\n",
        "    while end == start:\n",
        "        end = random.randint(0, len(path.order) - 1)\n",
        "    # end = random.randint(start, len(path.order))\n",
        "    if random.random() < mutationRate:\n",
        "        temp = path.order[start]\n",
        "        path.order[start] = path.order[end]\n",
        "        path.order[end] = temp\n",
        "    return path\n",
        "\n",
        "def geneticAlgorithm(path, popCount, genCount, errRepitationPercentage, mutationRate):\n",
        "    path = Path(path)\n",
        "    population = initialiazation(path, popCount)\n",
        "    population = calculateFitness(population)\n",
        "    bestPopulation = population[0]\n",
        "    print(f\"Generation 1: {bestPopulation.fitness}, distance: {bestPopulation.distance}\")\n",
        "    errRepitation = 0\n",
        "    for i in range(2, genCount + 1):\n",
        "        print(f\"Generation {i}: {bestPopulation.fitness}, distance: {bestPopulation.distance}\")\n",
        "        newGeneration = list()\n",
        "        for j in range(popCount):\n",
        "            child = crossOver(population)\n",
        "            newGeneration.append((mutation(child, mutationRate)))\n",
        "        population = calculateFitness(newGeneration)\n",
        "        if population[0].fitness > bestPopulation.fitness:\n",
        "            bestPopulation = population[0]\n",
        "            errRepitation = 0\n",
        "        else:\n",
        "            errRepitation += 1\n",
        "        if errRepitation > (genCount * errRepitationPercentage):\n",
        "            break\n",
        "    return bestPopulation\n",
        "\n",
        "\n",
        "# Plotting the best path found\n",
        "def plotData(path):\n",
        "    x = []\n",
        "    y = []\n",
        "    for i in range(len(path.order)):\n",
        "        x.append(coordinates[path.order[i]][0])\n",
        "        y.append(coordinates[path.order[i]][1])\n",
        "    x.append(coordinates[path.order[0]][0])\n",
        "    y.append(coordinates[path.order[0]][1])\n",
        "    plt.xlabel(\"x\")\n",
        "    plt.ylabel(\"y\")\n",
        "    plt.title(f\"Traveling Sales Person\\nSequence:\\n{path.order}\")\n",
        "    plt.plot(x, y, \"bo-\")\n",
        "    plt.show()\n",
        "\n",
        "\n",
        "# program entry point\n",
        "if __name__ == \"__main__\":\n",
        "    cities = list(range(len(coordinates)))\n",
        "    best = geneticAlgorithm(path=cities, popCount=505, genCount=500, errRepitationPercentage=0.5, mutationRate=0.01)\n",
        "    plotData(best)\n"
      ],
      "metadata": {
        "colab": {
          "base_uri": "https://localhost:8080/",
          "height": 1000
        },
        "id": "MsOORuFeJ7k2",
        "outputId": "46d104c3-6a4a-4724-c6e6-5524316e4d1f"
      },
      "execution_count": null,
      "outputs": [
        {
          "output_type": "stream",
          "name": "stdout",
          "text": [
            "Generation 1: 0.002466037357477348, distance: 1299.575900454896\n",
            "Generation 2: 0.002466037357477348, distance: 1299.575900454896\n",
            "Generation 3: 0.002466037357477348, distance: 1299.575900454896\n",
            "Generation 4: 0.002466037357477348, distance: 1299.575900454896\n",
            "Generation 5: 0.002466037357477348, distance: 1299.575900454896\n",
            "Generation 6: 0.002466037357477348, distance: 1299.575900454896\n",
            "Generation 7: 0.002466037357477348, distance: 1299.575900454896\n",
            "Generation 8: 0.002466037357477348, distance: 1299.575900454896\n",
            "Generation 9: 0.002466037357477348, distance: 1299.575900454896\n",
            "Generation 10: 0.0025741649707126317, distance: 1088.6152375533422\n",
            "Generation 11: 0.0025741649707126317, distance: 1088.6152375533422\n",
            "Generation 12: 0.0025741649707126317, distance: 1088.6152375533422\n",
            "Generation 13: 0.0025741649707126317, distance: 1088.6152375533422\n",
            "Generation 14: 0.0025741649707126317, distance: 1088.6152375533422\n",
            "Generation 15: 0.0025741649707126317, distance: 1088.6152375533422\n",
            "Generation 16: 0.0025741649707126317, distance: 1088.6152375533422\n",
            "Generation 17: 0.0025741649707126317, distance: 1088.6152375533422\n",
            "Generation 18: 0.0025741649707126317, distance: 1088.6152375533422\n",
            "Generation 19: 0.0025741649707126317, distance: 1088.6152375533422\n",
            "Generation 20: 0.0025741649707126317, distance: 1088.6152375533422\n",
            "Generation 21: 0.0025741649707126317, distance: 1088.6152375533422\n",
            "Generation 22: 0.0025741649707126317, distance: 1088.6152375533422\n",
            "Generation 23: 0.0025741649707126317, distance: 1088.6152375533422\n",
            "Generation 24: 0.0025741649707126317, distance: 1088.6152375533422\n",
            "Generation 25: 0.0025741649707126317, distance: 1088.6152375533422\n",
            "Generation 26: 0.0025741649707126317, distance: 1088.6152375533422\n",
            "Generation 27: 0.0025741649707126317, distance: 1088.6152375533422\n",
            "Generation 28: 0.0025741649707126317, distance: 1088.6152375533422\n",
            "Generation 29: 0.0025741649707126317, distance: 1088.6152375533422\n",
            "Generation 30: 0.0025741649707126317, distance: 1088.6152375533422\n",
            "Generation 31: 0.0025741649707126317, distance: 1088.6152375533422\n",
            "Generation 32: 0.0025741649707126317, distance: 1088.6152375533422\n",
            "Generation 33: 0.0025741649707126317, distance: 1088.6152375533422\n",
            "Generation 34: 0.0025741649707126317, distance: 1088.6152375533422\n",
            "Generation 35: 0.0025741649707126317, distance: 1088.6152375533422\n",
            "Generation 36: 0.0025741649707126317, distance: 1088.6152375533422\n",
            "Generation 37: 0.0025741649707126317, distance: 1088.6152375533422\n",
            "Generation 38: 0.0025741649707126317, distance: 1088.6152375533422\n",
            "Generation 39: 0.0025741649707126317, distance: 1088.6152375533422\n",
            "Generation 40: 0.0025741649707126317, distance: 1088.6152375533422\n",
            "Generation 41: 0.0025741649707126317, distance: 1088.6152375533422\n",
            "Generation 42: 0.0025741649707126317, distance: 1088.6152375533422\n",
            "Generation 43: 0.0025741649707126317, distance: 1088.6152375533422\n",
            "Generation 44: 0.0025741649707126317, distance: 1088.6152375533422\n",
            "Generation 45: 0.0025741649707126317, distance: 1088.6152375533422\n",
            "Generation 46: 0.0025741649707126317, distance: 1088.6152375533422\n",
            "Generation 47: 0.0025741649707126317, distance: 1088.6152375533422\n",
            "Generation 48: 0.0025741649707126317, distance: 1088.6152375533422\n",
            "Generation 49: 0.0025741649707126317, distance: 1088.6152375533422\n",
            "Generation 50: 0.0025741649707126317, distance: 1088.6152375533422\n",
            "Generation 51: 0.0025741649707126317, distance: 1088.6152375533422\n",
            "Generation 52: 0.0025741649707126317, distance: 1088.6152375533422\n",
            "Generation 53: 0.0025741649707126317, distance: 1088.6152375533422\n",
            "Generation 54: 0.0025741649707126317, distance: 1088.6152375533422\n",
            "Generation 55: 0.0025741649707126317, distance: 1088.6152375533422\n",
            "Generation 56: 0.0025741649707126317, distance: 1088.6152375533422\n",
            "Generation 57: 0.0025741649707126317, distance: 1088.6152375533422\n",
            "Generation 58: 0.0025741649707126317, distance: 1088.6152375533422\n",
            "Generation 59: 0.0025741649707126317, distance: 1088.6152375533422\n",
            "Generation 60: 0.0025741649707126317, distance: 1088.6152375533422\n",
            "Generation 61: 0.0025741649707126317, distance: 1088.6152375533422\n",
            "Generation 62: 0.0025741649707126317, distance: 1088.6152375533422\n",
            "Generation 63: 0.0025741649707126317, distance: 1088.6152375533422\n",
            "Generation 64: 0.0027067714706872363, distance: 876.6500896347634\n",
            "Generation 65: 0.0027067714706872363, distance: 876.6500896347634\n",
            "Generation 66: 0.0027067714706872363, distance: 876.6500896347634\n",
            "Generation 67: 0.0027067714706872363, distance: 876.6500896347634\n",
            "Generation 68: 0.0027067714706872363, distance: 876.6500896347634\n",
            "Generation 69: 0.0027067714706872363, distance: 876.6500896347634\n",
            "Generation 70: 0.0027067714706872363, distance: 876.6500896347634\n",
            "Generation 71: 0.0027067714706872363, distance: 876.6500896347634\n",
            "Generation 72: 0.0027067714706872363, distance: 876.6500896347634\n",
            "Generation 73: 0.0027067714706872363, distance: 876.6500896347634\n",
            "Generation 74: 0.0027067714706872363, distance: 876.6500896347634\n",
            "Generation 75: 0.0027067714706872363, distance: 876.6500896347634\n",
            "Generation 76: 0.0027067714706872363, distance: 876.6500896347634\n",
            "Generation 77: 0.0027067714706872363, distance: 876.6500896347634\n",
            "Generation 78: 0.0027067714706872363, distance: 876.6500896347634\n",
            "Generation 79: 0.0027067714706872363, distance: 876.6500896347634\n",
            "Generation 80: 0.0027067714706872363, distance: 876.6500896347634\n",
            "Generation 81: 0.0027067714706872363, distance: 876.6500896347634\n",
            "Generation 82: 0.0027067714706872363, distance: 876.6500896347634\n",
            "Generation 83: 0.0027067714706872363, distance: 876.6500896347634\n",
            "Generation 84: 0.0027067714706872363, distance: 876.6500896347634\n",
            "Generation 85: 0.0027067714706872363, distance: 876.6500896347634\n",
            "Generation 86: 0.0027067714706872363, distance: 876.6500896347634\n",
            "Generation 87: 0.0027067714706872363, distance: 876.6500896347634\n",
            "Generation 88: 0.0027067714706872363, distance: 876.6500896347634\n",
            "Generation 89: 0.0027067714706872363, distance: 876.6500896347634\n",
            "Generation 90: 0.0027067714706872363, distance: 876.6500896347634\n",
            "Generation 91: 0.0027067714706872363, distance: 876.6500896347634\n",
            "Generation 92: 0.0027067714706872363, distance: 876.6500896347634\n",
            "Generation 93: 0.0027067714706872363, distance: 876.6500896347634\n",
            "Generation 94: 0.0027067714706872363, distance: 876.6500896347634\n",
            "Generation 95: 0.0027067714706872363, distance: 876.6500896347634\n",
            "Generation 96: 0.0027067714706872363, distance: 876.6500896347634\n",
            "Generation 97: 0.0027067714706872363, distance: 876.6500896347634\n",
            "Generation 98: 0.0027067714706872363, distance: 876.6500896347634\n",
            "Generation 99: 0.0027067714706872363, distance: 876.6500896347634\n",
            "Generation 100: 0.0027067714706872363, distance: 876.6500896347634\n",
            "Generation 101: 0.0027067714706872363, distance: 876.6500896347634\n",
            "Generation 102: 0.0027067714706872363, distance: 876.6500896347634\n",
            "Generation 103: 0.0027067714706872363, distance: 876.6500896347634\n",
            "Generation 104: 0.0027067714706872363, distance: 876.6500896347634\n",
            "Generation 105: 0.0027067714706872363, distance: 876.6500896347634\n",
            "Generation 106: 0.0027067714706872363, distance: 876.6500896347634\n",
            "Generation 107: 0.0027067714706872363, distance: 876.6500896347634\n",
            "Generation 108: 0.0027067714706872363, distance: 876.6500896347634\n",
            "Generation 109: 0.0027067714706872363, distance: 876.6500896347634\n",
            "Generation 110: 0.0027067714706872363, distance: 876.6500896347634\n",
            "Generation 111: 0.0027067714706872363, distance: 876.6500896347634\n",
            "Generation 112: 0.0027067714706872363, distance: 876.6500896347634\n",
            "Generation 113: 0.0027067714706872363, distance: 876.6500896347634\n",
            "Generation 114: 0.0027067714706872363, distance: 876.6500896347634\n",
            "Generation 115: 0.0027067714706872363, distance: 876.6500896347634\n",
            "Generation 116: 0.0027067714706872363, distance: 876.6500896347634\n",
            "Generation 117: 0.0027067714706872363, distance: 876.6500896347634\n",
            "Generation 118: 0.0027067714706872363, distance: 876.6500896347634\n",
            "Generation 119: 0.0027067714706872363, distance: 876.6500896347634\n",
            "Generation 120: 0.0027067714706872363, distance: 876.6500896347634\n",
            "Generation 121: 0.0027067714706872363, distance: 876.6500896347634\n",
            "Generation 122: 0.0027067714706872363, distance: 876.6500896347634\n",
            "Generation 123: 0.0027067714706872363, distance: 876.6500896347634\n",
            "Generation 124: 0.0027067714706872363, distance: 876.6500896347634\n",
            "Generation 125: 0.0027067714706872363, distance: 876.6500896347634\n",
            "Generation 126: 0.0027067714706872363, distance: 876.6500896347634\n",
            "Generation 127: 0.0027067714706872363, distance: 876.6500896347634\n",
            "Generation 128: 0.0027067714706872363, distance: 876.6500896347634\n",
            "Generation 129: 0.0027067714706872363, distance: 876.6500896347634\n",
            "Generation 130: 0.0027067714706872363, distance: 876.6500896347634\n",
            "Generation 131: 0.0027067714706872363, distance: 876.6500896347634\n",
            "Generation 132: 0.0027067714706872363, distance: 876.6500896347634\n",
            "Generation 133: 0.0027067714706872363, distance: 876.6500896347634\n",
            "Generation 134: 0.0027067714706872363, distance: 876.6500896347634\n",
            "Generation 135: 0.0027067714706872363, distance: 876.6500896347634\n",
            "Generation 136: 0.0027067714706872363, distance: 876.6500896347634\n",
            "Generation 137: 0.0027067714706872363, distance: 876.6500896347634\n",
            "Generation 138: 0.0027067714706872363, distance: 876.6500896347634\n",
            "Generation 139: 0.0027067714706872363, distance: 876.6500896347634\n",
            "Generation 140: 0.0027067714706872363, distance: 876.6500896347634\n",
            "Generation 141: 0.0027067714706872363, distance: 876.6500896347634\n",
            "Generation 142: 0.0027067714706872363, distance: 876.6500896347634\n",
            "Generation 143: 0.0027067714706872363, distance: 876.6500896347634\n",
            "Generation 144: 0.0027067714706872363, distance: 876.6500896347634\n",
            "Generation 145: 0.0027067714706872363, distance: 876.6500896347634\n",
            "Generation 146: 0.0027067714706872363, distance: 876.6500896347634\n",
            "Generation 147: 0.0027067714706872363, distance: 876.6500896347634\n",
            "Generation 148: 0.0027067714706872363, distance: 876.6500896347634\n",
            "Generation 149: 0.0027067714706872363, distance: 876.6500896347634\n",
            "Generation 150: 0.0027067714706872363, distance: 876.6500896347634\n",
            "Generation 151: 0.0027067714706872363, distance: 876.6500896347634\n",
            "Generation 152: 0.0027067714706872363, distance: 876.6500896347634\n",
            "Generation 153: 0.0027067714706872363, distance: 876.6500896347634\n",
            "Generation 154: 0.0027067714706872363, distance: 876.6500896347634\n",
            "Generation 155: 0.0027067714706872363, distance: 876.6500896347634\n",
            "Generation 156: 0.0027067714706872363, distance: 876.6500896347634\n",
            "Generation 157: 0.0027067714706872363, distance: 876.6500896347634\n",
            "Generation 158: 0.0027067714706872363, distance: 876.6500896347634\n",
            "Generation 159: 0.0027067714706872363, distance: 876.6500896347634\n",
            "Generation 160: 0.0027946350879134605, distance: 799.2590307276918\n",
            "Generation 161: 0.0028859898341028413, distance: 778.9957846939379\n",
            "Generation 162: 0.0028859898341028413, distance: 778.9957846939379\n",
            "Generation 163: 0.0028859898341028413, distance: 778.9957846939379\n",
            "Generation 164: 0.0028859898341028413, distance: 778.9957846939379\n",
            "Generation 165: 0.0028859898341028413, distance: 778.9957846939379\n",
            "Generation 166: 0.0028859898341028413, distance: 778.9957846939379\n",
            "Generation 167: 0.0028859898341028413, distance: 778.9957846939379\n",
            "Generation 168: 0.0028859898341028413, distance: 778.9957846939379\n",
            "Generation 169: 0.0028859898341028413, distance: 778.9957846939379\n",
            "Generation 170: 0.0028859898341028413, distance: 778.9957846939379\n",
            "Generation 171: 0.0028859898341028413, distance: 778.9957846939379\n",
            "Generation 172: 0.0028859898341028413, distance: 778.9957846939379\n",
            "Generation 173: 0.0028859898341028413, distance: 778.9957846939379\n",
            "Generation 174: 0.0028859898341028413, distance: 778.9957846939379\n",
            "Generation 175: 0.0028859898341028413, distance: 778.9957846939379\n",
            "Generation 176: 0.0028859898341028413, distance: 778.9957846939379\n",
            "Generation 177: 0.0028859898341028413, distance: 778.9957846939379\n",
            "Generation 178: 0.0028859898341028413, distance: 778.9957846939379\n",
            "Generation 179: 0.0028859898341028413, distance: 778.9957846939379\n",
            "Generation 180: 0.0028859898341028413, distance: 778.9957846939379\n",
            "Generation 181: 0.0028859898341028413, distance: 778.9957846939379\n",
            "Generation 182: 0.0028859898341028413, distance: 778.9957846939379\n",
            "Generation 183: 0.0028859898341028413, distance: 778.9957846939379\n",
            "Generation 184: 0.0028859898341028413, distance: 778.9957846939379\n",
            "Generation 185: 0.0028859898341028413, distance: 778.9957846939379\n",
            "Generation 186: 0.0028859898341028413, distance: 778.9957846939379\n",
            "Generation 187: 0.0028859898341028413, distance: 778.9957846939379\n",
            "Generation 188: 0.0028859898341028413, distance: 778.9957846939379\n",
            "Generation 189: 0.0028859898341028413, distance: 778.9957846939379\n",
            "Generation 190: 0.0028859898341028413, distance: 778.9957846939379\n",
            "Generation 191: 0.0028859898341028413, distance: 778.9957846939379\n",
            "Generation 192: 0.0028859898341028413, distance: 778.9957846939379\n",
            "Generation 193: 0.0028859898341028413, distance: 778.9957846939379\n",
            "Generation 194: 0.0028859898341028413, distance: 778.9957846939379\n",
            "Generation 195: 0.0028859898341028413, distance: 778.9957846939379\n",
            "Generation 196: 0.0028859898341028413, distance: 778.9957846939379\n",
            "Generation 197: 0.0028859898341028413, distance: 778.9957846939379\n",
            "Generation 198: 0.0028859898341028413, distance: 778.9957846939379\n",
            "Generation 199: 0.0028859898341028413, distance: 778.9957846939379\n",
            "Generation 200: 0.0028859898341028413, distance: 778.9957846939379\n",
            "Generation 201: 0.0028859898341028413, distance: 778.9957846939379\n",
            "Generation 202: 0.0028859898341028413, distance: 778.9957846939379\n",
            "Generation 203: 0.0028859898341028413, distance: 778.9957846939379\n",
            "Generation 204: 0.0028859898341028413, distance: 778.9957846939379\n",
            "Generation 205: 0.0028859898341028413, distance: 778.9957846939379\n",
            "Generation 206: 0.0028859898341028413, distance: 778.9957846939379\n",
            "Generation 207: 0.0028859898341028413, distance: 778.9957846939379\n",
            "Generation 208: 0.0028859898341028413, distance: 778.9957846939379\n",
            "Generation 209: 0.0028859898341028413, distance: 778.9957846939379\n",
            "Generation 210: 0.0028859898341028413, distance: 778.9957846939379\n",
            "Generation 211: 0.0028859898341028413, distance: 778.9957846939379\n",
            "Generation 212: 0.0028859898341028413, distance: 778.9957846939379\n",
            "Generation 213: 0.0028859898341028413, distance: 778.9957846939379\n",
            "Generation 214: 0.0028859898341028413, distance: 778.9957846939379\n",
            "Generation 215: 0.0028859898341028413, distance: 778.9957846939379\n",
            "Generation 216: 0.0028859898341028413, distance: 778.9957846939379\n",
            "Generation 217: 0.0028859898341028413, distance: 778.9957846939379\n",
            "Generation 218: 0.0028859898341028413, distance: 778.9957846939379\n",
            "Generation 219: 0.0028859898341028413, distance: 778.9957846939379\n",
            "Generation 220: 0.0028859898341028413, distance: 778.9957846939379\n",
            "Generation 221: 0.0028859898341028413, distance: 778.9957846939379\n",
            "Generation 222: 0.0028859898341028413, distance: 778.9957846939379\n",
            "Generation 223: 0.0028859898341028413, distance: 778.9957846939379\n",
            "Generation 224: 0.0028859898341028413, distance: 778.9957846939379\n",
            "Generation 225: 0.0028859898341028413, distance: 778.9957846939379\n",
            "Generation 226: 0.0028859898341028413, distance: 778.9957846939379\n",
            "Generation 227: 0.0028859898341028413, distance: 778.9957846939379\n",
            "Generation 228: 0.0028859898341028413, distance: 778.9957846939379\n",
            "Generation 229: 0.0028859898341028413, distance: 778.9957846939379\n",
            "Generation 230: 0.0028859898341028413, distance: 778.9957846939379\n",
            "Generation 231: 0.0028859898341028413, distance: 778.9957846939379\n",
            "Generation 232: 0.0028859898341028413, distance: 778.9957846939379\n",
            "Generation 233: 0.0028859898341028413, distance: 778.9957846939379\n",
            "Generation 234: 0.0028859898341028413, distance: 778.9957846939379\n",
            "Generation 235: 0.0028859898341028413, distance: 778.9957846939379\n",
            "Generation 236: 0.0028859898341028413, distance: 778.9957846939379\n",
            "Generation 237: 0.0028859898341028413, distance: 778.9957846939379\n",
            "Generation 238: 0.0028859898341028413, distance: 778.9957846939379\n",
            "Generation 239: 0.0028859898341028413, distance: 778.9957846939379\n",
            "Generation 240: 0.0028859898341028413, distance: 778.9957846939379\n",
            "Generation 241: 0.0028859898341028413, distance: 778.9957846939379\n",
            "Generation 242: 0.0028859898341028413, distance: 778.9957846939379\n",
            "Generation 243: 0.0028859898341028413, distance: 778.9957846939379\n",
            "Generation 244: 0.0028859898341028413, distance: 778.9957846939379\n",
            "Generation 245: 0.0028859898341028413, distance: 778.9957846939379\n",
            "Generation 246: 0.0028859898341028413, distance: 778.9957846939379\n",
            "Generation 247: 0.0028859898341028413, distance: 778.9957846939379\n",
            "Generation 248: 0.0028859898341028413, distance: 778.9957846939379\n",
            "Generation 249: 0.0028859898341028413, distance: 778.9957846939379\n",
            "Generation 250: 0.0028859898341028413, distance: 778.9957846939379\n",
            "Generation 251: 0.0028859898341028413, distance: 778.9957846939379\n",
            "Generation 252: 0.0028859898341028413, distance: 778.9957846939379\n",
            "Generation 253: 0.0028859898341028413, distance: 778.9957846939379\n",
            "Generation 254: 0.0028859898341028413, distance: 778.9957846939379\n",
            "Generation 255: 0.0028859898341028413, distance: 778.9957846939379\n",
            "Generation 256: 0.0028859898341028413, distance: 778.9957846939379\n",
            "Generation 257: 0.0028859898341028413, distance: 778.9957846939379\n",
            "Generation 258: 0.0028859898341028413, distance: 778.9957846939379\n",
            "Generation 259: 0.0028859898341028413, distance: 778.9957846939379\n",
            "Generation 260: 0.0028859898341028413, distance: 778.9957846939379\n",
            "Generation 261: 0.0028859898341028413, distance: 778.9957846939379\n",
            "Generation 262: 0.0028859898341028413, distance: 778.9957846939379\n",
            "Generation 263: 0.0028859898341028413, distance: 778.9957846939379\n",
            "Generation 264: 0.0028859898341028413, distance: 778.9957846939379\n",
            "Generation 265: 0.0028859898341028413, distance: 778.9957846939379\n",
            "Generation 266: 0.0028859898341028413, distance: 778.9957846939379\n",
            "Generation 267: 0.0028859898341028413, distance: 778.9957846939379\n",
            "Generation 268: 0.0028859898341028413, distance: 778.9957846939379\n",
            "Generation 269: 0.0028859898341028413, distance: 778.9957846939379\n",
            "Generation 270: 0.0028859898341028413, distance: 778.9957846939379\n",
            "Generation 271: 0.0028859898341028413, distance: 778.9957846939379\n",
            "Generation 272: 0.0028859898341028413, distance: 778.9957846939379\n",
            "Generation 273: 0.0028859898341028413, distance: 778.9957846939379\n",
            "Generation 274: 0.0028859898341028413, distance: 778.9957846939379\n",
            "Generation 275: 0.0028859898341028413, distance: 778.9957846939379\n",
            "Generation 276: 0.0028859898341028413, distance: 778.9957846939379\n",
            "Generation 277: 0.0028859898341028413, distance: 778.9957846939379\n",
            "Generation 278: 0.0028859898341028413, distance: 778.9957846939379\n",
            "Generation 279: 0.0028859898341028413, distance: 778.9957846939379\n",
            "Generation 280: 0.0028859898341028413, distance: 778.9957846939379\n",
            "Generation 281: 0.0028859898341028413, distance: 778.9957846939379\n",
            "Generation 282: 0.0028859898341028413, distance: 778.9957846939379\n",
            "Generation 283: 0.0028859898341028413, distance: 778.9957846939379\n",
            "Generation 284: 0.0028859898341028413, distance: 778.9957846939379\n",
            "Generation 285: 0.0028859898341028413, distance: 778.9957846939379\n",
            "Generation 286: 0.0028859898341028413, distance: 778.9957846939379\n",
            "Generation 287: 0.0028859898341028413, distance: 778.9957846939379\n",
            "Generation 288: 0.0028859898341028413, distance: 778.9957846939379\n",
            "Generation 289: 0.0028859898341028413, distance: 778.9957846939379\n",
            "Generation 290: 0.0028859898341028413, distance: 778.9957846939379\n",
            "Generation 291: 0.0028859898341028413, distance: 778.9957846939379\n",
            "Generation 292: 0.0028859898341028413, distance: 778.9957846939379\n",
            "Generation 293: 0.0028859898341028413, distance: 778.9957846939379\n",
            "Generation 294: 0.0028859898341028413, distance: 778.9957846939379\n",
            "Generation 295: 0.0028859898341028413, distance: 778.9957846939379\n",
            "Generation 296: 0.0028859898341028413, distance: 778.9957846939379\n",
            "Generation 297: 0.0028859898341028413, distance: 778.9957846939379\n",
            "Generation 298: 0.0028859898341028413, distance: 778.9957846939379\n",
            "Generation 299: 0.0028859898341028413, distance: 778.9957846939379\n",
            "Generation 300: 0.0028859898341028413, distance: 778.9957846939379\n",
            "Generation 301: 0.0028859898341028413, distance: 778.9957846939379\n",
            "Generation 302: 0.0028859898341028413, distance: 778.9957846939379\n",
            "Generation 303: 0.0028859898341028413, distance: 778.9957846939379\n",
            "Generation 304: 0.0028859898341028413, distance: 778.9957846939379\n",
            "Generation 305: 0.0028859898341028413, distance: 778.9957846939379\n",
            "Generation 306: 0.0028859898341028413, distance: 778.9957846939379\n",
            "Generation 307: 0.0028859898341028413, distance: 778.9957846939379\n",
            "Generation 308: 0.0028859898341028413, distance: 778.9957846939379\n",
            "Generation 309: 0.0028859898341028413, distance: 778.9957846939379\n",
            "Generation 310: 0.0028859898341028413, distance: 778.9957846939379\n",
            "Generation 311: 0.0028859898341028413, distance: 778.9957846939379\n",
            "Generation 312: 0.0028859898341028413, distance: 778.9957846939379\n",
            "Generation 313: 0.0028859898341028413, distance: 778.9957846939379\n",
            "Generation 314: 0.0028859898341028413, distance: 778.9957846939379\n",
            "Generation 315: 0.0028859898341028413, distance: 778.9957846939379\n",
            "Generation 316: 0.0028859898341028413, distance: 778.9957846939379\n",
            "Generation 317: 0.0028859898341028413, distance: 778.9957846939379\n",
            "Generation 318: 0.0028859898341028413, distance: 778.9957846939379\n",
            "Generation 319: 0.0028859898341028413, distance: 778.9957846939379\n",
            "Generation 320: 0.0028859898341028413, distance: 778.9957846939379\n",
            "Generation 321: 0.0028859898341028413, distance: 778.9957846939379\n",
            "Generation 322: 0.0028859898341028413, distance: 778.9957846939379\n",
            "Generation 323: 0.0028859898341028413, distance: 778.9957846939379\n",
            "Generation 324: 0.0028859898341028413, distance: 778.9957846939379\n",
            "Generation 325: 0.0028859898341028413, distance: 778.9957846939379\n",
            "Generation 326: 0.0028859898341028413, distance: 778.9957846939379\n",
            "Generation 327: 0.0028859898341028413, distance: 778.9957846939379\n",
            "Generation 328: 0.0028859898341028413, distance: 778.9957846939379\n",
            "Generation 329: 0.0028859898341028413, distance: 778.9957846939379\n",
            "Generation 330: 0.0028859898341028413, distance: 778.9957846939379\n",
            "Generation 331: 0.0028859898341028413, distance: 778.9957846939379\n",
            "Generation 332: 0.0028859898341028413, distance: 778.9957846939379\n",
            "Generation 333: 0.0028859898341028413, distance: 778.9957846939379\n",
            "Generation 334: 0.0028859898341028413, distance: 778.9957846939379\n",
            "Generation 335: 0.0028859898341028413, distance: 778.9957846939379\n",
            "Generation 336: 0.0028859898341028413, distance: 778.9957846939379\n",
            "Generation 337: 0.0028859898341028413, distance: 778.9957846939379\n",
            "Generation 338: 0.0028859898341028413, distance: 778.9957846939379\n",
            "Generation 339: 0.0028859898341028413, distance: 778.9957846939379\n",
            "Generation 340: 0.0028859898341028413, distance: 778.9957846939379\n",
            "Generation 341: 0.0028859898341028413, distance: 778.9957846939379\n",
            "Generation 342: 0.0028859898341028413, distance: 778.9957846939379\n",
            "Generation 343: 0.0028859898341028413, distance: 778.9957846939379\n",
            "Generation 344: 0.0028859898341028413, distance: 778.9957846939379\n",
            "Generation 345: 0.0028859898341028413, distance: 778.9957846939379\n",
            "Generation 346: 0.0028859898341028413, distance: 778.9957846939379\n",
            "Generation 347: 0.0028859898341028413, distance: 778.9957846939379\n",
            "Generation 348: 0.0028859898341028413, distance: 778.9957846939379\n",
            "Generation 349: 0.0028859898341028413, distance: 778.9957846939379\n",
            "Generation 350: 0.0028859898341028413, distance: 778.9957846939379\n",
            "Generation 351: 0.0028859898341028413, distance: 778.9957846939379\n",
            "Generation 352: 0.0028859898341028413, distance: 778.9957846939379\n",
            "Generation 353: 0.0028859898341028413, distance: 778.9957846939379\n",
            "Generation 354: 0.0028859898341028413, distance: 778.9957846939379\n",
            "Generation 355: 0.0028859898341028413, distance: 778.9957846939379\n",
            "Generation 356: 0.0028859898341028413, distance: 778.9957846939379\n",
            "Generation 357: 0.0028859898341028413, distance: 778.9957846939379\n",
            "Generation 358: 0.0028859898341028413, distance: 778.9957846939379\n",
            "Generation 359: 0.0028859898341028413, distance: 778.9957846939379\n",
            "Generation 360: 0.0028859898341028413, distance: 778.9957846939379\n",
            "Generation 361: 0.0028859898341028413, distance: 778.9957846939379\n",
            "Generation 362: 0.0028859898341028413, distance: 778.9957846939379\n",
            "Generation 363: 0.0028859898341028413, distance: 778.9957846939379\n",
            "Generation 364: 0.0028859898341028413, distance: 778.9957846939379\n",
            "Generation 365: 0.0028859898341028413, distance: 778.9957846939379\n",
            "Generation 366: 0.0028859898341028413, distance: 778.9957846939379\n",
            "Generation 367: 0.0028859898341028413, distance: 778.9957846939379\n",
            "Generation 368: 0.0028859898341028413, distance: 778.9957846939379\n",
            "Generation 369: 0.0028859898341028413, distance: 778.9957846939379\n",
            "Generation 370: 0.0028859898341028413, distance: 778.9957846939379\n",
            "Generation 371: 0.0028859898341028413, distance: 778.9957846939379\n",
            "Generation 372: 0.0028859898341028413, distance: 778.9957846939379\n",
            "Generation 373: 0.0028859898341028413, distance: 778.9957846939379\n",
            "Generation 374: 0.0028859898341028413, distance: 778.9957846939379\n",
            "Generation 375: 0.0028859898341028413, distance: 778.9957846939379\n",
            "Generation 376: 0.0028859898341028413, distance: 778.9957846939379\n",
            "Generation 377: 0.0028859898341028413, distance: 778.9957846939379\n",
            "Generation 378: 0.0028859898341028413, distance: 778.9957846939379\n",
            "Generation 379: 0.0028859898341028413, distance: 778.9957846939379\n",
            "Generation 380: 0.0028859898341028413, distance: 778.9957846939379\n",
            "Generation 381: 0.0028859898341028413, distance: 778.9957846939379\n",
            "Generation 382: 0.0028859898341028413, distance: 778.9957846939379\n",
            "Generation 383: 0.0028859898341028413, distance: 778.9957846939379\n",
            "Generation 384: 0.0028859898341028413, distance: 778.9957846939379\n",
            "Generation 385: 0.0028859898341028413, distance: 778.9957846939379\n",
            "Generation 386: 0.0028859898341028413, distance: 778.9957846939379\n",
            "Generation 387: 0.0028859898341028413, distance: 778.9957846939379\n",
            "Generation 388: 0.0028859898341028413, distance: 778.9957846939379\n",
            "Generation 389: 0.0028859898341028413, distance: 778.9957846939379\n",
            "Generation 390: 0.0028859898341028413, distance: 778.9957846939379\n",
            "Generation 391: 0.0028859898341028413, distance: 778.9957846939379\n",
            "Generation 392: 0.0028859898341028413, distance: 778.9957846939379\n",
            "Generation 393: 0.0028859898341028413, distance: 778.9957846939379\n",
            "Generation 394: 0.0028859898341028413, distance: 778.9957846939379\n",
            "Generation 395: 0.0028859898341028413, distance: 778.9957846939379\n",
            "Generation 396: 0.0028859898341028413, distance: 778.9957846939379\n",
            "Generation 397: 0.0028859898341028413, distance: 778.9957846939379\n",
            "Generation 398: 0.0028859898341028413, distance: 778.9957846939379\n",
            "Generation 399: 0.0028859898341028413, distance: 778.9957846939379\n",
            "Generation 400: 0.0028859898341028413, distance: 778.9957846939379\n",
            "Generation 401: 0.0028859898341028413, distance: 778.9957846939379\n",
            "Generation 402: 0.0028859898341028413, distance: 778.9957846939379\n",
            "Generation 403: 0.0028859898341028413, distance: 778.9957846939379\n",
            "Generation 404: 0.0028859898341028413, distance: 778.9957846939379\n",
            "Generation 405: 0.0028859898341028413, distance: 778.9957846939379\n",
            "Generation 406: 0.0028859898341028413, distance: 778.9957846939379\n",
            "Generation 407: 0.0028859898341028413, distance: 778.9957846939379\n",
            "Generation 408: 0.0028859898341028413, distance: 778.9957846939379\n",
            "Generation 409: 0.0028859898341028413, distance: 778.9957846939379\n",
            "Generation 410: 0.0028859898341028413, distance: 778.9957846939379\n",
            "Generation 411: 0.0028859898341028413, distance: 778.9957846939379\n"
          ]
        },
        {
          "output_type": "display_data",
          "data": {
            "image/png": "[encoded data removed]",
            "text/plain": [
              "<Figure size 432x288 with 1 Axes>"
            ]
          },
          "metadata": {
            "needs_background": "light"
          }
        }
      ]
    },
    {
      "cell_type": "code",
      "source": [],
      "metadata": {
        "id": "y2yUff7vLH-C"
      },
      "execution_count": null,
      "outputs": []
    }
  ]
}