{
  "nbformat": 4,
  "nbformat_minor": 0,
  "metadata": {
    "colab": {
      "provenance": [],
      "collapsed_sections": [
        "EDeSiGsVxbgU",
        "j0dpcUuUxiB1",
        "2ym1b99Gx-G2",
        "oiQh5I6PyJyA",
        "ADC5SkEewsVd",
        "MSyjpSrrww_8",
        "bg3WHwSzytUY",
        "2fR1XQikvw0C",
        "p07v2hLDsQM8"
      ],
      "authorship_tag": "ABX9TyP6LDvJK2QNqkWaGYWAE0Jo",
      "include_colab_link": true
    },
    "kernelspec": {
      "name": "python3",
      "display_name": "Python 3"
    },
    "language_info": {
      "name": "python"
    }
  },
  "cells": [
    {
      "cell_type": "markdown",
      "metadata": {
        "id": "view-in-github",
        "colab_type": "text"
      },
      "source": [
        "<a href=\"https://colab.research.google.com/github/mralamdari/Python-Projects/blob/main/Robotics.ipynb\" target=\"_parent\"><img src=\"https://colab.research.google.com/assets/colab-badge.svg\" alt=\"Open In Colab\"/></a>"
      ]
    },
    {
      "cell_type": "markdown",
      "metadata": {
        "id": "EDeSiGsVxbgU"
      },
      "source": [
        "#Denavite Hartnzberg"
      ]
    },
    {
      "cell_type": "code",
      "metadata": {
        "id": "6Kpe01Yx-vNW"
      },
      "source": [
        "import numpy as np"
      ],
      "execution_count": null,
      "outputs": []
    },
    {
      "cell_type": "code",
      "metadata": {
        "id": "iNS8Rhm4CJiw"
      },
      "source": [
        "def DH(a, alpha_degree, d, theta_degree):\n",
        "  theta = np.deg2rad(theta_degree)\n",
        "  alpha = np.deg2rad(alpha_degree)\n",
        "  dh_table = np.array([[np.cos(theta), -np.cos(alpha)*np.sin(theta), np.sin(alpha)*np.sin(theta), a*np.cos(theta)],\n",
        "                      [np.sin(theta), np.cos(alpha)*np.cos(theta), -np.sin(alpha)*np.cos(theta), a*np.sin(theta)],\n",
        "                      [0 ,np.sin(alpha), np.cos(alpha), d],\n",
        "                      [0, 0, 0, 1]])\n",
        "  return np.float16(dh_table)"
      ],
      "execution_count": null,
      "outputs": []
    },
    {
      "cell_type": "code",
      "metadata": {
        "colab": {
          "base_uri": "https://localhost:8080/"
        },
        "id": "Ww8SSD2lxZ4_",
        "outputId": "f03f3147-4773-4cf2-bdf0-511e2e31b35c"
      },
      "source": [
        "a1 =DH(0, -90, -999, 0)\n",
        "a2 =DH(0, -90, -888, 90)\n",
        "a3 =DH(0, 0, -777, 0)\n",
        "\n",
        "s=np.dot(a1, a2)\n",
        "np.dot(s, a3)"
      ],
      "execution_count": null,
      "outputs": [
        {
          "output_type": "execute_result",
          "data": {
            "text/plain": [
              "array([[   0.,    0.,   -1.,  777.],\n",
              "       [   0.,   -1.,    0., -888.],\n",
              "       [  -1.,    0.,    0., -999.],\n",
              "       [   0.,    0.,    0.,    1.]], dtype=float16)"
            ]
          },
          "metadata": {},
          "execution_count": 10
        }
      ]
    },
    {
      "cell_type": "markdown",
      "metadata": {
        "id": "j0dpcUuUxiB1"
      },
      "source": [
        "#Forwarsd Synematic\n",
        "\n",
        "0, Scara\n",
        "\n",
        "1, manipulator\n",
        "\n",
        "2, cyliendrical\n",
        "\n",
        "3, stanford"
      ]
    },
    {
      "cell_type": "code",
      "metadata": {
        "id": "wpY16_tBFzqb"
      },
      "source": [
        "def forward_scara(a1, a2, d3, d4, theta_1, theta_2, theta_4):\n",
        "  A01 = DH(a1, 0, 0, theta_1)\n",
        "  A12 = DH(a2, 180, 0, theta_2)\n",
        "  A23 = DH(0, 0, d3, 0)\n",
        "  A34 = DH(0, 0, d4, theta_4)\n",
        "\n",
        "  T40 = np.matmul(np.matmul(A01, A12), np.matmul(A23,A34))\n",
        "  return np.float16(T40)"
      ],
      "execution_count": null,
      "outputs": []
    },
    {
      "cell_type": "code",
      "metadata": {
        "id": "i6U44NLBK-Re"
      },
      "source": [
        "def forward_manipulator(a1, a2, theta_1, theta_2):\n",
        "  A01 = DH(a1, 0, 0, theta_1)\n",
        "  A12 = DH(a2, 0, 0, theta_2)\n",
        "\n",
        "  T20 = np.matmul(A01, A12)\n",
        "  return np.float16(T20)"
      ],
      "execution_count": null,
      "outputs": []
    },
    {
      "cell_type": "code",
      "metadata": {
        "id": "5aYy_AvwTnil"
      },
      "source": [
        "def forward_cylindrical(alpha_2, d1, d2, d3, theta_1):\n",
        "  A01 = DH(0, 0, d1, theta_1)\n",
        "  A12 = DH(0, alpha_2, d2, 0)\n",
        "  A23 = DH(0, 0, d3, 0)\n",
        "\n",
        "  T30 = np.matmul(np.matmul(A01, A12), A23)\n",
        "  return np.float16(T30)"
      ],
      "execution_count": null,
      "outputs": []
    },
    {
      "cell_type": "code",
      "metadata": {
        "id": "NI1eiNt5q9em"
      },
      "source": [
        "def forward_stanford(d2, d3, theta_1, theta_2):\n",
        "  A01 = DH(0, -90, 0, theta_1)\n",
        "  A12 = DH(0, 90, d2, theta_2)\n",
        "  A23 = DH(0, 0, d3, 0)\n",
        "\n",
        "  T30 = np.matmul(np.matmul(A01, A12), A23)\n",
        "  return np.float16(T30)"
      ],
      "execution_count": null,
      "outputs": []
    },
    {
      "cell_type": "code",
      "metadata": {
        "id": "iKPyjn76d7_q"
      },
      "source": [
        "def wrist(alpha_4, alpha_5, d6, theta_4, theta_5, theta_6):\n",
        "  A34 = DH(0, -90, 0, theta_4)\n",
        "  A45 = DH(0, 90, 0, theta_5)\n",
        "  A56 = DH(0, 0, d6, theta_6)\n",
        "\n",
        "  T63 = np.matmul(np.matmul(A34, A45), A56)\n",
        "  return np.float16(T63)"
      ],
      "execution_count": null,
      "outputs": []
    },
    {
      "cell_type": "code",
      "metadata": {
        "id": "l-K7fr783uN5"
      },
      "source": [
        "def forward_robotic(point, num=0, wist=False, a1=0, a2=0, a3=0, a4=0, a5=0, a6=0, alpha_1=0, alpha_2=0, alpha_3=0, alpha_4=0, alpha_5=0, alpha_6=0,  d1=0, d2=0, d3=0, d4=0, d5=0, d6=0, theta_1=0, theta_2=0, theta_3=0, theta_4=0, theta_5=0, theta_6=0):\n",
        "  \n",
        "  \n",
        "  point=np.array(point).reshape(-1, 1)\n",
        "  if num == 0:\n",
        "    T0_3 = forward_scara(a1, a2, d3, d4, theta_1, theta_2, theta_4)\n",
        "  elif num == 1:  \n",
        "    T0_3 = forward_manipulator(a1, a2, theta_1, theta_2)\n",
        "  elif num == 2:  \n",
        "    T0_3 =  forward_cylindrical(alpha_2, d1, d2, d3, theta_1)\n",
        "  else:  \n",
        "    T0_3 = forward_stanford(d2, d3, theta_1, theta_2)\n",
        "\n",
        "  if wist:\n",
        "    T3_6 = wrist(alpha_4, alpha_5, d6, theta_4, theta_5, theta_6)\n",
        "    T = np.matmul(T0_3, T3_6)\n",
        "  else:\n",
        "    T = T0_3\n",
        "\n",
        "  R = T[:-1, :-1]\n",
        "  d = T[:-1, -1].reshape(-1, 1)  \n",
        "  res = np.matmul(R, point) + d\n",
        "\n",
        "  return res.T[0]"
      ],
      "execution_count": null,
      "outputs": []
    },
    {
      "cell_type": "code",
      "metadata": {
        "colab": {
          "base_uri": "https://localhost:8080/"
        },
        "id": "RIqyd4_tt3O4",
        "outputId": "0ed9b9bf-caf2-4472-a5fe-16d570697472"
      },
      "source": [
        "forward_robotic([12,23,53], num=3, wist=True, a1=2, a2=2,d1=20,d2=40, d3=30,d4=10 , theta_1=60, theta_2=-180, theta_4=25)"
      ],
      "execution_count": null,
      "outputs": [
        {
          "output_type": "execute_result",
          "data": {
            "text/plain": [
              "array([-57.68408203,  31.95996094, -83.        ])"
            ]
          },
          "metadata": {},
          "execution_count": 10
        }
      ]
    },
    {
      "cell_type": "markdown",
      "metadata": {
        "id": "2ym1b99Gx-G2"
      },
      "source": [
        "#Tabdils and Rotations\n",
        "R_x, R_y, R_z\n",
        "\n",
        "T_x, T_y, T_z"
      ]
    },
    {
      "cell_type": "code",
      "metadata": {
        "id": "vRO76MoxwvuB"
      },
      "source": [
        "def T_x(a):\n",
        "  TX = np.array([[1, 0, 0, a],\n",
        "                 [0, 1, 0, 0],\n",
        "                 [0, 0, 1, 0],\n",
        "                 [0, 0, 0, 1]])\n",
        "  return TX"
      ],
      "execution_count": null,
      "outputs": []
    },
    {
      "cell_type": "code",
      "metadata": {
        "id": "UskcXHWHk6G-"
      },
      "source": [
        "def T_y(b):\n",
        "  TY = np.array([[1, 0, 0, 0],\n",
        "                 [0, 1, 0, b],\n",
        "                 [0, 0, 1, 0],\n",
        "                 [0, 0, 0, 1]])\n",
        "  return TY"
      ],
      "execution_count": null,
      "outputs": []
    },
    {
      "cell_type": "code",
      "metadata": {
        "id": "K-VPFudNls2T"
      },
      "source": [
        "def T_z(c):\n",
        "  TZ = np.array([[1, 0, 0, 0],\n",
        "                 [0, 1, 0, 0],\n",
        "                 [0, 0, 1, c],\n",
        "                 [0, 0, 0, 1]])\n",
        "  return TZ"
      ],
      "execution_count": null,
      "outputs": []
    },
    {
      "cell_type": "code",
      "metadata": {
        "id": "H7Zmjrz4l3E4"
      },
      "source": [
        "def R_x(alpha):\n",
        "  alpha = np.deg2rad(alpha)\n",
        "  RX = np.array([[1, 0, 0, 0],\n",
        "                 [0, np.cos(alpha), -np.sin(alpha), 0],\n",
        "                 [0, np.sin(alpha), np.cos(alpha), 0],\n",
        "                 [0, 0, 0, 1]])\n",
        "  return np.float16(RX)  "
      ],
      "execution_count": null,
      "outputs": []
    },
    {
      "cell_type": "code",
      "metadata": {
        "id": "t3RmXrrMmVs0"
      },
      "source": [
        "def R_y(betha):\n",
        "  betha = np.deg2rad(betha)\n",
        "  RY = np.array([[np.cos(betha), 0, np.sin(betha), 0],\n",
        "                 [0, 1, 0, 0],\n",
        "                 [-np.sin(betha), 0, np.cos(betha), 0],\n",
        "                 [0, 0, 0, 1]])\n",
        "  return np.float16(RY)"
      ],
      "execution_count": null,
      "outputs": []
    },
    {
      "cell_type": "code",
      "metadata": {
        "id": "hs8JMNP1m4Xp"
      },
      "source": [
        "def R_z(gamma):\n",
        "  gamma = np.deg2rad(gamma)\n",
        "  RZ = np.array([[np.cos(gamma), -np.sin(gamma), 0, 0],\n",
        "                 [np.sin(gamma), np.cos(gamma), 0, 0],\n",
        "                 [0, 0, 1, 0],\n",
        "                 [0, 0, 0, 1]])\n",
        "  return np.float16(RZ)  "
      ],
      "execution_count": null,
      "outputs": []
    },
    {
      "cell_type": "code",
      "metadata": {
        "colab": {
          "base_uri": "https://localhost:8080/"
        },
        "id": "IBkfMnEhyi4b",
        "outputId": "e6fbbe28-14b2-47a5-dc39-65c7426e935c"
      },
      "source": [
        "np.dot(np.dot(R_z(90),R_y(0)), R_z(45))"
      ],
      "execution_count": null,
      "outputs": [
        {
          "output_type": "execute_result",
          "data": {
            "text/plain": [
              "array([[-0.707, -0.707,  0.   ,  0.   ],\n",
              "       [ 0.707, -0.707,  0.   ,  0.   ],\n",
              "       [ 0.   ,  0.   ,  1.   ,  0.   ],\n",
              "       [ 0.   ,  0.   ,  0.   ,  1.   ]], dtype=float16)"
            ]
          },
          "metadata": {},
          "execution_count": 17
        }
      ]
    },
    {
      "cell_type": "markdown",
      "metadata": {
        "id": "oiQh5I6PyJyA"
      },
      "source": [
        "#Inverse Synematic\n",
        "\n",
        "0, Scara\n",
        "\n",
        "1, RRR\n",
        "\n",
        "2, stanford"
      ]
    },
    {
      "cell_type": "code",
      "metadata": {
        "id": "O6IULOJrfVPM"
      },
      "source": [
        "def inverse_stanford(x, y, z, a2, a3, d1=0, left=True):\n",
        "  if left:\n",
        "    alpha = np.arctan2(x, y)\n",
        "    beta = np.arctan2(-np.sqrt(np.abs(x**2 + y**2 - d1**2)), -d1)\n",
        "    theta1 = alpha + beta\n",
        "  else: \n",
        "    alpha = np.arctan2(x, y)\n",
        "    beta = np.arctan2(np.sqrt(np.abs(x**2 + y**2 - d1**2)), d1)\n",
        "    theta1 = alpha - beta\n",
        "\n",
        "  theta2 = np.arctan2(x**2 + y**2, z-d1)\n",
        "  D3 = np.sqrt(np.abs(x**2 + y**2 + (z-d1)**2))\n",
        "  return theta1, theta2, D3"
      ],
      "execution_count": null,
      "outputs": []
    },
    {
      "cell_type": "code",
      "metadata": {
        "colab": {
          "base_uri": "https://localhost:8080/"
        },
        "id": "ACzkntBZb0Fv",
        "outputId": "3d6eea31-f745-45a6-e354-26b9997f3431"
      },
      "source": [
        "forward_stanford(d2=1, d3=2, theta_1=30, theta_2=45)\n",
        "np.arctan2(3, 1)"
      ],
      "execution_count": null,
      "outputs": [
        {
          "output_type": "execute_result",
          "data": {
            "text/plain": [
              "1.2490457723982544"
            ]
          },
          "metadata": {},
          "execution_count": 19
        }
      ]
    },
    {
      "cell_type": "code",
      "metadata": {
        "id": "Q9_rvGQidGPJ"
      },
      "source": [
        "def inverse_rrr(x, y, z, a2, a3, d1=0, left=True):\n",
        "  if left:\n",
        "    alpha = np.arctan2(x, y)\n",
        "    beta = np.arctan2(-np.sqrt(np.abs(x**2 + y**2 - d1**2)), -d1)\n",
        "    theta1 = alpha + beta\n",
        "  else: \n",
        "    alpha = np.arctan2(x, y)\n",
        "    beta = np.arctan2(np.sqrt(x**2 + y**2 - d1**2), d1)\n",
        "    theta1 = alpha - beta\n",
        "\n",
        "  D = (x**2 + y**2 - d1**2 + (z-d1)**2 - a2**2 - a3**2) / 2*a2*a3\n",
        "  theta3 = np.arctan2(D, -np.sqrt(np.abs(1 - D**2)))\n",
        "  theta2 = np.arctan2(np.sqrt(np.abs(x**2 + y**2 - d1**2)), z-d1) - np.arctan2(a2+a3*np.cos(theta3), a3*np.sin(theta3))\n",
        "  return theta1, theta2, theta3"
      ],
      "execution_count": null,
      "outputs": []
    },
    {
      "cell_type": "code",
      "metadata": {
        "id": "-ir_0cBzKtue"
      },
      "source": [
        "def inverse_scara(x, y, z, d4, a1, a2, RR):\n",
        "  theta2 = np.arccos((x**2 + y**2 - a1**2-a2**2)/(2*a1*a2))\n",
        "  theta1 = np.arctan2(y, x) - np.arctan2(a2*np.sin(theta2), a1 + a2*np.cos(theta2))\n",
        "  D3 = -z - d4\n",
        "  theta4 = theta1 + theta2 - np.arctan2(RR[0][0], RR[0][1])\n",
        "  return theta1, theta2, theta4"
      ],
      "execution_count": null,
      "outputs": []
    },
    {
      "cell_type": "code",
      "metadata": {
        "id": "0cLRCgPsWNko"
      },
      "source": [
        "def inverse_wrist(RR):\n",
        "  theta5_1 =  np.arctan2(RR[2][2], np.sqrt(np.abs(1 - RR[2][2]**2)))\n",
        "  theta5_2 =  np.arctan2(RR[2][2], -np.sqrt(np.abs(1 - RR[2][2]**2)))\n",
        "  if theta5_1 != 0 : # none_MONFARED\n",
        "    if np.sin(theta5_1)>0:\n",
        "      theta4_1 = np.arctan2(RR[0][2], RR[1][2])\n",
        "      theta6_1 = np.arctan2(RR[2][0], RR[2][1])\n",
        "      print(f\"\"\"\n",
        "      Theta4_1: {theta4_1},\n",
        "      Theta5_1: {theta5_1},\n",
        "      Theta6_1: {theta6_1}\"\"\")\n",
        "    if np.sin(theta5_2)<0:\n",
        "      theta4_2 = np.arctan2(-RR[0][2], -RR[1][2])\n",
        "      theta6_2 = np.arctan2(RR[2][0], -RR[2][1])\n",
        "      print(f\"\"\"\n",
        "      Theta4_2: {theta4_2},\n",
        "      Theta5_2: {theta5_2},\n",
        "      Theta6_2: {theta6_2}\"\"\")\n",
        "  else: \n",
        "    theta5 = 0\n",
        "    theta4 = (np.arctan2(RR[0][0], RR[1][0])+np.arctan2(RR[0][0], -RR[1][0]))/2\n",
        "    theta6 = theta4 - np.arctan2(RR[0][0], RR[1][0])\n",
        "    print(f\"\"\"\n",
        "      Theta4: {theta4},\n",
        "      Theta5: {theta5},\n",
        "      Theta6: {theta6}\"\"\")"
      ],
      "execution_count": null,
      "outputs": []
    },
    {
      "cell_type": "code",
      "metadata": {
        "id": "FBEx0Oa4f8QB"
      },
      "source": [
        "def inverse_robotic(x, y, z,RR=[], num=0, wist=False,left=True, a1=0, a2=0, a3=0, a4=0, a5=0, a6=0, d1=0, d2=0, d3=0, d4=0, d5=0, d6=0):\n",
        "\n",
        "  if num == 0:\n",
        "    T1, T2, T3 = inverse_scara(x, y, z, d4, a1, a2, RR)\n",
        "  elif num == 1:  \n",
        "    T1, T2, T3 = inverse_rrr(x, y, z, a2, a3, d1=0, left=True)\n",
        "  else:\n",
        "    T1, T2, T3 = inverse_stanford(x, y, z, a2, a3, d1=0, left=True)\n",
        "\n",
        "  if wist:\n",
        "    inverse_wrist(RR)\n",
        "\n",
        "  return [T1, T2, T3]"
      ],
      "execution_count": null,
      "outputs": []
    },
    {
      "cell_type": "code",
      "metadata": {
        "colab": {
          "base_uri": "https://localhost:8080/"
        },
        "id": "ThRszMARkWsG",
        "outputId": "a93bda29-95a9-48f6-fb41-062149657284"
      },
      "source": [
        "YT = np.array([[1, 1,3], [2,8,5],[4,7,9]])\n",
        "inverse_robotic(x=2, y=3, z=4, a2=5, a3=5,a1=2, num=0, d1=1, RR=YT, wist=False)"
      ],
      "execution_count": null,
      "outputs": [
        {
          "output_type": "execute_result",
          "data": {
            "text/plain": [
              "[-1.1760052070951348, 2.498091544796509, 0.5366881743039258]"
            ]
          },
          "metadata": {},
          "execution_count": 24
        }
      ]
    },
    {
      "cell_type": "code",
      "metadata": {
        "id": "-MgvUQD_klFl",
        "colab": {
          "base_uri": "https://localhost:8080/"
        },
        "outputId": "0f64435a-19ef-40f1-824a-742ff2585291"
      },
      "source": [
        "inverse_robotic(x=2, y=3, z=4, a2=5, a3=5, num=1, d1=4, left=True, wist=False)"
      ],
      "execution_count": null,
      "outputs": [
        {
          "output_type": "execute_result",
          "data": {
            "text/plain": [
              "[-0.982793723247329, -2.0153104341788657, -2.3561908620481042]"
            ]
          },
          "metadata": {},
          "execution_count": 25
        }
      ]
    },
    {
      "cell_type": "code",
      "metadata": {
        "colab": {
          "base_uri": "https://localhost:8080/"
        },
        "id": "GDYhQHzkzWBl",
        "outputId": "73dd756a-fb7d-4fad-bf54-002234409ccd"
      },
      "source": [
        "YT = np.array([[1, 1,3], [2,8,5],[4,7,9]])\n",
        "inverse_robotic(x=2, y=3, z=4, a2=5, a3=5, num=2, d1=0, left=False, wist=True, RR=YT)"
      ],
      "execution_count": null,
      "outputs": [
        {
          "output_type": "stream",
          "name": "stdout",
          "text": [
            "\n",
            "      Theta4_1: 0.5404195002705842,\n",
            "      Theta5_1: 0.7885037734282083,\n",
            "      Theta6_1: 0.5191461142465229\n"
          ]
        },
        {
          "output_type": "execute_result",
          "data": {
            "text/plain": [
              "[-0.982793723247329, 1.2722973952087173, 5.385164807134504]"
            ]
          },
          "metadata": {},
          "execution_count": 26
        }
      ]
    },
    {
      "cell_type": "markdown",
      "metadata": {
        "id": "ADC5SkEewsVd"
      },
      "source": [
        "#Determinan"
      ]
    },
    {
      "cell_type": "code",
      "metadata": {
        "colab": {
          "base_uri": "https://localhost:8080/"
        },
        "id": "lyLoRrrmakM8",
        "outputId": "57632c61-6fae-4823-8a70-feab5336bc00"
      },
      "source": [
        "np.linalg.det(np.int64(s))"
      ],
      "execution_count": null,
      "outputs": [
        {
          "output_type": "execute_result",
          "data": {
            "text/plain": [
              "1.0"
            ]
          },
          "metadata": {},
          "execution_count": 27
        }
      ]
    },
    {
      "cell_type": "markdown",
      "metadata": {
        "id": "MSyjpSrrww_8"
      },
      "source": [
        "#Inverse"
      ]
    },
    {
      "cell_type": "code",
      "metadata": {
        "colab": {
          "base_uri": "https://localhost:8080/"
        },
        "id": "EyAEj3Pjwlmd",
        "outputId": "9475d350-cff2-4286-94d1-2faafa19e0c4"
      },
      "source": [
        "np.linalg.inv(np.int64(s))"
      ],
      "execution_count": null,
      "outputs": [
        {
          "output_type": "execute_result",
          "data": {
            "text/plain": [
              "array([[  -0.,   -0.,   -1., -999.],\n",
              "       [  -0.,   -1.,   -0., -888.],\n",
              "       [  -1.,   -0.,   -0.,   -0.],\n",
              "       [   0.,    0.,    0.,    1.]])"
            ]
          },
          "metadata": {},
          "execution_count": 28
        }
      ]
    },
    {
      "cell_type": "markdown",
      "metadata": {
        "id": "bg3WHwSzytUY"
      },
      "source": [
        "#Test"
      ]
    },
    {
      "cell_type": "code",
      "metadata": {
        "colab": {
          "base_uri": "https://localhost:8080/"
        },
        "id": "mowLlFRlw5cT",
        "outputId": "ee37ca3d-0aef-46f3-816e-c0dc669d9589"
      },
      "source": [
        "z = np.dot(np.dot(R_z(30),R_x(60)), R_y(90))\n",
        "z\n",
        "# R_y(90)\n",
        "# np.arccos(-0.5)"
      ],
      "execution_count": null,
      "outputs": [
        {
          "output_type": "execute_result",
          "data": {
            "text/plain": [
              "array([[-0.433 , -0.25  ,  0.866 ,  0.    ],\n",
              "       [ 0.7505,  0.433 ,  0.5   ,  0.    ],\n",
              "       [-0.5   ,  0.866 ,  0.    ,  0.    ],\n",
              "       [ 0.    ,  0.    ,  0.    ,  1.    ]], dtype=float16)"
            ]
          },
          "metadata": {},
          "execution_count": 29
        }
      ]
    },
    {
      "cell_type": "code",
      "metadata": {
        "id": "xlx2uo5WzcCg",
        "colab": {
          "base_uri": "https://localhost:8080/"
        },
        "outputId": "06b4f16c-8a2e-4ff5-d1b7-e5833e17494b"
      },
      "source": [
        "# }a1 =DH(0, -90, -999, 0)\n",
        "# a2 =DH(0, -90, -888, 90)\n",
        "# a3 =DH(0, 0, -777, 0)\n",
        "\n",
        "# s=np.dot(a1, a2)\n",
        "# np.dot(s, a3)\n",
        "\n",
        "a1= DH(0,0,88, 99)\n",
        "a2=DH(0, -90, 44444, 0)\n",
        "np.dot(a1, a2)"
      ],
      "execution_count": null,
      "outputs": [
        {
          "output_type": "execute_result",
          "data": {
            "text/plain": [
              "array([[-1.565e-01,  0.000e+00, -9.878e-01,  0.000e+00],\n",
              "       [ 9.878e-01,  0.000e+00, -1.565e-01,  0.000e+00],\n",
              "       [ 0.000e+00, -1.000e+00,  0.000e+00,  4.454e+04],\n",
              "       [ 0.000e+00,  0.000e+00,  0.000e+00,  1.000e+00]], dtype=float16)"
            ]
          },
          "metadata": {},
          "execution_count": 21
        }
      ]
    },
    {
      "cell_type": "code",
      "source": [
        "a1"
      ],
      "metadata": {
        "id": "pNQqToizaWXE",
        "outputId": "381c08b1-059c-4877-dc1b-8a1643c7ff34",
        "colab": {
          "base_uri": "https://localhost:8080/"
        }
      },
      "execution_count": null,
      "outputs": [
        {
          "output_type": "execute_result",
          "data": {
            "text/plain": [
              "array([[-0.1565, -0.988 ,  0.    , -0.    ],\n",
              "       [ 0.988 , -0.1565,  0.    ,  0.    ],\n",
              "       [ 0.    ,  0.    ,  1.    , 88.    ],\n",
              "       [ 0.    ,  0.    ,  0.    ,  1.    ]], dtype=float16)"
            ]
          },
          "metadata": {},
          "execution_count": 22
        }
      ]
    },
    {
      "cell_type": "markdown",
      "metadata": {
        "id": "2Y2k2K0PB8d5"
      },
      "source": [
        "# Symbolic Matrix Product\n",
        "\n",
        "###SymPy is a Python library for symbolic mathematics. and is written in Python"
      ]
    },
    {
      "cell_type": "markdown",
      "metadata": {
        "id": "2fR1XQikvw0C"
      },
      "source": [
        "#Assignment 5"
      ]
    },
    {
      "cell_type": "code",
      "metadata": {
        "id": "UcFh_Z5jf8eK"
      },
      "source": [
        "import sympy\n",
        "import numpy as np\n",
        "\n",
        "def initialize_symbols(links_count=2):\n",
        "  symbol = ''\n",
        "  for v in 'm I l lc q dq u'.split():\n",
        "    for i in range(1, links_count + 1):\n",
        "      symbol += f'{v}_{i} '\n",
        "  symbol += 'g t'\n",
        "  return sympy.symbols(symbol, real=True)\n",
        "\n",
        "m_1, m_2, I_1, I_2, l_1, l_2, lc_1, lc_2, q_1, q_2, dq_1, dq_2, u_1, u_2, g, t = initialize_symbols(2)"
      ],
      "execution_count": null,
      "outputs": []
    },
    {
      "cell_type": "code",
      "metadata": {
        "colab": {
          "base_uri": "https://localhost:8080/",
          "height": 58
        },
        "id": "6cqC-9UfwNG2",
        "outputId": "cc20d261-22eb-468d-c9da-569eece66841"
      },
      "source": [
        "q = sympy.Matrix([q_1, q_2])\n",
        "dq = sympy.Matrix([dq_1, dq_2])\n",
        "\n",
        "R_1 = sympy.Matrix([[sympy.cos(q_1), -sympy.sin(q_1)],\n",
        "       [sympy.sin(q_1), sympy.cos(q_1)]])\n",
        "\n",
        "R_2 = sympy.Matrix([[sympy.cos(q_1 + q_2), -sympy.sin(q_1 + q_2)],\n",
        "       [sympy.sin(q_1 + q_2), sympy.cos(q_1 + q_2)]])       \n",
        "\n",
        "R_2"
      ],
      "execution_count": null,
      "outputs": [
        {
          "output_type": "execute_result",
          "data": {
            "text/latex": "$\\displaystyle \\left[\\begin{matrix}\\cos{\\left(q_{1} + q_{2} \\right)} & - \\sin{\\left(q_{1} + q_{2} \\right)}\\\\\\sin{\\left(q_{1} + q_{2} \\right)} & \\cos{\\left(q_{1} + q_{2} \\right)}\\end{matrix}\\right]$",
            "text/plain": [
              "Matrix([\n",
              "[cos(q_1 + q_2), -sin(q_1 + q_2)],\n",
              "[sin(q_1 + q_2),  cos(q_1 + q_2)]])"
            ]
          },
          "metadata": {},
          "execution_count": 32
        }
      ]
    },
    {
      "cell_type": "code",
      "metadata": {
        "colab": {
          "base_uri": "https://localhost:8080/",
          "height": 58
        },
        "id": "s6KlhLkX25nk",
        "outputId": "94ad85b1-3f0b-4e03-a31c-bdb9e99cc6b3"
      },
      "source": [
        "J_v_c1 = sympy.Matrix([[-lc_1 * sympy.sin(q_1), 0], \n",
        "          [lc_1 * sympy.cos(q_1), 0]])\n",
        "\n",
        "J_v_c2 = sympy.Matrix([[-l_1 * sympy.sin(q_1) - lc_2 * sympy.sin(q_1+q_2), -lc_2 * sympy.sin(q_1+q_2)],\n",
        "          [l_1 * sympy.cos(q_1) + lc_2 * sympy.cos(q_1+q_2), lc_2 * sympy.cos(q_1+q_2)]])\n",
        "       \n",
        "J_w_1 = sympy.Matrix([[1, 0], [0, 0]])\n",
        "J_w_2 = sympy.Matrix([[1, 1], [0, 0]])\n",
        "\n",
        "J_v_c2      "
      ],
      "execution_count": null,
      "outputs": [
        {
          "output_type": "execute_result",
          "data": {
            "text/latex": "$\\displaystyle \\left[\\begin{matrix}- l_{1} \\sin{\\left(q_{1} \\right)} - lc_{2} \\sin{\\left(q_{1} + q_{2} \\right)} & - lc_{2} \\sin{\\left(q_{1} + q_{2} \\right)}\\\\l_{1} \\cos{\\left(q_{1} \\right)} + lc_{2} \\cos{\\left(q_{1} + q_{2} \\right)} & lc_{2} \\cos{\\left(q_{1} + q_{2} \\right)}\\end{matrix}\\right]$",
            "text/plain": [
              "Matrix([\n",
              "[-l_1*sin(q_1) - lc_2*sin(q_1 + q_2), -lc_2*sin(q_1 + q_2)],\n",
              "[ l_1*cos(q_1) + lc_2*cos(q_1 + q_2),  lc_2*cos(q_1 + q_2)]])"
            ]
          },
          "metadata": {},
          "execution_count": 33
        }
      ]
    },
    {
      "cell_type": "code",
      "metadata": {
        "colab": {
          "base_uri": "https://localhost:8080/",
          "height": 80
        },
        "id": "GtAJ34OL64o9",
        "outputId": "78b42905-9cfd-4261-e905-e3d448b8935f"
      },
      "source": [
        "D = m_1 * J_v_c1.T * J_v_c1 + m_2 * J_v_c2.T * J_v_c2 + I_1 * J_w_1.T * J_w_1 + I_2 * J_w_2.T * J_w_2\n",
        "D"
      ],
      "execution_count": null,
      "outputs": [
        {
          "output_type": "execute_result",
          "data": {
            "text/latex": "$\\displaystyle \\left[\\begin{matrix}I_{1} + I_{2} + lc_{1}^{2} m_{1} \\sin^{2}{\\left(q_{1} \\right)} + lc_{1}^{2} m_{1} \\cos^{2}{\\left(q_{1} \\right)} + m_{2} \\left(- l_{1} \\sin{\\left(q_{1} \\right)} - lc_{2} \\sin{\\left(q_{1} + q_{2} \\right)}\\right)^{2} + m_{2} \\left(l_{1} \\cos{\\left(q_{1} \\right)} + lc_{2} \\cos{\\left(q_{1} + q_{2} \\right)}\\right)^{2} & I_{2} - lc_{2} m_{2} \\left(- l_{1} \\sin{\\left(q_{1} \\right)} - lc_{2} \\sin{\\left(q_{1} + q_{2} \\right)}\\right) \\sin{\\left(q_{1} + q_{2} \\right)} + lc_{2} m_{2} \\left(l_{1} \\cos{\\left(q_{1} \\right)} + lc_{2} \\cos{\\left(q_{1} + q_{2} \\right)}\\right) \\cos{\\left(q_{1} + q_{2} \\right)}\\\\I_{2} - lc_{2} m_{2} \\left(- l_{1} \\sin{\\left(q_{1} \\right)} - lc_{2} \\sin{\\left(q_{1} + q_{2} \\right)}\\right) \\sin{\\left(q_{1} + q_{2} \\right)} + lc_{2} m_{2} \\left(l_{1} \\cos{\\left(q_{1} \\right)} + lc_{2} \\cos{\\left(q_{1} + q_{2} \\right)}\\right) \\cos{\\left(q_{1} + q_{2} \\right)} & I_{2} + lc_{2}^{2} m_{2} \\sin^{2}{\\left(q_{1} + q_{2} \\right)} + lc_{2}^{2} m_{2} \\cos^{2}{\\left(q_{1} + q_{2} \\right)}\\end{matrix}\\right]$",
            "text/plain": [
              "Matrix([\n",
              "[I_1 + I_2 + lc_1**2*m_1*sin(q_1)**2 + lc_1**2*m_1*cos(q_1)**2 + m_2*(-l_1*sin(q_1) - lc_2*sin(q_1 + q_2))**2 + m_2*(l_1*cos(q_1) + lc_2*cos(q_1 + q_2))**2, I_2 - lc_2*m_2*(-l_1*sin(q_1) - lc_2*sin(q_1 + q_2))*sin(q_1 + q_2) + lc_2*m_2*(l_1*cos(q_1) + lc_2*cos(q_1 + q_2))*cos(q_1 + q_2)],\n",
              "[                        I_2 - lc_2*m_2*(-l_1*sin(q_1) - lc_2*sin(q_1 + q_2))*sin(q_1 + q_2) + lc_2*m_2*(l_1*cos(q_1) + lc_2*cos(q_1 + q_2))*cos(q_1 + q_2),                                                                I_2 + lc_2**2*m_2*sin(q_1 + q_2)**2 + lc_2**2*m_2*cos(q_1 + q_2)**2]])"
            ]
          },
          "metadata": {},
          "execution_count": 34
        }
      ]
    },
    {
      "cell_type": "code",
      "metadata": {
        "colab": {
          "base_uri": "https://localhost:8080/",
          "height": 78
        },
        "id": "uSCBxIz58X7R",
        "outputId": "b62198ee-dbc4-4bdc-9dd0-d90b02e400e6"
      },
      "source": [
        "n = max(q.shape)\n",
        "C = sympy.zeros(n)\n",
        "for k in range(n):\n",
        "  for j in range(n):\n",
        "    for i in range(n):\n",
        "      C[k, j] = C[k, j] + 0.5 * (sympy.diff(D[k, j], q[i]) + sympy.diff(D[k, i], q[j]) - sympy.diff(D[i, j], q[k])) * dq[i] \n",
        "\n",
        "C      "
      ],
      "execution_count": null,
      "outputs": [
        {
          "output_type": "execute_result",
          "data": {
            "text/latex": "$\\displaystyle \\left[\\begin{matrix}dq_{1} \\left(0.5 m_{2} \\left(- 2 l_{1} \\sin{\\left(q_{1} \\right)} - 2 lc_{2} \\sin{\\left(q_{1} + q_{2} \\right)}\\right) \\left(l_{1} \\cos{\\left(q_{1} \\right)} + lc_{2} \\cos{\\left(q_{1} + q_{2} \\right)}\\right) + 0.5 m_{2} \\left(- l_{1} \\sin{\\left(q_{1} \\right)} - lc_{2} \\sin{\\left(q_{1} + q_{2} \\right)}\\right) \\left(- 2 l_{1} \\cos{\\left(q_{1} \\right)} - 2 lc_{2} \\cos{\\left(q_{1} + q_{2} \\right)}\\right)\\right) + dq_{2} \\left(- 1.0 lc_{2} m_{2} \\left(- l_{1} \\sin{\\left(q_{1} \\right)} - lc_{2} \\sin{\\left(q_{1} + q_{2} \\right)}\\right) \\cos{\\left(q_{1} + q_{2} \\right)} - 1.0 lc_{2} m_{2} \\left(l_{1} \\cos{\\left(q_{1} \\right)} + lc_{2} \\cos{\\left(q_{1} + q_{2} \\right)}\\right) \\sin{\\left(q_{1} + q_{2} \\right)}\\right) & dq_{1} \\left(- 1.0 lc_{2} m_{2} \\left(- l_{1} \\sin{\\left(q_{1} \\right)} - lc_{2} \\sin{\\left(q_{1} + q_{2} \\right)}\\right) \\cos{\\left(q_{1} + q_{2} \\right)} - 1.0 lc_{2} m_{2} \\left(l_{1} \\cos{\\left(q_{1} \\right)} + lc_{2} \\cos{\\left(q_{1} + q_{2} \\right)}\\right) \\sin{\\left(q_{1} + q_{2} \\right)}\\right) + dq_{2} \\left(- 1.0 lc_{2} m_{2} \\left(- l_{1} \\sin{\\left(q_{1} \\right)} - lc_{2} \\sin{\\left(q_{1} + q_{2} \\right)}\\right) \\cos{\\left(q_{1} + q_{2} \\right)} - 1.0 lc_{2} m_{2} \\left(l_{1} \\cos{\\left(q_{1} \\right)} + lc_{2} \\cos{\\left(q_{1} + q_{2} \\right)}\\right) \\sin{\\left(q_{1} + q_{2} \\right)}\\right)\\\\dq_{1} \\left(1.0 lc_{2} m_{2} \\left(- l_{1} \\sin{\\left(q_{1} \\right)} - lc_{2} \\sin{\\left(q_{1} + q_{2} \\right)}\\right) \\cos{\\left(q_{1} + q_{2} \\right)} - 1.0 lc_{2} m_{2} \\left(- l_{1} \\cos{\\left(q_{1} \\right)} - lc_{2} \\cos{\\left(q_{1} + q_{2} \\right)}\\right) \\sin{\\left(q_{1} + q_{2} \\right)}\\right) & 0\\end{matrix}\\right]$",
            "text/plain": [
              "Matrix([\n",
              "[dq_1*(0.5*m_2*(-2*l_1*sin(q_1) - 2*lc_2*sin(q_1 + q_2))*(l_1*cos(q_1) + lc_2*cos(q_1 + q_2)) + 0.5*m_2*(-l_1*sin(q_1) - lc_2*sin(q_1 + q_2))*(-2*l_1*cos(q_1) - 2*lc_2*cos(q_1 + q_2))) + dq_2*(-1.0*lc_2*m_2*(-l_1*sin(q_1) - lc_2*sin(q_1 + q_2))*cos(q_1 + q_2) - 1.0*lc_2*m_2*(l_1*cos(q_1) + lc_2*cos(q_1 + q_2))*sin(q_1 + q_2)), dq_1*(-1.0*lc_2*m_2*(-l_1*sin(q_1) - lc_2*sin(q_1 + q_2))*cos(q_1 + q_2) - 1.0*lc_2*m_2*(l_1*cos(q_1) + lc_2*cos(q_1 + q_2))*sin(q_1 + q_2)) + dq_2*(-1.0*lc_2*m_2*(-l_1*sin(q_1) - lc_2*sin(q_1 + q_2))*cos(q_1 + q_2) - 1.0*lc_2*m_2*(l_1*cos(q_1) + lc_2*cos(q_1 + q_2))*sin(q_1 + q_2))],\n",
              "[                                                                                                                                                                                          dq_1*(1.0*lc_2*m_2*(-l_1*sin(q_1) - lc_2*sin(q_1 + q_2))*cos(q_1 + q_2) - 1.0*lc_2*m_2*(-l_1*cos(q_1) - lc_2*cos(q_1 + q_2))*sin(q_1 + q_2)),                                                                                                                                                                                                                                                                                           0]])"
            ]
          },
          "metadata": {},
          "execution_count": 35
        }
      ]
    },
    {
      "cell_type": "code",
      "metadata": {
        "colab": {
          "base_uri": "https://localhost:8080/",
          "height": 38
        },
        "id": "yF662CRcIRjN",
        "outputId": "bc095885-4c41-4bf9-815b-acec8d14d89e"
      },
      "source": [
        "p_1 = m_1 * g * lc_1 * sympy.sin(q_1)\n",
        "p_2 = m_2 * g * (l_1 * sympy.sin(q_1) + lc_2 * sympy.sin(q_1 + q_2))\n",
        "P = sympy.Matrix([p_1 + p_2])\n",
        "P"
      ],
      "execution_count": null,
      "outputs": [
        {
          "output_type": "execute_result",
          "data": {
            "text/latex": "$\\displaystyle \\left[\\begin{matrix}g lc_{1} m_{1} \\sin{\\left(q_{1} \\right)} + g m_{2} \\left(l_{1} \\sin{\\left(q_{1} \\right)} + lc_{2} \\sin{\\left(q_{1} + q_{2} \\right)}\\right)\\end{matrix}\\right]$",
            "text/plain": [
              "Matrix([[g*lc_1*m_1*sin(q_1) + g*m_2*(l_1*sin(q_1) + lc_2*sin(q_1 + q_2))]])"
            ]
          },
          "metadata": {},
          "execution_count": 36
        }
      ]
    },
    {
      "cell_type": "code",
      "metadata": {
        "colab": {
          "base_uri": "https://localhost:8080/",
          "height": 58
        },
        "id": "7mEW_fBm9OQW",
        "outputId": "47d8da9a-7925-4363-9337-3082403114aa"
      },
      "source": [
        "G = P.jacobian(q).T\n",
        "G"
      ],
      "execution_count": null,
      "outputs": [
        {
          "output_type": "execute_result",
          "data": {
            "text/latex": "$\\displaystyle \\left[\\begin{matrix}g lc_{1} m_{1} \\cos{\\left(q_{1} \\right)} + g m_{2} \\left(l_{1} \\cos{\\left(q_{1} \\right)} + lc_{2} \\cos{\\left(q_{1} + q_{2} \\right)}\\right)\\\\g lc_{2} m_{2} \\cos{\\left(q_{1} + q_{2} \\right)}\\end{matrix}\\right]$",
            "text/plain": [
              "Matrix([\n",
              "[g*lc_1*m_1*cos(q_1) + g*m_2*(l_1*cos(q_1) + lc_2*cos(q_1 + q_2))],\n",
              "[                                       g*lc_2*m_2*cos(q_1 + q_2)]])"
            ]
          },
          "metadata": {},
          "execution_count": 37
        }
      ]
    },
    {
      "cell_type": "code",
      "metadata": {
        "colab": {
          "base_uri": "https://localhost:8080/",
          "height": 121
        },
        "id": "2l2BHQYmX2dU",
        "outputId": "5564bdd9-9a3d-4432-c32d-dd529ae36c3c"
      },
      "source": [
        "x = sympy.Matrix([q, dq])\n",
        "f_x = sympy.Matrix([dq, -D.T * (C*dq + G)])\n",
        "g_x = sympy.Matrix([sympy.zeros(max(dq.shape)), D.T])\n",
        "g_x"
      ],
      "execution_count": null,
      "outputs": [
        {
          "output_type": "execute_result",
          "data": {
            "text/latex": "$\\displaystyle \\left[\\begin{matrix}0 & 0\\\\0 & 0\\\\I_{1} + I_{2} + lc_{1}^{2} m_{1} \\sin^{2}{\\left(q_{1} \\right)} + lc_{1}^{2} m_{1} \\cos^{2}{\\left(q_{1} \\right)} + m_{2} \\left(- l_{1} \\sin{\\left(q_{1} \\right)} - lc_{2} \\sin{\\left(q_{1} + q_{2} \\right)}\\right)^{2} + m_{2} \\left(l_{1} \\cos{\\left(q_{1} \\right)} + lc_{2} \\cos{\\left(q_{1} + q_{2} \\right)}\\right)^{2} & I_{2} - lc_{2} m_{2} \\left(- l_{1} \\sin{\\left(q_{1} \\right)} - lc_{2} \\sin{\\left(q_{1} + q_{2} \\right)}\\right) \\sin{\\left(q_{1} + q_{2} \\right)} + lc_{2} m_{2} \\left(l_{1} \\cos{\\left(q_{1} \\right)} + lc_{2} \\cos{\\left(q_{1} + q_{2} \\right)}\\right) \\cos{\\left(q_{1} + q_{2} \\right)}\\\\I_{2} - lc_{2} m_{2} \\left(- l_{1} \\sin{\\left(q_{1} \\right)} - lc_{2} \\sin{\\left(q_{1} + q_{2} \\right)}\\right) \\sin{\\left(q_{1} + q_{2} \\right)} + lc_{2} m_{2} \\left(l_{1} \\cos{\\left(q_{1} \\right)} + lc_{2} \\cos{\\left(q_{1} + q_{2} \\right)}\\right) \\cos{\\left(q_{1} + q_{2} \\right)} & I_{2} + lc_{2}^{2} m_{2} \\sin^{2}{\\left(q_{1} + q_{2} \\right)} + lc_{2}^{2} m_{2} \\cos^{2}{\\left(q_{1} + q_{2} \\right)}\\end{matrix}\\right]$",
            "text/plain": [
              "Matrix([\n",
              "[                                                                                                                                                         0,                                                                                                                                  0],\n",
              "[                                                                                                                                                         0,                                                                                                                                  0],\n",
              "[I_1 + I_2 + lc_1**2*m_1*sin(q_1)**2 + lc_1**2*m_1*cos(q_1)**2 + m_2*(-l_1*sin(q_1) - lc_2*sin(q_1 + q_2))**2 + m_2*(l_1*cos(q_1) + lc_2*cos(q_1 + q_2))**2, I_2 - lc_2*m_2*(-l_1*sin(q_1) - lc_2*sin(q_1 + q_2))*sin(q_1 + q_2) + lc_2*m_2*(l_1*cos(q_1) + lc_2*cos(q_1 + q_2))*cos(q_1 + q_2)],\n",
              "[                        I_2 - lc_2*m_2*(-l_1*sin(q_1) - lc_2*sin(q_1 + q_2))*sin(q_1 + q_2) + lc_2*m_2*(l_1*cos(q_1) + lc_2*cos(q_1 + q_2))*cos(q_1 + q_2),                                                                I_2 + lc_2**2*m_2*sin(q_1 + q_2)**2 + lc_2**2*m_2*cos(q_1 + q_2)**2]])"
            ]
          },
          "metadata": {},
          "execution_count": 38
        }
      ]
    },
    {
      "cell_type": "code",
      "metadata": {
        "id": "ZhHCVJIPLf1Y"
      },
      "source": [
        "def dynamics_terms(links_count=2, symbolic=True, *args):\n",
        "  m_1, m_2, I_1, I_2, l_1, l_2, lc_1, lc_2, q_1, q_2, dq_1, dq_2, u_1, u_2, g, t = initialize_symbols(links_count)\n",
        "  q = sympy.Matrix([q_1, q_2])\n",
        "  dq = sympy.Matrix([dq_1, dq_2])\n",
        "  u = sympy.Matrix([u_1, u_2])\n",
        "  R_1 = sympy.Matrix([[sympy.cos(q_1), -sympy.sin(q_1)],\n",
        "        [sympy.sin(q_1), sympy.cos(q_1)]])\n",
        "\n",
        "  R_2 = sympy.Matrix([[sympy.cos(q_1 + q_2), -sympy.sin(q_1 + q_2)],\n",
        "        [sympy.sin(q_1 + q_2), sympy.cos(q_1 + q_2)]])       \n",
        "\n",
        "  J_v_c1 = sympy.Matrix([[-lc_1 * sympy.sin(q_1), 0], \n",
        "            [lc_1 * sympy.cos(q_1), 0]])\n",
        "\n",
        "  J_v_c2 = sympy.Matrix([[-l_1 * sympy.sin(q_1) - lc_2 * sympy.sin(q_1+q_2), -lc_2 * sympy.sin(q_1+q_2)],\n",
        "            [l_1 * sympy.cos(q_1) + lc_2 * sympy.cos(q_1+q_2), lc_2 * sympy.cos(q_1+q_2)]])\n",
        "        \n",
        "  J_w_1 = sympy.Matrix([[1, 0], [0, 0]])\n",
        "  J_w_2 = sympy.Matrix([[1, 1], [0, 0]])\n",
        "\n",
        "  D = m_1 * J_v_c1.T * J_v_c1 + m_2 * J_v_c2.T * J_v_c2 + I_1 * J_w_1.T * J_w_1 + I_2 * J_w_2.T * J_w_2\n",
        "\n",
        "  n = max(q.shape)\n",
        "  C = sympy.zeros(n)\n",
        "  for k in range(n):\n",
        "    for j in range(n):\n",
        "      for i in range(n):\n",
        "        C[k, j] = C[k, j] + 0.5 * (sympy.diff(D[k, j], q[i]) + sympy.diff(D[k, i], q[j]) - sympy.diff(D[i, j], q[k])) * dq[i] \n",
        "  p_1 = m_1 * g * lc_1 * sympy.sin(q_1)\n",
        "  p_2 = m_2 * g * (l_1 * sympy.sin(q_1) + lc_2 * sympy.sin(q_1 + q_2))\n",
        "  P = sympy.Matrix([p_1 + p_2])\n",
        "\n",
        "  G = P.jacobian(q).T\n",
        "\n",
        "  # Open Loop Dynamics of the manipulator\n",
        "  x = sympy.Matrix([q, dq])\n",
        "  f_x = sympy.Matrix([dq, -D.T * (C*dq + G)])\n",
        "  g_x = sympy.Matrix([sympy.zeros(max(dq.shape)), D.T])\n",
        "  dx = f_x + g_x * u\n",
        "\n",
        "  if symbolic:\n",
        "    return D, C, G, x, dx\n",
        "  else: \n",
        "    return D.subs([(i, j) for i, j in zip([m_1, m_2, I_1, I_2, l_1, l_2, lc_1, lc_2, q_1, q_2, dq_1, dq_2, u_1, u_2, g], *args)]) , C.subs([(i, j) for i, j in zip([m_1, m_2, I_1, I_2, l_1, l_2, lc_1, lc_2, q_1, q_2, dq_1, dq_2, u_1, u_2, g], *args)])  , G.subs([(i, j) for i, j in zip([m_1, m_2, I_1, I_2, l_1, l_2, lc_1, lc_2, q_1, q_2, dq_1, dq_2, u_1, u_2, g], *args)]), x.subs([(i, j) for i, j in zip([m_1, m_2, I_1, I_2, l_1, l_2, lc_1, lc_2, q_1, q_2, dq_1, dq_2, u_1, u_2, g], *args)]), dx.subs([(i, j) for i, j in zip([m_1, m_2, I_1, I_2, l_1, l_2, lc_1, lc_2, q_1, q_2, dq_1, dq_2, u_1, u_2, g], *args)])  "
      ],
      "execution_count": null,
      "outputs": []
    },
    {
      "cell_type": "code",
      "metadata": {
        "colab": {
          "base_uri": "https://localhost:8080/"
        },
        "id": "LJVH7lfXTQUE",
        "outputId": "e29fc55e-3099-49d5-f464-190c39687f7b"
      },
      "source": [
        "res_d, res_c, res_g, res_x, res_dx = dynamics_terms(2, False, [1, 1, 0.25, 0.25, 0.25, 0.25, 0.5, 0.5, sympy.pi/3, sympy.pi/6, 1, 2, 3, 4, 10])\n",
        "print(res_d)\n",
        "print(res_c)\n",
        "print(res_g)\n",
        "print(res_x)\n",
        "print(res_dx)"
      ],
      "execution_count": null,
      "outputs": [
        {
          "output_type": "stream",
          "name": "stdout",
          "text": [
            "Matrix([[0.25*(-1 - 0.25*sqrt(3))**2 + 0.765625, 0.0625*sqrt(3) + 0.5], [0.0625*sqrt(3) + 0.5, 0.500000000000000]])\n",
            "Matrix([[-0.125000000000000, -0.187500000000000], [0.0625000000000000, 0]])\n",
            "Matrix([[3.75000000000000], [0]])\n",
            "Matrix([[pi/3], [pi/6], [1], [2]])\n",
            "Matrix([[1], [2], [-0.0625*(-1 - 0.25*sqrt(3))**2 + 0.24609375*sqrt(3) + 1.77734375], [1.84375 - 0.015625*sqrt(3)]])\n"
          ]
        }
      ]
    },
    {
      "cell_type": "markdown",
      "metadata": {
        "id": "p07v2hLDsQM8"
      },
      "source": [
        "#Regulation"
      ]
    },
    {
      "cell_type": "code",
      "metadata": {
        "id": "SxXmOAs0TT7i"
      },
      "source": [
        "def regulation(switch=0, links_count=2, symbolic=True, landa=2, disturbance= sympy.Matrix([0, 0]),q_d=[], k_p=0, k_d=0, k_i=0, args_list=[]):\n",
        "\n",
        "  q_1, q_2, dq_1, dq_2, u_1, u_2, t = sympy.symbols('q_1 q_2 dq_1 dq_2 u_1 u_2 t')\n",
        "  \n",
        "  D, C, G, _, _ = dynamics_terms(links_count, symbolic, args_list)\n",
        "\n",
        "  KP = k_p * sympy.eye(D.shape[0])\n",
        "  KD = k_d * sympy.eye(D.shape[0])\n",
        "  KI = k_i * sympy.eye(D.shape[0])\n",
        "\n",
        "  q = sympy.Matrix([q_1, q_2])\n",
        "  dq = sympy.Matrix([dq_1, dq_2])\n",
        "  u = sympy.Matrix([u_1, u_2])\n",
        "  \n",
        "  if switch == 0: # PD with Gravity Compensation\n",
        "\n",
        "    q_tilde = q - q_d\n",
        "    u = -KP * q_tilde - KD*dq + G\n",
        "\n",
        "  elif switch == 1: # Inverse Dynamics Controller\n",
        "\n",
        "    q_d = 0.5 * sympy.Matrix([sympy.sin(t), sympy.cos(t)])\n",
        "    d_q_d = sympy.diff(q_d, t)\n",
        "    dd_q_d = sympy.diff(d_q_d, t)\n",
        "    q_tilde = q - q_d\n",
        "\n",
        "    #v = dd_q_d + KD * (d_q_d - dq) + KP * (q_d - q) + KI / (q_d - q)\n",
        "    v = dd_q_d + KD * (d_q_d - dq) + KP * (q_d - q) + KI * sympy.integrate(q_d - q, t)\n",
        "    u = D * v + C * dq + G - disturbance\n",
        "\n",
        "  elif switch == 2: # the Lyapunov-based controler\n",
        "    \n",
        "    q_d = 0.5 * sympy.Matrix([sympy.sin(t), sympy.cos(t)])\n",
        "    d_q_d = sympy.diff(q_d, t)\n",
        "    A = landa * sympy.eye(max(q_d.shape))\n",
        "    q_hat = q - q_d\n",
        "    d_zeta = d_q_d - A * q_hat\n",
        "    dd_zeta = sympy.diff(d_zeta, t)\n",
        "    sigma = dq - d_zeta\n",
        "    d_hat = KI * sigma  \n",
        "    d_hat[0] = 0  \n",
        "    u = D * dd_zeta + C * d_zeta + G - KD * sigma - d_hat - disturbance\n",
        "\n",
        "  else: # discontinuous Lyapunov-based controller\n",
        "    \n",
        "    q_d = 0.5 * sympy.Matrix([sympy.sin(t), sympy.cos(t)])\n",
        "    d_q_d = sympy.diff(q_d, t)\n",
        "\n",
        "    A = landa * sympy.eye(max(q_d.shape))\n",
        "    q_hat = q - q_d\n",
        "    d_zeta = d_q_d - A * q_hat\n",
        "    dd_zeta = sympy.diff(d_zeta, t)\n",
        "    sigma = dq - d_zeta\n",
        "    d_hat = KI * sigma  \n",
        "    d_hat[0] = 0  \n",
        "\n",
        "    u = D * dd_zeta + C * d_zeta + G - KD * sigma/(sigma[0]**2 + sigma[1]**2) - disturbance\n",
        "\n",
        "\n",
        "  if symbolic:\n",
        "    return u\n",
        "  else: \n",
        "    return u.subs([(i, j) for i, j in zip([m_1, m_2, I_1, I_2, l_1, l_2, lc_1, lc_2, q_1, q_2, dq_1, dq_2, u_1, u_2, g], args_list)])"
      ],
      "execution_count": null,
      "outputs": []
    },
    {
      "cell_type": "code",
      "metadata": {
        "id": "TK4syzHoK1av",
        "colab": {
          "base_uri": "https://localhost:8080/",
          "height": 60
        },
        "outputId": "da92de43-7838-41d0-8d0a-f43da7e8ba4a"
      },
      "source": [
        "# 1\n",
        "values = [1, 1, 0.25, 0.25, 0.5, 0.5, 0.25, 0.25, sympy.pi/4, 0, 0, 0, 3, 4, 9.81, 0]\n",
        "\n",
        "# d = (0, 0)\n",
        "reg1_0 = regulation(switch=1, links_count=2, symbolic=False, q_d=sympy.Matrix([sympy.pi/3, sympy.pi/3]), k_p=21, k_d=12, k_i=10, landa=2, disturbance=sympy.Matrix([0, 0]), args_list=values)\n",
        "\n",
        "# d = (1, -1)\n",
        "reg1_1 = regulation(switch=1, links_count=2, symbolic=False, q_d=sympy.Matrix([sympy.pi/3, sympy.pi/3]), k_p=21, k_d=12, k_i=10, landa=2, disturbance=sympy.Matrix([1, -1]), args_list=values)\n",
        "\n",
        "reg1_0\n",
        "# reg1_1"
      ],
      "execution_count": null,
      "outputs": [
        {
          "output_type": "execute_result",
          "data": {
            "text/latex": "$\\displaystyle \\left[\\begin{matrix}- 2.8125 \\pi t + 10.8125 \\sin{\\left(t \\right)} + 5.5 \\cos{\\left(t \\right)} - 5.90625 \\pi + 4.905 \\sqrt{2}\\\\- 1.09375 \\pi t + 4.0625 \\sin{\\left(t \\right)} + 3.5625 \\cos{\\left(t \\right)} - 2.296875 \\pi + 1.22625 \\sqrt{2}\\end{matrix}\\right]$",
            "text/plain": [
              "Matrix([\n",
              "[      -2.8125*pi*t + 10.8125*sin(t) + 5.5*cos(t) - 5.90625*pi + 4.905*sqrt(2)],\n",
              "[-1.09375*pi*t + 4.0625*sin(t) + 3.5625*cos(t) - 2.296875*pi + 1.22625*sqrt(2)]])"
            ]
          },
          "metadata": {},
          "execution_count": 42
        }
      ]
    },
    {
      "cell_type": "code",
      "metadata": {
        "colab": {
          "base_uri": "https://localhost:8080/",
          "height": 60
        },
        "id": "jpIOWv6wVHgg",
        "outputId": "c9443696-677b-4b1b-bafc-c71985ef6294"
      },
      "source": [
        "# 2\n",
        "values = [1, 1, 0.25, 0.25, 0.5, 0.5, 0.25, 0.25, sympy.pi/4, 0, 0, 0, 3, 4, 9.81, 0]\n",
        "\n",
        "# d = (0, 0)\n",
        "reg2_0 = regulation(switch=2, links_count=2, symbolic=False, q_d=sympy.Matrix([sympy.pi/3, sympy.pi/3]), k_p=21, k_d=2, k_i=1, landa=2, disturbance=sympy.Matrix([0, 0]), args_list=values)\n",
        "\n",
        "# d = (1, -1)\n",
        "reg2_1 = regulation(switch=2, links_count=2, symbolic=False, q_d=sympy.Matrix([sympy.pi/3, sympy.pi/3]), k_p=21, k_d=2, k_i=1, landa=2, disturbance=sympy.Matrix([1, -1]), args_list=values)\n",
        "\n",
        "reg2_0\n",
        "# reg2_1"
      ],
      "execution_count": null,
      "outputs": [
        {
          "output_type": "execute_result",
          "data": {
            "text/latex": "$\\displaystyle \\left[\\begin{matrix}1.0 \\sin{\\left(t \\right)} + 1.90625 \\cos{\\left(t \\right)} - \\pi + 4.905 \\sqrt{2}\\\\- 2.03125 \\sin{\\left(t \\right)} + 3.28125 \\cos{\\left(t \\right)} + 1.22625 \\sqrt{2}\\end{matrix}\\right]$",
            "text/plain": [
              "Matrix([\n",
              "[  1.0*sin(t) + 1.90625*cos(t) - pi + 4.905*sqrt(2)],\n",
              "[-2.03125*sin(t) + 3.28125*cos(t) + 1.22625*sqrt(2)]])"
            ]
          },
          "metadata": {},
          "execution_count": 43
        }
      ]
    },
    {
      "cell_type": "code",
      "metadata": {
        "id": "S0PdDBFUunOI",
        "colab": {
          "base_uri": "https://localhost:8080/",
          "height": 71
        },
        "outputId": "62e5de3e-9bd4-40cc-c8d5-994946162e12"
      },
      "source": [
        "# 3 \n",
        "values = [1, 1, 0.25, 0.25, 0.5, 0.5, 0.25, 0.25, sympy.pi/4, 0, 0, 0, 3, 4, 9.81, 0]\n",
        "\n",
        "# d = (0, 0)\n",
        "reg3_0 = regulation(switch=3, links_count=2, symbolic=False, q_d=sympy.Matrix([sympy.pi/3, sympy.pi/3]), k_p=21, k_d=2, k_i=1, landa=2, disturbance=sympy.Matrix([0, 0]), args_list=values)\n",
        "\n",
        "# d = (1, -1)\n",
        "reg3_1 = regulation(switch=3, links_count=2, symbolic=False, q_d=sympy.Matrix([sympy.pi/3, sympy.pi/3]), k_p=21, k_d=2, k_i=1, landa=2, disturbance=sympy.Matrix([1, -1]), args_list=values)\n",
        "\n",
        "\n",
        "reg3_0\n",
        "# reg3_1"
      ],
      "execution_count": null,
      "outputs": [
        {
          "output_type": "execute_result",
          "data": {
            "text/latex": "$\\displaystyle \\left[\\begin{matrix}- 1.0 \\sin{\\left(t \\right)} + 0.90625 \\cos{\\left(t \\right)} + 4.905 \\sqrt{2} - \\frac{- 2.0 \\sin{\\left(t \\right)} - 1.0 \\cos{\\left(t \\right)} + \\pi}{1.0 \\left(0.5 \\sin{\\left(t \\right)} - \\cos{\\left(t \\right)}\\right)^{2} + 1.0 \\left(- \\sin{\\left(t \\right)} - 0.5 \\cos{\\left(t \\right)} + 0.5 \\pi\\right)^{2}}\\\\- 0.53125 \\sin{\\left(t \\right)} + 0.28125 \\cos{\\left(t \\right)} + 1.22625 \\sqrt{2} - \\frac{\\sin{\\left(t \\right)} - 2.0 \\cos{\\left(t \\right)}}{1.0 \\left(0.5 \\sin{\\left(t \\right)} - \\cos{\\left(t \\right)}\\right)^{2} + 1.0 \\left(- \\sin{\\left(t \\right)} - 0.5 \\cos{\\left(t \\right)} + 0.5 \\pi\\right)^{2}}\\end{matrix}\\right]$",
            "text/plain": [
              "Matrix([\n",
              "[-1.0*sin(t) + 0.90625*cos(t) + 4.905*sqrt(2) - (-2.0*sin(t) - 1.0*cos(t) + pi)/(1.0*(0.5*sin(t) - cos(t))**2 + 1.0*(-sin(t) - 0.5*cos(t) + 0.5*pi)**2)],\n",
              "[    -0.53125*sin(t) + 0.28125*cos(t) + 1.22625*sqrt(2) - (sin(t) - 2.0*cos(t))/(1.0*(0.5*sin(t) - cos(t))**2 + 1.0*(-sin(t) - 0.5*cos(t) + 0.5*pi)**2)]])"
            ]
          },
          "metadata": {},
          "execution_count": 44
        }
      ]
    },
    {
      "cell_type": "code",
      "metadata": {
        "id": "N8uglCSHKESa"
      },
      "source": [
        "# import matplotlib.pyplot as plt\n",
        "\n",
        "\n",
        "# arr=[]\n",
        "# for i in range(10):\n",
        "#   arr.append(reg3_0.subs('t', i)[0])\n",
        "\n",
        "\n",
        "# fig = plt.figure(figsize=(5, 5))\n",
        "# time_range = range(0, 10)\n",
        "# plt.plot(time_range, arr)"
      ],
      "execution_count": null,
      "outputs": []
    },
    {
      "cell_type": "markdown",
      "source": [
        "#Cubic & Quintic"
      ],
      "metadata": {
        "id": "QxvZS1O4_4LD"
      }
    },
    {
      "cell_type": "code",
      "source": [
        "import numpy as np\n",
        "import matplotlib.pyplot as plt\n",
        "import scipy"
      ],
      "metadata": {
        "id": "XEOnuzPoBgSb"
      },
      "execution_count": null,
      "outputs": []
    },
    {
      "cell_type": "code",
      "source": [
        "def cubic(start_p, end_p):\n",
        "  q0, v0, t0 = start_p\n",
        "  qf, vf, tf = end_p\n",
        "  M = np.array([[1, t0, t0**2, t0**3],\n",
        "                [0, 1, 2*t0, 3*t0**2],\n",
        "                [1, tf, tf**2, tf**3],\n",
        "                [0, 1, 2*tf, 3*tf**2]])\n",
        "  \n",
        "  initial_values = np.array([q0, v0, qf, vf]).reshape(-1, 1)\n",
        "  A = np.matmul(np.linalg.inv(M) , initial_values)\n",
        "\n",
        "  t = np.linspace(t0, tf, 100*(tf-t0))\n",
        "  o = np.ones(len(t))\n",
        "\n",
        "  q = A[0] * o + A[1] * t + A[2] * t**2 + A[3] * t**3\n",
        "  v = A[1] * o + 2 * A[2] * t + 3 * A[3] * t**2\n",
        "  a =  2 * A[2] * o + 6 * A[3] * t\n",
        "\n",
        "  return q, v, a, t"
      ],
      "metadata": {
        "id": "XBMAKxoy_7gS"
      },
      "execution_count": null,
      "outputs": []
    },
    {
      "cell_type": "code",
      "source": [
        "def quintic(start_p, end_p):\n",
        "  q0, v0, t0, alpha0 = start_p\n",
        "  qf, vf, tf, alphaf = end_p\n",
        "  M = np.array([[1, t0, t0**2, t0**3, t0**4, t0**5],\n",
        "                [0, 1, 2*t0, 3*t0**2, 4*t0**3, 5*t0**4],\n",
        "                [0, 0, 2, 6*t0, 12*t0**2, 20*t0**3],\n",
        "                [1, tf, tf**2, tf**3, tf**4, tf**5],\n",
        "                [0, 1, 2*tf, 3*tf**2, 4*tf**3, 5*tf**4],\n",
        "                [0, 0, 2, 6*tf, 12*tf**2, 20*tf**3]])\n",
        "  \n",
        "  initial_values = np.array([q0, v0, alpha0, qf, vf, alphaf]).reshape(-1, 1)\n",
        "  A = np.matmul(np.linalg.inv(M) , initial_values)\n",
        "\n",
        "  t = np.linspace(t0, tf, 100*(tf-t0))\n",
        "  o = np.ones(len(t))\n",
        "\n",
        "  q = A[0]*o + A[1]*t + A[2]*t**2 + A[3]*t**3 + A[4]*t**4 + A[5]*t**5 \n",
        "  v = A[1]*o + 2*A[2]*t + 3*A[3]*t**2 + 4*A[4]*t**3 + 5*A[5]*t**4 \n",
        "  a = 2*A[2]*o + 6*A[3]*t + 12*A[4]*t**2 + 20*A[5]*t**3 \n",
        "  \n",
        "  return q, v, a, t"
      ],
      "metadata": {
        "id": "xgogh7koGMeI"
      },
      "execution_count": null,
      "outputs": []
    },
    {
      "cell_type": "code",
      "source": [
        "def trajectory(q0=0, v0=0, alpha0=0, qf=1, vf=1, alphaf=1, t0=0, tf=1, swich=0, via=0):\n",
        "\n",
        "  # Initialization  \n",
        "  model = ['Cubic', 'Quintic']\n",
        "  via_list = [[]]*(via+2)\n",
        "  if not swich:  # Cubic\n",
        "    via_list[0] = [q0, v0, t0]\n",
        "    via_list[-1] = [qf, vf, tf]\n",
        "  else:          # Quintic\n",
        "    via_list[0] = [q0, v0, t0, alpha0]\n",
        "    via_list[-1] = [qf, vf, tf, alphaf]\n",
        "\n",
        "  # Via points \n",
        "  if via > 0:\n",
        "    print('Please Enter Inputs as A single point (q, v, t, alpha) ')\n",
        "  for j in range(via):\n",
        "    inputs = input(f'Please Enter Address {j+1}:\\n')\n",
        "    temp_via = list()\n",
        "    try:\n",
        "      for i in inputs.split():\n",
        "        temp_via.append(int(i))\n",
        "    except ValueError:\n",
        "      print('Please Enter only int numbers.')\n",
        "      return\n",
        "    if len(temp_via) != 4 and swich==1:\n",
        "      print('Please Enter The Right Number of elements.')\n",
        "      return\n",
        "    via_list[j+1] = temp_via\n",
        "  via_list = np.array(via_list)  \n",
        "\n",
        "  q, v, a, t = np.array([]), np.array([]), np.array([]), np.array([])\n",
        "  for r in range(via+1):\n",
        "    start_p = via_list[r]\n",
        "    end_p = via_list[r+1]\n",
        "    if not swich:  # Cubic\n",
        "      tq, tv, ta, tt = cubic(start_p, end_p)\n",
        "    else:          # Quintic\n",
        "      tq, tv, ta, tt = quintic(start_p, end_p)\n",
        "\n",
        "    # concatentate q, v, a, t with their ancestors\n",
        "    q = np.concatenate((q, tq))\n",
        "    v = np.concatenate((v, tv))\n",
        "    a = np.concatenate((a, ta))\n",
        "    t = np.concatenate((t, tt))  \n",
        "    \n",
        "  #Plot all three figures \n",
        "  fig = plt.figure(figsize=(15,5))\n",
        "  plt.subplot(1, 3, 1)\n",
        "  plt.title(f'{model[swich]} polynomial trajectory')\n",
        "  plt.plot(t, q)\n",
        "  plt.xlabel('time')\n",
        "  plt.legend('q')\n",
        "\n",
        "  plt.subplot(1, 3, 2)\n",
        "  plt.title(f'Velocity profile for {model[swich]} polynomial trajectory')\n",
        "  plt.plot(t, v)\n",
        "  plt.xlabel('time')\n",
        "  plt.legend('v')\n",
        "\n",
        "  plt.subplot(1, 3, 3)\n",
        "  plt.title(f'Acceleration profile for {model[swich]} polynomial trajectory')\n",
        "  plt.plot(t, a)\n",
        "  plt.xlabel('time')\n",
        "  plt.legend('a')\n",
        "\n",
        "  plt.show()\n",
        "\n",
        "  return q, v, a  "
      ],
      "metadata": {
        "id": "Ws5rYW3nZGgm"
      },
      "execution_count": null,
      "outputs": []
    },
    {
      "cell_type": "code",
      "source": [
        "Q,V,A = trajectory(q0=0, v0=10, alpha0=0, qf=100, vf=20, alphaf=10, t0=0, tf=10, swich=0, via=3)\n",
        "# 12 24 2\n",
        "# 54 100 4\n",
        "# 80 64 8"
      ],
      "metadata": {
        "colab": {
          "base_uri": "https://localhost:8080/",
          "height": 472
        },
        "id": "1pj9_QkRbHDf",
        "outputId": "da0343dc-78ca-40bf-f867-ea0daef3a932"
      },
      "execution_count": null,
      "outputs": [
        {
          "name": "stdout",
          "output_type": "stream",
          "text": [
            "Please Enter Inputs as A single point (q, v, t, alpha) \n",
            "Please Enter Address 1:\n",
            "12 24 2\n",
            "Please Enter Address 2:\n",
            "54 100 4\n",
            "Please Enter Address 3:\n",
            "80 64 8\n"
          ]
        },
        {
          "output_type": "display_data",
          "data": {
            "image/png": "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
