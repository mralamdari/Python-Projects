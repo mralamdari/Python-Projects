{
  "nbformat": 4,
  "nbformat_minor": 0,
  "metadata": {
    "colab": {
      "name": "Robotics-in-Python.ipynb",
      "provenance": [],
      "collapsed_sections": [],
      "authorship_tag": "ABX9TyMwPuqiJI4ul57blp4EM366",
      "include_colab_link": true
    },
    "kernelspec": {
      "name": "python3",
      "display_name": "Python 3"
    },
    "language_info": {
      "name": "python"
    }
  },
  "cells": [
    {
      "cell_type": "markdown",
      "metadata": {
        "id": "view-in-github",
        "colab_type": "text"
      },
      "source": [
        "<a href=\"https://colab.research.google.com/github/mralamdari/Robotics-in-Python/blob/main/Robotics_in_Python.ipynb\" target=\"_parent\"><img src=\"https://colab.research.google.com/assets/colab-badge.svg\" alt=\"Open In Colab\"/></a>"
      ]
    },
    {
      "cell_type": "code",
      "execution_count": 3,
      "metadata": {
        "id": "Dv3luEVU_fyV"
      },
      "outputs": [],
      "source": [
        "import scipy\n",
        "import sympy\n",
        "import numpy as np\n",
        "import pandas as pd\n",
        "import matplotlib.pyplot as plt"
      ]
    },
    {
      "cell_type": "code",
      "source": [
        "#Denavite Hartnzberg\n",
        "def DH(a, alpha_degree, d, theta_degree):\n",
        "  theta = np.deg2rad(theta_degree)\n",
        "  alpha = np.deg2rad(alpha_degree)\n",
        "  dh_table = np.array([[np.cos(theta), -np.cos(alpha)*np.sin(theta), np.sin(alpha)*np.sin(theta), a*np.cos(theta)],\n",
        "                      [np.sin(theta), np.cos(alpha)*np.cos(theta), -np.sin(alpha)*np.cos(theta), a*np.sin(theta)],\n",
        "                      [0 ,np.sin(alpha), np.cos(alpha), d],\n",
        "                      [0, 0, 0, 1]])\n",
        "  return np.float16(dh_table)"
      ],
      "metadata": {
        "id": "Sb3ghEvPBAUp"
      },
      "execution_count": 4,
      "outputs": []
    },
    {
      "cell_type": "code",
      "source": [
        "a1 =DH(0, -90, -999, 0)\n",
        "a2 =DH(0, -90, -888, 90)\n",
        "a3 =DH(0, 0, -777, 0)\n",
        "\n",
        "s=np.dot(a1, a2)\n",
        "s"
      ],
      "metadata": {
        "colab": {
          "base_uri": "https://localhost:8080/"
        },
        "id": "3ntOHjW3Bya4",
        "outputId": "27b37d42-8ac8-4967-82d7-a4f660f9a955"
      },
      "execution_count": 5,
      "outputs": [
        {
          "output_type": "execute_result",
          "data": {
            "text/plain": [
              "array([[   0.,    0.,   -1.,    0.],\n",
              "       [   0.,   -1.,    0., -888.],\n",
              "       [  -1.,    0.,    0., -999.],\n",
              "       [   0.,    0.,    0.,    1.]], dtype=float16)"
            ]
          },
          "metadata": {},
          "execution_count": 5
        }
      ]
    },
    {
      "cell_type": "code",
      "source": [
        "np.dot(s, a3)"
      ],
      "metadata": {
        "colab": {
          "base_uri": "https://localhost:8080/"
        },
        "id": "Uo3PWReyB4pp",
        "outputId": "a90c555e-9084-4899-e92e-44a263ff0767"
      },
      "execution_count": 6,
      "outputs": [
        {
          "output_type": "execute_result",
          "data": {
            "text/plain": [
              "array([[   0.,    0.,   -1.,  777.],\n",
              "       [   0.,   -1.,    0., -888.],\n",
              "       [  -1.,    0.,    0., -999.],\n",
              "       [   0.,    0.,    0.,    1.]], dtype=float16)"
            ]
          },
          "metadata": {},
          "execution_count": 6
        }
      ]
    },
    {
      "cell_type": "markdown",
      "source": [
        "#Forwarsd Synematic\n",
        "\n",
        "0 ===> Scara\n",
        "\n",
        "1 ===> manipulator\n",
        "\n",
        "2 ===> cyliendrical\n",
        "\n",
        "3 ===> stanford"
      ],
      "metadata": {
        "id": "0WJss6QKB_Av"
      }
    },
    {
      "cell_type": "code",
      "source": [
        "def forward_scara(a1, a2, d3, d4, theta_1, theta_2, theta_4):\n",
        "  A01 = DH(a1, 0, 0, theta_1)\n",
        "  A12 = DH(a2, 180, 0, theta_2)\n",
        "  A23 = DH(0, 0, d3, 0)\n",
        "  A34 = DH(0, 0, d4, theta_4)\n",
        "\n",
        "  T40 = np.matmul(np.matmul(A01, A12), np.matmul(A23,A34))\n",
        "  return np.float16(T40)"
      ],
      "metadata": {
        "id": "DaMI62wkB5NZ"
      },
      "execution_count": 7,
      "outputs": []
    },
    {
      "cell_type": "code",
      "source": [
        "def forward_manipulator(a1, a2, theta_1, theta_2):\n",
        "  A01 = DH(a1, 0, 0, theta_1)\n",
        "  A12 = DH(a2, 0, 0, theta_2)\n",
        "\n",
        "  T20 = np.matmul(A01, A12)\n",
        "  return np.float16(T20)"
      ],
      "metadata": {
        "id": "SXihFbcICNo0"
      },
      "execution_count": 8,
      "outputs": []
    },
    {
      "cell_type": "code",
      "source": [
        "def forward_cylindrical(alpha_2, d1, d2, d3, theta_1):\n",
        "  A01 = DH(0, 0, d1, theta_1)\n",
        "  A12 = DH(0, alpha_2, d2, 0)\n",
        "  A23 = DH(0, 0, d3, 0)\n",
        "\n",
        "  T30 = np.matmul(np.matmul(A01, A12), A23)\n",
        "  return np.float16(T30)"
      ],
      "metadata": {
        "id": "xo5ksmUzCSfT"
      },
      "execution_count": 9,
      "outputs": []
    },
    {
      "cell_type": "code",
      "source": [
        "def forward_stanford(d2, d3, theta_1, theta_2):\n",
        "  A01 = DH(0, -90, 0, theta_1)\n",
        "  A12 = DH(0, 90, d2, theta_2)\n",
        "  A23 = DH(0, 0, d3, 0)\n",
        "\n",
        "  T30 = np.matmul(np.matmul(A01, A12), A23)\n",
        "  return np.float16(T30)"
      ],
      "metadata": {
        "id": "I51mws-jCWsc"
      },
      "execution_count": 10,
      "outputs": []
    },
    {
      "cell_type": "code",
      "source": [
        "def wrist(alpha_4, alpha_5, d6, theta_4, theta_5, theta_6):\n",
        "  A34 = DH(0, -90, 0, theta_4)\n",
        "  A45 = DH(0, 90, 0, theta_5)\n",
        "  A56 = DH(0, 0, d6, theta_6)\n",
        "\n",
        "  T63 = np.matmul(np.matmul(A34, A45), A56)\n",
        "  return np.float16(T63)"
      ],
      "metadata": {
        "id": "hh39uXqUCgPO"
      },
      "execution_count": 11,
      "outputs": []
    },
    {
      "cell_type": "code",
      "source": [
        "def forward_robotic(point, num=0, wist=False, a1=0, a2=0, a3=0, a4=0, a5=0, a6=0, alpha_1=0, alpha_2=0, alpha_3=0, alpha_4=0, alpha_5=0, alpha_6=0,  d1=0, d2=0, d3=0, d4=0, d5=0, d6=0, theta_1=0, theta_2=0, theta_3=0, theta_4=0, theta_5=0, theta_6=0):\n",
        "  \n",
        "  \n",
        "  point=np.array(point).reshape(-1, 1)\n",
        "  if num == 0:\n",
        "    T0_3 = forward_scara(a1, a2, d3, d4, theta_1, theta_2, theta_4)\n",
        "  elif num == 1:  \n",
        "    T0_3 = forward_manipulator(a1, a2, theta_1, theta_2)\n",
        "  elif num == 2:  \n",
        "    T0_3 =  forward_cylindrical(alpha_2, d1, d2, d3, theta_1)\n",
        "  else:  \n",
        "    T0_3 = forward_stanford(d2, d3, theta_1, theta_2)\n",
        "\n",
        "  if wist:\n",
        "    T3_6 = wrist(alpha_4, alpha_5, d6, theta_4, theta_5, theta_6)\n",
        "    T = np.matmul(T0_3, T3_6)\n",
        "  else:\n",
        "    T = T0_3\n",
        "\n",
        "  R = T[:-1, :-1]\n",
        "  d = T[:-1, -1].reshape(-1, 1)  \n",
        "  res = np.matmul(R, point) + d\n",
        "\n",
        "  return res.T[0]"
      ],
      "metadata": {
        "id": "27L_RA1sCk_1"
      },
      "execution_count": 12,
      "outputs": []
    },
    {
      "cell_type": "code",
      "source": [
        "forward_robotic([12,23,53],\n",
        "                 num=3,\n",
        "                 wist=True,\n",
        "                 a1=2,\n",
        "                 a2=2,\n",
        "                 d1=20,\n",
        "                 d2=40,\n",
        "                 d3=30,\n",
        "                 d4=10 ,\n",
        "                 theta_1=60,\n",
        "                 theta_2=-180,\n",
        "                 theta_4=25)"
      ],
      "metadata": {
        "colab": {
          "base_uri": "https://localhost:8080/"
        },
        "id": "0uZzhPlACpsV",
        "outputId": "eac9a285-6bd7-4bf2-a185-73d13fb7155a"
      },
      "execution_count": 13,
      "outputs": [
        {
          "output_type": "execute_result",
          "data": {
            "text/plain": [
              "array([-57.68408203,  31.95996094, -83.        ])"
            ]
          },
          "metadata": {},
          "execution_count": 13
        }
      ]
    },
    {
      "cell_type": "markdown",
      "source": [
        "#Tabdils and Rotations\n",
        "R_x, R_y, R_z\n",
        "\n",
        "T_x, T_y, T_z"
      ],
      "metadata": {
        "id": "0DTngGTFDNhe"
      }
    },
    {
      "cell_type": "code",
      "source": [
        "def T_x(a):\n",
        "  TX = np.array([[1, 0, 0, a],\n",
        "                 [0, 1, 0, 0],\n",
        "                 [0, 0, 1, 0],\n",
        "                 [0, 0, 0, 1]])\n",
        "  return TX"
      ],
      "metadata": {
        "id": "-DKRnYbcCzyk"
      },
      "execution_count": 14,
      "outputs": []
    },
    {
      "cell_type": "code",
      "source": [
        "def T_y(b):\n",
        "  TY = np.array([[1, 0, 0, 0],\n",
        "                 [0, 1, 0, b],\n",
        "                 [0, 0, 1, 0],\n",
        "                 [0, 0, 0, 1]])\n",
        "  return TY"
      ],
      "metadata": {
        "id": "Vja_CJZkDPw7"
      },
      "execution_count": 15,
      "outputs": []
    },
    {
      "cell_type": "code",
      "source": [
        "def T_z(c):\n",
        "  TZ = np.array([[1, 0, 0, 0],\n",
        "                 [0, 1, 0, 0],\n",
        "                 [0, 0, 1, c],\n",
        "                 [0, 0, 0, 1]])\n",
        "  return TZ"
      ],
      "metadata": {
        "id": "33y7FvU9DRYs"
      },
      "execution_count": 16,
      "outputs": []
    },
    {
      "cell_type": "code",
      "source": [
        "def R_x(alpha):\n",
        "  alpha = np.deg2rad(alpha)\n",
        "  RX = np.array([[1, 0, 0, 0],\n",
        "                 [0, np.cos(alpha), -np.sin(alpha), 0],\n",
        "                 [0, np.sin(alpha), np.cos(alpha), 0],\n",
        "                 [0, 0, 0, 1]])\n",
        "  return np.float16(RX)  "
      ],
      "metadata": {
        "id": "aJv5_BexDTWt"
      },
      "execution_count": 17,
      "outputs": []
    },
    {
      "cell_type": "code",
      "source": [
        "def R_y(betha):\n",
        "  betha = np.deg2rad(betha)\n",
        "  RY = np.array([[np.cos(betha), 0, np.sin(betha), 0],\n",
        "                 [0, 1, 0, 0],\n",
        "                 [-np.sin(betha), 0, np.cos(betha), 0],\n",
        "                 [0, 0, 0, 1]])\n",
        "  return np.float16(RY)"
      ],
      "metadata": {
        "id": "H4AkpV67DXM3"
      },
      "execution_count": 18,
      "outputs": []
    },
    {
      "cell_type": "code",
      "source": [
        "def R_z(gamma):\n",
        "  gamma = np.deg2rad(gamma)\n",
        "  RZ = np.array([[np.cos(gamma), -np.sin(gamma), 0, 0],\n",
        "                 [np.sin(gamma), np.cos(gamma), 0, 0],\n",
        "                 [0, 0, 1, 0],\n",
        "                 [0, 0, 0, 1]])\n",
        "  return np.float16(RZ)  "
      ],
      "metadata": {
        "id": "dX5bleI0DYSo"
      },
      "execution_count": 19,
      "outputs": []
    },
    {
      "cell_type": "code",
      "source": [
        "R_z(90)"
      ],
      "metadata": {
        "colab": {
          "base_uri": "https://localhost:8080/"
        },
        "id": "nXARO2_nDddu",
        "outputId": "b6381ccb-9a91-4527-8227-98b9606905d4"
      },
      "execution_count": 21,
      "outputs": [
        {
          "output_type": "execute_result",
          "data": {
            "text/plain": [
              "array([[ 0., -1.,  0.,  0.],\n",
              "       [ 1.,  0.,  0.,  0.],\n",
              "       [ 0.,  0.,  1.,  0.],\n",
              "       [ 0.,  0.,  0.,  1.]], dtype=float16)"
            ]
          },
          "metadata": {},
          "execution_count": 21
        }
      ]
    },
    {
      "cell_type": "code",
      "source": [
        "R_y(0)"
      ],
      "metadata": {
        "colab": {
          "base_uri": "https://localhost:8080/"
        },
        "id": "UenzKJYmDdbM",
        "outputId": "9cef4a19-e829-4cf1-bba0-5a9108bc60ad"
      },
      "execution_count": 22,
      "outputs": [
        {
          "output_type": "execute_result",
          "data": {
            "text/plain": [
              "array([[ 1.,  0.,  0.,  0.],\n",
              "       [ 0.,  1.,  0.,  0.],\n",
              "       [-0.,  0.,  1.,  0.],\n",
              "       [ 0.,  0.,  0.,  1.]], dtype=float16)"
            ]
          },
          "metadata": {},
          "execution_count": 22
        }
      ]
    },
    {
      "cell_type": "code",
      "source": [
        "R_z(45)"
      ],
      "metadata": {
        "colab": {
          "base_uri": "https://localhost:8080/"
        },
        "id": "QIODIEGDDlGm",
        "outputId": "81a77dec-aaff-40af-c9a8-e3284220e310"
      },
      "execution_count": 24,
      "outputs": [
        {
          "output_type": "execute_result",
          "data": {
            "text/plain": [
              "array([[ 0.707, -0.707,  0.   ,  0.   ],\n",
              "       [ 0.707,  0.707,  0.   ,  0.   ],\n",
              "       [ 0.   ,  0.   ,  1.   ,  0.   ],\n",
              "       [ 0.   ,  0.   ,  0.   ,  1.   ]], dtype=float16)"
            ]
          },
          "metadata": {},
          "execution_count": 24
        }
      ]
    },
    {
      "cell_type": "code",
      "source": [
        "T_x(52)"
      ],
      "metadata": {
        "colab": {
          "base_uri": "https://localhost:8080/"
        },
        "id": "qHI9AY_6DnDH",
        "outputId": "866604c1-cd2f-4966-bdf6-c8d3384bc7f5"
      },
      "execution_count": 25,
      "outputs": [
        {
          "output_type": "execute_result",
          "data": {
            "text/plain": [
              "array([[ 1,  0,  0, 52],\n",
              "       [ 0,  1,  0,  0],\n",
              "       [ 0,  0,  1,  0],\n",
              "       [ 0,  0,  0,  1]])"
            ]
          },
          "metadata": {},
          "execution_count": 25
        }
      ]
    },
    {
      "cell_type": "code",
      "source": [
        "np.dot(np.dot(R_z(90),R_y(0)), R_z(45)) + T_x(52)"
      ],
      "metadata": {
        "colab": {
          "base_uri": "https://localhost:8080/"
        },
        "id": "6_dcW3scDZys",
        "outputId": "2ef06ef8-944b-4868-fc2b-caf831a50dc8"
      },
      "execution_count": 23,
      "outputs": [
        {
          "output_type": "execute_result",
          "data": {
            "text/plain": [
              "array([[ 0.29296875, -0.70703125,  0.        , 52.        ],\n",
              "       [ 0.70703125,  0.29296875,  0.        ,  0.        ],\n",
              "       [ 0.        ,  0.        ,  2.        ,  0.        ],\n",
              "       [ 0.        ,  0.        ,  0.        ,  2.        ]])"
            ]
          },
          "metadata": {},
          "execution_count": 23
        }
      ]
    },
    {
      "cell_type": "markdown",
      "source": [
        "#Inverse Synematic\n",
        "\n",
        "0, Scara\n",
        "\n",
        "1, RRR\n",
        "\n",
        "2, stanford"
      ],
      "metadata": {
        "id": "2PrTERuFDsfL"
      }
    },
    {
      "cell_type": "code",
      "source": [
        "def inverse_stanford(x, y, z, a2, a3, d1=0, left=True):\n",
        "  if left:\n",
        "    alpha = np.arctan2(x, y)\n",
        "    beta = np.arctan2(-np.sqrt(np.abs(x**2 + y**2 - d1**2)), -d1)\n",
        "    theta1 = alpha + beta\n",
        "  else: \n",
        "    alpha = np.arctan2(x, y)\n",
        "    beta = np.arctan2(np.sqrt(np.abs(x**2 + y**2 - d1**2)), d1)\n",
        "    theta1 = alpha - beta\n",
        "\n",
        "  theta2 = np.arctan2(x**2 + y**2, z-d1)\n",
        "  D3 = np.sqrt(np.abs(x**2 + y**2 + (z-d1)**2))\n",
        "  return theta1, theta2, D3"
      ],
      "metadata": {
        "id": "vDVQI6nwDb5k"
      },
      "execution_count": 26,
      "outputs": []
    },
    {
      "cell_type": "code",
      "source": [
        "forward_stanford(d2=1, d3=2, theta_1=30, theta_2=45)\n",
        "np.arctan2(3, 1)"
      ],
      "metadata": {
        "colab": {
          "base_uri": "https://localhost:8080/"
        },
        "id": "BL6RkvUADuUY",
        "outputId": "a9734dde-9e18-4b04-cc43-1e3f49ae6260"
      },
      "execution_count": 27,
      "outputs": [
        {
          "output_type": "execute_result",
          "data": {
            "text/plain": [
              "1.2490457723982544"
            ]
          },
          "metadata": {},
          "execution_count": 27
        }
      ]
    },
    {
      "cell_type": "code",
      "source": [
        "def inverse_rrr(x, y, z, a2, a3, d1=0, left=True):\n",
        "  if left:\n",
        "    alpha = np.arctan2(x, y)\n",
        "    beta = np.arctan2(-np.sqrt(np.abs(x**2 + y**2 - d1**2)), -d1)\n",
        "    theta1 = alpha + beta\n",
        "  else: \n",
        "    alpha = np.arctan2(x, y)\n",
        "    beta = np.arctan2(np.sqrt(x**2 + y**2 - d1**2), d1)\n",
        "    theta1 = alpha - beta\n",
        "\n",
        "  D = (x**2 + y**2 - d1**2 + (z-d1)**2 - a2**2 - a3**2) / 2*a2*a3\n",
        "  theta3 = np.arctan2(D, -np.sqrt(np.abs(1 - D**2)))\n",
        "  theta2 = np.arctan2(np.sqrt(np.abs(x**2 + y**2 - d1**2)), z-d1) - np.arctan2(a2+a3*np.cos(theta3), a3*np.sin(theta3))\n",
        "  return theta1, theta2, theta3"
      ],
      "metadata": {
        "id": "kF57BZgxDxh2"
      },
      "execution_count": 28,
      "outputs": []
    },
    {
      "cell_type": "code",
      "source": [
        "def inverse_scara(x, y, z, d4, a1, a2, RR):\n",
        "  theta2 = np.arccos((x**2 + y**2 - a1**2-a2**2)/(2*a1*a2))\n",
        "  theta1 = np.arctan2(y, x) - np.arctan2(a2*np.sin(theta2), a1 + a2*np.cos(theta2))\n",
        "  D3 = -z - d4\n",
        "  theta4 = theta1 + theta2 - np.arctan2(RR[0][0], RR[0][1])\n",
        "  return theta1, theta2, theta4"
      ],
      "metadata": {
        "id": "3fh9CqdoDyqd"
      },
      "execution_count": 29,
      "outputs": []
    },
    {
      "cell_type": "code",
      "source": [
        "def inverse_wrist(RR):\n",
        "  theta5_1 =  np.arctan2(RR[2][2], np.sqrt(np.abs(1 - RR[2][2]**2)))\n",
        "  theta5_2 =  np.arctan2(RR[2][2], -np.sqrt(np.abs(1 - RR[2][2]**2)))\n",
        "  if theta5_1 != 0 : # none_MONFARED\n",
        "    if np.sin(theta5_1)>0:\n",
        "      theta4_1 = np.arctan2(RR[0][2], RR[1][2])\n",
        "      theta6_1 = np.arctan2(RR[2][0], RR[2][1])\n",
        "      print(f\"\"\"\n",
        "      Theta4_1: {theta4_1},\n",
        "      Theta5_1: {theta5_1},\n",
        "      Theta6_1: {theta6_1}\"\"\")\n",
        "    if np.sin(theta5_2)<0:\n",
        "      theta4_2 = np.arctan2(-RR[0][2], -RR[1][2])\n",
        "      theta6_2 = np.arctan2(RR[2][0], -RR[2][1])\n",
        "      print(f\"\"\"\n",
        "      Theta4_2: {theta4_2},\n",
        "      Theta5_2: {theta5_2},\n",
        "      Theta6_2: {theta6_2}\"\"\")\n",
        "  else: \n",
        "    theta5 = 0\n",
        "    theta4 = (np.arctan2(RR[0][0], RR[1][0])+np.arctan2(RR[0][0], -RR[1][0]))/2\n",
        "    theta6 = theta4 - np.arctan2(RR[0][0], RR[1][0])\n",
        "    print(f\"\"\"\n",
        "      Theta4: {theta4},\n",
        "      Theta5: {theta5},\n",
        "      Theta6: {theta6}\"\"\")"
      ],
      "metadata": {
        "id": "4VasbxhBD0Sy"
      },
      "execution_count": 30,
      "outputs": []
    },
    {
      "cell_type": "code",
      "source": [
        "def inverse_robotic(x, y, z,RR=[], num=0, wist=False,left=True, a1=0, a2=0, a3=0, a4=0, a5=0, a6=0, d1=0, d2=0, d3=0, d4=0, d5=0, d6=0):\n",
        "\n",
        "  if num == 0:\n",
        "    T1, T2, T3 = inverse_scara(x, y, z, d4, a1, a2, RR)\n",
        "  elif num == 1:  \n",
        "    T1, T2, T3 = inverse_rrr(x, y, z, a2, a3, d1=0, left=True)\n",
        "  else:\n",
        "    T1, T2, T3 = inverse_stanford(x, y, z, a2, a3, d1=0, left=True)\n",
        "\n",
        "  if wist:\n",
        "    inverse_wrist(RR)\n",
        "\n",
        "  return [T1, T2, T3]"
      ],
      "metadata": {
        "id": "wtSCtOu0D3sj"
      },
      "execution_count": 31,
      "outputs": []
    },
    {
      "cell_type": "code",
      "source": [
        "YT = np.array([[1, 1,3], [2,8,5],[4,7,9]])\n",
        "inverse_robotic(x=2,\n",
        "               y=3,\n",
        "               z=4,\n",
        "               a2=5,\n",
        "               a3=5,\n",
        "               a1=2,\n",
        "               num=0,\n",
        "               d1=1,\n",
        "               RR=YT,\n",
        "               wist=False)"
      ],
      "metadata": {
        "colab": {
          "base_uri": "https://localhost:8080/"
        },
        "id": "SyGKqbqMD973",
        "outputId": "e268661b-d85c-42ef-ba33-b28ff5b328a6"
      },
      "execution_count": 34,
      "outputs": [
        {
          "output_type": "execute_result",
          "data": {
            "text/plain": [
              "[-1.1760052070951348, 2.498091544796509, 0.5366881743039258]"
            ]
          },
          "metadata": {},
          "execution_count": 34
        }
      ]
    },
    {
      "cell_type": "code",
      "source": [
        "inverse_robotic(x=2,\n",
        "               y=3,\n",
        "               z=4,\n",
        "               a2=5,\n",
        "               a3=5,\n",
        "               num=1,\n",
        "               d1=4,\n",
        "               left=True,\n",
        "               wist=False)"
      ],
      "metadata": {
        "colab": {
          "base_uri": "https://localhost:8080/"
        },
        "id": "YwvD_n04D_Ou",
        "outputId": "8b0fd9ae-b0ae-4630-df30-4d72eace8b7e"
      },
      "execution_count": 35,
      "outputs": [
        {
          "output_type": "execute_result",
          "data": {
            "text/plain": [
              "[-0.982793723247329, -2.0153104341788657, -2.3561908620481042]"
            ]
          },
          "metadata": {},
          "execution_count": 35
        }
      ]
    },
    {
      "cell_type": "code",
      "source": [
        "YT = np.array([[1, 1,3], [2,8,5],[4,7,9]])\n",
        "inverse_robotic(x=2,\n",
        "               y=3,\n",
        "               z=4,\n",
        "               a2=5,\n",
        "               a3=5,\n",
        "               num=2,\n",
        "               d1=0,\n",
        "               left=False,\n",
        "               wist=True,\n",
        "               RR=YT)"
      ],
      "metadata": {
        "colab": {
          "base_uri": "https://localhost:8080/"
        },
        "id": "anXEdAYPEAUG",
        "outputId": "2622057a-ac26-424f-d3fc-5e279fed0c14"
      },
      "execution_count": 36,
      "outputs": [
        {
          "output_type": "stream",
          "name": "stdout",
          "text": [
            "\n",
            "      Theta4_1: 0.5404195002705842,\n",
            "      Theta5_1: 0.7885037734282083,\n",
            "      Theta6_1: 0.5191461142465229\n"
          ]
        },
        {
          "output_type": "execute_result",
          "data": {
            "text/plain": [
              "[-0.982793723247329, 1.2722973952087173, 5.385164807134504]"
            ]
          },
          "metadata": {},
          "execution_count": 36
        }
      ]
    },
    {
      "cell_type": "code",
      "source": [
        "def initialize_symbols(links_count=2):\n",
        "  symbol = ''\n",
        "  for v in 'm I l lc q dq u'.split():\n",
        "    for i in range(1, links_count + 1):\n",
        "      symbol += f'{v}_{i} '\n",
        "  symbol += 'g t'\n",
        "  return sympy.symbols(symbol, real=True)\n",
        "\n",
        "m_1, m_2, I_1, I_2, l_1, l_2, lc_1, lc_2, q_1, q_2, dq_1, dq_2, u_1, u_2, g, t = initialize_symbols(2)"
      ],
      "metadata": {
        "id": "WVv-k-4nEQyt"
      },
      "execution_count": 38,
      "outputs": []
    },
    {
      "cell_type": "code",
      "source": [
        "q = sympy.Matrix([q_1, q_2])\n",
        "dq = sympy.Matrix([dq_1, dq_2])\n",
        "\n",
        "R_1 = sympy.Matrix([[sympy.cos(q_1), -sympy.sin(q_1)],\n",
        "       [sympy.sin(q_1), sympy.cos(q_1)]])\n",
        "\n",
        "R_2 = sympy.Matrix([[sympy.cos(q_1 + q_2), -sympy.sin(q_1 + q_2)],\n",
        "       [sympy.sin(q_1 + q_2), sympy.cos(q_1 + q_2)]])       "
      ],
      "metadata": {
        "id": "ieYBHgZIEmWk"
      },
      "execution_count": 39,
      "outputs": []
    },
    {
      "cell_type": "code",
      "source": [
        "q"
      ],
      "metadata": {
        "colab": {
          "base_uri": "https://localhost:8080/",
          "height": 58
        },
        "id": "SU8EGMpQEr6N",
        "outputId": "07fb5824-134a-4206-c86c-973562465ac1"
      },
      "execution_count": 40,
      "outputs": [
        {
          "output_type": "execute_result",
          "data": {
            "text/plain": [
              "Matrix([\n",
              "[q_1],\n",
              "[q_2]])"
            ],
            "text/latex": "$\\displaystyle \\left[\\begin{matrix}q_{1}\\\\q_{2}\\end{matrix}\\right]$"
          },
          "metadata": {},
          "execution_count": 40
        }
      ]
    },
    {
      "cell_type": "code",
      "source": [
        "dq"
      ],
      "metadata": {
        "colab": {
          "base_uri": "https://localhost:8080/",
          "height": 58
        },
        "id": "zzI3L8FeEsct",
        "outputId": "dab33a3c-9019-4b6b-cedf-aeff10793528"
      },
      "execution_count": 41,
      "outputs": [
        {
          "output_type": "execute_result",
          "data": {
            "text/plain": [
              "Matrix([\n",
              "[dq_1],\n",
              "[dq_2]])"
            ],
            "text/latex": "$\\displaystyle \\left[\\begin{matrix}dq_{1}\\\\dq_{2}\\end{matrix}\\right]$"
          },
          "metadata": {},
          "execution_count": 41
        }
      ]
    },
    {
      "cell_type": "code",
      "source": [
        "R_1"
      ],
      "metadata": {
        "colab": {
          "base_uri": "https://localhost:8080/",
          "height": 58
        },
        "id": "rLT7yV5CEtAm",
        "outputId": "2c96ef51-58ef-4f27-8eeb-7cb77d1b64d4"
      },
      "execution_count": 42,
      "outputs": [
        {
          "output_type": "execute_result",
          "data": {
            "text/plain": [
              "Matrix([\n",
              "[cos(q_1), -sin(q_1)],\n",
              "[sin(q_1),  cos(q_1)]])"
            ],
            "text/latex": "$\\displaystyle \\left[\\begin{matrix}\\cos{\\left(q_{1} \\right)} & - \\sin{\\left(q_{1} \\right)}\\\\\\sin{\\left(q_{1} \\right)} & \\cos{\\left(q_{1} \\right)}\\end{matrix}\\right]$"
          },
          "metadata": {},
          "execution_count": 42
        }
      ]
    },
    {
      "cell_type": "code",
      "source": [
        "R_2"
      ],
      "metadata": {
        "colab": {
          "base_uri": "https://localhost:8080/",
          "height": 58
        },
        "id": "vYYYvLQREujB",
        "outputId": "d8fd954c-23bb-4089-e214-3a2604c12aef"
      },
      "execution_count": 43,
      "outputs": [
        {
          "output_type": "execute_result",
          "data": {
            "text/plain": [
              "Matrix([\n",
              "[cos(q_1 + q_2), -sin(q_1 + q_2)],\n",
              "[sin(q_1 + q_2),  cos(q_1 + q_2)]])"
            ],
            "text/latex": "$\\displaystyle \\left[\\begin{matrix}\\cos{\\left(q_{1} + q_{2} \\right)} & - \\sin{\\left(q_{1} + q_{2} \\right)}\\\\\\sin{\\left(q_{1} + q_{2} \\right)} & \\cos{\\left(q_{1} + q_{2} \\right)}\\end{matrix}\\right]$"
          },
          "metadata": {},
          "execution_count": 43
        }
      ]
    },
    {
      "cell_type": "code",
      "source": [
        "J_v_c1 = sympy.Matrix([[-lc_1 * sympy.sin(q_1), 0], \n",
        "          [lc_1 * sympy.cos(q_1), 0]])\n",
        "\n",
        "J_v_c2 = sympy.Matrix([[-l_1 * sympy.sin(q_1) - lc_2 * sympy.sin(q_1+q_2), -lc_2 * sympy.sin(q_1+q_2)],\n",
        "          [l_1 * sympy.cos(q_1) + lc_2 * sympy.cos(q_1+q_2), lc_2 * sympy.cos(q_1+q_2)]])\n",
        "       \n",
        "J_w_1 = sympy.Matrix([[1, 0], [0, 0]])\n",
        "J_w_2 = sympy.Matrix([[1, 1], [0, 0]])"
      ],
      "metadata": {
        "id": "WE7VctA8EvJF"
      },
      "execution_count": 45,
      "outputs": []
    },
    {
      "cell_type": "code",
      "source": [
        "J_v_c1"
      ],
      "metadata": {
        "colab": {
          "base_uri": "https://localhost:8080/",
          "height": 58
        },
        "id": "KjUSj9-OE1fg",
        "outputId": "325a89a2-253a-4057-8b27-4faa5bde8c92"
      },
      "execution_count": 46,
      "outputs": [
        {
          "output_type": "execute_result",
          "data": {
            "text/plain": [
              "Matrix([\n",
              "[-lc_1*sin(q_1), 0],\n",
              "[ lc_1*cos(q_1), 0]])"
            ],
            "text/latex": "$\\displaystyle \\left[\\begin{matrix}- lc_{1} \\sin{\\left(q_{1} \\right)} & 0\\\\lc_{1} \\cos{\\left(q_{1} \\right)} & 0\\end{matrix}\\right]$"
          },
          "metadata": {},
          "execution_count": 46
        }
      ]
    },
    {
      "cell_type": "code",
      "source": [
        "J_v_c2"
      ],
      "metadata": {
        "colab": {
          "base_uri": "https://localhost:8080/",
          "height": 58
        },
        "id": "zuV4QGn5E87a",
        "outputId": "353f32c9-bf7f-4a67-d19a-b707f398b247"
      },
      "execution_count": 47,
      "outputs": [
        {
          "output_type": "execute_result",
          "data": {
            "text/plain": [
              "Matrix([\n",
              "[-l_1*sin(q_1) - lc_2*sin(q_1 + q_2), -lc_2*sin(q_1 + q_2)],\n",
              "[ l_1*cos(q_1) + lc_2*cos(q_1 + q_2),  lc_2*cos(q_1 + q_2)]])"
            ],
            "text/latex": "$\\displaystyle \\left[\\begin{matrix}- l_{1} \\sin{\\left(q_{1} \\right)} - lc_{2} \\sin{\\left(q_{1} + q_{2} \\right)} & - lc_{2} \\sin{\\left(q_{1} + q_{2} \\right)}\\\\l_{1} \\cos{\\left(q_{1} \\right)} + lc_{2} \\cos{\\left(q_{1} + q_{2} \\right)} & lc_{2} \\cos{\\left(q_{1} + q_{2} \\right)}\\end{matrix}\\right]$"
          },
          "metadata": {},
          "execution_count": 47
        }
      ]
    },
    {
      "cell_type": "code",
      "source": [
        "J_w_1"
      ],
      "metadata": {
        "colab": {
          "base_uri": "https://localhost:8080/",
          "height": 58
        },
        "id": "gFv2oRStE9lK",
        "outputId": "76479860-67cf-43a3-ff64-10e77185c526"
      },
      "execution_count": 48,
      "outputs": [
        {
          "output_type": "execute_result",
          "data": {
            "text/plain": [
              "Matrix([\n",
              "[1, 0],\n",
              "[0, 0]])"
            ],
            "text/latex": "$\\displaystyle \\left[\\begin{matrix}1 & 0\\\\0 & 0\\end{matrix}\\right]$"
          },
          "metadata": {},
          "execution_count": 48
        }
      ]
    },
    {
      "cell_type": "code",
      "source": [
        "J_w_2"
      ],
      "metadata": {
        "colab": {
          "base_uri": "https://localhost:8080/",
          "height": 58
        },
        "id": "Sfvi7Fy6E_3O",
        "outputId": "309e5f67-304f-46a4-c9e0-ed2069a6f955"
      },
      "execution_count": 49,
      "outputs": [
        {
          "output_type": "execute_result",
          "data": {
            "text/plain": [
              "Matrix([\n",
              "[1, 1],\n",
              "[0, 0]])"
            ],
            "text/latex": "$\\displaystyle \\left[\\begin{matrix}1 & 1\\\\0 & 0\\end{matrix}\\right]$"
          },
          "metadata": {},
          "execution_count": 49
        }
      ]
    },
    {
      "cell_type": "code",
      "source": [
        "D = m_1 * J_v_c1.T * J_v_c1 + m_2 * J_v_c2.T * J_v_c2 + I_1 * J_w_1.T * J_w_1 + I_2 * J_w_2.T * J_w_2"
      ],
      "metadata": {
        "id": "Yffutpy7FAYm"
      },
      "execution_count": 50,
      "outputs": []
    },
    {
      "cell_type": "code",
      "source": [
        "D"
      ],
      "metadata": {
        "colab": {
          "base_uri": "https://localhost:8080/",
          "height": 80
        },
        "id": "YZNzodjpFB6S",
        "outputId": "81be1766-30ab-4039-cfe6-2487b2c98e54"
      },
      "execution_count": 51,
      "outputs": [
        {
          "output_type": "execute_result",
          "data": {
            "text/plain": [
              "Matrix([\n",
              "[I_1 + I_2 + lc_1**2*m_1*sin(q_1)**2 + lc_1**2*m_1*cos(q_1)**2 + m_2*(-l_1*sin(q_1) - lc_2*sin(q_1 + q_2))**2 + m_2*(l_1*cos(q_1) + lc_2*cos(q_1 + q_2))**2, I_2 - lc_2*m_2*(-l_1*sin(q_1) - lc_2*sin(q_1 + q_2))*sin(q_1 + q_2) + lc_2*m_2*(l_1*cos(q_1) + lc_2*cos(q_1 + q_2))*cos(q_1 + q_2)],\n",
              "[                        I_2 - lc_2*m_2*(-l_1*sin(q_1) - lc_2*sin(q_1 + q_2))*sin(q_1 + q_2) + lc_2*m_2*(l_1*cos(q_1) + lc_2*cos(q_1 + q_2))*cos(q_1 + q_2),                                                                I_2 + lc_2**2*m_2*sin(q_1 + q_2)**2 + lc_2**2*m_2*cos(q_1 + q_2)**2]])"
            ],
            "text/latex": "$\\displaystyle \\left[\\begin{matrix}I_{1} + I_{2} + lc_{1}^{2} m_{1} \\sin^{2}{\\left(q_{1} \\right)} + lc_{1}^{2} m_{1} \\cos^{2}{\\left(q_{1} \\right)} + m_{2} \\left(- l_{1} \\sin{\\left(q_{1} \\right)} - lc_{2} \\sin{\\left(q_{1} + q_{2} \\right)}\\right)^{2} + m_{2} \\left(l_{1} \\cos{\\left(q_{1} \\right)} + lc_{2} \\cos{\\left(q_{1} + q_{2} \\right)}\\right)^{2} & I_{2} - lc_{2} m_{2} \\left(- l_{1} \\sin{\\left(q_{1} \\right)} - lc_{2} \\sin{\\left(q_{1} + q_{2} \\right)}\\right) \\sin{\\left(q_{1} + q_{2} \\right)} + lc_{2} m_{2} \\left(l_{1} \\cos{\\left(q_{1} \\right)} + lc_{2} \\cos{\\left(q_{1} + q_{2} \\right)}\\right) \\cos{\\left(q_{1} + q_{2} \\right)}\\\\I_{2} - lc_{2} m_{2} \\left(- l_{1} \\sin{\\left(q_{1} \\right)} - lc_{2} \\sin{\\left(q_{1} + q_{2} \\right)}\\right) \\sin{\\left(q_{1} + q_{2} \\right)} + lc_{2} m_{2} \\left(l_{1} \\cos{\\left(q_{1} \\right)} + lc_{2} \\cos{\\left(q_{1} + q_{2} \\right)}\\right) \\cos{\\left(q_{1} + q_{2} \\right)} & I_{2} + lc_{2}^{2} m_{2} \\sin^{2}{\\left(q_{1} + q_{2} \\right)} + lc_{2}^{2} m_{2} \\cos^{2}{\\left(q_{1} + q_{2} \\right)}\\end{matrix}\\right]$"
          },
          "metadata": {},
          "execution_count": 51
        }
      ]
    },
    {
      "cell_type": "code",
      "source": [
        "n = max(q.shape)\n",
        "C = sympy.zeros(n)\n",
        "for k in range(n):\n",
        "  for j in range(n):\n",
        "    for i in range(n):\n",
        "      C[k, j] = C[k, j] + 0.5 * (sympy.diff(D[k, j], q[i]) + sympy.diff(D[k, i], q[j]) - sympy.diff(D[i, j], q[k])) * dq[i] "
      ],
      "metadata": {
        "id": "2stnu8hUFCKy"
      },
      "execution_count": 52,
      "outputs": []
    },
    {
      "cell_type": "code",
      "source": [
        "C      "
      ],
      "metadata": {
        "colab": {
          "base_uri": "https://localhost:8080/",
          "height": 78
        },
        "id": "q9sjTfY7FIkU",
        "outputId": "634b0b1d-47ee-4aac-e1af-045879b763fd"
      },
      "execution_count": 53,
      "outputs": [
        {
          "output_type": "execute_result",
          "data": {
            "text/plain": [
              "Matrix([\n",
              "[dq_1*(0.5*m_2*(-2*l_1*sin(q_1) - 2*lc_2*sin(q_1 + q_2))*(l_1*cos(q_1) + lc_2*cos(q_1 + q_2)) + 0.5*m_2*(-l_1*sin(q_1) - lc_2*sin(q_1 + q_2))*(-2*l_1*cos(q_1) - 2*lc_2*cos(q_1 + q_2))) + dq_2*(-1.0*lc_2*m_2*(-l_1*sin(q_1) - lc_2*sin(q_1 + q_2))*cos(q_1 + q_2) - 1.0*lc_2*m_2*(l_1*cos(q_1) + lc_2*cos(q_1 + q_2))*sin(q_1 + q_2)), dq_1*(-1.0*lc_2*m_2*(-l_1*sin(q_1) - lc_2*sin(q_1 + q_2))*cos(q_1 + q_2) - 1.0*lc_2*m_2*(l_1*cos(q_1) + lc_2*cos(q_1 + q_2))*sin(q_1 + q_2)) + dq_2*(-1.0*lc_2*m_2*(-l_1*sin(q_1) - lc_2*sin(q_1 + q_2))*cos(q_1 + q_2) - 1.0*lc_2*m_2*(l_1*cos(q_1) + lc_2*cos(q_1 + q_2))*sin(q_1 + q_2))],\n",
              "[                                                                                                                                                                                          dq_1*(1.0*lc_2*m_2*(-l_1*sin(q_1) - lc_2*sin(q_1 + q_2))*cos(q_1 + q_2) - 1.0*lc_2*m_2*(-l_1*cos(q_1) - lc_2*cos(q_1 + q_2))*sin(q_1 + q_2)),                                                                                                                                                                                                                                                                                           0]])"
            ],
            "text/latex": "$\\displaystyle \\left[\\begin{matrix}dq_{1} \\left(0.5 m_{2} \\left(- 2 l_{1} \\sin{\\left(q_{1} \\right)} - 2 lc_{2} \\sin{\\left(q_{1} + q_{2} \\right)}\\right) \\left(l_{1} \\cos{\\left(q_{1} \\right)} + lc_{2} \\cos{\\left(q_{1} + q_{2} \\right)}\\right) + 0.5 m_{2} \\left(- l_{1} \\sin{\\left(q_{1} \\right)} - lc_{2} \\sin{\\left(q_{1} + q_{2} \\right)}\\right) \\left(- 2 l_{1} \\cos{\\left(q_{1} \\right)} - 2 lc_{2} \\cos{\\left(q_{1} + q_{2} \\right)}\\right)\\right) + dq_{2} \\left(- 1.0 lc_{2} m_{2} \\left(- l_{1} \\sin{\\left(q_{1} \\right)} - lc_{2} \\sin{\\left(q_{1} + q_{2} \\right)}\\right) \\cos{\\left(q_{1} + q_{2} \\right)} - 1.0 lc_{2} m_{2} \\left(l_{1} \\cos{\\left(q_{1} \\right)} + lc_{2} \\cos{\\left(q_{1} + q_{2} \\right)}\\right) \\sin{\\left(q_{1} + q_{2} \\right)}\\right) & dq_{1} \\left(- 1.0 lc_{2} m_{2} \\left(- l_{1} \\sin{\\left(q_{1} \\right)} - lc_{2} \\sin{\\left(q_{1} + q_{2} \\right)}\\right) \\cos{\\left(q_{1} + q_{2} \\right)} - 1.0 lc_{2} m_{2} \\left(l_{1} \\cos{\\left(q_{1} \\right)} + lc_{2} \\cos{\\left(q_{1} + q_{2} \\right)}\\right) \\sin{\\left(q_{1} + q_{2} \\right)}\\right) + dq_{2} \\left(- 1.0 lc_{2} m_{2} \\left(- l_{1} \\sin{\\left(q_{1} \\right)} - lc_{2} \\sin{\\left(q_{1} + q_{2} \\right)}\\right) \\cos{\\left(q_{1} + q_{2} \\right)} - 1.0 lc_{2} m_{2} \\left(l_{1} \\cos{\\left(q_{1} \\right)} + lc_{2} \\cos{\\left(q_{1} + q_{2} \\right)}\\right) \\sin{\\left(q_{1} + q_{2} \\right)}\\right)\\\\dq_{1} \\left(1.0 lc_{2} m_{2} \\left(- l_{1} \\sin{\\left(q_{1} \\right)} - lc_{2} \\sin{\\left(q_{1} + q_{2} \\right)}\\right) \\cos{\\left(q_{1} + q_{2} \\right)} - 1.0 lc_{2} m_{2} \\left(- l_{1} \\cos{\\left(q_{1} \\right)} - lc_{2} \\cos{\\left(q_{1} + q_{2} \\right)}\\right) \\sin{\\left(q_{1} + q_{2} \\right)}\\right) & 0\\end{matrix}\\right]$"
          },
          "metadata": {},
          "execution_count": 53
        }
      ]
    },
    {
      "cell_type": "code",
      "source": [
        "p_1 = m_1 * g * lc_1 * sympy.sin(q_1)\n",
        "p_2 = m_2 * g * (l_1 * sympy.sin(q_1) + lc_2 * sympy.sin(q_1 + q_2))\n",
        "P = sympy.Matrix([p_1 + p_2])"
      ],
      "metadata": {
        "id": "rqpV1qGwFJVX"
      },
      "execution_count": 54,
      "outputs": []
    },
    {
      "cell_type": "code",
      "source": [
        "P"
      ],
      "metadata": {
        "colab": {
          "base_uri": "https://localhost:8080/",
          "height": 38
        },
        "id": "TkP1AQjOFNBQ",
        "outputId": "917bc0a0-53a9-4fe7-eee4-47342035e938"
      },
      "execution_count": 55,
      "outputs": [
        {
          "output_type": "execute_result",
          "data": {
            "text/plain": [
              "Matrix([[g*lc_1*m_1*sin(q_1) + g*m_2*(l_1*sin(q_1) + lc_2*sin(q_1 + q_2))]])"
            ],
            "text/latex": "$\\displaystyle \\left[\\begin{matrix}g lc_{1} m_{1} \\sin{\\left(q_{1} \\right)} + g m_{2} \\left(l_{1} \\sin{\\left(q_{1} \\right)} + lc_{2} \\sin{\\left(q_{1} + q_{2} \\right)}\\right)\\end{matrix}\\right]$"
          },
          "metadata": {},
          "execution_count": 55
        }
      ]
    },
    {
      "cell_type": "markdown",
      "source": [
        "#Dynamic terms of a (links_count) links robot"
      ],
      "metadata": {
        "id": "ZIUf4ms_FV1H"
      }
    },
    {
      "cell_type": "code",
      "source": [
        "def dynamics_terms(links_count=2, symbolic=True, *args):\n",
        "  m_1, m_2, I_1, I_2, l_1, l_2, lc_1, lc_2, q_1, q_2, dq_1, dq_2, u_1, u_2, g, t = initialize_symbols(links_count)\n",
        "  q = sympy.Matrix([q_1, q_2])\n",
        "  dq = sympy.Matrix([dq_1, dq_2])\n",
        "  u = sympy.Matrix([u_1, u_2])\n",
        "  R_1 = sympy.Matrix([[sympy.cos(q_1), -sympy.sin(q_1)],\n",
        "        [sympy.sin(q_1), sympy.cos(q_1)]])\n",
        "\n",
        "  R_2 = sympy.Matrix([[sympy.cos(q_1 + q_2), -sympy.sin(q_1 + q_2)],\n",
        "        [sympy.sin(q_1 + q_2), sympy.cos(q_1 + q_2)]])       \n",
        "\n",
        "  J_v_c1 = sympy.Matrix([[-lc_1 * sympy.sin(q_1), 0], \n",
        "            [lc_1 * sympy.cos(q_1), 0]])\n",
        "\n",
        "  J_v_c2 = sympy.Matrix([[-l_1 * sympy.sin(q_1) - lc_2 * sympy.sin(q_1+q_2), -lc_2 * sympy.sin(q_1+q_2)],\n",
        "            [l_1 * sympy.cos(q_1) + lc_2 * sympy.cos(q_1+q_2), lc_2 * sympy.cos(q_1+q_2)]])\n",
        "        \n",
        "  J_w_1 = sympy.Matrix([[1, 0], [0, 0]])\n",
        "  J_w_2 = sympy.Matrix([[1, 1], [0, 0]])\n",
        "\n",
        "  D = m_1 * J_v_c1.T * J_v_c1 + m_2 * J_v_c2.T * J_v_c2 + I_1 * J_w_1.T * J_w_1 + I_2 * J_w_2.T * J_w_2\n",
        "\n",
        "  n = max(q.shape)\n",
        "  C = sympy.zeros(n)\n",
        "  for k in range(n):\n",
        "    for j in range(n):\n",
        "      for i in range(n):\n",
        "        C[k, j] = C[k, j] + 0.5 * (sympy.diff(D[k, j], q[i]) + sympy.diff(D[k, i], q[j]) - sympy.diff(D[i, j], q[k])) * dq[i] \n",
        "  p_1 = m_1 * g * lc_1 * sympy.sin(q_1)\n",
        "  p_2 = m_2 * g * (l_1 * sympy.sin(q_1) + lc_2 * sympy.sin(q_1 + q_2))\n",
        "  P = sympy.Matrix([p_1 + p_2])\n",
        "\n",
        "  G = P.jacobian(q).T\n",
        "\n",
        "  # Open Loop Dynamics of the manipulator\n",
        "  x = sympy.Matrix([q, dq])\n",
        "  f_x = sympy.Matrix([dq, -D.T * (C*dq + G)])\n",
        "  g_x = sympy.Matrix([sympy.zeros(max(dq.shape)), D.T])\n",
        "  dx = f_x + g_x * u\n",
        "\n",
        "  if symbolic:\n",
        "    return D, C, G, x, dx\n",
        "  else: \n",
        "    return D.subs([(i, j) for i, j in zip([m_1, m_2, I_1, I_2, l_1, l_2, lc_1, lc_2, q_1, q_2, dq_1, dq_2, u_1, u_2, g], *args)]) , C.subs([(i, j) for i, j in zip([m_1, m_2, I_1, I_2, l_1, l_2, lc_1, lc_2, q_1, q_2, dq_1, dq_2, u_1, u_2, g], *args)])  , G.subs([(i, j) for i, j in zip([m_1, m_2, I_1, I_2, l_1, l_2, lc_1, lc_2, q_1, q_2, dq_1, dq_2, u_1, u_2, g], *args)]), x.subs([(i, j) for i, j in zip([m_1, m_2, I_1, I_2, l_1, l_2, lc_1, lc_2, q_1, q_2, dq_1, dq_2, u_1, u_2, g], *args)]), dx.subs([(i, j) for i, j in zip([m_1, m_2, I_1, I_2, l_1, l_2, lc_1, lc_2, q_1, q_2, dq_1, dq_2, u_1, u_2, g], *args)])  "
      ],
      "metadata": {
        "id": "vuL5HneBFNdN"
      },
      "execution_count": 56,
      "outputs": []
    },
    {
      "cell_type": "code",
      "source": [
        "res_d, res_c, res_g, res_x, res_dx = dynamics_terms(2, False, [1, 1, 0.25, 0.25, 0.25, 0.25, 0.5, 0.5, sympy.pi/3, sympy.pi/6, 1, 2, 3, 4, 10])"
      ],
      "metadata": {
        "id": "5Wzgo2RRFTv3"
      },
      "execution_count": 57,
      "outputs": []
    },
    {
      "cell_type": "code",
      "source": [
        "print(res_d)"
      ],
      "metadata": {
        "colab": {
          "base_uri": "https://localhost:8080/"
        },
        "id": "8ykskCoIF2u2",
        "outputId": "e36df212-fed3-40f8-f566-14d0b2cc27a7"
      },
      "execution_count": 58,
      "outputs": [
        {
          "output_type": "stream",
          "name": "stdout",
          "text": [
            "Matrix([[0.25*(-1 - 0.25*sqrt(3))**2 + 0.765625, 0.0625*sqrt(3) + 0.5], [0.0625*sqrt(3) + 0.5, 0.500000000000000]])\n"
          ]
        }
      ]
    },
    {
      "cell_type": "code",
      "source": [
        "print(res_c)"
      ],
      "metadata": {
        "colab": {
          "base_uri": "https://localhost:8080/"
        },
        "id": "Gh51rd8_F3gq",
        "outputId": "f9773831-65ea-4b80-da91-34e902a322f6"
      },
      "execution_count": 59,
      "outputs": [
        {
          "output_type": "stream",
          "name": "stdout",
          "text": [
            "Matrix([[-0.125000000000000, -0.187500000000000], [0.0625000000000000, 0]])\n"
          ]
        }
      ]
    },
    {
      "cell_type": "code",
      "source": [
        "print(res_g)"
      ],
      "metadata": {
        "colab": {
          "base_uri": "https://localhost:8080/"
        },
        "id": "OWkgSHO4F4pB",
        "outputId": "8f38edbf-87fa-4f2f-a92a-41b40cac017c"
      },
      "execution_count": 60,
      "outputs": [
        {
          "output_type": "stream",
          "name": "stdout",
          "text": [
            "Matrix([[3.75000000000000], [0]])\n"
          ]
        }
      ]
    },
    {
      "cell_type": "code",
      "source": [
        "print(res_x)"
      ],
      "metadata": {
        "colab": {
          "base_uri": "https://localhost:8080/"
        },
        "id": "zoyuaZqmF5uD",
        "outputId": "290454ef-822c-4c1b-fa88-1fc47a60faba"
      },
      "execution_count": 61,
      "outputs": [
        {
          "output_type": "stream",
          "name": "stdout",
          "text": [
            "Matrix([[pi/3], [pi/6], [1], [2]])\n"
          ]
        }
      ]
    },
    {
      "cell_type": "code",
      "source": [
        "print(res_dx)"
      ],
      "metadata": {
        "colab": {
          "base_uri": "https://localhost:8080/"
        },
        "id": "4v1Zp1vvF8GC",
        "outputId": "48fdd6b0-417c-4ac1-f967-8bf4b91e55c0"
      },
      "execution_count": 62,
      "outputs": [
        {
          "output_type": "stream",
          "name": "stdout",
          "text": [
            "Matrix([[1], [2], [-0.0625*(-1 - 0.25*sqrt(3))**2 + 0.24609375*sqrt(3) + 1.77734375], [1.84375 - 0.015625*sqrt(3)]])\n"
          ]
        }
      ]
    },
    {
      "cell_type": "markdown",
      "source": [
        "#Trajectory\n",
        "###Cubic\n",
        "###Quintic"
      ],
      "metadata": {
        "id": "M8r_c4bMGJy6"
      }
    },
    {
      "cell_type": "code",
      "source": [
        "def cubic(start_p, end_p):\n",
        "  q0, v0, t0 = start_p\n",
        "  qf, vf, tf = end_p\n",
        "  M = np.array([[1, t0, t0**2, t0**3],\n",
        "                [0, 1, 2*t0, 3*t0**2],\n",
        "                [1, tf, tf**2, tf**3],\n",
        "                [0, 1, 2*tf, 3*tf**2]])\n",
        "  \n",
        "  initial_values = np.array([q0, v0, qf, vf]).reshape(-1, 1)\n",
        "  A = np.matmul(np.linalg.inv(M) , initial_values)\n",
        "\n",
        "  t = np.linspace(t0, tf, 100*(tf-t0))\n",
        "  o = np.ones(len(t))\n",
        "\n",
        "  q = A[0] * o + A[1] * t + A[2] * t**2 + A[3] * t**3\n",
        "  v = A[1] * o + 2 * A[2] * t + 3 * A[3] * t**2\n",
        "  a =  2 * A[2] * o + 6 * A[3] * t\n",
        "\n",
        "  return q, v, a, t"
      ],
      "metadata": {
        "id": "1ad8fTAYF8ca"
      },
      "execution_count": 63,
      "outputs": []
    },
    {
      "cell_type": "code",
      "source": [
        "def quintic(start_p, end_p):\n",
        "  q0, v0, t0, alpha0 = start_p\n",
        "  qf, vf, tf, alphaf = end_p\n",
        "  M = np.array([[1, t0, t0**2, t0**3, t0**4, t0**5],\n",
        "                [0, 1, 2*t0, 3*t0**2, 4*t0**3, 5*t0**4],\n",
        "                [0, 0, 2, 6*t0, 12*t0**2, 20*t0**3],\n",
        "                [1, tf, tf**2, tf**3, tf**4, tf**5],\n",
        "                [0, 1, 2*tf, 3*tf**2, 4*tf**3, 5*tf**4],\n",
        "                [0, 0, 2, 6*tf, 12*tf**2, 20*tf**3]])\n",
        "  \n",
        "  initial_values = np.array([q0, v0, alpha0, qf, vf, alphaf]).reshape(-1, 1)\n",
        "  A = np.matmul(np.linalg.inv(M) , initial_values)\n",
        "\n",
        "  t = np.linspace(t0, tf, 100*(tf-t0))\n",
        "  o = np.ones(len(t))\n",
        "\n",
        "  q = A[0]*o + A[1]*t + A[2]*t**2 + A[3]*t**3 + A[4]*t**4 + A[5]*t**5 \n",
        "  v = A[1]*o + 2*A[2]*t + 3*A[3]*t**2 + 4*A[4]*t**3 + 5*A[5]*t**4 \n",
        "  a = 2*A[2]*o + 6*A[3]*t + 12*A[4]*t**2 + 20*A[5]*t**3 \n",
        "  \n",
        "  return q, v, a, t"
      ],
      "metadata": {
        "id": "CK5D1I_NGXnE"
      },
      "execution_count": 64,
      "outputs": []
    },
    {
      "cell_type": "code",
      "source": [
        "def trajectory(q0=0, v0=0, alpha0=0, qf=1, vf=1, alphaf=1, t0=0, tf=1, swich=0, via=0):\n",
        "\n",
        "  # Initialization  \n",
        "  model = ['Cubic', 'Quintic']\n",
        "  via_list = [[]]*(via+2)\n",
        "  if not swich:  # Cubic\n",
        "    via_list[0] = [q0, v0, t0]\n",
        "    via_list[-1] = [qf, vf, tf]\n",
        "  else:          # Quintic\n",
        "    via_list[0] = [q0, v0, t0, alpha0]\n",
        "    via_list[-1] = [qf, vf, tf, alphaf]\n",
        "\n",
        "  # Via points \n",
        "  if via > 0:\n",
        "    print('Please Enter Inputs as A single point (q, v, t, alpha) ')\n",
        "  for j in range(via):\n",
        "    inputs = input(f'Please Enter Address {j+1}:\\n')\n",
        "    temp_via = list()\n",
        "    try:\n",
        "      for i in inputs.split():\n",
        "        temp_via.append(int(i))\n",
        "    except ValueError:\n",
        "      print('Please Enter only int numbers.')\n",
        "      return\n",
        "    if len(temp_via) != 4 and swich==1:\n",
        "      print('Please Enter The Right Number of elements.')\n",
        "      return\n",
        "    via_list[j+1] = temp_via\n",
        "  via_list = np.array(via_list)  \n",
        "\n",
        "  q, v, a, t = np.array([]), np.array([]), np.array([]), np.array([])\n",
        "  for r in range(via+1):\n",
        "    start_p = via_list[r]\n",
        "    end_p = via_list[r+1]\n",
        "    if not swich:  # Cubic\n",
        "      tq, tv, ta, tt = cubic(start_p, end_p)\n",
        "    else:          # Quintic\n",
        "      tq, tv, ta, tt = quintic(start_p, end_p)\n",
        "\n",
        "    # concatentate q, v, a, t with their ancestors\n",
        "    q = np.concatenate((q, tq))\n",
        "    v = np.concatenate((v, tv))\n",
        "    a = np.concatenate((a, ta))\n",
        "    t = np.concatenate((t, tt))  \n",
        "    \n",
        "  #Plot all three figures \n",
        "  fig = plt.figure(figsize=(15,5))\n",
        "  plt.subplot(1, 3, 1)\n",
        "  plt.title(f'{model[swich]} polynomial trajectory')\n",
        "  plt.plot(t, q)\n",
        "  plt.xlabel('time')\n",
        "  plt.legend('q')\n",
        "\n",
        "  plt.subplot(1, 3, 2)\n",
        "  plt.title(f'Velocity profile for {model[swich]} polynomial trajectory')\n",
        "  plt.plot(t, v)\n",
        "  plt.xlabel('time')\n",
        "  plt.legend('v')\n",
        "\n",
        "  plt.subplot(1, 3, 3)\n",
        "  plt.title(f'Acceleration profile for {model[swich]} polynomial trajectory')\n",
        "  plt.plot(t, a)\n",
        "  plt.xlabel('time')\n",
        "  plt.legend('a')\n",
        "\n",
        "  plt.show()\n",
        "\n",
        "  return q, v, a  "
      ],
      "metadata": {
        "id": "QttiJJAEGY8d"
      },
      "execution_count": 65,
      "outputs": []
    },
    {
      "cell_type": "code",
      "source": [
        "Q,V,A = trajectory(q0=0,\n",
        "                  v0=10,\n",
        "                  alpha0=0,\n",
        "                  qf=100,\n",
        "                  vf=20,\n",
        "                  alphaf=10,\n",
        "                  t0=0,\n",
        "                  tf=10,\n",
        "                  swich=0,\n",
        "                  via=3)\n",
        "\n",
        "# Example Via points locations\n",
        "#Enter via points locations in [q, v, t]\n",
        "#12 24 2\n",
        "#54 100 4\n",
        "#80 64 8"
      ],
      "metadata": {
        "colab": {
          "base_uri": "https://localhost:8080/",
          "height": 375
        },
        "id": "wp-QIsXPGc8k",
        "outputId": "1983b315-19e2-48d3-eeee-2da9f0695146"
      },
      "execution_count": 66,
      "outputs": [
        {
          "name": "stdout",
          "output_type": "stream",
          "text": [
            "Please Enter Inputs as A single point (q, v, t, alpha) \n",
            "Please Enter Address 1:\n",
            "12 24 2\n",
            "Please Enter Address 2:\n",
            "54 100 4\n",
            "Please Enter Address 3:\n",
            "80 64 8\n"
          ]
        },
        {
          "output_type": "display_data",
          "data": {
            "text/plain": [
              "<Figure size 1080x360 with 3 Axes>"
            ],
            "image/png": "[encoded data removed]"
          },
          "metadata": {
            "needs_background": "light"
          }
        }
      ]
    },
    {
      "cell_type": "code",
      "source": [
        ""
      ],
      "metadata": {
        "id": "tWokNgcnGrml"
      },
      "execution_count": null,
      "outputs": []
    }
  ]
}