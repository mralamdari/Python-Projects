{
  "nbformat": 4,
  "nbformat_minor": 0,
  "metadata": {
    "colab": {
      "name": "Robotics-in-Python.ipynb",
      "provenance": [],
      "collapsed_sections": [],
      "authorship_tag": "ABX9TyOlIh+5NghlFy9XQ1WZ7KUt",
      "include_colab_link": true
    },
    "kernelspec": {
      "name": "python3",
      "display_name": "Python 3"
    },
    "language_info": {
      "name": "python"
    }
  },
  "cells": [
    {
      "cell_type": "markdown",
      "metadata": {
        "id": "view-in-github",
        "colab_type": "text"
      },
      "source": [
        "<a href=\"https://colab.research.google.com/github/mralamdari/Robotics-in-Python/blob/main/Robotics_in_Python.ipynb\" target=\"_parent\"><img src=\"https://colab.research.google.com/assets/colab-badge.svg\" alt=\"Open In Colab\"/></a>"
      ]
    },
    {
      "cell_type": "code",
      "execution_count": 3,
      "metadata": {
        "id": "Dv3luEVU_fyV"
      },
      "outputs": [],
      "source": [
        "import scipy\n",
        "import sympy\n",
        "import numpy as np\n",
        "import pandas as pd\n",
        "import matplotlib.pyplot as plt"
      ]
    },
    {
      "cell_type": "code",
      "source": [
        "#Denavite Hartnzberg\n",
        "def DH(a, alpha_degree, d, theta_degree):\n",
        "  theta = np.deg2rad(theta_degree)\n",
        "  alpha = np.deg2rad(alpha_degree)\n",
        "  dh_table = np.array([[np.cos(theta), -np.cos(alpha)*np.sin(theta), np.sin(alpha)*np.sin(theta), a*np.cos(theta)],\n",
        "                      [np.sin(theta), np.cos(alpha)*np.cos(theta), -np.sin(alpha)*np.cos(theta), a*np.sin(theta)],\n",
        "                      [0 ,np.sin(alpha), np.cos(alpha), d],\n",
        "                      [0, 0, 0, 1]])\n",
        "  return np.float16(dh_table)"
      ],
      "metadata": {
        "id": "Sb3ghEvPBAUp"
      },
      "execution_count": 4,
      "outputs": []
    },
    {
      "cell_type": "code",
      "source": [
        "a1 =DH(0, -90, -999, 0)\n",
        "a2 =DH(0, -90, -888, 90)\n",
        "a3 =DH(0, 0, -777, 0)\n",
        "\n",
        "s=np.dot(a1, a2)\n",
        "s"
      ],
      "metadata": {
        "colab": {
          "base_uri": "https://localhost:8080/"
        },
        "id": "3ntOHjW3Bya4",
        "outputId": "27b37d42-8ac8-4967-82d7-a4f660f9a955"
      },
      "execution_count": 5,
      "outputs": [
        {
          "output_type": "execute_result",
          "data": {
            "text/plain": [
              "array([[   0.,    0.,   -1.,    0.],\n",
              "       [   0.,   -1.,    0., -888.],\n",
              "       [  -1.,    0.,    0., -999.],\n",
              "       [   0.,    0.,    0.,    1.]], dtype=float16)"
            ]
          },
          "metadata": {},
          "execution_count": 5
        }
      ]
    },
    {
      "cell_type": "code",
      "source": [
        "np.dot(s, a3)"
      ],
      "metadata": {
        "colab": {
          "base_uri": "https://localhost:8080/"
        },
        "id": "Uo3PWReyB4pp",
        "outputId": "a90c555e-9084-4899-e92e-44a263ff0767"
      },
      "execution_count": 6,
      "outputs": [
        {
          "output_type": "execute_result",
          "data": {
            "text/plain": [
              "array([[   0.,    0.,   -1.,  777.],\n",
              "       [   0.,   -1.,    0., -888.],\n",
              "       [  -1.,    0.,    0., -999.],\n",
              "       [   0.,    0.,    0.,    1.]], dtype=float16)"
            ]
          },
          "metadata": {},
          "execution_count": 6
        }
      ]
    },
    {
      "cell_type": "markdown",
      "source": [
        "#Forwarsd Synematic\n",
        "\n",
        "0 ===> Scara\n",
        "\n",
        "1 ===> manipulator\n",
        "\n",
        "2 ===> cyliendrical\n",
        "\n",
        "3 ===> stanford"
      ],
      "metadata": {
        "id": "0WJss6QKB_Av"
      }
    },
    {
      "cell_type": "code",
      "source": [
        "def forward_scara(a1, a2, d3, d4, theta_1, theta_2, theta_4):\n",
        "  A01 = DH(a1, 0, 0, theta_1)\n",
        "  A12 = DH(a2, 180, 0, theta_2)\n",
        "  A23 = DH(0, 0, d3, 0)\n",
        "  A34 = DH(0, 0, d4, theta_4)\n",
        "\n",
        "  T40 = np.matmul(np.matmul(A01, A12), np.matmul(A23,A34))\n",
        "  return np.float16(T40)"
      ],
      "metadata": {
        "id": "DaMI62wkB5NZ"
      },
      "execution_count": 7,
      "outputs": []
    },
    {
      "cell_type": "code",
      "source": [
        "def forward_manipulator(a1, a2, theta_1, theta_2):\n",
        "  A01 = DH(a1, 0, 0, theta_1)\n",
        "  A12 = DH(a2, 0, 0, theta_2)\n",
        "\n",
        "  T20 = np.matmul(A01, A12)\n",
        "  return np.float16(T20)"
      ],
      "metadata": {
        "id": "SXihFbcICNo0"
      },
      "execution_count": 8,
      "outputs": []
    },
    {
      "cell_type": "code",
      "source": [
        "def forward_cylindrical(alpha_2, d1, d2, d3, theta_1):\n",
        "  A01 = DH(0, 0, d1, theta_1)\n",
        "  A12 = DH(0, alpha_2, d2, 0)\n",
        "  A23 = DH(0, 0, d3, 0)\n",
        "\n",
        "  T30 = np.matmul(np.matmul(A01, A12), A23)\n",
        "  return np.float16(T30)"
      ],
      "metadata": {
        "id": "xo5ksmUzCSfT"
      },
      "execution_count": 9,
      "outputs": []
    },
    {
      "cell_type": "code",
      "source": [
        "def forward_stanford(d2, d3, theta_1, theta_2):\n",
        "  A01 = DH(0, -90, 0, theta_1)\n",
        "  A12 = DH(0, 90, d2, theta_2)\n",
        "  A23 = DH(0, 0, d3, 0)\n",
        "\n",
        "  T30 = np.matmul(np.matmul(A01, A12), A23)\n",
        "  return np.float16(T30)"
      ],
      "metadata": {
        "id": "I51mws-jCWsc"
      },
      "execution_count": 10,
      "outputs": []
    },
    {
      "cell_type": "code",
      "source": [
        "def wrist(alpha_4, alpha_5, d6, theta_4, theta_5, theta_6):\n",
        "  A34 = DH(0, -90, 0, theta_4)\n",
        "  A45 = DH(0, 90, 0, theta_5)\n",
        "  A56 = DH(0, 0, d6, theta_6)\n",
        "\n",
        "  T63 = np.matmul(np.matmul(A34, A45), A56)\n",
        "  return np.float16(T63)"
      ],
      "metadata": {
        "id": "hh39uXqUCgPO"
      },
      "execution_count": 11,
      "outputs": []
    },
    {
      "cell_type": "code",
      "source": [
        ""
      ],
      "metadata": {
        "id": "27L_RA1sCk_1"
      },
      "execution_count": null,
      "outputs": []
    }
  ]
}