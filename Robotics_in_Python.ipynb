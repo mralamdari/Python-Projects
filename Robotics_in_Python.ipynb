{
  "nbformat": 4,
  "nbformat_minor": 0,
  "metadata": {
    "colab": {
      "name": "Robotics-in-Python.ipynb",
      "provenance": [],
      "collapsed_sections": [],
      "authorship_tag": "ABX9TyNrBydo3CGqkRK7Rtr/FR/C",
      "include_colab_link": true
    },
    "kernelspec": {
      "name": "python3",
      "display_name": "Python 3"
    },
    "language_info": {
      "name": "python"
    }
  },
  "cells": [
    {
      "cell_type": "markdown",
      "metadata": {
        "id": "view-in-github",
        "colab_type": "text"
      },
      "source": [
        "<a href=\"https://colab.research.google.com/github/mralamdari/Robotics-in-Python/blob/main/Robotics_in_Python.ipynb\" target=\"_parent\"><img src=\"https://colab.research.google.com/assets/colab-badge.svg\" alt=\"Open In Colab\"/></a>"
      ]
    },
    {
      "cell_type": "code",
      "execution_count": 3,
      "metadata": {
        "id": "Dv3luEVU_fyV"
      },
      "outputs": [],
      "source": [
        "import scipy\n",
        "import sympy\n",
        "import numpy as np\n",
        "import pandas as pd\n",
        "import matplotlib.pyplot as plt"
      ]
    },
    {
      "cell_type": "code",
      "source": [
        "#Denavite Hartnzberg\n",
        "def DH(a, alpha_degree, d, theta_degree):\n",
        "  theta = np.deg2rad(theta_degree)\n",
        "  alpha = np.deg2rad(alpha_degree)\n",
        "  dh_table = np.array([[np.cos(theta), -np.cos(alpha)*np.sin(theta), np.sin(alpha)*np.sin(theta), a*np.cos(theta)],\n",
        "                      [np.sin(theta), np.cos(alpha)*np.cos(theta), -np.sin(alpha)*np.cos(theta), a*np.sin(theta)],\n",
        "                      [0 ,np.sin(alpha), np.cos(alpha), d],\n",
        "                      [0, 0, 0, 1]])\n",
        "  return np.float16(dh_table)"
      ],
      "metadata": {
        "id": "Sb3ghEvPBAUp"
      },
      "execution_count": 4,
      "outputs": []
    },
    {
      "cell_type": "code",
      "source": [
        "a1 =DH(0, -90, -999, 0)\n",
        "a2 =DH(0, -90, -888, 90)\n",
        "a3 =DH(0, 0, -777, 0)\n",
        "\n",
        "s=np.dot(a1, a2)\n",
        "s"
      ],
      "metadata": {
        "colab": {
          "base_uri": "https://localhost:8080/"
        },
        "id": "3ntOHjW3Bya4",
        "outputId": "27b37d42-8ac8-4967-82d7-a4f660f9a955"
      },
      "execution_count": 5,
      "outputs": [
        {
          "output_type": "execute_result",
          "data": {
            "text/plain": [
              "array([[   0.,    0.,   -1.,    0.],\n",
              "       [   0.,   -1.,    0., -888.],\n",
              "       [  -1.,    0.,    0., -999.],\n",
              "       [   0.,    0.,    0.,    1.]], dtype=float16)"
            ]
          },
          "metadata": {},
          "execution_count": 5
        }
      ]
    },
    {
      "cell_type": "code",
      "source": [
        "np.dot(s, a3)"
      ],
      "metadata": {
        "colab": {
          "base_uri": "https://localhost:8080/"
        },
        "id": "Uo3PWReyB4pp",
        "outputId": "a90c555e-9084-4899-e92e-44a263ff0767"
      },
      "execution_count": 6,
      "outputs": [
        {
          "output_type": "execute_result",
          "data": {
            "text/plain": [
              "array([[   0.,    0.,   -1.,  777.],\n",
              "       [   0.,   -1.,    0., -888.],\n",
              "       [  -1.,    0.,    0., -999.],\n",
              "       [   0.,    0.,    0.,    1.]], dtype=float16)"
            ]
          },
          "metadata": {},
          "execution_count": 6
        }
      ]
    },
    {
      "cell_type": "markdown",
      "source": [
        "#Forwarsd Synematic\n",
        "\n",
        "0 ===> Scara\n",
        "\n",
        "1 ===> manipulator\n",
        "\n",
        "2 ===> cyliendrical\n",
        "\n",
        "3 ===> stanford"
      ],
      "metadata": {
        "id": "0WJss6QKB_Av"
      }
    },
    {
      "cell_type": "code",
      "source": [
        "def forward_scara(a1, a2, d3, d4, theta_1, theta_2, theta_4):\n",
        "  A01 = DH(a1, 0, 0, theta_1)\n",
        "  A12 = DH(a2, 180, 0, theta_2)\n",
        "  A23 = DH(0, 0, d3, 0)\n",
        "  A34 = DH(0, 0, d4, theta_4)\n",
        "\n",
        "  T40 = np.matmul(np.matmul(A01, A12), np.matmul(A23,A34))\n",
        "  return np.float16(T40)"
      ],
      "metadata": {
        "id": "DaMI62wkB5NZ"
      },
      "execution_count": 7,
      "outputs": []
    },
    {
      "cell_type": "code",
      "source": [
        "def forward_manipulator(a1, a2, theta_1, theta_2):\n",
        "  A01 = DH(a1, 0, 0, theta_1)\n",
        "  A12 = DH(a2, 0, 0, theta_2)\n",
        "\n",
        "  T20 = np.matmul(A01, A12)\n",
        "  return np.float16(T20)"
      ],
      "metadata": {
        "id": "SXihFbcICNo0"
      },
      "execution_count": 8,
      "outputs": []
    },
    {
      "cell_type": "code",
      "source": [
        "def forward_cylindrical(alpha_2, d1, d2, d3, theta_1):\n",
        "  A01 = DH(0, 0, d1, theta_1)\n",
        "  A12 = DH(0, alpha_2, d2, 0)\n",
        "  A23 = DH(0, 0, d3, 0)\n",
        "\n",
        "  T30 = np.matmul(np.matmul(A01, A12), A23)\n",
        "  return np.float16(T30)"
      ],
      "metadata": {
        "id": "xo5ksmUzCSfT"
      },
      "execution_count": 9,
      "outputs": []
    },
    {
      "cell_type": "code",
      "source": [
        "def forward_stanford(d2, d3, theta_1, theta_2):\n",
        "  A01 = DH(0, -90, 0, theta_1)\n",
        "  A12 = DH(0, 90, d2, theta_2)\n",
        "  A23 = DH(0, 0, d3, 0)\n",
        "\n",
        "  T30 = np.matmul(np.matmul(A01, A12), A23)\n",
        "  return np.float16(T30)"
      ],
      "metadata": {
        "id": "I51mws-jCWsc"
      },
      "execution_count": 10,
      "outputs": []
    },
    {
      "cell_type": "code",
      "source": [
        "def wrist(alpha_4, alpha_5, d6, theta_4, theta_5, theta_6):\n",
        "  A34 = DH(0, -90, 0, theta_4)\n",
        "  A45 = DH(0, 90, 0, theta_5)\n",
        "  A56 = DH(0, 0, d6, theta_6)\n",
        "\n",
        "  T63 = np.matmul(np.matmul(A34, A45), A56)\n",
        "  return np.float16(T63)"
      ],
      "metadata": {
        "id": "hh39uXqUCgPO"
      },
      "execution_count": 11,
      "outputs": []
    },
    {
      "cell_type": "code",
      "source": [
        "def forward_robotic(point, num=0, wist=False, a1=0, a2=0, a3=0, a4=0, a5=0, a6=0, alpha_1=0, alpha_2=0, alpha_3=0, alpha_4=0, alpha_5=0, alpha_6=0,  d1=0, d2=0, d3=0, d4=0, d5=0, d6=0, theta_1=0, theta_2=0, theta_3=0, theta_4=0, theta_5=0, theta_6=0):\n",
        "  \n",
        "  \n",
        "  point=np.array(point).reshape(-1, 1)\n",
        "  if num == 0:\n",
        "    T0_3 = forward_scara(a1, a2, d3, d4, theta_1, theta_2, theta_4)\n",
        "  elif num == 1:  \n",
        "    T0_3 = forward_manipulator(a1, a2, theta_1, theta_2)\n",
        "  elif num == 2:  \n",
        "    T0_3 =  forward_cylindrical(alpha_2, d1, d2, d3, theta_1)\n",
        "  else:  \n",
        "    T0_3 = forward_stanford(d2, d3, theta_1, theta_2)\n",
        "\n",
        "  if wist:\n",
        "    T3_6 = wrist(alpha_4, alpha_5, d6, theta_4, theta_5, theta_6)\n",
        "    T = np.matmul(T0_3, T3_6)\n",
        "  else:\n",
        "    T = T0_3\n",
        "\n",
        "  R = T[:-1, :-1]\n",
        "  d = T[:-1, -1].reshape(-1, 1)  \n",
        "  res = np.matmul(R, point) + d\n",
        "\n",
        "  return res.T[0]"
      ],
      "metadata": {
        "id": "27L_RA1sCk_1"
      },
      "execution_count": 12,
      "outputs": []
    },
    {
      "cell_type": "code",
      "source": [
        "forward_robotic([12,23,53],\n",
        "                 num=3,\n",
        "                 wist=True,\n",
        "                 a1=2,\n",
        "                 a2=2,\n",
        "                 d1=20,\n",
        "                 d2=40,\n",
        "                 d3=30,\n",
        "                 d4=10 ,\n",
        "                 theta_1=60,\n",
        "                 theta_2=-180,\n",
        "                 theta_4=25)"
      ],
      "metadata": {
        "colab": {
          "base_uri": "https://localhost:8080/"
        },
        "id": "0uZzhPlACpsV",
        "outputId": "eac9a285-6bd7-4bf2-a185-73d13fb7155a"
      },
      "execution_count": 13,
      "outputs": [
        {
          "output_type": "execute_result",
          "data": {
            "text/plain": [
              "array([-57.68408203,  31.95996094, -83.        ])"
            ]
          },
          "metadata": {},
          "execution_count": 13
        }
      ]
    },
    {
      "cell_type": "markdown",
      "source": [
        "#Tabdils and Rotations\n",
        "R_x, R_y, R_z\n",
        "\n",
        "T_x, T_y, T_z"
      ],
      "metadata": {
        "id": "0DTngGTFDNhe"
      }
    },
    {
      "cell_type": "code",
      "source": [
        "def T_x(a):\n",
        "  TX = np.array([[1, 0, 0, a],\n",
        "                 [0, 1, 0, 0],\n",
        "                 [0, 0, 1, 0],\n",
        "                 [0, 0, 0, 1]])\n",
        "  return TX"
      ],
      "metadata": {
        "id": "-DKRnYbcCzyk"
      },
      "execution_count": 14,
      "outputs": []
    },
    {
      "cell_type": "code",
      "source": [
        "def T_y(b):\n",
        "  TY = np.array([[1, 0, 0, 0],\n",
        "                 [0, 1, 0, b],\n",
        "                 [0, 0, 1, 0],\n",
        "                 [0, 0, 0, 1]])\n",
        "  return TY"
      ],
      "metadata": {
        "id": "Vja_CJZkDPw7"
      },
      "execution_count": 15,
      "outputs": []
    },
    {
      "cell_type": "code",
      "source": [
        "def T_z(c):\n",
        "  TZ = np.array([[1, 0, 0, 0],\n",
        "                 [0, 1, 0, 0],\n",
        "                 [0, 0, 1, c],\n",
        "                 [0, 0, 0, 1]])\n",
        "  return TZ"
      ],
      "metadata": {
        "id": "33y7FvU9DRYs"
      },
      "execution_count": 16,
      "outputs": []
    },
    {
      "cell_type": "code",
      "source": [
        "def R_x(alpha):\n",
        "  alpha = np.deg2rad(alpha)\n",
        "  RX = np.array([[1, 0, 0, 0],\n",
        "                 [0, np.cos(alpha), -np.sin(alpha), 0],\n",
        "                 [0, np.sin(alpha), np.cos(alpha), 0],\n",
        "                 [0, 0, 0, 1]])\n",
        "  return np.float16(RX)  "
      ],
      "metadata": {
        "id": "aJv5_BexDTWt"
      },
      "execution_count": 17,
      "outputs": []
    },
    {
      "cell_type": "code",
      "source": [
        "def R_y(betha):\n",
        "  betha = np.deg2rad(betha)\n",
        "  RY = np.array([[np.cos(betha), 0, np.sin(betha), 0],\n",
        "                 [0, 1, 0, 0],\n",
        "                 [-np.sin(betha), 0, np.cos(betha), 0],\n",
        "                 [0, 0, 0, 1]])\n",
        "  return np.float16(RY)"
      ],
      "metadata": {
        "id": "H4AkpV67DXM3"
      },
      "execution_count": 18,
      "outputs": []
    },
    {
      "cell_type": "code",
      "source": [
        "def R_z(gamma):\n",
        "  gamma = np.deg2rad(gamma)\n",
        "  RZ = np.array([[np.cos(gamma), -np.sin(gamma), 0, 0],\n",
        "                 [np.sin(gamma), np.cos(gamma), 0, 0],\n",
        "                 [0, 0, 1, 0],\n",
        "                 [0, 0, 0, 1]])\n",
        "  return np.float16(RZ)  "
      ],
      "metadata": {
        "id": "dX5bleI0DYSo"
      },
      "execution_count": 19,
      "outputs": []
    },
    {
      "cell_type": "code",
      "source": [
        "R_z(90)"
      ],
      "metadata": {
        "colab": {
          "base_uri": "https://localhost:8080/"
        },
        "id": "nXARO2_nDddu",
        "outputId": "b6381ccb-9a91-4527-8227-98b9606905d4"
      },
      "execution_count": 21,
      "outputs": [
        {
          "output_type": "execute_result",
          "data": {
            "text/plain": [
              "array([[ 0., -1.,  0.,  0.],\n",
              "       [ 1.,  0.,  0.,  0.],\n",
              "       [ 0.,  0.,  1.,  0.],\n",
              "       [ 0.,  0.,  0.,  1.]], dtype=float16)"
            ]
          },
          "metadata": {},
          "execution_count": 21
        }
      ]
    },
    {
      "cell_type": "code",
      "source": [
        "R_y(0)"
      ],
      "metadata": {
        "colab": {
          "base_uri": "https://localhost:8080/"
        },
        "id": "UenzKJYmDdbM",
        "outputId": "9cef4a19-e829-4cf1-bba0-5a9108bc60ad"
      },
      "execution_count": 22,
      "outputs": [
        {
          "output_type": "execute_result",
          "data": {
            "text/plain": [
              "array([[ 1.,  0.,  0.,  0.],\n",
              "       [ 0.,  1.,  0.,  0.],\n",
              "       [-0.,  0.,  1.,  0.],\n",
              "       [ 0.,  0.,  0.,  1.]], dtype=float16)"
            ]
          },
          "metadata": {},
          "execution_count": 22
        }
      ]
    },
    {
      "cell_type": "code",
      "source": [
        "R_z(45)"
      ],
      "metadata": {
        "colab": {
          "base_uri": "https://localhost:8080/"
        },
        "id": "QIODIEGDDlGm",
        "outputId": "81a77dec-aaff-40af-c9a8-e3284220e310"
      },
      "execution_count": 24,
      "outputs": [
        {
          "output_type": "execute_result",
          "data": {
            "text/plain": [
              "array([[ 0.707, -0.707,  0.   ,  0.   ],\n",
              "       [ 0.707,  0.707,  0.   ,  0.   ],\n",
              "       [ 0.   ,  0.   ,  1.   ,  0.   ],\n",
              "       [ 0.   ,  0.   ,  0.   ,  1.   ]], dtype=float16)"
            ]
          },
          "metadata": {},
          "execution_count": 24
        }
      ]
    },
    {
      "cell_type": "code",
      "source": [
        "T_x(52)"
      ],
      "metadata": {
        "colab": {
          "base_uri": "https://localhost:8080/"
        },
        "id": "qHI9AY_6DnDH",
        "outputId": "866604c1-cd2f-4966-bdf6-c8d3384bc7f5"
      },
      "execution_count": 25,
      "outputs": [
        {
          "output_type": "execute_result",
          "data": {
            "text/plain": [
              "array([[ 1,  0,  0, 52],\n",
              "       [ 0,  1,  0,  0],\n",
              "       [ 0,  0,  1,  0],\n",
              "       [ 0,  0,  0,  1]])"
            ]
          },
          "metadata": {},
          "execution_count": 25
        }
      ]
    },
    {
      "cell_type": "code",
      "source": [
        "np.dot(np.dot(R_z(90),R_y(0)), R_z(45)) + T_x(52)"
      ],
      "metadata": {
        "colab": {
          "base_uri": "https://localhost:8080/"
        },
        "id": "6_dcW3scDZys",
        "outputId": "2ef06ef8-944b-4868-fc2b-caf831a50dc8"
      },
      "execution_count": 23,
      "outputs": [
        {
          "output_type": "execute_result",
          "data": {
            "text/plain": [
              "array([[ 0.29296875, -0.70703125,  0.        , 52.        ],\n",
              "       [ 0.70703125,  0.29296875,  0.        ,  0.        ],\n",
              "       [ 0.        ,  0.        ,  2.        ,  0.        ],\n",
              "       [ 0.        ,  0.        ,  0.        ,  2.        ]])"
            ]
          },
          "metadata": {},
          "execution_count": 23
        }
      ]
    },
    {
      "cell_type": "markdown",
      "source": [
        "#Inverse Synematic\n",
        "\n",
        "0, Scara\n",
        "\n",
        "1, RRR\n",
        "\n",
        "2, stanford"
      ],
      "metadata": {
        "id": "2PrTERuFDsfL"
      }
    },
    {
      "cell_type": "code",
      "source": [
        "def inverse_stanford(x, y, z, a2, a3, d1=0, left=True):\n",
        "  if left:\n",
        "    alpha = np.arctan2(x, y)\n",
        "    beta = np.arctan2(-np.sqrt(np.abs(x**2 + y**2 - d1**2)), -d1)\n",
        "    theta1 = alpha + beta\n",
        "  else: \n",
        "    alpha = np.arctan2(x, y)\n",
        "    beta = np.arctan2(np.sqrt(np.abs(x**2 + y**2 - d1**2)), d1)\n",
        "    theta1 = alpha - beta\n",
        "\n",
        "  theta2 = np.arctan2(x**2 + y**2, z-d1)\n",
        "  D3 = np.sqrt(np.abs(x**2 + y**2 + (z-d1)**2))\n",
        "  return theta1, theta2, D3"
      ],
      "metadata": {
        "id": "vDVQI6nwDb5k"
      },
      "execution_count": 26,
      "outputs": []
    },
    {
      "cell_type": "code",
      "source": [
        "forward_stanford(d2=1, d3=2, theta_1=30, theta_2=45)\n",
        "np.arctan2(3, 1)"
      ],
      "metadata": {
        "colab": {
          "base_uri": "https://localhost:8080/"
        },
        "id": "BL6RkvUADuUY",
        "outputId": "a9734dde-9e18-4b04-cc43-1e3f49ae6260"
      },
      "execution_count": 27,
      "outputs": [
        {
          "output_type": "execute_result",
          "data": {
            "text/plain": [
              "1.2490457723982544"
            ]
          },
          "metadata": {},
          "execution_count": 27
        }
      ]
    },
    {
      "cell_type": "code",
      "source": [
        "def inverse_rrr(x, y, z, a2, a3, d1=0, left=True):\n",
        "  if left:\n",
        "    alpha = np.arctan2(x, y)\n",
        "    beta = np.arctan2(-np.sqrt(np.abs(x**2 + y**2 - d1**2)), -d1)\n",
        "    theta1 = alpha + beta\n",
        "  else: \n",
        "    alpha = np.arctan2(x, y)\n",
        "    beta = np.arctan2(np.sqrt(x**2 + y**2 - d1**2), d1)\n",
        "    theta1 = alpha - beta\n",
        "\n",
        "  D = (x**2 + y**2 - d1**2 + (z-d1)**2 - a2**2 - a3**2) / 2*a2*a3\n",
        "  theta3 = np.arctan2(D, -np.sqrt(np.abs(1 - D**2)))\n",
        "  theta2 = np.arctan2(np.sqrt(np.abs(x**2 + y**2 - d1**2)), z-d1) - np.arctan2(a2+a3*np.cos(theta3), a3*np.sin(theta3))\n",
        "  return theta1, theta2, theta3"
      ],
      "metadata": {
        "id": "kF57BZgxDxh2"
      },
      "execution_count": 28,
      "outputs": []
    },
    {
      "cell_type": "code",
      "source": [
        "def inverse_scara(x, y, z, d4, a1, a2, RR):\n",
        "  theta2 = np.arccos((x**2 + y**2 - a1**2-a2**2)/(2*a1*a2))\n",
        "  theta1 = np.arctan2(y, x) - np.arctan2(a2*np.sin(theta2), a1 + a2*np.cos(theta2))\n",
        "  D3 = -z - d4\n",
        "  theta4 = theta1 + theta2 - np.arctan2(RR[0][0], RR[0][1])\n",
        "  return theta1, theta2, theta4"
      ],
      "metadata": {
        "id": "3fh9CqdoDyqd"
      },
      "execution_count": 29,
      "outputs": []
    },
    {
      "cell_type": "code",
      "source": [
        "def inverse_wrist(RR):\n",
        "  theta5_1 =  np.arctan2(RR[2][2], np.sqrt(np.abs(1 - RR[2][2]**2)))\n",
        "  theta5_2 =  np.arctan2(RR[2][2], -np.sqrt(np.abs(1 - RR[2][2]**2)))\n",
        "  if theta5_1 != 0 : # none_MONFARED\n",
        "    if np.sin(theta5_1)>0:\n",
        "      theta4_1 = np.arctan2(RR[0][2], RR[1][2])\n",
        "      theta6_1 = np.arctan2(RR[2][0], RR[2][1])\n",
        "      print(f\"\"\"\n",
        "      Theta4_1: {theta4_1},\n",
        "      Theta5_1: {theta5_1},\n",
        "      Theta6_1: {theta6_1}\"\"\")\n",
        "    if np.sin(theta5_2)<0:\n",
        "      theta4_2 = np.arctan2(-RR[0][2], -RR[1][2])\n",
        "      theta6_2 = np.arctan2(RR[2][0], -RR[2][1])\n",
        "      print(f\"\"\"\n",
        "      Theta4_2: {theta4_2},\n",
        "      Theta5_2: {theta5_2},\n",
        "      Theta6_2: {theta6_2}\"\"\")\n",
        "  else: \n",
        "    theta5 = 0\n",
        "    theta4 = (np.arctan2(RR[0][0], RR[1][0])+np.arctan2(RR[0][0], -RR[1][0]))/2\n",
        "    theta6 = theta4 - np.arctan2(RR[0][0], RR[1][0])\n",
        "    print(f\"\"\"\n",
        "      Theta4: {theta4},\n",
        "      Theta5: {theta5},\n",
        "      Theta6: {theta6}\"\"\")"
      ],
      "metadata": {
        "id": "4VasbxhBD0Sy"
      },
      "execution_count": 30,
      "outputs": []
    },
    {
      "cell_type": "code",
      "source": [
        "def inverse_robotic(x, y, z,RR=[], num=0, wist=False,left=True, a1=0, a2=0, a3=0, a4=0, a5=0, a6=0, d1=0, d2=0, d3=0, d4=0, d5=0, d6=0):\n",
        "\n",
        "  if num == 0:\n",
        "    T1, T2, T3 = inverse_scara(x, y, z, d4, a1, a2, RR)\n",
        "  elif num == 1:  \n",
        "    T1, T2, T3 = inverse_rrr(x, y, z, a2, a3, d1=0, left=True)\n",
        "  else:\n",
        "    T1, T2, T3 = inverse_stanford(x, y, z, a2, a3, d1=0, left=True)\n",
        "\n",
        "  if wist:\n",
        "    inverse_wrist(RR)\n",
        "\n",
        "  return [T1, T2, T3]"
      ],
      "metadata": {
        "id": "wtSCtOu0D3sj"
      },
      "execution_count": 31,
      "outputs": []
    },
    {
      "cell_type": "code",
      "source": [
        "YT = np.array([[1, 1,3], [2,8,5],[4,7,9]])\n",
        "inverse_robotic(x=2,\n",
        "               y=3,\n",
        "               z=4,\n",
        "               a2=5,\n",
        "               a3=5,\n",
        "               a1=2,\n",
        "               num=0,\n",
        "               d1=1,\n",
        "               RR=YT,\n",
        "               wist=False)"
      ],
      "metadata": {
        "colab": {
          "base_uri": "https://localhost:8080/"
        },
        "id": "SyGKqbqMD973",
        "outputId": "e268661b-d85c-42ef-ba33-b28ff5b328a6"
      },
      "execution_count": 34,
      "outputs": [
        {
          "output_type": "execute_result",
          "data": {
            "text/plain": [
              "[-1.1760052070951348, 2.498091544796509, 0.5366881743039258]"
            ]
          },
          "metadata": {},
          "execution_count": 34
        }
      ]
    },
    {
      "cell_type": "code",
      "source": [
        "inverse_robotic(x=2,\n",
        "               y=3,\n",
        "               z=4,\n",
        "               a2=5,\n",
        "               a3=5,\n",
        "               num=1,\n",
        "               d1=4,\n",
        "               left=True,\n",
        "               wist=False)"
      ],
      "metadata": {
        "colab": {
          "base_uri": "https://localhost:8080/"
        },
        "id": "YwvD_n04D_Ou",
        "outputId": "8b0fd9ae-b0ae-4630-df30-4d72eace8b7e"
      },
      "execution_count": 35,
      "outputs": [
        {
          "output_type": "execute_result",
          "data": {
            "text/plain": [
              "[-0.982793723247329, -2.0153104341788657, -2.3561908620481042]"
            ]
          },
          "metadata": {},
          "execution_count": 35
        }
      ]
    },
    {
      "cell_type": "code",
      "source": [
        "YT = np.array([[1, 1,3], [2,8,5],[4,7,9]])\n",
        "inverse_robotic(x=2,\n",
        "               y=3,\n",
        "               z=4,\n",
        "               a2=5,\n",
        "               a3=5,\n",
        "               num=2,\n",
        "               d1=0,\n",
        "               left=False,\n",
        "               wist=True,\n",
        "               RR=YT)"
      ],
      "metadata": {
        "colab": {
          "base_uri": "https://localhost:8080/"
        },
        "id": "anXEdAYPEAUG",
        "outputId": "2622057a-ac26-424f-d3fc-5e279fed0c14"
      },
      "execution_count": 36,
      "outputs": [
        {
          "output_type": "stream",
          "name": "stdout",
          "text": [
            "\n",
            "      Theta4_1: 0.5404195002705842,\n",
            "      Theta5_1: 0.7885037734282083,\n",
            "      Theta6_1: 0.5191461142465229\n"
          ]
        },
        {
          "output_type": "execute_result",
          "data": {
            "text/plain": [
              "[-0.982793723247329, 1.2722973952087173, 5.385164807134504]"
            ]
          },
          "metadata": {},
          "execution_count": 36
        }
      ]
    },
    {
      "cell_type": "code",
      "source": [
        ""
      ],
      "metadata": {
        "id": "WVv-k-4nEQyt"
      },
      "execution_count": null,
      "outputs": []
    }
  ]
}