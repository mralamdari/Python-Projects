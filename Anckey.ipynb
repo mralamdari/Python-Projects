{
  "nbformat": 4,
  "nbformat_minor": 0,
  "metadata": {
    "colab": {
      "provenance": [],
      "collapsed_sections": [],
      "include_colab_link": true
    },
    "kernelspec": {
      "name": "python3",
      "display_name": "Python 3"
    },
    "language_info": {
      "name": "python"
    }
  },
  "cells": [
    {
      "cell_type": "markdown",
      "metadata": {
        "id": "view-in-github",
        "colab_type": "text"
      },
      "source": [
        "<a href=\"https://colab.research.google.com/github/mralamdari/Python-Projects/blob/main/Anckey.ipynb\" target=\"_parent\"><img src=\"https://colab.research.google.com/assets/colab-badge.svg\" alt=\"Open In Colab\"/></a>"
      ]
    },
    {
      "cell_type": "code",
      "source": [
        "import time\n",
        "import numpy as np"
      ],
      "metadata": {
        "id": "gQwZJyyEb59u"
      },
      "execution_count": null,
      "outputs": []
    },
    {
      "cell_type": "code",
      "source": [
        "def ackley_1d(x):\n",
        "    return -20.0 * np.exp(-0.2 * np.sqrt(np.power(x, 2))) - np.exp(np.cos(2*np.pi*x)) + 20 + np.exp(1)\n",
        "\n",
        "def ackley_2d(x1, x2):\n",
        "    return -20.0 * np.exp(-0.2 * np.sqrt((np.power(x1, 2) + np.power(x2, 2)) / 2)) - np.exp((np.cos(2*np.pi*x1) + np.cos(2*np.pi*x2)) / 2) + 20 + np.exp(1)\n",
        "\n",
        "def ackley_3d(x1, x2, x3):\n",
        "    return -20.0 * np.exp(-0.2 * np.sqrt((np.power(x1, 2) + np.power(x2, 2) + np.power(x3, 2)) / 3)) - np.exp((np.cos(2*np.pi*x1) + np.cos(2*np.pi*x2) + np.cos(2*np.pi*x3)) / 3) + 20 + np.exp(1)\n",
        "\n",
        "def ackley_4d(x1, x2, x3, x4):\n",
        "    return -20.0 * np.exp(-0.2 * np.sqrt((np.power(x1, 2) + np.power(x2, 2) + np.power(x3, 2) + np.power(x4, 2)) / 4)) - np.exp((np.cos(2*np.pi*x1) + np.cos(2*np.pi*x2) + np.cos(2*np.pi*x3) + np.cos(2*np.pi*x4)) / 4) + 20 + np.exp(1)"
      ],
      "metadata": {
        "id": "e3jzrHPILots"
      },
      "execution_count": 18,
      "outputs": []
    },
    {
      "cell_type": "markdown",
      "source": [
        "### Step = 0.1"
      ],
      "metadata": {
        "id": "0ktrNyYNgzyk"
      }
    },
    {
      "cell_type": "code",
      "source": [
        "best_y = 0\n",
        "best_x = 0\n",
        "\n",
        "start = time.time()\n",
        "for x1 in np.arange(-5, 5, 0.1):\n",
        "  objective = ackley_1d(x1)\n",
        "  if best_y >= objective:\n",
        "    best_y = objective\n",
        "    best_x = x1\n",
        "\n",
        "final = time.time()\n",
        "print(f\"\"\"The Best Point is: {best_x}\n",
        "It's value is {best_y}\n",
        "It took {final-start} seconds to train\"\"\")"
      ],
      "metadata": {
        "colab": {
          "base_uri": "https://localhost:8080/"
        },
        "id": "Tqv_k-SnLitE",
        "outputId": "f6b3ad8c-59dc-4f09-889f-5f999cdd0393"
      },
      "execution_count": 19,
      "outputs": [
        {
          "output_type": "stream",
          "name": "stdout",
          "text": [
            "The Best Point is: 0\n",
            "It's value is 0\n",
            "It took 0.0037262439727783203 seconds to train\n"
          ]
        }
      ]
    },
    {
      "cell_type": "code",
      "source": [
        "best_y = 0\n",
        "best_x = [0, 0]\n",
        "\n",
        "start = time.time()\n",
        "for x1 in np.arange(-5, 5, 0.1):\n",
        "  for x2 in np.arange(-5, 5, 0.1):\n",
        "    objective = ackley_2d(x1, x2)\n",
        "    if best_y >= objective:\n",
        "      best_y = objective\n",
        "      best_x = [x1, x2]\n",
        "\n",
        "final = time.time()\n",
        "print(f\"\"\"The Best Point is: {best_x}\n",
        "It's value is {best_y}\n",
        "It took {final-start} seconds to train\"\"\")"
      ],
      "metadata": {
        "colab": {
          "base_uri": "https://localhost:8080/"
        },
        "id": "7rxxoJrDgyEZ",
        "outputId": "02696e2d-ca07-4e74-eeda-89242cbe9183"
      },
      "execution_count": 20,
      "outputs": [
        {
          "output_type": "stream",
          "name": "stdout",
          "text": [
            "The Best Point is: [0, 0]\n",
            "It's value is 0\n",
            "It took 0.15894150733947754 seconds to train\n"
          ]
        }
      ]
    },
    {
      "cell_type": "code",
      "source": [
        "best_y = 0\n",
        "best_x = [0, 0, 0]\n",
        "\n",
        "start = time.time()\n",
        "for x1 in np.arange(-5, 5, 0.1):\n",
        "  for x2 in np.arange(-5, 5, 0.1):\n",
        "    for x3 in np.arange(-5, 5, 0.1):\n",
        "      objective = ackley_3d(x1, x2, x3)\n",
        "      if best_y >= objective:\n",
        "        best_y = objective\n",
        "        best_x = [x1, x2, x3]\n",
        "\n",
        "final = time.time()\n",
        "print(f\"\"\"The Best Point is: {best_x}\n",
        "It's value is {best_y}\n",
        "It took {final-start} seconds to train\"\"\")"
      ],
      "metadata": {
        "id": "dYHGA_8Ee0gg",
        "colab": {
          "base_uri": "https://localhost:8080/"
        },
        "outputId": "87fa2fe5-c4b4-476a-9b81-64f37477135c"
      },
      "execution_count": 21,
      "outputs": [
        {
          "output_type": "stream",
          "name": "stdout",
          "text": [
            "The Best Point is: [0, 0, 0]\n",
            "It's value is 0\n",
            "It took 20.028006076812744 seconds to train\n"
          ]
        }
      ]
    },
    {
      "cell_type": "code",
      "source": [
        "best_y = 0\n",
        "best_x = [0, 0, 0, 0]\n",
        "\n",
        "start = time.time()\n",
        "for x1 in np.arange(-5, 5, 0.1):\n",
        "  for x2 in np.arange(-5, 5, 0.1):\n",
        "    for x3 in np.arange(-5, 5, 0.1):\n",
        "      for x4 in np.arange(-5, 5, 0.1):\n",
        "        objective = ackley_4d(x1, x2, x3, x4)\n",
        "        if best_y >= objective:\n",
        "          best_y = objective\n",
        "          best_x = [x1, x2, x3, x4]\n",
        "\n",
        "final = time.time()\n",
        "print(f\"\"\"The Best Point is: {best_x}\n",
        "It's value is {best_y}\n",
        "It took {final-start} seconds to train\"\"\")"
      ],
      "metadata": {
        "id": "utzLQvVkgSql"
      },
      "execution_count": null,
      "outputs": []
    },
    {
      "cell_type": "markdown",
      "source": [
        "### Step = 0.01"
      ],
      "metadata": {
        "id": "gbPwV-Alhdxj"
      }
    },
    {
      "cell_type": "code",
      "source": [
        "best_y = 0\n",
        "best_x = 0\n",
        "\n",
        "start = time.time()\n",
        "for x1 in np.arange(-5, 5, 0.01):\n",
        "  objective = ackley_1d(x1)\n",
        "  if best_y >= objective:\n",
        "    best_y = objective\n",
        "    best_x = x1\n",
        "\n",
        "final = time.time()\n",
        "print(f\"\"\"The Best Point is: {best_x}\n",
        "It's value is {best_y}\n",
        "It took {final-start} seconds to train\"\"\")"
      ],
      "metadata": {
        "colab": {
          "base_uri": "https://localhost:8080/"
        },
        "id": "emWRn3QghUt4",
        "outputId": "34354c87-38ef-4194-f806-a16c27c2334a"
      },
      "execution_count": 22,
      "outputs": [
        {
          "output_type": "stream",
          "name": "stdout",
          "text": [
            "The Best Point is: 0\n",
            "It's value is 0\n",
            "It took 0.015891075134277344 seconds to train\n"
          ]
        }
      ]
    },
    {
      "cell_type": "code",
      "source": [
        "best_y = 0\n",
        "best_x = [0, 0]\n",
        "\n",
        "start = time.time()\n",
        "for x1 in np.arange(-5, 5, 0.01):\n",
        "  for x2 in np.arange(-5, 5, 0.01):\n",
        "    objective = ackley_2d(x1, x2)\n",
        "    if best_y >= objective:\n",
        "      best_y = objective\n",
        "      best_x = [x1, x2]\n",
        "\n",
        "final = time.time()\n",
        "print(f\"\"\"The Best Point is: {best_x}\n",
        "It's value is {best_y}\n",
        "It took {final-start} seconds to train\"\"\")"
      ],
      "metadata": {
        "colab": {
          "base_uri": "https://localhost:8080/"
        },
        "id": "0bik0bZchnA2",
        "outputId": "0c4097b9-0638-405e-812f-358345f4e6e9"
      },
      "execution_count": 23,
      "outputs": [
        {
          "output_type": "stream",
          "name": "stdout",
          "text": [
            "The Best Point is: [0, 0]\n",
            "It's value is 0\n",
            "It took 17.155508756637573 seconds to train\n"
          ]
        }
      ]
    },
    {
      "cell_type": "code",
      "source": [
        "best_y = 0\n",
        "best_x = [0, 0, 0]\n",
        "\n",
        "start = time.time()\n",
        "for x1 in np.arange(-5, 5, 0.01):\n",
        "  for x2 in np.arange(-5, 5, 0.01):\n",
        "    for x3 in np.arange(-5, 5, 0.01):\n",
        "      objective = ackley_3d(x1, x2, x3)\n",
        "      if best_y >= objective:\n",
        "        best_y = objective\n",
        "        best_x = [x1, x2, x3]\n",
        "\n",
        "final = time.time()\n",
        "print(f\"\"\"The Best Point is: {best_x}\n",
        "It's value is {best_y}\n",
        "It took {final-start} seconds to train\"\"\")"
      ],
      "metadata": {
        "id": "1m8gn2UOhrmI"
      },
      "execution_count": null,
      "outputs": []
    },
    {
      "cell_type": "code",
      "source": [
        "best_y = 0\n",
        "best_x = [0, 0, 0, 0]\n",
        "\n",
        "start = time.time()\n",
        "for x1 in np.arange(-5, 5, 0.1):\n",
        "  for x2 in np.arange(-5, 5, 0.1):\n",
        "    for x3 in np.arange(-5, 5, 0.1):\n",
        "      for x4 in np.arange(-5, 5, 0.1):\n",
        "        objective = ackley_4d(x1, x2, x3, x4)\n",
        "        if best_y >= objective:\n",
        "          best_y = objective\n",
        "          best_x = [x1, x2, x3, x4]\n",
        "\n",
        "final = time.time()\n",
        "print(f\"\"\"The Best Point is: {best_x}\n",
        "It's value is {best_y}\n",
        "It took {final-start} seconds to train\"\"\")"
      ],
      "metadata": {
        "id": "Ewb2ze4RhyGd"
      },
      "execution_count": null,
      "outputs": []
    }
  ]
}