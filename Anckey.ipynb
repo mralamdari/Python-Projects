{
  "nbformat": 4,
  "nbformat_minor": 0,
  "metadata": {
    "colab": {
      "provenance": [],
      "collapsed_sections": [],
      "include_colab_link": true
    },
    "kernelspec": {
      "name": "python3",
      "display_name": "Python 3"
    },
    "language_info": {
      "name": "python"
    }
  },
  "cells": [
    {
      "cell_type": "markdown",
      "metadata": {
        "id": "view-in-github",
        "colab_type": "text"
      },
      "source": [
        "<a href=\"https://colab.research.google.com/github/mralamdari/Python-Projects/blob/main/Anckey.ipynb\" target=\"_parent\"><img src=\"https://colab.research.google.com/assets/colab-badge.svg\" alt=\"Open In Colab\"/></a>"
      ]
    },
    {
      "cell_type": "code",
      "source": [
        "import time\n",
        "import numpy as np"
      ],
      "metadata": {
        "id": "gQwZJyyEb59u"
      },
      "execution_count": null,
      "outputs": []
    },
    {
      "cell_type": "code",
      "source": [
        "def ackley_1d(x):\n",
        "    return -20.0 * np.exp(-0.2 * np.sqrt(np.power(x, 2))) - np.exp(np.cos(2*np.pi*x)) + 20 + np.exp(1)\n",
        "\n",
        "def ackley_2d(x1, x2):\n",
        "    return -20.0 * np.exp(-0.2 * np.sqrt((np.power(x1, 2) + np.power(x2, 2)) / 2)) - np.exp((np.cos(2*np.pi*x1) + np.cos(2*np.pi*x2)) / 2) + 20 + np.exp(1)\n",
        "\n",
        "def ackley_3d(x1, x2, x3):\n",
        "    return -20.0 * np.exp(-0.2 * np.sqrt((np.power(x1, 2) + np.power(x2, 2) + np.power(x3, 2)) / 3)) - np.exp((np.cos(2*np.pi*x1) + np.cos(2*np.pi*x2) + np.cos(2*np.pi*x3)) / 3) + 20 + np.exp(1)\n",
        "\n",
        "def ackley_4d(x1, x2, x3, x4):\n",
        "    return -20.0 * np.exp(-0.2 * np.sqrt((np.power(x1, 2) + np.power(x2, 2) + np.power(x3, 2) + np.power(x4, 2)) / 4)) - np.exp((np.cos(2*np.pi*x1) + np.cos(2*np.pi*x2) + np.cos(2*np.pi*x3) + np.cos(2*np.pi*x4)) / 4) + 20 + np.exp(1)"
      ],
      "metadata": {
        "id": "e3jzrHPILots"
      },
      "execution_count": 15,
      "outputs": []
    },
    {
      "cell_type": "markdown",
      "source": [
        "### Step = 0.1"
      ],
      "metadata": {
        "id": "0ktrNyYNgzyk"
      }
    },
    {
      "cell_type": "code",
      "source": [
        "best_y = 0\n",
        "best_x = 0\n",
        "\n",
        "start = time.time()\n",
        "for x1 in np.arange(-5, 5, 0.1):\n",
        "  objective = ackley_1d(x1)\n",
        "  if best_y <= objective:\n",
        "    best_y = objective\n",
        "    best_x = x1\n",
        "\n",
        "final = time.time()\n",
        "print(f\"\"\"The Best Point is: {best_x}\n",
        "It's value is {best_y}\n",
        "It took {final-start} seconds to train\"\"\")"
      ],
      "metadata": {
        "colab": {
          "base_uri": "https://localhost:8080/"
        },
        "id": "Tqv_k-SnLitE",
        "outputId": "7c5a15e7-1915-4251-de58-4b9c60b05666"
      },
      "execution_count": 16,
      "outputs": [
        {
          "output_type": "stream",
          "name": "stdout",
          "text": [
            "The Best Point is: 4.599999999999966\n",
            "It's value is 14.302605427560742\n",
            "It took 0.0020585060119628906 seconds to train\n"
          ]
        }
      ]
    },
    {
      "cell_type": "code",
      "source": [
        "best_y = 0\n",
        "best_x = [0, 0]\n",
        "\n",
        "start = time.time()\n",
        "for x1 in np.arange(-5, 5, 0.1):\n",
        "  for x2 in np.arange(-5, 5, 0.1):\n",
        "    objective = ackley_2d(x1, x2)\n",
        "    if best_y <= objective:\n",
        "      best_y = objective\n",
        "      best_x = [x1, x2]\n",
        "\n",
        "final = time.time()\n",
        "print(f\"\"\"The Best Point is: {best_x}\n",
        "It's value is {best_y}\n",
        "It took {final-start} seconds to train\"\"\")"
      ],
      "metadata": {
        "colab": {
          "base_uri": "https://localhost:8080/"
        },
        "id": "7rxxoJrDgyEZ",
        "outputId": "8be7fa7b-4685-4e4a-da1e-91da7a51e050"
      },
      "execution_count": 17,
      "outputs": [
        {
          "output_type": "stream",
          "name": "stdout",
          "text": [
            "The Best Point is: [4.599999999999966, 4.599999999999966]\n",
            "It's value is 14.302605427560742\n",
            "It took 0.17085957527160645 seconds to train\n"
          ]
        }
      ]
    },
    {
      "cell_type": "code",
      "source": [
        "best_y = 0\n",
        "best_x = [0, 0, 0]\n",
        "\n",
        "start = time.time()\n",
        "for x1 in np.arange(-5, 5, 0.1):\n",
        "  for x2 in np.arange(-5, 5, 0.1):\n",
        "    for x3 in np.arange(-5, 5, 0.1):\n",
        "      objective = ackley_3d(x1, x2, x3)\n",
        "      if best_y <= objective:\n",
        "        best_y = objective\n",
        "        best_x = [x1, x2, x3]\n",
        "\n",
        "final = time.time()\n",
        "print(f\"\"\"The Best Point is: {best_x}\n",
        "It's value is {best_y}\n",
        "It took {final-start} seconds to train\"\"\")"
      ],
      "metadata": {
        "id": "dYHGA_8Ee0gg",
        "colab": {
          "base_uri": "https://localhost:8080/"
        },
        "outputId": "e9813cc4-2add-4393-992f-1c9a0e49c970"
      },
      "execution_count": null,
      "outputs": [
        {
          "output_type": "stream",
          "name": "stdout",
          "text": [
            "The Best Point is: [4.599999999999966, 4.599999999999966, -4.600000000000001]\n",
            "It's value is 14.302605427560744\n",
            "It took 20.83600378036499 seconds to train\n"
          ]
        }
      ]
    },
    {
      "cell_type": "code",
      "source": [
        "best_y = 0\n",
        "best_x = [0, 0, 0, 0]\n",
        "\n",
        "start = time.time()\n",
        "for x1 in np.arange(-5, 5, 0.1):\n",
        "  for x2 in np.arange(-5, 5, 0.1):\n",
        "    for x3 in np.arange(-5, 5, 0.1):\n",
        "      for x4 in np.arange(-5, 5, 0.1):\n",
        "        objective = ackley_4d(x1, x2, x3, x4)\n",
        "        if best_y <= objective:\n",
        "          best_y = objective\n",
        "          best_x = [x1, x2, x3, x4]\n",
        "\n",
        "final = time.time()\n",
        "print(f\"\"\"The Best Point is: {best_x}\n",
        "It's value is {best_y}\n",
        "It took {final-start} seconds to train\"\"\")"
      ],
      "metadata": {
        "id": "utzLQvVkgSql"
      },
      "execution_count": null,
      "outputs": []
    },
    {
      "cell_type": "markdown",
      "source": [
        "### Step = 0.01"
      ],
      "metadata": {
        "id": "gbPwV-Alhdxj"
      }
    },
    {
      "cell_type": "code",
      "source": [
        "best_y = 0\n",
        "best_x = 0\n",
        "\n",
        "start = time.time()\n",
        "for x1 in np.arange(-5, 5, 0.01):\n",
        "  objective = ackley_1d(x1)\n",
        "  if best_y <= objective:\n",
        "    best_y = objective\n",
        "    best_x = x1\n",
        "\n",
        "final = time.time()\n",
        "print(f\"\"\"The Best Point is: {best_x}\n",
        "It's value is {best_y}\n",
        "It took {final-start} seconds to train\"\"\")"
      ],
      "metadata": {
        "colab": {
          "base_uri": "https://localhost:8080/"
        },
        "id": "emWRn3QghUt4",
        "outputId": "1378045a-4efe-4fe4-d322-f2bc5e570796"
      },
      "execution_count": null,
      "outputs": [
        {
          "output_type": "stream",
          "name": "stdout",
          "text": [
            "The Best Point is: 4.599999999999795\n",
            "It's value is 14.302605427560753\n",
            "It took 0.017175912857055664 seconds to train\n"
          ]
        }
      ]
    },
    {
      "cell_type": "code",
      "source": [
        "best_y = 0\n",
        "best_x = [0, 0]\n",
        "\n",
        "start = time.time()\n",
        "for x1 in np.arange(-5, 5, 0.01):\n",
        "  for x2 in np.arange(-5, 5, 0.01):\n",
        "    objective = ackley_2d(x1, x2)\n",
        "    if best_y <= objective:\n",
        "      best_y = objective\n",
        "      best_x = [x1, x2]\n",
        "\n",
        "final = time.time()\n",
        "print(f\"\"\"The Best Point is: {best_x}\n",
        "It's value is {best_y}\n",
        "It took {final-start} seconds to train\"\"\")"
      ],
      "metadata": {
        "colab": {
          "base_uri": "https://localhost:8080/"
        },
        "id": "0bik0bZchnA2",
        "outputId": "190df08e-3bd9-4bf1-a317-024ee4aa7460"
      },
      "execution_count": null,
      "outputs": [
        {
          "output_type": "stream",
          "name": "stdout",
          "text": [
            "The Best Point is: [4.599999999999795, 4.599999999999795]\n",
            "It's value is 14.302605427560753\n",
            "It took 14.603763341903687 seconds to train\n"
          ]
        }
      ]
    },
    {
      "cell_type": "code",
      "source": [
        "best_y = 0\n",
        "best_x = [0, 0, 0]\n",
        "\n",
        "start = time.time()\n",
        "for x1 in np.arange(-5, 5, 0.01):\n",
        "  for x2 in np.arange(-5, 5, 0.01):\n",
        "    for x3 in np.arange(-5, 5, 0.01):\n",
        "      objective = ackley_3d(x1, x2, x3)\n",
        "      if best_y <= objective:\n",
        "        best_y = objective\n",
        "        best_x = [x1, x2, x3]\n",
        "\n",
        "final = time.time()\n",
        "print(f\"\"\"The Best Point is: {best_x}\n",
        "It's value is {best_y}\n",
        "It took {final-start} seconds to train\"\"\")"
      ],
      "metadata": {
        "id": "1m8gn2UOhrmI"
      },
      "execution_count": null,
      "outputs": []
    },
    {
      "cell_type": "code",
      "source": [
        "best_y = 0\n",
        "best_x = [0, 0, 0, 0]\n",
        "\n",
        "start = time.time()\n",
        "for x1 in np.arange(-5, 5, 0.1):\n",
        "  for x2 in np.arange(-5, 5, 0.1):\n",
        "    for x3 in np.arange(-5, 5, 0.1):\n",
        "      for x4 in np.arange(-5, 5, 0.1):\n",
        "        objective = ackley_4d(x1, x2, x3, x4)\n",
        "        if best_y <= objective:\n",
        "          best_y = objective\n",
        "          best_x = [x1, x2, x3, x4]\n",
        "\n",
        "final = time.time()\n",
        "print(f\"\"\"The Best Point is: {best_x}\n",
        "It's value is {best_y}\n",
        "It took {final-start} seconds to train\"\"\")"
      ],
      "metadata": {
        "id": "Ewb2ze4RhyGd"
      },
      "execution_count": null,
      "outputs": []
    }
  ]
}