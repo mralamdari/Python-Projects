{
  "nbformat": 4,
  "nbformat_minor": 0,
  "metadata": {
    "colab": {
      "provenance": [],
      "collapsed_sections": [
        "7knlf5NXNIfx",
        "btP_vpiIUxyP",
        "bDJfDcKRrpno",
        "tYMfVZojctQd",
        "hJrlytKm36Ka",
        "B5ssSt_KTnXD",
        "6_hrrsZCxxUV",
        "67jId39GvJeN",
        "MlWxEmD9uhLD",
        "c_R5RDy4DBld",
        "mPCMeYrBsI8J",
        "okE67PAttoAg",
        "4L72ZTQ5KpAM",
        "gfCfi-MnBq5G",
        "zguxhL_Vpwj6",
        "QCvgPGemSdjO",
        "VB7gCN2VVETZ",
        "ub6kHoL0NGvE"
      ],
      "authorship_tag": "ABX9TyPEl2ASjnHSR3Hiih55GoY9",
      "include_colab_link": true
    },
    "kernelspec": {
      "name": "python3",
      "display_name": "Python 3"
    },
    "language_info": {
      "name": "python"
    }
  },
  "cells": [
    {
      "cell_type": "markdown",
      "metadata": {
        "id": "view-in-github",
        "colab_type": "text"
      },
      "source": [
        "<a href=\"https://colab.research.google.com/github/mralamdari/Python-Projects/blob/main/Data_PreProccessing.ipynb\" target=\"_parent\"><img src=\"https://colab.research.google.com/assets/colab-badge.svg\" alt=\"Open In Colab\"/></a>"
      ]
    },
    {
      "cell_type": "code",
      "metadata": {
        "id": "zPQw2wJUJEI2"
      },
      "source": [
        "import os\n",
        "import xgboost\n",
        "import matplotlib\n",
        "import numpy as np\n",
        "import pandas as pd\n",
        "import seaborn as sns\n",
        "import statsmodels\n",
        "import matplotlib.pyplot as plt\n",
        "from sklearn import svm\n",
        "from sklearn import tree\n",
        "from sklearn import metrics\n",
        "from sklearn import datasets\n",
        "from sklearn import ensemble\n",
        "from sklearn import pipeline\n",
        "from sklearn import linear_model\n",
        "from sklearn import preprocessing\n",
        "from sklearn import model_selection\n",
        "from sklearn import feature_selection\n",
        "%matplotlib inline\n",
        "\n",
        "\n",
        "# To use This projects github ource, use this command\n",
        "# !wget https://raw.githubusercontent.com/rwrdvsqaesdfh32s/datapreprocessing/main/esi_datapreproccessing.py\n",
        "# import esi_datapreproccessing as dpp"
      ],
      "execution_count": null,
      "outputs": []
    },
    {
      "cell_type": "markdown",
      "metadata": {
        "id": "Uir70tnpI53R"
      },
      "source": [
        "#Creating Data "
      ]
    },
    {
      "cell_type": "markdown",
      "metadata": {
        "id": "UwLTDwUfB8FF"
      },
      "source": [
        "##Classification"
      ]
    },
    {
      "cell_type": "code",
      "metadata": {
        "id": "M84aBZinIebO"
      },
      "source": [
        "# x, y =  data00, n_feature",
        "x, y =  datasets.make_classification(n_samples=300, n_features=2, n_redundant=0, n_informative=2, n_classes=3, n_clusters_per_class=1)\n",
        "xd = pd.DataFrame(x)\n",
        "yd = pd.DataFrame(y)\n",
        "x_train, x_test, y_train, y_test = model_selection.train_test_split(xd, y, random_state=42, test_size=0.5)"
      ],
      "execution_count": null,
      "outputs": []
    },
    {
      "cell_type": "code",
      "metadata": {
        "id": "1E_i1w0zKrXp"
      },
      "source": [
        "#create a data of combination of x and the target(y)\n",
        "data = xd.copy()\n",
        "data[10] = yd"
      ],
      "execution_count": null,
      "outputs": []
    },
    {
      "cell_type": "markdown",
      "metadata": {
        "id": "v0OOi7EeB4Ye"
      },
      "source": [
        "##Regression"
      ]
    },
    {
      "cell_type": "code",
      "metadata": {
        "id": "rUH4_EQhI7bq"
      },
      "source": [
        "X, Y = datasets.make_regression(n_samples=1000, n_features=10, noise=0.2, n_informative=20, random_state=46)\n",
        "Xd = pd.DataFrame(X)\n",
        "Yd = pd.DataFrame(Y)\n",
        "X_train, X_test, Y_train, Y_test = model_selection.train_test_split(Xd, Y, random_state=46, test_size=0.2)"
      ],
      "execution_count": null,
      "outputs": []
    },
    {
      "cell_type": "code",
      "metadata": {
        "id": "Ngf2ycQULlAB"
      },
      "source": [
        "#create a data of combination of x and the target(y)\n",
        "Data = Xd.copy()\n",
        "Data[10] = Yd"
      ],
      "execution_count": null,
      "outputs": []
    },
    {
      "cell_type": "markdown",
      "metadata": {
        "id": "FWlsYxUMLwd5"
      },
      "source": [
        "#Null Data DataFrame"
      ]
    },
    {
      "cell_type": "code",
      "metadata": {
        "id": "Q5fqNWOoLzn_"
      },
      "source": [
        "null_dic = {'Count':data.isnull().sum(), 'Percentage':(data.isnull().sum()*100/len(data))}\n",
        "null_df = pd.DataFrame(null_dic)\n",
        "\n",
        "# To find not null data in the dataset\n",
        "pd.notnull(data['ppp'])"
      ],
      "execution_count": null,
      "outputs": []
    },
    {
      "cell_type": "markdown",
      "metadata": {
        "id": "W0aVcrPRM9vV"
      },
      "source": [
        "#Duplicate Data"
      ]
    },
    {
      "cell_type": "code",
      "metadata": {
        "id": "d_2aFOSjM89w"
      },
      "source": [
        "data.duplicated().value_counts()*100 / data.shape[0]\n",
        "data.drop_duplicates(inplace=True)"
      ],
      "execution_count": null,
      "outputs": []
    },
    {
      "cell_type": "markdown",
      "metadata": {
        "id": "7knlf5NXNIfx"
      },
      "source": [
        "#Type changing of a DataFrame"
      ]
    },
    {
      "cell_type": "code",
      "metadata": {
        "id": "GPMxDeVsQjrq"
      },
      "source": [
        "data.astype('int')\n",
        "pd.to_datetime(data['Last Updated'])"
      ],
      "execution_count": null,
      "outputs": []
    },
    {
      "cell_type": "markdown",
      "metadata": {
        "id": "pHVDsKpCI1mf"
      },
      "source": [
        "#Only Classification"
      ]
    },
    {
      "cell_type": "markdown",
      "metadata": {
        "id": "btP_vpiIUxyP"
      },
      "source": [
        "##Confusion Matrix"
      ]
    },
    {
      "cell_type": "code",
      "metadata": {
        "colab": {
          "base_uri": "https://localhost:8080/",
          "height": 279
        },
        "id": "LeM6ytkjUBYM",
        "outputId": "acc0cdab-cf07-4380-9b33-d0d61fb8e328"
      },
      "source": [
        "def clf_confusion_matrix(model, y_true, y_pred):\n",
        "  cm_knn = metrics.confusion_matrix(y_true, y_pred)\n",
        "  sns.heatmap(cm_knn, square=True, annot=True, cbar=False, xticklabels=names, yticklabels=names, cmap=\"RdYlGn\")\n",
        "  plt.xlabel(\"Actual\")\n",
        "  plt.ylabel(\"Predicted\")\n",
        "  plt.show()\n",
        "\n",
        "# model = linear_model.SGDClassifier()\n",
        "# model.fit(x_train, y_train)\n",
        "# pred = model.predict(x_test)\n",
        "clf_confusion_matrix(model, y_test, pred)  "
      ],
      "execution_count": null,
      "outputs": [
        {
          "output_type": "display_data",
          "data": {
            "image/png": "[encoded data removed]",
            "text/plain": [
              "<Figure size 432x288 with 1 Axes>"
            ]
          },
          "metadata": {}
        }
      ]
    },
    {
      "cell_type": "markdown",
      "metadata": {
        "id": "bDJfDcKRrpno"
      },
      "source": [
        "##Evaluate Model with K BestFeatures and Cross Validation"
      ]
    },
    {
      "cell_type": "code",
      "metadata": {
        "colab": {
          "base_uri": "https://localhost:8080/"
        },
        "id": "5FzbxdiwsNlw",
        "outputId": "288a7bab-2bba-483a-c841-f55014bcdf13"
      },
      "source": [
        "# automatically select the number of features for RFE\n",
        "def clf_Evaluate_Model_with_K_BestFeatures(X, Y, reg=False, number_of_selected_features=1, score_choice=0):\n",
        "  \n",
        "  if reg:\n",
        "    rfe = feature_selection.RFE(estimator=tree.DecisionTreeRegressor(), n_features_to_select=number_of_selected_features)\n",
        "    model = tree.DecisionTreeRegressor()\n",
        "  else:  \n",
        "    rfe = feature_selection.RFE(estimator=tree.DecisionTreeRegressor(), n_features_to_select=number_of_selected_features)\n",
        "    rfe = feature_selection.RFECV(estimator=tree.DecisionTreeClassifier(), min_features_to_select=number_of_selected_features)\n",
        "    model = tree.DecisionTreeClassifier()\n",
        "\n",
        "  my_pipeline = pipeline.Pipeline(steps=[('s',rfe),('m',model)])\n",
        "\n",
        "  # automatically choose the number of features\n",
        "  cv = model_selection.RepeatedStratifiedKFold(n_splits=10, n_repeats=8, random_state=64)\n",
        "  \n",
        "  n_scores = model_selection.cross_val_score(my_pipeline, X, Y, scoring=\"accuracy\", cv=cv, n_jobs=-1, error_score='raise')\n",
        "\n",
        "  # report performance\n",
        "  print(n_scores)\n",
        "  print('Accuracy: %.3f (%.3f)' % (np.mean(n_scores), np.std(n_scores)))\n",
        "\n",
        "## It doesn't work with Regression data\n",
        "\n",
        "# Evaluate_Model_with_K_BestFeatures(X, Y, reg=True, number_of_selected_features=5)\n",
        "Evaluate_Model_with_K_BestFeatures(x, y, reg=False, number_of_selected_features=5)"
      ],
      "execution_count": null,
      "outputs": [
        {
          "output_type": "stream",
          "name": "stdout",
          "text": [
            "[1.  1.  0.8 1.  1.  1.  0.8 0.9 1.  0.8 1.  1.  1.  0.8 1.  1.  0.9 0.7\n",
            " 1.  0.9 0.8 0.9 0.9 1.  1.  0.9 1.  1.  0.9 0.9 0.8 0.9 0.9 1.  1.  0.9\n",
            " 0.9 1.  1.  1.  0.8 1.  1.  1.  0.9 0.9 0.9 0.9 1.  1.  1.  1.  1.  0.9\n",
            " 0.8 0.9 0.9 1.  0.8 1.  0.8 0.9 0.9 1.  0.8 1.  0.9 0.8 1.  0.9 0.8 1.\n",
            " 1.  1.  1.  1.  0.9 0.9 0.9 1. ]\n",
            "Accuracy: 0.931 (0.078)\n"
          ]
        }
      ]
    },
    {
      "cell_type": "markdown",
      "metadata": {
        "id": "tYMfVZojctQd"
      },
      "source": [
        "##Bivariate Analysis"
      ]
    },
    {
      "cell_type": "markdown",
      "metadata": {
        "id": "uJy-LTEjcuaq"
      },
      "source": [
        "### Box Plot Chart"
      ]
    },
    {
      "cell_type": "code",
      "metadata": {
        "colab": {
          "base_uri": "https://localhost:8080/",
          "height": 1000
        },
        "id": "L3p__TnHZFNk",
        "outputId": "7024f818-13bf-45c2-e39c-5b5b10031642"
      },
      "source": [
        "def clf_boxplot(X, Y, sizes=4):\n",
        "  for i in range(X.shape[1]):\n",
        "    plt.figure(figsize=(sizes, sizes))\n",
        "    sns.boxplot(x=Y, y=X[X.columns[i]], palette=\"RdYlGn\", saturation=1)\n",
        "\n",
        "clf_boxplot(xd, y)"
      ],
      "execution_count": null,
      "outputs": [
        {
          "output_type": "execute_result",
          "data": {
            "text/plain": [
              "(100, 10)"
            ]
          },
          "metadata": {},
          "execution_count": 121
        },
        {
          "output_type": "display_data",
          "data": {
            "image/png": "[encoded data removed]",
            "text/plain": [
              "<Figure size 288x288 with 1 Axes>"
            ]
          },
          "metadata": {}
        },
        {
          "output_type": "display_data",
          "data": {
            "image/png": "[encoded data removed]",
            "text/plain": [
              "<Figure size 288x288 with 1 Axes>"
            ]
          },
          "metadata": {}
        },
        {
          "output_type": "display_data",
          "data": {
            "image/png": "[encoded data removed]",
            "text/plain": [
              "<Figure size 288x288 with 1 Axes>"
            ]
          },
          "metadata": {}
        },
        {
          "output_type": "display_data",
          "data": {
            "image/png": "[encoded data removed]",
            "text/plain": [
              "<Figure size 288x288 with 1 Axes>"
            ]
          },
          "metadata": {}
        },
        {
          "output_type": "display_data",
          "data": {
            "image/png": "[encoded data removed]",
            "text/plain": [
              "<Figure size 288x288 with 1 Axes>"
            ]
          },
          "metadata": {}
        },
        {
          "output_type": "display_data",
          "data": {
            "image/png": "[encoded data removed]",
            "text/plain": [
              "<Figure size 288x288 with 1 Axes>"
            ]
          },
          "metadata": {}
        },
        {
          "output_type": "display_data",
          "data": {
            "image/png": "[encoded data removed]",
            "text/plain": [
              "<Figure size 288x288 with 1 Axes>"
            ]
          },
          "metadata": {}
        },
        {
          "output_type": "display_data",
          "data": {
            "image/png": "[encoded data removed]",
            "text/plain": [
              "<Figure size 288x288 with 1 Axes>"
            ]
          },
          "metadata": {}
        },
        {
          "output_type": "display_data",
          "data": {
            "image/png": "[encoded data removed]",
            "text/plain": [
              "<Figure size 288x288 with 1 Axes>"
            ]
          },
          "metadata": {}
        },
        {
          "output_type": "display_data",
          "data": {
            "image/png": "[encoded data removed]",
            "text/plain": [
              "<Figure size 288x288 with 1 Axes>"
            ]
          },
          "metadata": {}
        }
      ]
    },
    {
      "cell_type": "markdown",
      "metadata": {
        "id": "WiA9BE18SYOW"
      },
      "source": [
        "###Grouped Bar Chart"
      ]
    },
    {
      "cell_type": "code",
      "metadata": {
        "colab": {
          "base_uri": "https://localhost:8080/",
          "height": 53
        },
        "id": "PVgixQBySafr",
        "outputId": "b73ee5cc-2e44-43aa-b353-ee896a0caae1"
      },
      "source": [
        "def clf_countplot(X, Y, sizes=4):\n",
        "  print(\"Remmember this plot is only for categorical data\")\n",
        "  if len(X) == 0: return \"Sorry, Please Enter categorical data\"\n",
        "  for i in range(X.shape[1]):\n",
        "    plt.figure(figsize=(sizes, sizes))\n",
        "    sns.countplot(x=X[X.columns[i]], hue=Y, palette=\"RdYlGn\", saturation=1)\n",
        "\n",
        "\n",
        "clf_countplot(xd, y)    "
      ],
      "execution_count": null,
      "outputs": [
        {
          "output_type": "stream",
          "name": "stdout",
          "text": [
            "Remmember this plot is only for categorical data\n"
          ]
        },
        {
          "output_type": "execute_result",
          "data": {
            "application/vnd.google.colaboratory.intrinsic+json": {
              "type": "string"
            },
            "text/plain": [
              "'Sorry, Please Enter categorical data'"
            ]
          },
          "metadata": {},
          "execution_count": 18
        }
      ]
    },
    {
      "cell_type": "markdown",
      "metadata": {
        "id": "hJrlytKm36Ka"
      },
      "source": [
        "#All Types"
      ]
    },
    {
      "cell_type": "markdown",
      "metadata": {
        "id": "B5ssSt_KTnXD"
      },
      "source": [
        "##HeatMap\n",
        "\n",
        "values near to 0, has less correlation\n",
        "but, values near 1 or -1 has the most correlation\n"
      ]
    },
    {
      "cell_type": "code",
      "metadata": {
        "colab": {
          "base_uri": "https://localhost:8080/",
          "height": 832
        },
        "id": "putxS2MGNCQU",
        "outputId": "379f6ae4-999d-4e82-e476-fe5416635cde"
      },
      "source": [
        "def heatmap(data, with_mask=True):\n",
        "  corr = data.corr()\n",
        "  f, ax = plt.subplots(figsize=(11, 9))\n",
        "\n",
        "  if ~with_mask:\n",
        "    mask = None\n",
        "  else:\n",
        "    mask = np.triu(np.ones_like(corr, dtype=np.bool))\n",
        "  \n",
        "  sns.heatmap(corr, mask=mask, cmap=\"RdYlGn\", annot=True, square=True, linewidths=0.5, cbar_kws={\"shrink\": 0.5}, ax=ax)\n",
        "\n",
        "print(Data.corr(), end=\"\\n\")\n",
        "print(Data[[10, 2]].corr(), end=\"\\n\")\n",
        "heatmap(data, False)"
      ],
      "execution_count": null,
      "outputs": [
        {
          "output_type": "stream",
          "name": "stdout",
          "text": [
            "          0         1         2   ...        8         9         10\n",
            "0   1.000000  0.021816  0.004334  ... -0.034877  0.030781  0.245161\n",
            "1   0.021816  1.000000  0.021765  ... -0.011776 -0.001657  0.281173\n",
            "2   0.004334  0.021765  1.000000  ... -0.038984  0.006862  0.083402\n",
            "3  -0.003274 -0.025189  0.017626  ...  0.037012  0.007455  0.239129\n",
            "4   0.005068  0.010304  0.026217  ...  0.053263 -0.057937  0.141101\n",
            "5  -0.031403 -0.050734  0.014771  ... -0.077144  0.059830  0.401775\n",
            "6   0.052017 -0.000038  0.049019  ...  0.006587  0.015440  0.423576\n",
            "7   0.007063  0.006033 -0.047258  ...  0.049481 -0.023052  0.564780\n",
            "8  -0.034877 -0.011776 -0.038984  ...  1.000000  0.045036  0.041862\n",
            "9   0.030781 -0.001657  0.006862  ...  0.045036  1.000000  0.313603\n",
            "10  0.245161  0.281173  0.083402  ...  0.041862  0.313603  1.000000\n",
            "\n",
            "[11 rows x 11 columns]\n",
            "          10        2 \n",
            "10  1.000000  0.083402\n",
            "2   0.083402  1.000000\n"
          ]
        },
        {
          "output_type": "display_data",
          "data": {
            "image/png": "[encoded data removed]",
            "text/plain": [
              "<Figure size 792x648 with 2 Axes>"
            ]
          },
          "metadata": {
            "needs_background": "light"
          }
        }
      ]
    },
    {
      "cell_type": "markdown",
      "metadata": {
        "id": "6_hrrsZCxxUV"
      },
      "source": [
        "##Importance Plot\n",
        "\n",
        "Higher, better"
      ]
    },
    {
      "cell_type": "code",
      "metadata": {
        "colab": {
          "base_uri": "https://localhost:8080/",
          "height": 483
        },
        "id": "SJmNdGxEwcrg",
        "outputId": "14eae619-1700-401c-b705-d1601015540d"
      },
      "source": [
        "def importance_plot(X, Y, size=8):\n",
        "  model = ensemble.ExtraTreesRegressor()\n",
        "  model.fit(X, Y)\n",
        "  plt.style.use('ggplot')\n",
        "  plt.figure(figsize=(size,size))\n",
        "  feat_importances = pd.Series(model.feature_importances_, index=X.columns)\n",
        "  feat_importances.nlargest(50).plot(kind='barh')\n",
        "  plt.show()\n",
        "\n",
        "importance_plot(xd,y)"
      ],
      "execution_count": null,
      "outputs": [
        {
          "output_type": "display_data",
          "data": {
            "image/png": "[encoded data removed]",
            "text/plain": [
              "<Figure size 576x576 with 1 Axes>"
            ]
          },
          "metadata": {}
        }
      ]
    },
    {
      "cell_type": "markdown",
      "metadata": {
        "id": "67jId39GvJeN"
      },
      "source": [
        "##Multicollinearity\n",
        "\n",
        "\n",
        "detect by:  variance inflation factor or the VIF for each predicting variable.\n",
        "\n",
        "detect:  remove features with scores of more than 10\n",
        "\n",
        "\n",
        "1 <= VIF <= inf"
      ]
    },
    {
      "cell_type": "code",
      "metadata": {
        "colab": {
          "base_uri": "https://localhost:8080/",
          "height": 449
        },
        "id": "wa9eJdw4vI6y",
        "outputId": "77f82516-0e78-4c39-b8b8-b153f93813c9"
      },
      "source": [
        "from statsmodels.stats.outliers_influence import variance_inflation_factor\n",
        "\n",
        "def multicollinearity(Data):\n",
        "    Data = Data[~Data.isin([np.nan, np.inf, -np.inf]).any(1)]\n",
        "    vif_data = pd.DataFrame()\n",
        "    vif_data[\"feature\"] = Data.columns\n",
        "    vif_data[\"VIF\"] = [variance_inflation_factor(Data.values, i) for i in range(len(Data.columns))]\n",
        "    return vif_data\n",
        "\n",
        "multicollinearity(Data)"
      ],
      "execution_count": null,
      "outputs": [
        {
          "output_type": "stream",
          "name": "stderr",
          "text": [
            "/usr/local/lib/python3.7/dist-packages/statsmodels/stats/outliers_influence.py:185: RuntimeWarning: divide by zero encountered in double_scalars\n",
            "  vif = 1. / (1. - r_squared_i)\n"
          ]
        },
        {
          "output_type": "execute_result",
          "data": {
            "text/html": [
              "<div>\n",
              "<style scoped>\n",
              "    .dataframe tbody tr th:only-of-type {\n",
              "        vertical-align: middle;\n",
              "    }\n",
              "\n",
              "    .dataframe tbody tr th {\n",
              "        vertical-align: top;\n",
              "    }\n",
              "\n",
              "    .dataframe thead th {\n",
              "        text-align: right;\n",
              "    }\n",
              "</style>\n",
              "<table border=\"1\" class=\"dataframe\">\n",
              "  <thead>\n",
              "    <tr style=\"text-align: right;\">\n",
              "      <th></th>\n",
              "      <th>feature</th>\n",
              "      <th>VIF</th>\n",
              "    </tr>\n",
              "  </thead>\n",
              "  <tbody>\n",
              "    <tr>\n",
              "      <th>0</th>\n",
              "      <td>0</td>\n",
              "      <td>inf</td>\n",
              "    </tr>\n",
              "    <tr>\n",
              "      <th>1</th>\n",
              "      <td>1</td>\n",
              "      <td>inf</td>\n",
              "    </tr>\n",
              "    <tr>\n",
              "      <th>2</th>\n",
              "      <td>2</td>\n",
              "      <td>inf</td>\n",
              "    </tr>\n",
              "    <tr>\n",
              "      <th>3</th>\n",
              "      <td>3</td>\n",
              "      <td>inf</td>\n",
              "    </tr>\n",
              "    <tr>\n",
              "      <th>4</th>\n",
              "      <td>4</td>\n",
              "      <td>1.054893</td>\n",
              "    </tr>\n",
              "    <tr>\n",
              "      <th>5</th>\n",
              "      <td>5</td>\n",
              "      <td>1.106983</td>\n",
              "    </tr>\n",
              "    <tr>\n",
              "      <th>6</th>\n",
              "      <td>6</td>\n",
              "      <td>1.025431</td>\n",
              "    </tr>\n",
              "    <tr>\n",
              "      <th>7</th>\n",
              "      <td>7</td>\n",
              "      <td>1.037043</td>\n",
              "    </tr>\n",
              "    <tr>\n",
              "      <th>8</th>\n",
              "      <td>8</td>\n",
              "      <td>1.059177</td>\n",
              "    </tr>\n",
              "    <tr>\n",
              "      <th>9</th>\n",
              "      <td>9</td>\n",
              "      <td>1.107528</td>\n",
              "    </tr>\n",
              "    <tr>\n",
              "      <th>10</th>\n",
              "      <td>10</td>\n",
              "      <td>1.722771</td>\n",
              "    </tr>\n",
              "  </tbody>\n",
              "</table>\n",
              "</div>"
            ],
            "text/plain": [
              "    feature       VIF\n",
              "0         0       inf\n",
              "1         1       inf\n",
              "2         2       inf\n",
              "3         3       inf\n",
              "4         4  1.054893\n",
              "5         5  1.106983\n",
              "6         6  1.025431\n",
              "7         7  1.037043\n",
              "8         8  1.059177\n",
              "9         9  1.107528\n",
              "10       10  1.722771"
            ]
          },
          "metadata": {},
          "execution_count": 26
        }
      ]
    },
    {
      "cell_type": "markdown",
      "metadata": {
        "id": "MlWxEmD9uhLD"
      },
      "source": [
        "##Feature importances"
      ]
    },
    {
      "cell_type": "code",
      "metadata": {
        "colab": {
          "base_uri": "https://localhost:8080/",
          "height": 630
        },
        "id": "_GYbLAkzvYZd",
        "outputId": "1f05c01a-401a-41c8-a95b-a088b38361c0"
      },
      "source": [
        "import xgboost\n",
        "def Features_Importance(X, Y, Xte, Yte, reg=True):\n",
        "    print(\"\"\"WARNING;\n",
        "    If You Enter the wrong data type, it will train for so long. and won't work properly, reg == True\"\"\")\n",
        "    if reg:\n",
        "      model = xgboost.XGBRegressor()\n",
        "      model.fit(X, Y)\n",
        "      y_pred = model.predict(Xte)\n",
        "      predictions = [value for value in y_pred]\n",
        "    else:\n",
        "      model = xgboost.XGBClassifier()\n",
        "      model.fit(X, Y)\n",
        "      y_pred = model.predict(Xte)\n",
        "      predictions = [round(value) for value in y_pred]\n",
        "    \n",
        "    accuracy = metrics.r2_score(Yte, predictions)\n",
        "    print(\"Accuracy: %.2f%%\" % (accuracy * 100.0))\n",
        "    importances = model.feature_importances_\n",
        "    indices = np.argsort(importances)\n",
        "    thresholds = np.sort(importances)\n",
        "    plt.figure(figsize=(6, 6))\n",
        "    plt.title('Feature Importances')\n",
        "    plt.barh(range(len(indices)), importances[indices], color='b', align='center')\n",
        "    plt.yticks(range(len(indices)), [X.columns[i] for i in indices])\n",
        "    plt.xlabel('Relative Importance')\n",
        "    plt.show()\n",
        "\n",
        "    for thresh in thresholds:\n",
        "      # select features using threshold\n",
        "      selection = feature_selection.SelectFromModel(model, threshold=thresh, prefit=True)\n",
        "      select_X_train = selection.transform(X)\n",
        "\n",
        "      if reg:\n",
        "        selection_model = xgboost.XGBRegressor()\n",
        "        selection_model.fit(select_X_train, Y)\n",
        "        select_x_test = selection.transform(Xte)\n",
        "        y_pred = selection_model.predict(select_x_test)\n",
        "        predictions = [value for value in y_pred]\n",
        "      else:\n",
        "        selection_model = xgboost.XGBClassifier()\n",
        "        selection_model.fit(select_X_train, Y)\n",
        "        select_x_test = selection.transform(Xte)\n",
        "        y_pred = selection_model.predict(select_x_test)\n",
        "        predictions = [round(value) for value in y_pred]\n",
        "\n",
        "      accuracy = metrics.r2_score(Yte, predictions)\n",
        "      print(\"Thresh=%.3f, n=%d, Accuracy: %.2f%%\" % (thresh, select_X_train.shape[1], accuracy*100.0))\n",
        "\n",
        "# Features_Importance(X_train, Y_train, X_test, Y_test)      \n",
        "Features_Importance(x_train, y_train, x_test, y_test, False)      "
      ],
      "execution_count": null,
      "outputs": [
        {
          "output_type": "stream",
          "name": "stdout",
          "text": [
            "WARNING;\n",
            "    If You Enter the wrong data type, it will train for so long. and won't work properly, reg == True\n",
            "Accuracy: 100.00%\n"
          ]
        },
        {
          "output_type": "display_data",
          "data": {
            "image/png": "[encoded data removed]",
            "text/plain": [
              "<Figure size 432x432 with 1 Axes>"
            ]
          },
          "metadata": {
            "needs_background": "light"
          }
        },
        {
          "output_type": "stream",
          "name": "stdout",
          "text": [
            "Thresh=0.008, n=10, Accuracy: 100.00%\n",
            "Thresh=0.017, n=9, Accuracy: 100.00%\n",
            "Thresh=0.019, n=8, Accuracy: 100.00%\n",
            "Thresh=0.033, n=7, Accuracy: 100.00%\n",
            "Thresh=0.033, n=6, Accuracy: 100.00%\n",
            "Thresh=0.034, n=5, Accuracy: 100.00%\n",
            "Thresh=0.042, n=4, Accuracy: 100.00%\n",
            "Thresh=0.068, n=3, Accuracy: 100.00%\n",
            "Thresh=0.073, n=2, Accuracy: 100.00%\n",
            "Thresh=0.673, n=1, Accuracy: 100.00%\n"
          ]
        }
      ]
    },
    {
      "cell_type": "markdown",
      "metadata": {
        "id": "c_R5RDy4DBld"
      },
      "source": [
        "##Automated feature selection"
      ]
    },
    {
      "cell_type": "markdown",
      "metadata": {
        "id": "mPCMeYrBsI8J"
      },
      "source": [
        "###Variance threshold\n",
        "In statistics, variance is the squared deviation of a variable from its mean, in other words, how far are the data points spread out for a given variable?\n",
        "\n",
        "\n",
        "Suppose we were building a machine learning model to detect breast cancer and the data set had a boolean variable for gender.\n",
        "\n",
        "This data set is likely to consist almost entirely of one gender and therefore nearly all data points would be 1. This variable would have extremely low variance and would be not at all useful for predicting the target variable.\n",
        "\n",
        "\n",
        "This is one of the most simple approaches to feature selection. The scikit-learn library has a method called VarianceThreshold . This method takes a threshold value and when fitted to a feature set will remove any features below this threshold. The default value for the threshold is 0 and this will remove any features with zero variance, or in other words where all values are the same."
      ]
    },
    {
      "cell_type": "code",
      "metadata": {
        "id": "32C8eLBFs0SD",
        "colab": {
          "base_uri": "https://localhost:8080/"
        },
        "outputId": "2819ed69-1862-4363-91e6-6c863d6b757d"
      },
      "source": [
        "def afs_variance_threshold(X, ret=False):\n",
        "  selector = feature_selection.VarianceThreshold()\n",
        "  print(\"Original feature shape:\", X.shape)\n",
        "  new_X = selector.fit_transform(X)\n",
        "  print(\"Transformed feature shape:\", new_X.shape, end=\"\\n\")\n",
        "  if ret:\n",
        "    return new_X\n",
        "\n",
        "afs_variance_threshold(X)"
      ],
      "execution_count": null,
      "outputs": [
        {
          "output_type": "stream",
          "name": "stdout",
          "text": [
            "Original feature shape: (1000, 10)\n",
            "Transformed feature shape: (1000, 10)\n"
          ]
        }
      ]
    },
    {
      "cell_type": "markdown",
      "metadata": {
        "id": "okE67PAttoAg"
      },
      "source": [
        "###Recursive feature elimination"
      ]
    },
    {
      "cell_type": "code",
      "metadata": {
        "colab": {
          "base_uri": "https://localhost:8080/"
        },
        "id": "izMQuwKNtcGZ",
        "outputId": "fa556fd3-846b-4d64-e05e-fc93c25a802a"
      },
      "source": [
        "def afs_recursive(X, Y, ret=False):\n",
        "  X_normalized = preprocessing.normalize(X, norm='l2')\n",
        "  estimator = svm.SVR(kernel=\"linear\")\n",
        "  selector = feature_selection.RFECV(estimator, step=1, cv=2)\n",
        "  selector = selector.fit(X, Y)\n",
        "  print(\"Features selected\", selector.support_)\n",
        "  print(\"Feature ranking\", selector.ranking_)\n",
        "  if ret:\n",
        "    return selector.fit_transform(X, Y)\n",
        "\n",
        "afs_recursive(X, Y)    "
      ],
      "execution_count": null,
      "outputs": [
        {
          "output_type": "stream",
          "name": "stdout",
          "text": [
            "Features selected [ True  True  True  True  True  True  True  True  True  True]\n",
            "Feature ranking [1 1 1 1 1 1 1 1 1 1]\n"
          ]
        }
      ]
    },
    {
      "cell_type": "markdown",
      "metadata": {
        "id": "4L72ZTQ5KpAM"
      },
      "source": [
        "##Filter Method\n",
        "One of the best feature selection ways with filtering\n",
        "\n",
        "\n",
        "####based on chi-square, ANVOA and mutual information\n",
        "\n",
        "\n",
        "![filter.png](data:image/png;base64,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)"
      ]
    },
    {
      "cell_type": "markdown",
      "metadata": {
        "id": "gfCfi-MnBq5G"
      },
      "source": [
        "###Univariate feature selection\n",
        "\n",
        "Univariate feature selection applies univariate statistical tests to features and selects those which perform the best in these tests. Univariate tests are tests which involve only one dependent variable.\n",
        "\n",
        "This includes analysis of variance (ANOVA), linear regressions and t-tests of means.\n",
        "\n",
        "###It chooses the most important features to the target\n"
      ]
    },
    {
      "cell_type": "code",
      "metadata": {
        "id": "23EtqLxJ8Md_",
        "colab": {
          "base_uri": "https://localhost:8080/",
          "height": 439
        },
        "outputId": "5ade27d5-22c3-49f4-a552-bafa124479b1"
      },
      "source": [
        "def univariate_feature_selection(X, Y, Xte, hints=False,sf_choice=0):\n",
        "\tscore_functions = [\"f_classif\",\"mutual_info_classif\", \"chi2\",\"f_regression\",\"mutual_info_regression\",\"SelectPercentile\",\"SelectFdr\",\"SelectFwe\",\"GenericUnivariateSelect\"]\n",
        "\tscore_functions = [feature_selection.f_classif, feature_selection.mutual_info_classif, feature_selection.chi2, feature_selection.f_regression, feature_selection.mutual_info_regression, feature_selection.SelectPercentile, feature_selection.SelectPercentile, feature_selection.SelectFdr,feature_selection.SelectFwe, feature_selection.GenericUnivariateSelect]\n",
        "\n",
        "\tif hints:\n",
        "\t\tprint(\"\"\" SelectKBest score function, choices\n",
        "\t\tf_classif ===> 0,\n",
        "\t\tmutual_info_classif ===> 1,\n",
        "\t\tchi2 ===> 2,\n",
        "\t\tf_regression ===> 3,\n",
        "\t\tmutual_info_regression ===> 4\n",
        "\t\t# There are some that I don't understand, so I don't put them in the list, but I will\n",
        "\t\tSelectPercentile ===> 5,\n",
        "\t\tSelectFdr  ===> 6,\n",
        "\t\tSelectFwe ===> 7,\n",
        "\t\tGenericUnivariateSelect ===> 8\n",
        "\t\t\"\"\")\n",
        "\tselection_model = feature_selection.SelectKBest(score_func=score_functions[sf_choice], k='all')  # Mutual Information Feature Selection\n",
        "\tselection_model.fit(X, Y)\n",
        "\tX_train_selected = selection_model.transform(X)\n",
        "\tX_test_selected = selection_model.transform(Xte)\n",
        " \n",
        "\tsocres = selection_model.scores_\n",
        "\tfor i in range(len(socres)):\n",
        "\t\tprint(f'Feature_{i} is: {X.columns[i]} :==> {round(socres[i], 4)}')\n",
        "\tplt.bar([i for i in range(len(socres))], socres)\n",
        "\tplt.show()\n",
        "\n",
        "# X_train_fs, X_test_fs, fs = univariate_feature_selection(X_train, Y_train, X_test, sf_choice=3)\n",
        "# X_train_fs, X_test_fs, fs = univariate_feature_selection(x_train, y_train, x_test, hints=False, sf_choice=0)"
      ],
      "execution_count": null,
      "outputs": [
        {
          "output_type": "stream",
          "name": "stdout",
          "text": [
            "Feature 0: 44.971704\n",
            "Feature 1: 75.685081\n",
            "Feature 2: 4.035596\n",
            "Feature 3: 45.068220\n",
            "Feature 4: 12.786995\n",
            "Feature 5: 174.474595\n",
            "Feature 6: 173.041404\n",
            "Feature 7: 363.498773\n",
            "Feature 8: 0.821048\n",
            "Feature 9: 86.494142\n"
          ]
        },
        {
          "output_type": "display_data",
          "data": {
            "image/png": "[encoded data removed]",
            "text/plain": [
              "<Figure size 432x288 with 1 Axes>"
            ]
          },
          "metadata": {
            "needs_background": "light"
          }
        }
      ]
    },
    {
      "cell_type": "markdown",
      "metadata": {
        "id": "zguxhL_Vpwj6"
      },
      "source": [
        "### The best method for Tunning\n",
        "It selects the best parameters for the model"
      ]
    },
    {
      "cell_type": "code",
      "metadata": {
        "colab": {
          "base_uri": "https://localhost:8080/"
        },
        "id": "9z4oeBPK8NYo",
        "outputId": "77f716e4-60a4-4177-d158-c1bbe501a1bc"
      },
      "source": [
        "def model_parameters_chooser(X, Y, model, hints=True, reg=True, sf_choice=0, score_choice=0):\n",
        "\n",
        "  Clustering_scores=[\"adjusted_mutual_info_score\",\"adjusted_rand_score\",\"completeness_score\",\"fowlkes_mallows_score\",\"homogeneity_score\",\"mutual_info_score\",\"normalized_mutual_info_score\",\"rand_score\",\"v_measure_score\"]\n",
        "  Regression_scores = [\"explained_variance\",\"max_error\",\"neg_mean_absolute_error\",\"neg_mean_squared_error\",\"neg_root_mean_squared_error\",\"neg_mean_squared_log_error\",\"neg_median_absolute_error\",\"r2\",\"neg_mean_poisson_deviance\",\"neg_mean_gamma_devian\"]\n",
        "  Classification_socres = [\"accuracy\",\"balanced_accuracy\",\"top_k_accuracy\",\"average_precision\",\"neg_brier_score\",\"f1\",\"f1_micro\",\"f1_weighted\",\"f1_samples\",\"neg_log_loss\",\"precision\",\"recall\",\"jaccard\",\"roc_auc\",\"roc_auc_ovr\",\"roc_auc_ovr_weighted\"]\n",
        "  \n",
        "  if reg:\n",
        "    score = Regression_scores[score_choice]\n",
        "  else:\n",
        "    score = Classification_socres[score_choice]\n",
        "\n",
        "  score_functions = [\"f_classif\",\"mutual_info_classif\", \"chi2\",\"f_regression\",\"mutual_info_regression\",\"SelectPercentile\",\"SelectFdr\",\"SelectFwe\",\"GenericUnivariateSelect\"]\n",
        "  score_functions = [feature_selection.f_classif, feature_selection.mutual_info_classif, feature_selection.chi2, feature_selection.f_regression, feature_selection.mutual_info_regression, feature_selection.SelectPercentile, feature_selection.SelectPercentile, feature_selection.SelectFdr,feature_selection.SelectFwe, feature_selection.GenericUnivariateSelect]\n",
        "\n",
        "  if hints:\n",
        "    print(\"\"\" SelectKBest score function, choices\n",
        "    f_classif ===> 0,\n",
        "    mutual_info_classif ===> 1,\n",
        "    chi2 ===> 2,\n",
        "    f_regression ===> 3,\n",
        "    mutual_info_regression ===> 4\n",
        "    # There are some that I don't understand, so I don't put them in the list, but I will\n",
        "    SelectPercentile ===> 5,\n",
        "    SelectFdr  ===> 6,\n",
        "    SelectFwe ===> 7,\n",
        "    GenericUnivariateSelect ===> 8\n",
        "    \"\"\")\n",
        "\n",
        "    print(\"\"\"Regression Scores\n",
        "    explained_variance ===> 0,\n",
        "    max_error ===> 1,\n",
        "    neg_mean_absolute_error ===> 2,\n",
        "    neg_mean_squared_error ===> 3,\n",
        "    neg_root_mean_squared_error ===> 4,\n",
        "    neg_mean_squared_log_error ===> 5,\n",
        "    neg_median_absolute_error ===> 6,\n",
        "    r2 ===> 7\n",
        "    neg_mean_poisson_deviance ===> 8,\n",
        "    neg_mean_gamma_devian ===> 9\n",
        "    \"\"\")  \n",
        "\n",
        "    print(\"\"\"Classification Scores\n",
        "    accuracy ===> 0,\n",
        "    balanced_accuracy ===> 1,\n",
        "    top_k_accuracy ===> 2,\n",
        "    average_precision ===> 3,\n",
        "    neg_brier_score ===> 4,\n",
        "    f1 ===> 5,\n",
        "    f1_micro ===> 6,\n",
        "    f1_weighted ===> 7,\n",
        "    f1_samples ===> 8,\n",
        "    neg_log_loss ===> 9,\n",
        "    precision ===> 10,\n",
        "    recall ===> 11,\n",
        "    jaccard ===> 12,\n",
        "    roc_auc ===> 13,\n",
        "    roc_auc_ovr ===> 14,\n",
        "    roc_auc_ovr_weighted ===> 15\n",
        "    \"\"\")\n",
        "\n",
        "    print(\"\"\"Clustering Scores\n",
        "    adjusted_mutual_info_score ===> 0,\n",
        "    adjusted_rand_score ===> 1,\n",
        "    completeness_score ===> 2,\n",
        "    fowlkes_mallows_score ===> 3,\n",
        "    homogeneity_score ===> 4,\n",
        "    mutual_info_score ===> 5,\n",
        "    normalized_mutual_info_score ===> 6,\n",
        "    rand_score ===> 7,\n",
        "    v_measure_score ===> 8\n",
        "    \"\"\")\n",
        "  cv = model_selection.RepeatedKFold(n_splits=10, n_repeats=3, random_state=64)\n",
        "  featureSelectioner = feature_selection.SelectKBest(score_func=score_functions[sf_choice])\n",
        "  pipeLine =pipeline.Pipeline(steps=[('sel',featureSelectioner), ('lr', model)])\n",
        "  grid = dict()\n",
        "  grid['sel__k'] = [i for i in range(X.shape[1]//10, X.shape[1]+1)]\n",
        "  search = model_selection.GridSearchCV(pipeLine, grid, scoring=score, n_jobs=-1, cv=cv)\n",
        "  results = search.fit(X, Y)\n",
        "\n",
        "  print('Best MAE: %.3f' % results.best_score_)\n",
        "  print('Best Config: %s' % results.best_params_, end=\"\\n\")\n",
        "  # summarize all\n",
        "  means = results.cv_results_['mean_test_score']\n",
        "  params = results.cv_results_['params']\n",
        "  for mean, param in zip(means, params):\n",
        "      print(\">%.3f with: %r\" % (mean, param))\n",
        "\n",
        "\n",
        "clf_model =linear_model.LogisticRegressionCV()\n",
        "reg_model = linear_model.LinearRegression()\n",
        "\n",
        "model_parameters_chooser(x, y, clf_model, hints=False,reg=False, sf_choice=0)\n",
        "# model_parameters_chooser(X, Y, reg_model, hints=False,reg=True, sf_choice=0) "
      ],
      "execution_count": null,
      "outputs": [
        {
          "output_type": "stream",
          "name": "stdout",
          "text": [
            "Best MAE: 0.980\n",
            "Best Config: {'sel__k': 2}\n",
            ">0.937 with: {'sel__k': 1}\n",
            ">0.980 with: {'sel__k': 2}\n",
            ">0.980 with: {'sel__k': 3}\n",
            ">0.973 with: {'sel__k': 4}\n",
            ">0.973 with: {'sel__k': 5}\n",
            ">0.963 with: {'sel__k': 6}\n",
            ">0.953 with: {'sel__k': 7}\n",
            ">0.947 with: {'sel__k': 8}\n",
            ">0.950 with: {'sel__k': 9}\n",
            ">0.943 with: {'sel__k': 10}\n"
          ]
        }
      ]
    },
    {
      "cell_type": "markdown",
      "metadata": {
        "id": "QCvgPGemSdjO"
      },
      "source": [
        "##Wrapper Methods\n",
        "\n",
        "\n",
        "####based on forward selection and backward elimination\n",
        "\n",
        "![2.png](data:image/png;base64,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)\n"
      ]
    },
    {
      "cell_type": "markdown",
      "metadata": {
        "id": "VB7gCN2VVETZ"
      },
      "source": [
        "###Forward Selection\n",
        "\n",
        "Forward Selection starts with no features in the model and incrementally adds one feature to the feature subset at a time. During each iteration, the new feature is chosen based on the evaluation of the model trained by the feature subset."
      ]
    },
    {
      "cell_type": "code",
      "metadata": {
        "colab": {
          "base_uri": "https://localhost:8080/"
        },
        "id": "0BxD0oX5VDg0",
        "outputId": "a273cb10-2ab2-4b53-c83b-db1ea056cccf"
      },
      "source": [
        "from mlxtend.feature_selection import SequentialFeatureSelector as SFS\n",
        "\n",
        "accuracy_df = pd.DataFrame({\"feature count\": [], \"accuracy\": [], \"score function\": []})\n",
        "\n",
        "for i in range(1, len(temp_data.columns)-1):\n",
        "  sfs = SFS(linear_model.LogisticRegression(), \n",
        "            k_features= i, forward=True, scoring=\"accuracy\")\n",
        "  x_train_seleceted = sfs.fit_transform(x_train, y_train)\n",
        "  reg = linear_model.LogisticRegression()\n",
        "  y_pred = reg.predict(x_test[sfs.k_features_names_])\n",
        "  sfs_accuracy = metrics.accuracy_score(t_test, y_pred)\n",
        "  new_record = {\"feature count\": round(i), \"accuracy\": round(accuracy, 3), \"score function\": func_name}\n",
        "  accuracy_df = accuracy_df.append(new_record, ignore_index-True)\n",
        "\n",
        "\n",
        "print(accuracy_df)    \n",
        "plt.figure(figsize=(10, 10))\n",
        "sns.lineplot(data=accuracy_df, x=\"feature count\", y=\"accuracy\", hue=\"score function\", palette=\"GnBu\")  "
      ],
      "execution_count": null,
      "outputs": [
        {
          "output_type": "stream",
          "name": "stderr",
          "text": [
            "/usr/local/lib/python3.7/dist-packages/sklearn/externals/joblib/__init__.py:15: FutureWarning: sklearn.externals.joblib is deprecated in 0.21 and will be removed in 0.23. Please import this functionality directly from joblib, which can be installed with: pip install joblib. If this warning is raised when loading pickled models, you may need to re-serialize those models with scikit-learn 0.21+.\n",
            "  warnings.warn(msg, category=FutureWarning)\n"
          ]
        }
      ]
    },
    {
      "cell_type": "markdown",
      "metadata": {
        "id": "ub6kHoL0NGvE"
      },
      "source": [
        "###1. Backward Elimination\n",
        "\n",
        "####A good way to show the bad features (each attr near 1, is worse, so we will remove it)\n",
        "\n",
        "\n",
        "Simply put, it is just the opposite of the forward selection, starting with including all features to train the model. Then, features are iteratively removed from the feature subset based on whether they contribute to the model performance."
      ]
    },
    {
      "cell_type": "code",
      "metadata": {
        "colab": {
          "base_uri": "https://localhost:8080/"
        },
        "id": "ZOB6iGNbMDso",
        "outputId": "ca1cb783-f7a6-409a-a8bb-fa66850abbb7"
      },
      "source": [
        "def backward_elimination(X, Y):\n",
        "  cols = list(X.columns)\n",
        "  pmax = 1\n",
        "  while (len(cols)>0):\n",
        "      model_pvalues_list = []\n",
        "      selected_X = X[cols]\n",
        "      #Adding constant column of ones, mandatory for sm.OLS model\n",
        "      selected_X = statsmodels.api.add_constant(selected_X)\n",
        "      model = statsmodels.api.OLS(Y, selected_X).fit()\n",
        "      print(f\"The Model's PValues are: \\n{model.pvalues}\")\n",
        "      model_pvalues_list  = pd.Series(model.pvalues.values[1:],index = cols)      \n",
        "      pmax = max(model_pvalues_list)\n",
        "      feature_with_p_max = model_pvalues_list.idxmax()\n",
        "      if(pmax > 0.05):\n",
        "          cols.remove(feature_with_p_max)\n",
        "      else:\n",
        "          break\n",
        "  selected_features_BE = cols\n",
        "  # print(f\"The Selected Features are: \\n{selected_features_BE}\")\n",
        "  return selected_features_BE\n",
        "\n",
        "backward_elimination(Xd, Y)  "
      ],
      "execution_count": null,
      "outputs": [
        {
          "output_type": "stream",
          "name": "stdout",
          "text": [
            "The Model's PValues are: \n",
            "const    0.805926\n",
            "0        0.000000\n",
            "1        0.000000\n",
            "2        0.000000\n",
            "3        0.000000\n",
            "4        0.000000\n",
            "5        0.000000\n",
            "6        0.000000\n",
            "7        0.000000\n",
            "8        0.000000\n",
            "9        0.000000\n",
            "dtype: float64\n"
          ]
        },
        {
          "output_type": "execute_result",
          "data": {
            "text/plain": [
              "[0, 1, 2, 3, 4, 5, 6, 7, 8, 9]"
            ]
          },
          "metadata": {},
          "execution_count": 39
        }
      ]
    },
    {
      "cell_type": "markdown",
      "metadata": {
        "id": "wDW2i9fvN1Zb"
      },
      "source": [
        "###2. Embedded Method"
      ]
    },
    {
      "cell_type": "code",
      "metadata": {
        "colab": {
          "base_uri": "https://localhost:8080/",
          "height": 659
        },
        "id": "P1v-naruMz10",
        "outputId": "1ef2a43d-45ea-4b9c-b1f9-3bc603c9c7d4"
      },
      "source": [
        "def embeded_method(X, Y, reg=True):\n",
        "  if reg:\n",
        "    model = linear_model.Lasso()\n",
        "    model.fit(X, Y)\n",
        "    model_alpha = model.alpha\n",
        "  else:\n",
        "    model = linear_model.LassoCV()\n",
        "    model.fit(X, Y)\n",
        "    model_alpha = model.alpha_\n",
        "\n",
        "  print(\"Best alpha using built-in Lasso(CV): %f\" % model_alpha)\n",
        "  print(\"Best score using built-in Lasso(CV): %f\" %model.score(X, Y))\n",
        "  coef = pd.Series(model.coef_, index = X.columns)\n",
        "  print(\"Lasso picked \" + str(sum(coef != 0)) + \" variables and eliminated the other \" +  str(sum(coef == 0)) + \" variables\")\n",
        "  imp_coef = coef.sort_values()\n",
        "  matplotlib.rcParams['figure.figsize'] = (8.0, 10.0)\n",
        "  imp_coef.plot(kind = \"barh\")\n",
        "  plt.title(\"Feature importance using Lasso Model\")\n",
        "\n",
        "# embeded_method(xd, y, False)  \n",
        "embeded_method(Xd, Y)  "
      ],
      "execution_count": null,
      "outputs": [
        {
          "output_type": "stream",
          "name": "stdout",
          "text": [
            "Best alpha using built-in Lasso(CV): 1.000000\n",
            "Best score using built-in Lasso(CV): 0.999623\n",
            "Lasso picked 10 variables and eliminated the other 0 variables\n"
          ]
        },
        {
          "output_type": "display_data",
          "data": {
            "image/png": "[encoded data removed]",
            "text/plain": [
              "<Figure size 576x720 with 1 Axes>"
            ]
          },
          "metadata": {
            "needs_background": "light"
          }
        }
      ]
    },
    {
      "cell_type": "markdown",
      "metadata": {
        "id": "QB4u0yaQbR1I"
      },
      "source": [
        "#Classification Prediction Visualization"
      ]
    },
    {
      "cell_type": "code",
      "metadata": {
        "id": "F6XQvp4iq5LJ"
      },
      "source": [
        "# x, y =  datasets.make_classification(n_samples=300, n_features=10, random_state=42)\n",
        "x, y =  datasets.make_classification(n_samples=300, n_features=3, n_redundant=0, n_informative=2, n_classes=3, n_clusters_per_class=1)\n",
        "xd = pd.DataFrame(x)\n",
        "yd = pd.DataFrame(y)\n",
        "x_train, x_test, y_train, y_test = model_selection.train_test_split(xd, y, random_state=42, test_size=0.5)"
      ],
      "execution_count": null,
      "outputs": []
    },
    {
      "cell_type": "code",
      "metadata": {
        "colab": {
          "base_uri": "https://localhost:8080/",
          "height": 674
        },
        "id": "55a5H32obd9k",
        "outputId": "d67aa3bd-d41d-499b-c4fa-487aa7f91425"
      },
      "source": [
        "def plot_decision_regions(X, y, clf, test_size=0, test_idx=None, resolution=0.02, fig_size=(8, 8), xlabel='X Label', ylabel='Y Label', save_fig_dir='$'):\n",
        "  \n",
        "  markers = ('s', 'x', '^', 'v')\n",
        "  colors = ('red', 'blue', 'orange', 'pink', 'green', 'white', 'purple', 'white')\n",
        "  cmap = matplotlib.colors.ListedColormap(np.random.choice(colors, len(np.unique(y))+1, replace=False))\n",
        "\n",
        "  x_first_min, x_first_max = X[:, 0].min(), X[:, 0].max()\n",
        "  x_second_min, x_second_max = X[:, 1].min(), X[:, 1].max()\n",
        "  X1, X2 = np.meshgrid(np.arange(x_first_min, x_first_max, resolution), np.arange(x_second_min, x_second_max, resolution))\n",
        "  pred = clf.predict(np.array([X1.ravel(), X2.ravel()]).T)  \n",
        "  pred = pred.reshape(X1.shape)\n",
        "\n",
        "  plt.figure(figsize=fig_size)\n",
        "  plt.title(f'{xlabel} Vs {ylabel}')\n",
        "  plt.contourf(X1, X2, pred, alpha=0.8, cmap=cmap)\n",
        "  plt.xlim(X1.min(), X1.max())\n",
        "  plt.ylim(X2.min(), X2.max())\n",
        "\n",
        "  rand_idx = np.random.choice(range(1, X.shape[0]), size=20, replace=False)\n",
        "  for i, label in enumerate(np.unique(y)):\n",
        "    plt.scatter(x=X[y == label, 0], y = X[y == label, 1], c=cmap(i), edgecolors='black', marker=markers[i], label=label)\n",
        "\n",
        "  if test_size > 0:\n",
        "    x_test, y_test = X[rand_idx, :], y[rand_idx]\n",
        "    plt.scatter(x_test[:, 0], x_test[:, 1], c='', alpha=1.0, edgecolor='black', linewidths=1, marker='o', cmap=cmap(-1),s=55, label='test set')\n",
        "\n",
        "\n",
        "  plt.xlabel(xlabel)\n",
        "  plt.ylabel(ylabel)\n",
        "  plt.legend()\n",
        "  plt.tight_layout()\n",
        "  plt.show()\n",
        "\n",
        "  if save_fig_dir != '$':\n",
        "    plt.savefig(f'{save_fig_dir}/picture.png', dpi=300)\n",
        "  return\n",
        "\n",
        "  \n",
        "X_combined = np.vstack((x_train, x_test))\n",
        "y_combined = np.hstack((y_train, y_test))\n",
        "\n",
        "plot_decision_regions(X=X_combined, y=y_combined, clf=classifier, test_size=20, test_idx=range(105, 150))"
      ],
      "execution_count": null,
      "outputs": [
        {
          "output_type": "stream",
          "name": "stderr",
          "text": [
            "*c* argument looks like a single numeric RGB or RGBA sequence, which should be avoided as value-mapping will have precedence in case its length matches with *x* & *y*.  Please use the *color* keyword-argument or provide a 2-D array with a single row if you intend to specify the same RGB or RGBA value for all points.\n",
            "*c* argument looks like a single numeric RGB or RGBA sequence, which should be avoided as value-mapping will have precedence in case its length matches with *x* & *y*.  Please use the *color* keyword-argument or provide a 2-D array with a single row if you intend to specify the same RGB or RGBA value for all points.\n",
            "*c* argument looks like a single numeric RGB or RGBA sequence, which should be avoided as value-mapping will have precedence in case its length matches with *x* & *y*.  Please use the *color* keyword-argument or provide a 2-D array with a single row if you intend to specify the same RGB or RGBA value for all points.\n",
            "/usr/local/lib/python3.7/dist-packages/ipykernel_launcher.py:25: MatplotlibDeprecationWarning: Using a string of single character colors as a color sequence is deprecated. Use an explicit list instead.\n"
          ]
        },
        {
          "output_type": "display_data",
          "data": {
            "image/png": "[encoded data removed]",
            "text/plain": [
              "<Figure size 576x576 with 1 Axes>"
            ]
          },
          "metadata": {
            "needs_background": "light"
          }
        }
      ]
    },
    {
      "cell_type": "code",
      "metadata": {
        "colab": {
          "base_uri": "https://localhost:8080/",
          "height": 386
        },
        "id": "f5n8upmHgZYL",
        "outputId": "f2605e0f-cb81-421f-fe60-ffbcfbec3b74"
      },
      "source": [
        "\n",
        "from matplotlib.colors import ListedColormap\n",
        "import matplotlib.pyplot as plt\n",
        "import warnings\n",
        "\n",
        "\n",
        "def versiontuple(v):\n",
        "    return tuple(map(int, (v.split(\".\"))))\n",
        "\n",
        "\n",
        "def plot_decision_regions(X, y, classifier, test_idx=None, resolution=0.02):\n",
        "\n",
        "    # setup marker generator and color map\n",
        "    markers = ('s', 'x', 'o', '^', 'v')\n",
        "    colors = ('red', 'blue', 'lightgreen', 'gray', 'cyan')\n",
        "    cmap = ListedColormap(colors[:len(np.unique(y))])\n",
        "\n",
        "    # plot the decision surface\n",
        "    x1_min, x1_max = X[:, 0].min() - 1, X[:, 0].max() + 1\n",
        "    x2_min, x2_max = X[:, 1].min() - 1, X[:, 1].max() + 1\n",
        "    xx1, xx2 = np.meshgrid(np.arange(x1_min, x1_max, resolution),\n",
        "                           np.arange(x2_min, x2_max, resolution))\n",
        "    Z = classifier.predict(np.array([xx1.ravel(), xx2.ravel()]).T)\n",
        "    Z = Z.reshape(xx1.shape)\n",
        "    plt.contourf(xx1, xx2, Z, alpha=0.4, cmap=cmap)\n",
        "    plt.xlim(xx1.min(), xx1.max())\n",
        "    plt.ylim(xx2.min(), xx2.max())\n",
        "\n",
        "    for idx, cl in enumerate(np.unique(y)):\n",
        "        plt.scatter(x=X[y == cl, 0], \n",
        "                    y=X[y == cl, 1],\n",
        "                    alpha=0.6, \n",
        "                    c=cmap(idx),\n",
        "                    edgecolor='black',\n",
        "                    marker=markers[idx], \n",
        "                    label=cl)\n",
        "\n",
        "    # highlight test samples\n",
        "    if test_idx:\n",
        "        # plot all samples\n",
        "        if not versiontuple(np.__version__) >= versiontuple('1.9.0'):\n",
        "            X_test, y_test = X[list(test_idx), :], y[list(test_idx)]\n",
        "            warnings.warn('Please update to NumPy 1.9.0 or newer')\n",
        "        else:\n",
        "            X_test, y_test = X[test_idx, :], y[test_idx]\n",
        "\n",
        "        plt.scatter(X_test[:, 0],\n",
        "                    X_test[:, 1],\n",
        "                    c='',\n",
        "                    alpha=1.0,\n",
        "                    edgecolor='black',\n",
        "                    linewidths=1,\n",
        "                    marker='o',\n",
        "                    s=55, label='test set')\n",
        "\n",
        "X_combined = np.vstack((x_train, x_test))\n",
        "y_combined = np.hstack((y_train, y_test))\n",
        "\n",
        "plot_decision_regions(X=X_combined, y=y_combined,\n",
        "                      classifier=classifier, test_idx=range(105, 150))\n",
        "plt.xlabel('petal length [standardized]')\n",
        "plt.ylabel('petal width [standardized]')\n",
        "plt.legend(loc='upper left')\n",
        "\n",
        "plt.tight_layout()\n",
        "# plt.savefig('./figures/iris_perceptron_scikit.png', dpi=300)\n",
        "plt.show()"
      ],
      "execution_count": null,
      "outputs": [
        {
          "output_type": "stream",
          "name": "stderr",
          "text": [
            "*c* argument looks like a single numeric RGB or RGBA sequence, which should be avoided as value-mapping will have precedence in case its length matches with *x* & *y*.  Please use the *color* keyword-argument or provide a 2-D array with a single row if you intend to specify the same RGB or RGBA value for all points.\n",
            "*c* argument looks like a single numeric RGB or RGBA sequence, which should be avoided as value-mapping will have precedence in case its length matches with *x* & *y*.  Please use the *color* keyword-argument or provide a 2-D array with a single row if you intend to specify the same RGB or RGBA value for all points.\n",
            "*c* argument looks like a single numeric RGB or RGBA sequence, which should be avoided as value-mapping will have precedence in case its length matches with *x* & *y*.  Please use the *color* keyword-argument or provide a 2-D array with a single row if you intend to specify the same RGB or RGBA value for all points.\n",
            "/usr/local/lib/python3.7/dist-packages/ipykernel_launcher.py:54: MatplotlibDeprecationWarning: Using a string of single character colors as a color sequence is deprecated. Use an explicit list instead.\n"
          ]
        },
        {
          "output_type": "display_data",
          "data": {
            "image/png": "[encoded data removed]",
            "text/plain": [
              "<Figure size 432x288 with 1 Axes>"
            ]
          },
          "metadata": {
            "needs_background": "light"
          }
        }
      ]
    },
    {
      "cell_type": "code",
      "metadata": {
        "id": "zpKP2mqnqbyP"
      },
      "source": [
        "from sklearn import datasets\n",
        "\n",
        "iris = datasets.load_iris()\n",
        "X = iris.data[:, [2, 3]]\n",
        "y = iris.target\n"
      ],
      "execution_count": null,
      "outputs": []
    },
    {
      "cell_type": "code",
      "metadata": {
        "id": "6J7uWEvRrVWJ",
        "outputId": "26dbb6b2-f1ef-4c20-f4c5-d9fff556e9e5",
        "colab": {
          "base_uri": "https://localhost:8080/"
        }
      },
      "source": [
        "X.shape"
      ],
      "execution_count": null,
      "outputs": [
        {
          "output_type": "execute_result",
          "data": {
            "text/plain": [
              "(150, 2)"
            ]
          },
          "metadata": {},
          "execution_count": 76
        }
      ]
    },
    {
      "cell_type": "code",
      "metadata": {
        "id": "3d17w7eKrV2c"
      },
      "source": [],
      "execution_count": null,
      "outputs": []
    }
  ]
}
